{
 "cells": [
  {
   "cell_type": "markdown",
   "id": "935f6dcc",
   "metadata": {},
   "source": [
    "# Mulitple Pixel Qinj Mapping"
   ]
  },
  {
   "cell_type": "markdown",
   "id": "3596fa1a",
   "metadata": {},
   "source": [
    "## Import"
   ]
  },
  {
   "cell_type": "code",
   "execution_count": null,
   "id": "cccc4c49",
   "metadata": {},
   "outputs": [],
   "source": [
    "import numpy as np\n",
    "import matplotlib.pyplot as plt\n",
    "from hist import Hist\n",
    "import datetime\n",
    "import pandas as pd\n",
    "from glob import glob\n",
    "import mplhep as hep\n",
    "hep.style.use(\"CMS\")"
   ]
  },
  {
   "cell_type": "markdown",
   "id": "d317e452",
   "metadata": {},
   "source": [
    "### Board Name"
   ]
  },
  {
   "cell_type": "code",
   "execution_count": null,
   "id": "6bcc17ce",
   "metadata": {},
   "outputs": [],
   "source": [
    "chip_name = \"02D5#13\""
   ]
  },
  {
   "cell_type": "markdown",
   "id": "f6b231a8",
   "metadata": {},
   "source": [
    "### Read data"
   ]
  },
  {
   "cell_type": "code",
   "execution_count": null,
   "id": "b8d77ceb",
   "metadata": {
    "scrolled": true
   },
   "outputs": [],
   "source": [
    "# dir = '../../ETROC-Data/' + datetime.date.today().isoformat() + \"_Array_Test_Results/\"\n",
    "dir = '../../inputs/2023-07-31_Array_Test_Results/'\n",
    "files = glob(dir+f'*{chip_name}*/*translated*')\n",
    "files"
   ]
  },
  {
   "cell_type": "markdown",
   "id": "ba312f62",
   "metadata": {},
   "source": [
    "### Save into pandas dataframe"
   ]
  },
  {
   "cell_type": "code",
   "execution_count": null,
   "id": "8c5caf04",
   "metadata": {},
   "outputs": [],
   "source": [
    "d = []\n",
    "\n",
    "for ifile in files:\n",
    "    with open(ifile, \"r\") as infile:    \n",
    "        for line in infile.readlines():\n",
    "            if line.split(' ')[2] == 'HEADER':\n",
    "                bcid = line.strip().split(' ')[-1]\n",
    "            elif line.split(' ')[2] == 'DATA':\n",
    "                col = int(line.split(' ')[6])\n",
    "                row = int(line.split(' ')[8])\n",
    "                toa = int(line.split(' ')[10])\n",
    "                tot = int(line.split(' ')[12])\n",
    "                cal = int(line.split(' ')[14])\n",
    "                d.append(\n",
    "                    {\n",
    "                    'col': col,\n",
    "                    'row': row,\n",
    "                    'toa': toa,\n",
    "                    'tot': tot,\n",
    "                    'cal': cal,     \n",
    "                    'bcid': bcid,    \n",
    "                    }\n",
    "                )\n",
    "            elif line.split(' ')[2] == 'TRAILER':\n",
    "                pass\n",
    "            \n",
    "df = pd.DataFrame(d)\n",
    "df = df[df['cal']<220] # simple CAL code cut"
   ]
  },
  {
   "cell_type": "markdown",
   "id": "a2abcab9",
   "metadata": {},
   "source": [
    "### Print unique BCIDs"
   ]
  },
  {
   "cell_type": "code",
   "execution_count": null,
   "id": "201028f0",
   "metadata": {},
   "outputs": [],
   "source": [
    "value_counts = df['bcid'].value_counts()\n",
    "for value, count in value_counts.items():\n",
    "    print(f\"{value}: {count}\")\n",
    "\n",
    "print(value_counts.keys())"
   ]
  },
  {
   "cell_type": "markdown",
   "id": "28ae19cf",
   "metadata": {},
   "source": [
    "### filter data with BCID cut"
   ]
  },
  {
   "cell_type": "code",
   "execution_count": null,
   "id": "26d1cd81",
   "metadata": {},
   "outputs": [],
   "source": [
    "# bcid_cuts = ['1854', '2087', '3522', '2699', '549', '527'] # 02D5_#12, 2023-07-26\n",
    "# bcid_cuts = ['3558', '1472', '2964', '2425', '1414', '1676'] # 01E2_#52, 2023-07-27\n",
    "# bcid_cuts = ['2209', '1237', '2278', '1180', '26', '1242'] # 01E2_#48, 2023-07-28\n",
    "# bcid_cuts = ['2909', '1791', '2767', '1213', '218', '724'] # 02D5_#13, 2023-07-28\n",
    "\n",
    "# 01E2_#48, 2023-07-31\n",
    "# bcid_cuts = ['2722', '1378', '865', '1081', '2212', '2135', '3321', '361', '2462', '1776', '2744', '3103', '2086', '1641', '2709', '3069']\n",
    "\n",
    "# 01E2_#52, 2023-07-31\n",
    "# bcid_cuts = ['3484', '1619', '703', '3517', '90', '2881', '1964', '1645', '777', '12', '1806', '403', '2177', '2677', '109', '2954']\n",
    "\n",
    "# 02D5_#12, 2023-07-31\n",
    "# bcid_cuts = ['1927', '1933', '2378', '6', '1405', '719', '3347', '2760', '2194', '2488', '877', '2892', '121', '2852', '1617', '2673']\n",
    "\n",
    "# 02D5_#13, 2023-07-31\n",
    "bcid_cuts = ['3438', '1646', '2858', '2220', '2878', '3035', '3254', '1597', '2389', '664', '1576', '445', '3024', '1461', '1166', '2967']\n",
    "\n",
    "filtered_data = df[df['bcid'].isin(bcid_cuts)]\n",
    "\n",
    "unique_values = filtered_data['bcid'].unique()\n",
    "print(len(unique_values))\n",
    "print(unique_values)"
   ]
  },
  {
   "cell_type": "markdown",
   "id": "70601d04",
   "metadata": {},
   "source": [
    "### Delete big dataframe to save memory"
   ]
  },
  {
   "cell_type": "code",
   "execution_count": null,
   "id": "6ebf209e",
   "metadata": {},
   "outputs": [],
   "source": [
    "# Check the memory usage again\n",
    "print(df.info())\n",
    "\n",
    "# Check the memory usage again\n",
    "filtered_data.drop(columns=['bcid'], inplace=True)\n",
    "print(filtered_data.info())\n",
    "  \n",
    "# Delete the old DataFrame\n",
    "del df"
   ]
  },
  {
   "cell_type": "markdown",
   "id": "1f597526",
   "metadata": {},
   "source": [
    "## Make 2D map of toa, tot, cal"
   ]
  },
  {
   "cell_type": "code",
   "execution_count": null,
   "id": "0b995506",
   "metadata": {},
   "outputs": [],
   "source": [
    "cals = filtered_data.groupby([\"col\", \"row\"]).agg({'cal':['mean','std']})\n",
    "cals.columns = cals.columns.droplevel()\n",
    "cals.reset_index(inplace=True)\n",
    "\n",
    "table_mean = cals.pivot_table(index='row', columns='col', values='mean')\n",
    "table_mean = table_mean.round(1)\n",
    "\n",
    "table_std = cals.pivot_table(index='row', columns='col', values='std')\n",
    "table_std = table_std.round(2)"
   ]
  },
  {
   "cell_type": "code",
   "execution_count": null,
   "id": "8e4c01e6",
   "metadata": {},
   "outputs": [],
   "source": [
    "plt.rcParams[\"xtick.major.size\"] = 2.5\n",
    "plt.rcParams[\"ytick.major.size\"] = 2.5\n",
    "plt.rcParams['xtick.minor.visible'] = False\n",
    "plt.rcParams['ytick.minor.visible'] = False\n",
    "\n",
    "\n",
    "fig, axes = plt.subplots(1, 2, figsize=(20, 10))\n",
    "\n",
    "im1 = axes[0].imshow(table_mean, vmin=1)\n",
    "im2 = axes[1].imshow(table_std, vmin=1)\n",
    "\n",
    "axes[0].set_title('CAL Mean')\n",
    "axes[1].set_title('CAL Std')\n",
    "\n",
    "axes[0].set_xticks(np.arange(0,16))\n",
    "axes[0].set_yticks(np.arange(0,16))\n",
    "axes[1].set_xticks(np.arange(0,16))\n",
    "axes[1].set_yticks(np.arange(0,16))\n",
    "\n",
    "axes[0].invert_xaxis()\n",
    "axes[0].invert_yaxis()\n",
    "axes[1].invert_xaxis()\n",
    "axes[1].invert_yaxis()\n",
    "\n",
    "cbar1 = fig.colorbar(im1, ax=axes[0], shrink=0.6) \n",
    "cbar2 = fig.colorbar(im2, ax=axes[1], shrink=0.6)\n",
    "\n",
    "# i for col, j for row\n",
    "for i in range(16):\n",
    "    for j in range(16):\n",
    "        if np.isnan(table_mean.iloc[i,j]): \n",
    "            continue\n",
    "        axes[0].text(j, i, table_mean.iloc[i,j], ha=\"center\", va=\"center\", rotation=45, fontweight=\"bold\", fontsize=10)\n",
    "\n",
    "for i in range(16):\n",
    "    for j in range(16):\n",
    "        if np.isnan(table_std.iloc[i,j]): \n",
    "            continue\n",
    "        axes[1].text(j, i, table_std.iloc[i,j], ha=\"center\", va=\"center\", rotation=45, color='white', fontweight=\"bold\", fontsize=10)\n",
    "\n",
    "\n",
    "plt.tight_layout()\n",
    "fig.savefig(f'CAL_2D_Map_{chip_name}.png')"
   ]
  },
  {
   "cell_type": "code",
   "execution_count": null,
   "id": "019c2af3",
   "metadata": {},
   "outputs": [],
   "source": [
    "toas = filtered_data.groupby([\"col\", \"row\"]).agg({'toa':['mean','std']})\n",
    "toas.columns = toas.columns.droplevel()\n",
    "toas.reset_index(inplace=True)\n",
    "\n",
    "table_mean = toas.pivot_table(index='row', columns='col', values='mean')\n",
    "table_mean = table_mean.round(1)\n",
    "\n",
    "table_std = toas.pivot_table(index='row', columns='col', values='std')\n",
    "table_std = table_std.round(2)"
   ]
  },
  {
   "cell_type": "code",
   "execution_count": null,
   "id": "8f0c440d",
   "metadata": {},
   "outputs": [],
   "source": [
    "plt.rcParams[\"xtick.major.size\"] = 2.5\n",
    "plt.rcParams[\"ytick.major.size\"] = 2.5\n",
    "plt.rcParams['xtick.minor.visible'] = False\n",
    "plt.rcParams['ytick.minor.visible'] = False\n",
    "\n",
    "fig, axes = plt.subplots(1, 2, figsize=(20, 10))\n",
    "\n",
    "im1 = axes[0].imshow(table_mean, vmin=1)\n",
    "im2 = axes[1].imshow(table_std, vmin=1)\n",
    "\n",
    "axes[0].set_title('TOA Mean')\n",
    "axes[1].set_title('TOA Std')\n",
    "\n",
    "axes[0].set_xticks(np.arange(0,16))\n",
    "axes[0].set_yticks(np.arange(0,16))\n",
    "axes[1].set_xticks(np.arange(0,16))\n",
    "axes[1].set_yticks(np.arange(0,16))\n",
    "\n",
    "axes[0].invert_xaxis()\n",
    "axes[0].invert_yaxis()\n",
    "axes[1].invert_xaxis()\n",
    "axes[1].invert_yaxis()\n",
    "\n",
    "cbar1 = fig.colorbar(im1, ax=axes[0], shrink=0.6) \n",
    "cbar2 = fig.colorbar(im2, ax=axes[1], shrink=0.6)\n",
    "\n",
    "# i for col, j for row\n",
    "for i in range(16):\n",
    "    for j in range(16):\n",
    "        if np.isnan(table_mean.iloc[i,j]): \n",
    "            continue\n",
    "        axes[0].text(j, i, table_mean.iloc[i,j], ha=\"center\", va=\"center\", rotation=45, fontweight=\"bold\", fontsize=10)\n",
    "\n",
    "for i in range(16):\n",
    "    for j in range(16):\n",
    "        if np.isnan(table_std.iloc[i,j]): \n",
    "            continue\n",
    "        axes[1].text(j, i, table_std.iloc[i,j], ha=\"center\", va=\"center\", rotation=45, color='white', fontweight=\"bold\", fontsize=10)\n",
    "\n",
    "plt.tight_layout()\n",
    "fig.savefig(f'TOA_2D_Map_{chip_name}.png')"
   ]
  },
  {
   "cell_type": "code",
   "execution_count": null,
   "id": "31dd76c0",
   "metadata": {},
   "outputs": [],
   "source": [
    "tots = filtered_data.groupby([\"col\", \"row\"]).agg({'tot':['mean','std']})\n",
    "tots.columns = tots.columns.droplevel()\n",
    "tots.reset_index(inplace=True)\n",
    "\n",
    "table_mean = tots.pivot_table(index='row', columns='col', values='mean')\n",
    "table_mean = table_mean.round(1)\n",
    "\n",
    "table_std = tots.pivot_table(index='row', columns='col', values='std')\n",
    "table_std = table_std.round(2)"
   ]
  },
  {
   "cell_type": "code",
   "execution_count": null,
   "id": "a536b935",
   "metadata": {},
   "outputs": [],
   "source": [
    "plt.rcParams[\"xtick.major.size\"] = 2.5\n",
    "plt.rcParams[\"ytick.major.size\"] = 2.5\n",
    "plt.rcParams['xtick.minor.visible'] = False\n",
    "plt.rcParams['ytick.minor.visible'] = False\n",
    "\n",
    "\n",
    "fig, axes = plt.subplots(1, 2, figsize=(20, 10))\n",
    "\n",
    "im1 = axes[0].imshow(table_mean, vmin=1)\n",
    "im2 = axes[1].imshow(table_std, vmin=1)\n",
    "\n",
    "axes[0].set_title('TOT Mean')\n",
    "axes[1].set_title('TOT Std')\n",
    "\n",
    "axes[0].set_xticks(np.arange(0,16))\n",
    "axes[0].set_yticks(np.arange(0,16))\n",
    "axes[1].set_xticks(np.arange(0,16))\n",
    "axes[1].set_yticks(np.arange(0,16))\n",
    "\n",
    "axes[0].invert_xaxis()\n",
    "axes[0].invert_yaxis()\n",
    "axes[1].invert_xaxis()\n",
    "axes[1].invert_yaxis()\n",
    "\n",
    "cbar1 = fig.colorbar(im1, ax=axes[0], shrink=0.6) \n",
    "cbar2 = fig.colorbar(im2, ax=axes[1], shrink=0.6)\n",
    "\n",
    "# i for col, j for row\n",
    "for i in range(16):\n",
    "    for j in range(16):\n",
    "        if np.isnan(table_mean.iloc[i,j]): \n",
    "            continue\n",
    "        axes[0].text(j, i, table_mean.iloc[i,j], ha=\"center\", va=\"center\", rotation=45, fontweight=\"bold\", fontsize=10)\n",
    "\n",
    "for i in range(16):\n",
    "    for j in range(16):\n",
    "        if np.isnan(table_std.iloc[i,j]): \n",
    "            continue\n",
    "        axes[1].text(j, i, table_std.iloc[i,j], ha=\"center\", va=\"center\", rotation=45, color='white', fontweight=\"bold\", fontsize=10)\n",
    "\n",
    "plt.tight_layout()\n",
    "fig.savefig(f'TOT_2D_Map_{chip_name}.png')"
   ]
  },
  {
   "cell_type": "markdown",
   "id": "2455d68d",
   "metadata": {},
   "source": [
    "## 2D map with individual histogram"
   ]
  },
  {
   "cell_type": "code",
   "execution_count": null,
   "id": "8d4c97e4",
   "metadata": {},
   "outputs": [],
   "source": [
    "hcal = [[(\n",
    "        Hist.new.Integer(125, 185, name=\"CAL\", label=\"CAL [LSB]\")\n",
    "        .Int64()\n",
    "      ) if not np.isnan(table_mean[j][i]) else np.nan\n",
    "      for j in range(16)] \n",
    "     for i in range(16)]\n",
    "\n",
    "htoa = [[(\n",
    "        Hist.new.Integer(185, 305, name=\"TOA\", label=\"TOA [LSB]\")\n",
    "        .Int64()\n",
    "      ) if not np.isnan(table_mean[j][i]) else np.nan\n",
    "      for j in range(16)] \n",
    "     for i in range(16)]\n",
    "\n",
    "htot = [[(\n",
    "        Hist.new.Integer(45, 85, name=\"TOT\", label=\"TOT [LSB]\")\n",
    "        .Int64()\n",
    "      ) if not np.isnan(table_mean[j][i]) else np.nan\n",
    "      for j in range(16)] \n",
    "     for i in range(16)]"
   ]
  },
  {
   "cell_type": "code",
   "execution_count": null,
   "id": "8f8337f8",
   "metadata": {},
   "outputs": [],
   "source": [
    "# i for col, j for row\n",
    "\n",
    "for i in range(16):\n",
    "    for j in range(16):\n",
    "        cal_subset = filtered_data[(filtered_data['row'] == j) & (filtered_data['col'] == i)]['cal']\n",
    "        toa_subset = filtered_data[(filtered_data['row'] == j) & (filtered_data['col'] == i)]['toa']\n",
    "        tot_subset = filtered_data[(filtered_data['row'] == j) & (filtered_data['col'] == i)]['tot']\n",
    "        if cal_subset.empty:\n",
    "            continue\n",
    "        elif np.isnan(hcal[j][i]).any():\n",
    "            continue\n",
    "        else:\n",
    "            hcal[j][i].fill(cal_subset)\n",
    "            htoa[j][i].fill(toa_subset)\n",
    "            htot[j][i].fill(tot_subset)"
   ]
  },
  {
   "cell_type": "code",
   "execution_count": null,
   "id": "10338205",
   "metadata": {},
   "outputs": [],
   "source": [
    "# Create subplots for each unique combination of 'row' and 'col'\n",
    "nrows = 16\n",
    "ncols = 16\n",
    "\n",
    "# Create a figure and subplots\n",
    "fig, axs = plt.subplots(nrows, ncols, dpi=150, figsize=(160, 160))\n",
    "\n",
    "# i for col, j for row\n",
    "for i in range(16):\n",
    "    for j in range(16):\n",
    "        if np.isnan(hcal[j][i]).any():\n",
    "            axs[15-j][15-i].axis('off')\n",
    "        else:\n",
    "            hcal[j][i].project(\"CAL\").plot1d(ax=axs[15-j][15-i], histtype=\"fill\")\n",
    "            hcal[j][i].project(\"CAL\").plot1d(ax=axs[15-j][15-i], marker='.', histtype=\"errorbar\", fillstyle='full', xerr=True, capsize=2, markersize=5)\n",
    "            axs[15-j][15-i].set_title(f\"Pixel ({j},{i}) CAL (LSB)\", fontsize=22)\n",
    "            axs[15-j][15-i].set_xticks(axs[15-j][15-i].get_xticks(), axs[15-j][15-i].get_xticklabels(), rotation='vertical')\n",
    "            axs[15-j][15-i].minorticks_off()\n",
    "            axs[15-j][15-i].set_xlim(np.argmax(hcal[j][i].values())-4, np.argmax(hcal[j][i].values())+4)\n",
    "\n",
    "fig.savefig(f\"CAL_individual_histogram_{chip_name}.pdf\")\n",
    "plt.close(fig)"
   ]
  },
  {
   "cell_type": "code",
   "execution_count": null,
   "id": "aa619a26",
   "metadata": {},
   "outputs": [],
   "source": [
    "# Create subplots for each unique combination of 'row' and 'col'\n",
    "nrows = 16\n",
    "ncols = 16\n",
    "\n",
    "# Create a figure and subplots\n",
    "fig, axs = plt.subplots(nrows, ncols, dpi=150, figsize=(160, 160))\n",
    "\n",
    "# i for col, j for row\n",
    "for i in range(16):\n",
    "    for j in range(16):\n",
    "        if np.isnan(htoa[j][i]).any():\n",
    "            axs[15-j][15-i].axis('off')\n",
    "        else:\n",
    "            htoa[j][i].project(\"TOA\").plot1d(ax=axs[15-j][15-i], histtype=\"fill\")\n",
    "            htoa[j][i].project(\"TOA\").plot1d(ax=axs[15-j][15-i], marker='.', histtype=\"errorbar\", fillstyle='full', xerr=True, capsize=2, markersize=5)\n",
    "            axs[15-j][15-i].set_title(f\"Pixel ({j},{i}) TOA (LSB)\", fontsize=22)\n",
    "            axs[15-j][15-i].set_xticks(axs[15-j][15-i].get_xticks(), axs[15-j][15-i].get_xticklabels(), rotation='vertical')\n",
    "            axs[15-j][15-i].minorticks_off()\n",
    "            axs[15-j][15-i].set_xlim(np.argmax(htoa[j][i].values())-4, np.argmax(htoa[j][i].values())+4)\n",
    "\n",
    "fig.savefig(f\"TOA_individual_histogram_{chip_name}.pdf\")\n",
    "plt.close(fig)"
   ]
  },
  {
   "cell_type": "code",
   "execution_count": null,
   "id": "4e48dbe0",
   "metadata": {},
   "outputs": [],
   "source": [
    "# Create subplots for each unique combination of 'row' and 'col'\n",
    "nrows = 16\n",
    "ncols = 16\n",
    "\n",
    "# Create a figure and subplots\n",
    "fig, axs = plt.subplots(nrows, ncols, dpi=150, figsize=(160, 160))\n",
    "\n",
    "# i for col, j for row\n",
    "for i in range(16):\n",
    "    for j in range(16):\n",
    "        if np.isnan(htot[j][i]).any():\n",
    "            axs[15-j][15-i].axis('off')\n",
    "        else:\n",
    "            htot[j][i].project(\"TOT\").plot1d(ax=axs[15-j][15-i], histtype=\"fill\")\n",
    "            htot[j][i].project(\"TOT\").plot1d(ax=axs[15-j][15-i], marker='.', histtype=\"errorbar\", fillstyle='full', xerr=True, capsize=2, markersize=5)\n",
    "            axs[15-j][15-i].set_title(f\"Pixel ({j},{i}) TOT (LSB)\", fontsize=22)\n",
    "            axs[15-j][15-i].set_xticks(axs[15-j][15-i].get_xticks(), axs[15-j][15-i].get_xticklabels(), rotation='vertical')\n",
    "            axs[15-j][15-i].minorticks_off()\n",
    "            axs[15-j][15-i].set_xlim(np.argmax(htot[j][i].values())-4, np.argmax(htot[j][i].values())+4)\n",
    "\n",
    "fig.savefig(f\"TOT_individual_histogram_{chip_name}.pdf\")\n",
    "plt.close(fig)"
   ]
  },
  {
   "cell_type": "code",
   "execution_count": null,
   "id": "59d42cf2",
   "metadata": {},
   "outputs": [],
   "source": []
  }
 ],
 "metadata": {
  "kernelspec": {
   "display_name": "Python 3 (ipykernel)",
   "language": "python",
   "name": "python3"
  },
  "language_info": {
   "codemirror_mode": {
    "name": "ipython",
    "version": 3
   },
   "file_extension": ".py",
   "mimetype": "text/x-python",
   "name": "python",
   "nbconvert_exporter": "python",
   "pygments_lexer": "ipython3",
   "version": "3.10.12"
  }
 },
 "nbformat": 4,
 "nbformat_minor": 5
}
