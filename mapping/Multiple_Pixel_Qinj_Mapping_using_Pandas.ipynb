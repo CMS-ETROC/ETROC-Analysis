{
 "cells": [
  {
   "cell_type": "markdown",
   "id": "935f6dcc",
   "metadata": {},
   "source": [
    "# Mulitple Pixel Qinj Mapping"
   ]
  },
  {
   "cell_type": "markdown",
   "id": "3596fa1a",
   "metadata": {},
   "source": [
    "## Import"
   ]
  },
  {
   "cell_type": "code",
   "execution_count": null,
   "id": "cccc4c49",
   "metadata": {},
   "outputs": [],
   "source": [
    "import numpy as np\n",
    "import matplotlib.pyplot as plt\n",
    "from hist import Hist\n",
    "import datetime\n",
    "import pandas as pd\n",
    "from glob import glob\n",
    "import mplhep as hep\n",
    "hep.style.use(\"CMS\")"
   ]
  },
  {
   "cell_type": "markdown",
   "id": "d317e452",
   "metadata": {},
   "source": [
    "### Board Name"
   ]
  },
  {
   "cell_type": "code",
   "execution_count": null,
   "id": "6bcc17ce",
   "metadata": {},
   "outputs": [],
   "source": [
    "chip_name = \"02D5_#12\""
   ]
  },
  {
   "cell_type": "markdown",
   "id": "f6b231a8",
   "metadata": {},
   "source": [
    "### Read data"
   ]
  },
  {
   "cell_type": "code",
   "execution_count": null,
   "id": "b8d77ceb",
   "metadata": {
    "scrolled": true
   },
   "outputs": [],
   "source": [
    "dir = '../../ETROC-Data/' + datetime.date.today().isoformat() + \"_Array_Test_Results/\"\n",
    "files = glob(dir+'TID_testing_candidate*/*translated*')\n",
    "files"
   ]
  },
  {
   "cell_type": "markdown",
   "id": "ba312f62",
   "metadata": {},
   "source": [
    "### Save into pandas dataframe"
   ]
  },
  {
   "cell_type": "code",
   "execution_count": null,
   "id": "8c5caf04",
   "metadata": {},
   "outputs": [],
   "source": [
    "d = []\n",
    "\n",
    "for ifile in files:\n",
    "    with open(ifile, \"r\") as infile:    \n",
    "        for line in infile.readlines():\n",
    "            if line.split(' ')[2] == 'HEADER':\n",
    "                bcid = line.strip().split(' ')[-1]\n",
    "            elif line.split(' ')[2] == 'DATA':\n",
    "                col = int(line.split(' ')[6])\n",
    "                row = int(line.split(' ')[8])\n",
    "                toa = int(line.split(' ')[10])\n",
    "                tot = int(line.split(' ')[12])\n",
    "                cal = int(line.split(' ')[14])\n",
    "                d.append(\n",
    "                    {\n",
    "                    'col': col,\n",
    "                    'row': row,\n",
    "                    'toa': toa,\n",
    "                    'tot': tot,\n",
    "                    'cal': cal,     \n",
    "                    'bcid': bcid,    \n",
    "                    }\n",
    "                )\n",
    "            elif line.split(' ')[2] == 'TRAILER':\n",
    "                pass\n",
    "            \n",
    "df = pd.DataFrame(d)"
   ]
  },
  {
   "cell_type": "markdown",
   "id": "28ae19cf",
   "metadata": {},
   "source": [
    "### filter data with BCID cut"
   ]
  },
  {
   "cell_type": "code",
   "execution_count": null,
   "id": "26d1cd81",
   "metadata": {},
   "outputs": [],
   "source": [
    "bcid_cuts = ['1854', '2087', '3522', '2699', '549', '527']\n",
    "\n",
    "filtered_data = df[df['bcid'].isin(bcid_cuts)]\n",
    "unique_values = filtered_data['bcid'].unique()\n",
    "unique_values"
   ]
  },
  {
   "cell_type": "markdown",
   "id": "70601d04",
   "metadata": {},
   "source": [
    "### Delete big dataframe to save memory"
   ]
  },
  {
   "cell_type": "code",
   "execution_count": null,
   "id": "6ebf209e",
   "metadata": {},
   "outputs": [],
   "source": [
    "# Check the memory usage again\n",
    "print(df.info())\n",
    "\n",
    "# Check the memory usage again\n",
    "print(filtered_data.info())\n",
    "  \n",
    "# Delete the old DataFrame\n",
    "del df"
   ]
  },
  {
   "cell_type": "markdown",
   "id": "1f597526",
   "metadata": {},
   "source": [
    "## Make 2D map of toa, tot, cal"
   ]
  },
  {
   "cell_type": "code",
   "execution_count": null,
   "id": "0b995506",
   "metadata": {},
   "outputs": [],
   "source": [
    "cals = filtered_data.groupby([\"col\", \"row\"]).agg({'cal':['mean','std']})\n",
    "cals.columns = cals.columns.droplevel()\n",
    "cals.reset_index(inplace=True)\n",
    "\n",
    "table_mean = cals.pivot_table(index='row', columns='col', values='mean')\n",
    "table_mean = table_mean.round(1)\n",
    "\n",
    "table_std = cals.pivot_table(index='row', columns='col', values='std')\n",
    "table_std = table_std.round(2)"
   ]
  },
  {
   "cell_type": "code",
   "execution_count": null,
   "id": "8e4c01e6",
   "metadata": {},
   "outputs": [],
   "source": [
    "plt.rcParams[\"xtick.major.size\"] = 2.5\n",
    "plt.rcParams[\"ytick.major.size\"] = 2.5\n",
    "plt.rcParams['xtick.minor.visible'] = False\n",
    "plt.rcParams['ytick.minor.visible'] = False\n",
    "plt.tight_layout()\n",
    "\n",
    "fig, axes = plt.subplots(1, 2, figsize=(20, 14))\n",
    "\n",
    "im1 = axes[0].imshow(table_mean, vmin=1)\n",
    "im2 = axes[1].imshow(table_std, vmin=1)\n",
    "\n",
    "axes[0].set_title('CAL Mean')\n",
    "axes[1].set_title('CAL Std')\n",
    "\n",
    "axes[0].set_xticks(np.arange(0,16))\n",
    "axes[0].set_yticks(np.arange(0,16))\n",
    "axes[1].set_xticks(np.arange(0,16))\n",
    "axes[1].set_yticks(np.arange(0,16))\n",
    "\n",
    "axes[0].invert_xaxis()\n",
    "axes[0].invert_yaxis()\n",
    "axes[1].invert_xaxis()\n",
    "axes[1].invert_yaxis()\n",
    "\n",
    "cbar1 = fig.colorbar(im1, ax=axes[0], shrink=0.6) \n",
    "cbar2 = fig.colorbar(im2, ax=axes[1], shrink=0.6)\n",
    "\n",
    "for i in range(16):\n",
    "    for j in range(16):\n",
    "        if np.isnan(table_mean.iloc[i,j]): \n",
    "            continue\n",
    "        axes[0].text(j, i, table_mean.iloc[i,j], ha=\"center\", va=\"center\", rotation=45, fontweight=\"bold\", fontsize=8)\n",
    "\n",
    "for i in range(16):\n",
    "    for j in range(16):\n",
    "        if np.isnan(table_std.iloc[i,j]): \n",
    "            continue\n",
    "        axes[1].text(j, i, table_std.iloc[i,j], ha=\"center\", va=\"center\", rotation=45, color='white', fontweight=\"bold\", fontsize=8)\n",
    "\n",
    "fig.savefig('CAL_2D_Map.png')"
   ]
  },
  {
   "cell_type": "code",
   "execution_count": null,
   "id": "019c2af3",
   "metadata": {},
   "outputs": [],
   "source": [
    "cals = filtered_data.groupby([\"col\", \"row\"]).agg({'toa':['mean','std']})\n",
    "cals.columns = cals.columns.droplevel()\n",
    "cals.reset_index(inplace=True)\n",
    "\n",
    "table_mean = cals.pivot_table(index='row', columns='col', values='mean')\n",
    "table_mean = table_mean.round(1)\n",
    "\n",
    "table_std = cals.pivot_table(index='row', columns='col', values='std')\n",
    "table_std = table_std.round(2)"
   ]
  },
  {
   "cell_type": "code",
   "execution_count": null,
   "id": "8f0c440d",
   "metadata": {},
   "outputs": [],
   "source": [
    "plt.rcParams[\"xtick.major.size\"] = 2.5\n",
    "plt.rcParams[\"ytick.major.size\"] = 2.5\n",
    "plt.rcParams['xtick.minor.visible'] = False\n",
    "plt.rcParams['ytick.minor.visible'] = False\n",
    "plt.tight_layout()\n",
    "\n",
    "fig, axes = plt.subplots(1, 2, figsize=(20, 14))\n",
    "\n",
    "im1 = axes[0].imshow(table_mean, vmin=1)\n",
    "im2 = axes[1].imshow(table_std, vmin=1)\n",
    "\n",
    "axes[0].set_title('TOA Mean')\n",
    "axes[1].set_title('TOA Std')\n",
    "\n",
    "axes[0].set_xticks(np.arange(0,16))\n",
    "axes[0].set_yticks(np.arange(0,16))\n",
    "axes[1].set_xticks(np.arange(0,16))\n",
    "axes[1].set_yticks(np.arange(0,16))\n",
    "\n",
    "axes[0].invert_xaxis()\n",
    "axes[0].invert_yaxis()\n",
    "axes[1].invert_xaxis()\n",
    "axes[1].invert_yaxis()\n",
    "\n",
    "cbar1 = fig.colorbar(im1, ax=axes[0], shrink=0.6) \n",
    "cbar2 = fig.colorbar(im2, ax=axes[1], shrink=0.6)\n",
    "\n",
    "for i in range(16):\n",
    "    for j in range(16):\n",
    "        if np.isnan(table_mean.iloc[i,j]): \n",
    "            continue\n",
    "        axes[0].text(j, i, table_mean.iloc[i,j], ha=\"center\", va=\"center\", rotation=45, fontweight=\"bold\", fontsize=8)\n",
    "\n",
    "for i in range(16):\n",
    "    for j in range(16):\n",
    "        if np.isnan(table_std.iloc[i,j]): \n",
    "            continue\n",
    "        axes[1].text(j, i, table_std.iloc[i,j], ha=\"center\", va=\"center\", rotation=45, color='white', fontweight=\"bold\", fontsize=8)\n",
    "\n",
    "fig.savefig('TOA_2D_Map.png')"
   ]
  },
  {
   "cell_type": "code",
   "execution_count": null,
   "id": "31dd76c0",
   "metadata": {},
   "outputs": [],
   "source": [
    "cals = filtered_data.groupby([\"col\", \"row\"]).agg({'tot':['mean','std']})\n",
    "cals.columns = cals.columns.droplevel()\n",
    "cals.reset_index(inplace=True)\n",
    "\n",
    "table_mean = cals.pivot_table(index='row', columns='col', values='mean')\n",
    "table_mean = table_mean.round(1)\n",
    "\n",
    "table_std = cals.pivot_table(index='row', columns='col', values='std')\n",
    "table_std = table_std.round(2)"
   ]
  },
  {
   "cell_type": "code",
   "execution_count": null,
   "metadata": {},
   "outputs": [],
   "source": [
    "plt.rcParams[\"xtick.major.size\"] = 2.5\n",
    "plt.rcParams[\"ytick.major.size\"] = 2.5\n",
    "plt.rcParams['xtick.minor.visible'] = False\n",
    "plt.rcParams['ytick.minor.visible'] = False\n",
    "plt.tight_layout()\n",
    "\n",
    "fig, axes = plt.subplots(1, 2, figsize=(20, 14))\n",
    "\n",
    "im1 = axes[0].imshow(table_mean, vmin=1)\n",
    "im2 = axes[1].imshow(table_std, vmin=1)\n",
    "\n",
    "axes[0].set_title('TOT Mean')\n",
    "axes[1].set_title('TOT Std')\n",
    "\n",
    "axes[0].set_xticks(np.arange(0,16))\n",
    "axes[0].set_yticks(np.arange(0,16))\n",
    "axes[1].set_xticks(np.arange(0,16))\n",
    "axes[1].set_yticks(np.arange(0,16))\n",
    "\n",
    "axes[0].invert_xaxis()\n",
    "axes[0].invert_yaxis()\n",
    "axes[1].invert_xaxis()\n",
    "axes[1].invert_yaxis()\n",
    "\n",
    "cbar1 = fig.colorbar(im1, ax=axes[0], shrink=0.6) \n",
    "cbar2 = fig.colorbar(im2, ax=axes[1], shrink=0.6)\n",
    "\n",
    "for i in range(16):\n",
    "    for j in range(16):\n",
    "        if np.isnan(table_mean.iloc[i,j]): \n",
    "            continue\n",
    "        axes[0].text(j, i, table_mean.iloc[i,j], ha=\"center\", va=\"center\", rotation=45, fontweight=\"bold\", fontsize=8)\n",
    "\n",
    "for i in range(16):\n",
    "    for j in range(16):\n",
    "        if np.isnan(table_std.iloc[i,j]): \n",
    "            continue\n",
    "        axes[1].text(j, i, table_std.iloc[i,j], ha=\"center\", va=\"center\", rotation=45, color='white', fontweight=\"bold\", fontsize=8)\n",
    "\n",
    "fig.savefig('TOT_2D_Map.png')"
   ]
  },
  {
   "cell_type": "markdown",
   "id": "2455d68d",
   "metadata": {},
   "source": [
    "## 2D map with individual histogram"
   ]
  },
  {
   "cell_type": "code",
   "execution_count": null,
   "id": "8d4c97e4",
   "metadata": {},
   "outputs": [],
   "source": [
    "hcal = [[(\n",
    "        Hist.new.Integer(135, 185, name=\"CAL\", label=\"CAL [LSB]\")\n",
    "        .Int64()\n",
    "      ) if not np.isnan(table_mean[i][j]) else np.nan\n",
    "      for j in range(16)] \n",
    "     for i in range(16)]\n",
    "\n",
    "htoa = [[(\n",
    "        Hist.new.Integer(200, 270, name=\"TOA\", label=\"TOA [LSB]\")\n",
    "        .Int64()\n",
    "      ) if not np.isnan(table_mean[i][j]) else np.nan\n",
    "      for j in range(16)] \n",
    "     for i in range(16)]\n",
    "\n",
    "htot = [[(\n",
    "        Hist.new.Integer(35, 85, name=\"TOT\", label=\"TOT [LSB]\")\n",
    "        .Int64()\n",
    "      ) if not np.isnan(table_mean[i][j]) else np.nan\n",
    "      for j in range(16)] \n",
    "     for i in range(16)]"
   ]
  },
  {
   "cell_type": "code",
   "execution_count": null,
   "id": "8f8337f8",
   "metadata": {},
   "outputs": [],
   "source": [
    "for i in range(16):\n",
    "    for j in range(16):\n",
    "        cal_subset = filtered_data[(filtered_data['row'] == i) & (filtered_data['col'] == j)]['cal']\n",
    "        toa_subset = filtered_data[(filtered_data['row'] == i) & (filtered_data['col'] == j)]['toa']\n",
    "        tot_subset = filtered_data[(filtered_data['row'] == i) & (filtered_data['col'] == j)]['tot']\n",
    "        if cal_subset.empty:\n",
    "            continue\n",
    "        else:\n",
    "            hcal[i][j].fill(cal_subset)\n",
    "            htoa[i][j].fill(toa_subset)\n",
    "            htot[i][j].fill(tot_subset)"
   ]
  },
  {
   "cell_type": "code",
   "execution_count": null,
   "id": "10338205",
   "metadata": {},
   "outputs": [],
   "source": [
    "# Create subplots for each unique combination of 'row' and 'col'\n",
    "nrows = 16\n",
    "ncols = 16\n",
    "\n",
    "# Create a figure and subplots\n",
    "fig, axs = plt.subplots(nrows, ncols, dpi=300, figsize=(160, 160))\n",
    "\n",
    "for i in range(16):\n",
    "    for j in range(16):\n",
    "        if np.isnan(hcal[i][j]).any():\n",
    "            axs[15-i][15-j].axis('off')\n",
    "        else:\n",
    "            hcal[i][j].project(\"CAL\").plot1d(ax=axs[15-i][15-j], histtype=\"fill\")\n",
    "            hcal[i][j].project(\"CAL\").plot1d(ax=axs[15-i][15-j], marker='.', histtype=\"errorbar\", fillstyle='full', xerr=True, capsize=2, markersize=5)\n",
    "            axs[15-i][15-j].set_title(f\"Pixel ({i},{j}) CAL (LSB)\", fontsize=22)\n",
    "            axs[15-i][15-j].set_xticks(axs[15-i][15-j].get_xticks(), axs[15-i][15-j].get_xticklabels(), rotation='vertical')\n",
    "            axs[15-i][15-j].minorticks_off()\n",
    "            axs[15-i][15-j].set_xlim(np.argmax(hcal[i][j].values())-4, np.argmax(hcal[i][j].values())+4)\n",
    "\n",
    "fig.savefig(\"CAL_chip_sim.pdf\")\n",
    "plt.close(fig)"
   ]
  },
  {
   "cell_type": "code",
   "execution_count": null,
   "id": "aa619a26",
   "metadata": {},
   "outputs": [],
   "source": [
    "# Create subplots for each unique combination of 'row' and 'col'\n",
    "nrows = 16\n",
    "ncols = 16\n",
    "\n",
    "# Create a figure and subplots\n",
    "fig, axs = plt.subplots(nrows, ncols, dpi=300, figsize=(160, 160))\n",
    "\n",
    "for i in range(16):\n",
    "    for j in range(16):\n",
    "        if np.isnan(htoa[i][j]).any():\n",
    "            axs[15-i][15-j].axis('off')\n",
    "        else:\n",
    "            htoa[i][j].project(\"TOA\").plot1d(ax=axs[15-i][15-j], histtype=\"fill\")\n",
    "            htoa[i][j].project(\"TOA\").plot1d(ax=axs[15-i][15-j], marker='.', histtype=\"errorbar\", fillstyle='full', xerr=True, capsize=2, markersize=5)\n",
    "            axs[15-i][15-j].set_title(f\"Pixel ({i},{j}) TOA (LSB)\", fontsize=22)\n",
    "            axs[15-i][15-j].set_xticks(axs[15-i][15-j].get_xticks(), axs[15-i][15-j].get_xticklabels(), rotation='vertical')\n",
    "            axs[15-i][15-j].minorticks_off()\n",
    "            axs[15-i][15-j].set_xlim(np.argmax(htoa[i][j].values())-4, np.argmax(htoa[i][j].values())+4)\n",
    "\n",
    "fig.savefig(\"TOA_chip_sim.pdf\")\n",
    "plt.close(fig)"
   ]
  },
  {
   "cell_type": "code",
   "execution_count": null,
   "id": "4e48dbe0",
   "metadata": {},
   "outputs": [],
   "source": [
    "# Create subplots for each unique combination of 'row' and 'col'\n",
    "nrows = 16\n",
    "ncols = 16\n",
    "\n",
    "# Create a figure and subplots\n",
    "fig, axs = plt.subplots(nrows, ncols, dpi=300, figsize=(160, 160))\n",
    "\n",
    "for i in range(16):\n",
    "    for j in range(16):\n",
    "        if np.isnan(htot[i][j]).any():\n",
    "            axs[15-i][15-j].axis('off')\n",
    "        else:\n",
    "            htot[i][j].project(\"TOT\").plot1d(ax=axs[15-i][15-j], histtype=\"fill\")\n",
    "            htot[i][j].project(\"TOT\").plot1d(ax=axs[15-i][15-j], marker='.', histtype=\"errorbar\", fillstyle='full', xerr=True, capsize=2, markersize=5)\n",
    "            axs[15-i][15-j].set_title(f\"Pixel ({i},{j}) TOT (LSB)\", fontsize=22)\n",
    "            axs[15-i][15-j].set_xticks(axs[15-i][15-j].get_xticks(), axs[15-i][15-j].get_xticklabels(), rotation='vertical')\n",
    "            axs[15-i][15-j].minorticks_off()\n",
    "            axs[15-i][15-j].set_xlim(np.argmax(htot[i][j].values())-4, np.argmax(htot[i][j].values())+4)\n",
    "\n",
    "fig.savefig(\"TOT_chip_sim.pdf\")\n",
    "plt.close(fig)"
   ]
  }
 ],
 "metadata": {
  "kernelspec": {
   "display_name": "Python 3 (ipykernel)",
   "language": "python",
   "name": "python3"
  },
  "language_info": {
   "codemirror_mode": {
    "name": "ipython",
    "version": 3
   },
   "file_extension": ".py",
   "mimetype": "text/x-python",
   "name": "python",
   "nbconvert_exporter": "python",
   "pygments_lexer": "ipython3",
   "version": "3.10.6"
  }
 },
 "nbformat": 4,
 "nbformat_minor": 5
}
