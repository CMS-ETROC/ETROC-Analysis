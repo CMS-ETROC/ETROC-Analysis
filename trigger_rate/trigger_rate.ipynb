{
 "cells": [
  {
   "cell_type": "code",
   "execution_count": 1,
   "metadata": {},
   "outputs": [],
   "source": [
    "import sys, os\n",
    "path2add = os.path.normpath(os.path.abspath(os.path.join(os.path.curdir, os.path.pardir, 'TestBeam')))\n",
    "if (not (path2add in sys.path)) :\n",
    "    sys.path.append(path2add)\n",
    "\n",
    "from beamtest_analysis_helper import DecodeBinary\n",
    "from natsort import natsorted\n",
    "from pathlib import Path\n",
    "\n",
    "import matplotlib.pyplot as plt"
   ]
  },
  {
   "cell_type": "code",
   "execution_count": null,
   "metadata": {},
   "outputs": [],
   "source": [
    "path_to_loop_dir = \"GTX_320Mbps_Board0_selfTrigger/loop_0\" # Change this path\n",
    "files = natsorted(list(Path(path_to_loop_dir).glob('T*bin')))\n",
    "files = files[1:] # Ignore first binary file"
   ]
  },
  {
   "cell_type": "code",
   "execution_count": null,
   "metadata": {},
   "outputs": [],
   "source": [
    "decoder = DecodeBinary(\n",
    "    firmware_key = 0b0001,\n",
    "    board_id = [0x17f0f, 0x17f0f, 0x17f0f, 0x17f0f],\n",
    "    file_list = files,\n",
    "    save_nem = None,\n",
    "    skip_filler = False,\n",
    "    skip_event_df = True,\n",
    "    skip_crc_df = True,\n",
    ")\n",
    "df, _, _, filler_df = decoder.decode_files()\n",
    "\n",
    "del df"
   ]
  },
  {
   "cell_type": "code",
   "execution_count": null,
   "metadata": {},
   "outputs": [],
   "source": [
    "filtered_df = filler_df.loc[filler_df['type'] == b'40']\n",
    "filtered_df.reset_index(drop=True, inplace=True)\n",
    "filtered_df"
   ]
  },
  {
   "cell_type": "code",
   "execution_count": null,
   "metadata": {},
   "outputs": [],
   "source": [
    "del filler_df"
   ]
  },
  {
   "cell_type": "code",
   "execution_count": null,
   "metadata": {},
   "outputs": [],
   "source": [
    "fig = plt.figure(figsize=(14, 10))\n",
    "plt.plot(filtered_df['idx'].values*0.025, filtered_df['events'].values)\n",
    "plt.xlabel('Time [s]')\n",
    "plt.ylabel('Interval')"
   ]
  },
  {
   "cell_type": "code",
   "execution_count": null,
   "metadata": {},
   "outputs": [],
   "source": [
    "denominator = filtered_df.shape[0] * 0.025 * 1.024**2\n",
    "denominator"
   ]
  },
  {
   "cell_type": "code",
   "execution_count": null,
   "metadata": {},
   "outputs": [],
   "source": [
    "prescale_factor = 2048 # change prescale factor\n",
    "numerator = (filtered_df['last_event'].values[-1] - filtered_df['prev_event'].values[0]) * prescale_factor\n",
    "numerator"
   ]
  },
  {
   "cell_type": "code",
   "execution_count": null,
   "metadata": {},
   "outputs": [],
   "source": [
    "trigger_rate = numerator/denominator\n",
    "trigger_rate_in_kHz = trigger_rate/1e3\n",
    "print(f\"{trigger_rate_in_kHz:.2f} kHz\")"
   ]
  }
 ],
 "metadata": {
  "kernelspec": {
   "display_name": "packages",
   "language": "python",
   "name": "python3"
  },
  "language_info": {
   "codemirror_mode": {
    "name": "ipython",
    "version": 3
   },
   "file_extension": ".py",
   "mimetype": "text/x-python",
   "name": "python",
   "nbconvert_exporter": "python",
   "pygments_lexer": "ipython3",
   "version": "3.10.12"
  }
 },
 "nbformat": 4,
 "nbformat_minor": 2
}
