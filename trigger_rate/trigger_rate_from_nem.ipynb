{
 "cells": [
  {
   "cell_type": "code",
   "execution_count": null,
   "metadata": {},
   "outputs": [],
   "source": [
    "from natsort import natsorted\n",
    "from pathlib import Path\n",
    "import pandas as pd\n",
    "import matplotlib.pyplot as plt\n",
    "import mplhep as hep\n",
    "hep.style.use('CMS')"
   ]
  },
  {
   "cell_type": "code",
   "execution_count": null,
   "metadata": {},
   "outputs": [],
   "source": [
    "path = 'Run_Testrun_PreRunStabilityTesting_FC2_4ch_5'\n",
    "pattern = 'loop*/TDC*nem'\n",
    "files = natsorted(Path(path).glob(pattern))"
   ]
  },
  {
   "cell_type": "code",
   "execution_count": null,
   "metadata": {},
   "outputs": [],
   "source": [
    "filler_dict = {\n",
    "    'events': [],\n",
    "    'prev_event': [],\n",
    "    'last_event': [],\n",
    "}"
   ]
  },
  {
   "cell_type": "code",
   "execution_count": null,
   "metadata": {},
   "outputs": [],
   "source": [
    "event_counter = 0\n",
    "prev_evt = 0\n",
    "for ifile in files:\n",
    "    with open(ifile, 'r') as infile:\n",
    "        lines = infile.readlines()\n",
    "\n",
    "        eh_flag = False\n",
    "        et_flag = False\n",
    "\n",
    "        for iline in lines:\n",
    "            flag = iline.strip().split()[0]\n",
    "\n",
    "            if flag == 'FILLER':\n",
    "                continue\n",
    "\n",
    "            elif flag == 'CLOCK':\n",
    "                filler_dict['events'].append(event_counter-prev_evt)\n",
    "                filler_dict['prev_event'].append(prev_evt)\n",
    "                filler_dict['last_event'].append(event_counter)\n",
    "                prev_evt = event_counter\n",
    "\n",
    "            ## Event starts\n",
    "            elif flag == 'EH':\n",
    "                eh_flag = True\n",
    "\n",
    "            ## Event end\n",
    "            elif flag == 'ET':\n",
    "                et_flag = True\n",
    "\n",
    "            else:\n",
    "                continue\n",
    "\n",
    "            if eh_flag & et_flag:\n",
    "                event_counter += 1\n",
    "                eh_flag = False\n",
    "                et_flag = False"
   ]
  },
  {
   "cell_type": "code",
   "execution_count": null,
   "metadata": {},
   "outputs": [],
   "source": [
    "window_size = 40\n",
    "prescale = 2048\n",
    "\n",
    "filler_df = pd.DataFrame(filler_dict).reset_index().astype('int32')\n",
    "avg_df = filler_df['events'].rolling(window=window_size).sum().to_frame(name='avg').reset_index()"
   ]
  },
  {
   "cell_type": "code",
   "execution_count": null,
   "metadata": {},
   "outputs": [],
   "source": [
    "fig, ax = plt.subplots(figsize=(22, 11))\n",
    "hep.cms.text(loc=0, ax=ax, text=\"ETL ETROC SEU\", fontsize=20)\n",
    "ax.plot(avg_df['index']*0.025, prescale*avg_df['avg']*1e-3/(window_size*0.025*1.024**2), '.')\n",
    "ax.set_xlabel('Time [s]', fontsize=25)\n",
    "ax.tick_params(axis='both', labelsize=20)\n",
    "ax.set_ylabel('', fontsize=25)"
   ]
  }
 ],
 "metadata": {
  "kernelspec": {
   "display_name": "packages",
   "language": "python",
   "name": "python3"
  },
  "language_info": {
   "codemirror_mode": {
    "name": "ipython",
    "version": 3
   },
   "file_extension": ".py",
   "mimetype": "text/x-python",
   "name": "python",
   "nbconvert_exporter": "python",
   "pygments_lexer": "ipython3",
   "version": "3.10.12"
  }
 },
 "nbformat": 4,
 "nbformat_minor": 2
}
