{
 "cells": [
  {
   "cell_type": "code",
   "execution_count": null,
   "id": "68d08624",
   "metadata": {},
   "outputs": [],
   "source": [
    "import beamtest_analysis_helper as helper\n",
    "from pathlib import Path\n",
    "import pandas as pd\n",
    "import numpy as np\n",
    "from natsort import natsorted\n",
    "from collections import defaultdict\n",
    "import hist\n",
    "import matplotlib.pyplot as plt\n",
    "import mplhep as hep\n",
    "import sqlite3\n",
    "from tqdm import tqdm\n",
    "hep.style.use('CMS')"
   ]
  },
  {
   "cell_type": "code",
   "execution_count": null,
   "id": "17c42be5",
   "metadata": {},
   "outputs": [],
   "source": [
    "offset_dfs = defaultdict(pd.DataFrame)\n",
    "\n",
    "path = Path('/media/daq/X9/')\n",
    "dirs = natsorted(list(path.glob('Run_DESYFeb2024_Run_18_offset*')))\n",
    "\n",
    "for idir in tqdm(dirs):\n",
    "    files = natsorted(list(idir.glob('loop*/TDC*.bin')))\n",
    "    decoder = helper.DecodeBinary(\n",
    "        firmware_key=0b0001,\n",
    "        board_id=[0x17f0f, 0x17f0f, 0x17f0f, 0x17f0f],\n",
    "        file_list=files,\n",
    "        save_nem = None,\n",
    "        skip_filler = True,\n",
    "    )\n",
    "    df, _ = decoder.decode_files()\n",
    "    df = df.drop(columns=['bcid', 'l1a_counter', 'ea'])\n",
    "    offset_dfs[idir.name.split('Run_18_')[1]] = df\n",
    "\n",
    "    del df"
   ]
  },
  {
   "cell_type": "markdown",
   "id": "3ad7226a",
   "metadata": {},
   "source": [
    "## Apply TDC cuts"
   ]
  },
  {
   "cell_type": "code",
   "execution_count": null,
   "id": "5a4fceb1",
   "metadata": {},
   "outputs": [],
   "source": [
    "offset_dfs"
   ]
  },
  {
   "cell_type": "code",
   "execution_count": null,
   "id": "9c3bab63",
   "metadata": {},
   "outputs": [],
   "source": [
    "offset_dfs_cut_by_TDC = defaultdict(pd.DataFrame)\n",
    "good_offsets = []\n",
    "for key, val in offset_dfs.items():\n",
    "    print(key, val.size)\n",
    "    if(val.size<1): continue\n",
    "    good_offsets += [int(key.split('_')[1])]\n",
    "    df = val\n",
    "    tdc_cuts = {}\n",
    "    for idx in [0, 1, 2, 3]:\n",
    "        # print(df.loc[df['board'] == idx]['cal'].mode()[0])\n",
    "        # board ID: [CAL LB, CAL UB, TOA LB, TOA UB, TOT LB, TOT UB]\n",
    "        if idx == 0:\n",
    "            tdc_cuts[idx] = [df.loc[df['board'] == idx]['cal'].mode()[0]-50, df.loc[df['board'] == idx]['cal'].mode()[0]+50,  100, 500, 0, 600]\n",
    "        else:\n",
    "            tdc_cuts[idx] = [df.loc[df['board'] == idx]['cal'].mode()[0]-50, df.loc[df['board'] == idx]['cal'].mode()[0]+50,  0, 1100, 0, 600]\n",
    "    # break\n",
    "    filtered_df = helper.tdc_event_selection(df, tdc_cuts_dict=tdc_cuts, select_by_hit=True)\n",
    "    offset_dfs_cut_by_TDC[key] = filtered_df\n",
    "\n",
    "    del filtered_df, df"
   ]
  },
  {
   "cell_type": "code",
   "execution_count": null,
   "id": "f2970049",
   "metadata": {},
   "outputs": [],
   "source": [
    "good_offsets"
   ]
  },
  {
   "cell_type": "markdown",
   "id": "acab3c73",
   "metadata": {},
   "source": [
    "## Calculate TOT Mean value"
   ]
  },
  {
   "cell_type": "code",
   "execution_count": null,
   "id": "f5c5f747",
   "metadata": {
    "scrolled": true
   },
   "outputs": [],
   "source": [
    "outfile = 'tot_Mean_by_offsets.sqlite'\n",
    "# offset_dfs_cut_by_TDC offset_dfs\n",
    "with sqlite3.connect(outfile) as sqlconn:\n",
    "    for key, val in offset_dfs_cut_by_TDC.items():\n",
    "        for idx in [0, 1, 2, 3]:\n",
    "            sum_group = val[val['board'] == idx].groupby([\"col\", \"row\"]).agg({'tot':['mean']})\n",
    "            sum_group.columns = sum_group.columns.droplevel()\n",
    "            sum_group.reset_index(inplace=True)\n",
    "\n",
    "            table_mean = sum_group.pivot_table(index='row', columns='col', values='mean')\n",
    "            table_mean = table_mean.round(3)\n",
    "\n",
    "            table_mean = table_mean.reindex(pd.Index(np.arange(0,16), name='')).reset_index()\n",
    "            table_mean = table_mean.reindex(columns=np.arange(0,16))\n",
    "\n",
    "            name = key+'_board_id'+str(idx)\n",
    "            name = name.replace(\"_\", \"\")\n",
    "            table_mean.to_sql(name, sqlconn, index=False, if_exists='replace')"
   ]
  },
  {
   "cell_type": "markdown",
   "id": "ac400c19",
   "metadata": {},
   "source": [
    "## Check dataframes are saved correctly"
   ]
  },
  {
   "cell_type": "code",
   "execution_count": null,
   "id": "36387e0d",
   "metadata": {},
   "outputs": [],
   "source": [
    "# con = sqlite3.connect(outfile)\n",
    "# data = pd.read_sql_query('SELECT name from sqlite_master where type= \"table\";', con)\n",
    "# print(data)"
   ]
  },
  {
   "cell_type": "markdown",
   "id": "cd4d3320",
   "metadata": {},
   "source": [
    "## Draw plot"
   ]
  },
  {
   "cell_type": "code",
   "execution_count": null,
   "id": "be45d42d",
   "metadata": {},
   "outputs": [],
   "source": [
    "with sqlite3.connect(outfile) as conn:\n",
    "    for idx in [0,1,2,3]:\n",
    "        tot_means = []\n",
    "        for ioffset in good_offsets:\n",
    "            table_name = f'offset{ioffset}boardid{idx}'\n",
    "            df = pd.read_sql_query(f'SELECT * FROM {table_name}', conn)\n",
    "            tot_means.append(df.iloc[8,8]) # for now, just a single pixel\n",
    "        fig, ax = plt.subplots(figsize=(13, 13))\n",
    "        hep.cms.text(loc=0, ax=ax, text=\"Preliminary\", fontsize=25)\n",
    "        ax.set_xlabel('Offset', fontsize=20)\n",
    "        ax.set_ylabel('TOT Mean', fontsize=20)\n",
    "        ax.tick_params(axis='both', labelsize=20)\n",
    "        ax.plot(good_offsets, tot_means)\n",
    "        ax.set_title(f\"Board {idx}, Pixel (8,8)\", loc=\"right\")\n",
    "        plt.tight_layout()"
   ]
  },
  {
   "cell_type": "code",
   "execution_count": null,
   "id": "23c75e2b",
   "metadata": {},
   "outputs": [],
   "source": []
  }
 ],
 "metadata": {
  "@webio": {
   "lastCommId": null,
   "lastKernelId": null
  },
  "kernelspec": {
   "display_name": "Python 3",
   "language": "python",
   "name": "python3"
  },
  "language_info": {
   "codemirror_mode": {
    "name": "ipython",
    "version": 3
   },
   "file_extension": ".py",
   "mimetype": "text/x-python",
   "name": "python",
   "nbconvert_exporter": "python",
   "pygments_lexer": "ipython3",
   "version": "3.10.12"
  }
 },
 "nbformat": 4,
 "nbformat_minor": 5
}
