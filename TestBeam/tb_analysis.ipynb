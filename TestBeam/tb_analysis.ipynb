{
 "cells": [
  {
   "cell_type": "code",
   "execution_count": null,
   "metadata": {},
   "outputs": [],
   "source": [
    "#############################################################################\n",
    "# zlib License\n",
    "#\n",
    "# (C) 2023 Murtaza Safdari <musafdar@cern.ch>, Jongho Lee <jongho.lee@cern.ch>\n",
    "#\n",
    "# This software is provided 'as-is', without any express or implied\n",
    "# warranty.  In no event will the authors be held liable for any damages\n",
    "# arising from the use of this software.\n",
    "#\n",
    "# Permission is granted to anyone to use this software for any purpose,\n",
    "# including commercial applications, and to alter it and redistribute it\n",
    "# freely, subject to the following restrictions:\n",
    "#\n",
    "# 1. The origin of this software must not be misrepresented; you must not\n",
    "#    claim that you wrote the original software. If you use this software\n",
    "#    in a product, an acknowledgment in the product documentation would be\n",
    "#    appreciated but is not required.\n",
    "# 2. Altered source versions must be plainly marked as such, and must not be\n",
    "#    misrepresented as being the original software.\n",
    "# 3. This notice may not be removed or altered from any source distribution.\n",
    "#############################################################################"
   ]
  },
  {
   "cell_type": "code",
   "execution_count": null,
   "metadata": {},
   "outputs": [],
   "source": [
    "from beamtest_analysis_helper import etroc2_analysis_helper\n",
    "import datetime\n",
    "from pathlib import Path\n",
    "import pandas as pd\n",
    "import numpy as np\n",
    "from glob import glob\n",
    "from natsort import natsorted"
   ]
  },
  {
   "cell_type": "code",
   "execution_count": null,
   "metadata": {},
   "outputs": [],
   "source": [
    "# !!!!!!!!!!!!\n",
    "# It is very important to correctly set the chip name, this value is stored with the data\n",
    "chip_names = [\"ET2_W36_IP7_13_HV210V_offset20\", \"ET2_CNM_1_3_HV210V_offset20\",\"ET2_EPIR_1_1_HV210V_offset20\"]\n",
    "chip_fignames = chip_names\n",
    "chip_figtitles = [\"ETROC2 WB W36 IP7-13 HV210V OS:20\", \"(Trigger) ETROC2 BB CNM 1-3 HV210V OS:20\",\"ETROC2 BB EPIR 1-1 HV210V OS:20\"]\n",
    "\n",
    "chip_labels= [\"1\",\"3\",\"0\"]\n",
    "\n",
    "today = datetime.date.today().isoformat()\n",
    "fig_outdir = Path('../../ETROC-figures')\n",
    "fig_outdir = fig_outdir / (today + '_Array_Test_Results')\n",
    "fig_outdir.mkdir(exist_ok=True)\n",
    "fig_path = str(fig_outdir)\n",
    "\n",
    "# path_pattern = f\"*2023-09-21_Array_Test_Results/SelfTrigger_bottom_Readout_topbottom_1\"\n",
    "path_pattern = f\"*2023-09-23_Array_Test_Results/*\"\n",
    "\n",
    "helper = etroc2_analysis_helper(chip_names=chip_names, chip_figtitles=chip_figtitles, chip_labels=chip_labels)"
   ]
  },
  {
   "cell_type": "code",
   "execution_count": null,
   "metadata": {},
   "outputs": [],
   "source": [
    "#%%\n",
    "%matplotlib inline\n",
    "import matplotlib.pyplot as plt\n",
    "\n",
    "fig = plt.figure(dpi=50, figsize=(5,5))\n",
    "gs = fig.add_gridspec(1,1)\n",
    "\n",
    "ax0 = fig.add_subplot(gs[0,0])\n",
    "ax0.plot([1, 0], [1, 0])\n",
    "plt.show()"
   ]
  },
  {
   "cell_type": "code",
   "execution_count": null,
   "metadata": {},
   "outputs": [],
   "source": [
    "evt = -1\n",
    "previous_bcid = -1\n",
    "df_count = 0\n",
    "\n",
    "root = '../../ETROC-Data'\n",
    "name_pattern = \"*translated*.dat\"\n",
    "\n",
    "dirs = glob(f\"{root}/{path_pattern}\")\n",
    "dirs = natsorted(dirs)\n",
    "\n",
    "for dir in dirs:\n",
    "    d = []\n",
    "    name = dir.split('/')[-1]\n",
    "    files = glob(f\"{dir}/{name_pattern}\")\n",
    "    print(files)\n",
    "\n",
    "    for ifile in files:\n",
    "        with open(ifile, 'r') as infile:\n",
    "            for line in infile.readlines():\n",
    "                if line.split(' ')[2] == 'HEADER':\n",
    "                    current_bcid = line.strip().split(' ')[-1]\n",
    "                    if current_bcid != previous_bcid or df_count>=3:\n",
    "                        evt += 1\n",
    "                        df_count = 0\n",
    "                    previous_bcid = current_bcid\n",
    "                    df_count += 1\n",
    "                elif line.split(' ')[2] == 'DATA':\n",
    "                    id  = int(line.split(' ')[1])\n",
    "                    col = int(line.split(' ')[6])\n",
    "                    row = int(line.split(' ')[8])\n",
    "                    toa = int(line.split(' ')[10])\n",
    "                    tot = int(line.split(' ')[12])\n",
    "                    cal = int(line.split(' ')[14])\n",
    "                    d.append(\n",
    "                        {\n",
    "                        'evt': evt,\n",
    "                        'board': id,\n",
    "                        'col': col,\n",
    "                        'row': row,\n",
    "                        'toa': toa,\n",
    "                        'tot': tot,\n",
    "                        'cal': cal,\n",
    "                        }\n",
    "                    )\n",
    "                elif line.split(' ')[2] == 'TRAILER':\n",
    "                    pass\n",
    "\n",
    "    df = pd.DataFrame(d)\n",
    "    df.to_parquet(name+'.pqt', index=False)\n",
    "    del df"
   ]
  },
  {
   "cell_type": "markdown",
   "metadata": {},
   "source": [
    "### Convert txt files to Pandas dataframe"
   ]
  },
  {
   "cell_type": "code",
   "execution_count": null,
   "metadata": {},
   "outputs": [],
   "source": [
    "df = helper.toPandas(path_pattern)"
   ]
  },
  {
   "cell_type": "code",
   "execution_count": null,
   "metadata": {},
   "outputs": [],
   "source": [
    "# df.info()\n",
    "# df.to_parquet('2023-09-22_TB.pqt', index=False)\n",
    "\n",
    "df = pd.read_parquet('2023-09-22_TB.pqt')\n",
    "df.info()"
   ]
  },
  {
   "cell_type": "code",
   "execution_count": null,
   "metadata": {},
   "outputs": [],
   "source": [
    "helper.making_heatmap_byPandas(df, chip_labels, chip_figtitles, \", inclusive\")"
   ]
  },
  {
   "cell_type": "code",
   "execution_count": null,
   "metadata": {},
   "outputs": [],
   "source": [
    "h_inclusive = helper.return_hist(df, chip_names, chip_labels)"
   ]
  },
  {
   "cell_type": "code",
   "execution_count": null,
   "metadata": {},
   "outputs": [],
   "source": [
    "helper.make_pix_inclusive_plots(h_inclusive, chip_names[0], chip_fignames[0], chip_figtitles[0], fig_path, save=False, show=True, tag=\"inclusive\", title_tag=\", inclusive\")"
   ]
  },
  {
   "cell_type": "code",
   "execution_count": null,
   "metadata": {},
   "outputs": [],
   "source": [
    "helper.make_pix_inclusive_plots(h_inclusive, chip_names[1], chip_fignames[1], chip_figtitles[1], fig_path, save=False, show=True, tag=\"inclusive\", title_tag=\", inclusive\")"
   ]
  },
  {
   "cell_type": "code",
   "execution_count": null,
   "metadata": {},
   "outputs": [],
   "source": [
    "del h_inclusive"
   ]
  },
  {
   "cell_type": "code",
   "execution_count": null,
   "metadata": {},
   "outputs": [],
   "source": [
    "cal_cut = [150, 250] # min, max\n",
    "toa_cut = [100, 500] # min, max\n",
    "tot_cut = [ 50, 300] # min, max\n",
    "\n",
    "## Boundary values are included by default:\n",
    "selected_df = df[df['cal'].between(cal_cut[0], cal_cut[1]) &\n",
    "                 df['toa'].between(toa_cut[0], toa_cut[1]) &\n",
    "                 df['tot'].between(tot_cut[0], tot_cut[1])]\n",
    "\n",
    "selected_df.reset_index(inplace=True, drop=True)\n",
    "\n",
    "## Save memory\n",
    "del df"
   ]
  },
  {
   "cell_type": "code",
   "execution_count": null,
   "metadata": {},
   "outputs": [],
   "source": [
    "helper.making_heatmap_byPandas(selected_df, chip_labels, chip_figtitles, \"\")"
   ]
  },
  {
   "attachments": {},
   "cell_type": "markdown",
   "metadata": {},
   "source": [
    "### Drop the problematic pixels by board"
   ]
  },
  {
   "cell_type": "code",
   "execution_count": null,
   "metadata": {},
   "outputs": [],
   "source": [
    "idxPix = selected_df[((selected_df['board'] == 0) & \n",
    "                         (selected_df['row'] == 1) &\n",
    "                         (selected_df['col'] == 14)) | \n",
    "                         ((selected_df['board'] == 0) & \n",
    "                         (selected_df['row'] == 2) & \n",
    "                         (selected_df['col'] == 1))].index\n",
    "\n",
    "selected_df.drop(idxPix , inplace=True)\n",
    "selected_df.reset_index(inplace=True, drop=True)"
   ]
  },
  {
   "cell_type": "code",
   "execution_count": null,
   "metadata": {},
   "outputs": [],
   "source": [
    "h = return_hist(selected_df)"
   ]
  },
  {
   "cell_type": "code",
   "execution_count": null,
   "metadata": {},
   "outputs": [],
   "source": [
    "make_pix_inclusive_plots(h, chip_names[0], chip_fignames[0], chip_figtitles[0], save=False, show=True, tag=\"quality_cuts\", title_tag=\", 150<=CAL<=250, 100<=TOA<=500, 50<=TOT<=300\")"
   ]
  },
  {
   "cell_type": "code",
   "execution_count": null,
   "metadata": {},
   "outputs": [],
   "source": [
    "make_pix_inclusive_plots(h, chip_names[1], chip_fignames[1], chip_figtitles[1], save=False, show=True, tag=\"quality_cuts\", title_tag=\", 150<=CAL<=250, 100<=TOA<=500, 50<=TOT<=300\")"
   ]
  },
  {
   "cell_type": "code",
   "execution_count": null,
   "metadata": {},
   "outputs": [],
   "source": [
    "del h"
   ]
  },
  {
   "cell_type": "code",
   "execution_count": null,
   "metadata": {},
   "outputs": [],
   "source": [
    "making_heatmap_byPandas(selected_df, chip_labels, chip_figtitles, figtitle_tag=\", 150<=CAL<=250, 100<=TOA<=500, 50<=TOT<=300\")"
   ]
  },
  {
   "cell_type": "code",
   "execution_count": null,
   "metadata": {},
   "outputs": [],
   "source": [
    "groups = selected_df[selected_df['board'] == 0].groupby(['row', 'col'])"
   ]
  },
  {
   "cell_type": "code",
   "execution_count": null,
   "metadata": {},
   "outputs": [],
   "source": [
    "pix_rows = []\n",
    "pix_cols = []\n",
    "fit_params = []\n",
    "cal_means = {boardID:{} for boardID in chip_labels}\n",
    "\n",
    "for boardID in chip_labels:\n",
    "    groups = selected_df[selected_df['board'] == int(boardID)].groupby(['row', 'col'])\n",
    "    for (row, col), group in groups:\n",
    "        \n",
    "        cal_mean = group['cal'].mean()\n",
    "        cal_means[boardID][(row, col)] = cal_mean\n",
    "    # fbin = 3.125/cal_mean\n",
    "    # toa_in_time = 12.5 - (group['toa'] * fbin)\n",
    "    # tot_in_time = (2*group['tot'] - np.floor(group['tot']/32)) * fbin\n",
    "    # x_range\n",
    "    # model = np.poly1d(np.polyfit(tot_in_time, toa_in_time, 3))\n",
    "\n",
    "    # pix_rows.append(row)\n",
    "    # pix_cols.append(col)\n",
    "    # fit_params.append(model)\n",
    "\n",
    "    # if row != 15 or col != 3: \n",
    "    #     continue\n",
    "    # plt.scatter(tot_in_time, toa_in_time, marker=',', s=1)\n",
    "    # x_range = np.linspace(np.amin(tot_in_time), np.amax(tot_in_time), 100)\n",
    "    # plt.plot(x_range, model(x_range), 'r-')\n",
    "\n",
    "# fit_results = pd.DataFrame(\n",
    "#     {\n",
    "#         'row': pix_rows,\n",
    "#         'col': pix_cols,\n",
    "#         'params': fit_params,\n",
    "#     }\n",
    "# )"
   ]
  },
  {
   "cell_type": "code",
   "execution_count": null,
   "metadata": {},
   "outputs": [],
   "source": [
    "fig = plt.figure(dpi=50, figsize=(10,10))\n",
    "gs = fig.add_gridspec(1,1)\n",
    "ax = fig.add_subplot(gs[0,0])\n",
    "hep.cms.text(loc=0, ax=ax, text=\"Preliminary\", fontsize=25)\n",
    "ax.scatter(selected_df[(selected_df['col'] == 2) & (selected_df['row'] == 15)]['tot'], selected_df[(selected_df['col'] == 2) & (selected_df['row'] == 15)]['toa'])\n",
    "\n",
    "params = fit_results[(fit_results['col'] == 2) & (fit_results['row'] == 15)]['params']\n",
    "func = np.poly1d(params)\n",
    "\n",
    "for param in params:\n",
    "    print(param)\n",
    "\n",
    "\n",
    "x = selected_df[(selected_df['col'] == 2) & (selected_df['row'] == 15)]['tot'].values\n",
    "# x = np.arange(4)\n",
    "y = func(x)\n",
    "# ax.plot(x, y, 'r')"
   ]
  },
  {
   "cell_type": "markdown",
   "metadata": {},
   "source": [
    "#### N Events"
   ]
  },
  {
   "cell_type": "code",
   "execution_count": null,
   "metadata": {},
   "outputs": [],
   "source": [
    "# Group the DataFrame by 'evt' and count unique 'board' values in each group\n",
    "unique_board_counts = selected_df.groupby('evt')['board'].nunique()\n",
    "\n",
    "# Print number of events depending on the unique board ID (regardless of number of hits)\n",
    "events_with_one_unique_board = unique_board_counts[unique_board_counts == 1]\n",
    "print(len(events_with_one_unique_board))\n",
    "\n",
    "events_with_two_unique_boards = unique_board_counts[unique_board_counts == 2]\n",
    "print(len(events_with_two_unique_boards))\n",
    "\n",
    "events_with_three_unique_boards = unique_board_counts[unique_board_counts == 3]\n",
    "print(len(events_with_three_unique_boards))"
   ]
  },
  {
   "cell_type": "code",
   "execution_count": null,
   "metadata": {},
   "outputs": [],
   "source": [
    "## event has two unique board ID\n",
    "event_numbers_with_two_unique_boards = unique_board_counts[unique_board_counts == 2].index\n",
    "subset_df = selected_df[selected_df['evt'].isin(event_numbers_with_two_unique_boards)]\n",
    "subset_df.reset_index(inplace=True, drop=True)\n",
    "\n",
    "## event has one hit from each board\n",
    "event_board_counts = subset_df.groupby(['evt', 'board']).size().unstack(fill_value=0)\n",
    "selected_event_numbers = event_board_counts[(event_board_counts[0] == 1) & (event_board_counts[3] == 1)].index\n",
    "selected_subset_df = subset_df[subset_df['evt'].isin(selected_event_numbers)]\n",
    "selected_subset_df.reset_index(inplace=True, drop=True)\n",
    "selected_subset_df"
   ]
  },
  {
   "cell_type": "code",
   "execution_count": null,
   "metadata": {},
   "outputs": [],
   "source": [
    "# Group the DataFrame by 'evt' and count unique 'board' values in each group\n",
    "unique_board_counts = df.groupby('evt')['board'].nunique()\n",
    "\n",
    "# Print number of events depending on the unique board ID (regardless of number of hits)\n",
    "events_with_one_unique_board = unique_board_counts[unique_board_counts == 1]\n",
    "print(len(events_with_one_unique_board))\n",
    "\n",
    "events_with_two_unique_boards = unique_board_counts[unique_board_counts == 2]\n",
    "print(len(events_with_two_unique_boards))\n",
    "\n",
    "events_with_three_unique_boards = unique_board_counts[unique_board_counts == 3]\n",
    "print(len(events_with_three_unique_boards))\n",
    "\n",
    "## event has two unique board ID\n",
    "event_numbers_with_two_unique_boards = unique_board_counts[unique_board_counts == 2].index\n",
    "subset_df = df[df['evt'].isin(event_numbers_with_two_unique_boards)]\n",
    "subset_df.reset_index(inplace=True, drop=True)\n",
    "subset_df.head(10)\n",
    "\n",
    "# ## event has one hit from each board\n",
    "# event_board_counts = subset_df.groupby(['evt', 'board']).size().unstack(fill_value=0)\n",
    "# selected_event_numbers = event_board_counts[(event_board_counts[0] == 1) & (event_board_counts[3] == 1)].index\n",
    "# selected_subset_df = subset_df[subset_df['evt'].isin(selected_event_numbers)]\n",
    "# selected_subset_df.reset_index(inplace=True, drop=True)\n",
    "# selected_subset_df"
   ]
  },
  {
   "cell_type": "code",
   "execution_count": null,
   "metadata": {},
   "outputs": [],
   "source": [
    "idxPix = subset_df[((subset_df['board'] == 0) & \n",
    "                         (subset_df['row'] == 1) &\n",
    "                         (subset_df['col'] == 14)) | \n",
    "                         ((subset_df['board'] == 0) & \n",
    "                         (subset_df['row'] == 2) & \n",
    "                         (subset_df['col'] == 1))].index\n",
    "\n",
    "subset_df.drop(idxPix , inplace=True)\n",
    "subset_df.reset_index(inplace=True, drop=True)"
   ]
  },
  {
   "cell_type": "code",
   "execution_count": null,
   "metadata": {},
   "outputs": [],
   "source": [
    "helper.making_heatmap_byPandas(subset_df, chip_labels, chip_figtitles, \", Nhits > 0 per board\")"
   ]
  },
  {
   "cell_type": "code",
   "execution_count": null,
   "metadata": {},
   "outputs": [],
   "source": [
    "h_inclusive = helper.return_hist(subset_df, chip_names, chip_labels)"
   ]
  },
  {
   "cell_type": "code",
   "execution_count": null,
   "metadata": {},
   "outputs": [],
   "source": [
    "helper.make_pix_inclusive_plots(h_inclusive, chip_names[0], chip_fignames[0], chip_figtitles[0], fig_path, save=False, show=True, tag=\"nhitPerBoard\", title_tag=\", Nhits > 0 per board\")"
   ]
  },
  {
   "cell_type": "code",
   "execution_count": null,
   "metadata": {},
   "outputs": [],
   "source": [
    "helper.make_pix_inclusive_plots(h_inclusive, chip_names[1], chip_fignames[1], chip_figtitles[1], fig_path, save=False, show=True, tag=\"nhitPerBoard\", title_tag=\", Nhits > 0 per board\")"
   ]
  },
  {
   "cell_type": "code",
   "execution_count": null,
   "metadata": {},
   "outputs": [],
   "source": [
    "helper.event_display_withPandas(subset_df)"
   ]
  },
  {
   "cell_type": "code",
   "execution_count": null,
   "metadata": {},
   "outputs": [],
   "source": [
    "# from mpl_toolkits.mplot3d import Axes3D\n",
    "\n",
    "# Loop over unique evt values\n",
    "unique_evts = subset_df['evt'].unique()\n",
    "\n",
    "for evt in unique_evts:\n",
    "    selected_subset_df = subset_df[subset_df['evt'] == evt]\n",
    "    \n",
    "    fig = plt.figure()\n",
    "    ax1 = fig.add_subplot(111, projection='3d')\n",
    "    ax1.grid(False)\n",
    "    \n",
    "    # Create a meshgrid for the contourf\n",
    "    xx, yy = np.meshgrid(np.arange(16), np.arange(16))\n",
    "    \n",
    "    for board_value in [0, 3]:\n",
    "        board_subset_df = selected_subset_df[selected_subset_df['board'] == board_value]\n",
    "        \n",
    "        # Create a 16x16 binary grid with 1s where \"cal\" exists, 0s otherwise\n",
    "        cal_grid = np.zeros((16, 16))\n",
    "        for _, row in board_subset_df.iterrows():\n",
    "            cal_grid[row['row'], row['col']] = 1\n",
    "        \n",
    "        # Plot the contourf for this board value\n",
    "        ax1.contourf(xx, yy, cal_grid, 100, zdir='z', offset=board_value, alpha=0.15, cmap=\"plasma\")\n",
    "    \n",
    "    ax1.set_zlim((0., 3.0))  # Adjust z-axis limit based on your board values\n",
    "    ax1.set_xlabel('COL', fontsize=15, labelpad=15)\n",
    "    ax1.set_ylabel('ROW', fontsize=15, labelpad=15)\n",
    "    ax1.invert_xaxis()\n",
    "    ax1.invert_yaxis()\n",
    "    ticks = range(0, 16)\n",
    "    ax1.set_xticks(ticks)\n",
    "    ax1.set_yticks(ticks)\n",
    "    ax1.set_xticks(ticks=range(16), labels=[], minor=True)\n",
    "    ax1.set_yticks(ticks=range(16), labels=[], minor=True)\n",
    "    ax1.set_zticks(ticks=[0, 1, 3], labels=[\"Bottom\", \"Middle\", \"Top\"])\n",
    "    ax1.tick_params(axis='x', labelsize=8)  # You can adjust the 'pad' value\n",
    "    ax1.tick_params(axis='y', labelsize=8)\n",
    "    ax1.tick_params(axis='z', labelsize=8)\n",
    "    ax1.grid(visible=False, axis='z')\n",
    "    ax1.grid(visible=True, which='major', axis='x')\n",
    "    ax1.grid(visible=True, which='major', axis='y')\n",
    "    \n",
    "    plt.title(f'Event {evt}')\n",
    "    plt.show()\n",
    "    \n",
    "    del xx, yy, fig, ax1  # Clear the figure to avoid overlapping plots"
   ]
  },
  {
   "cell_type": "markdown",
   "metadata": {},
   "source": [
    "### Try Neural Network"
   ]
  },
  {
   "cell_type": "code",
   "execution_count": null,
   "metadata": {},
   "outputs": [],
   "source": [
    "##\n",
    "nn_array = []\n",
    "\n",
    "evt_group = selected_subset_df.groupby('evt')\n",
    "for name, data in evt_group:\n",
    "\n",
    "    if data.iloc[0]['col'] != 3 or data.iloc[0]['row'] != 15:\n",
    "        continue\n",
    "    \n",
    "    if (abs(data.iloc[0]['col']-data.iloc[1]['col']) > 0) or (abs(data.iloc[0]['row']-data.iloc[1]['row']) > 0):\n",
    "        continue\n",
    "\n",
    "    if abs(data.iloc[0]['cal'] - cal_means[str(data.iloc[0]['board'])][(data.iloc[0]['row'],data.iloc[0]['col'])]) > 2:\n",
    "        continue\n",
    "\n",
    "    if abs(data.iloc[1]['cal'] - cal_means[str(data.iloc[1]['board'])][(data.iloc[1]['row'],data.iloc[1]['col'])]) > 2:\n",
    "        continue\n",
    "    \n",
    "    fbin0 = 3.125/cal_means[str(data.iloc[0]['board'])][(data.iloc[0]['row'],data.iloc[0]['col'])]\n",
    "    fbin1 = 3.125/cal_means[str(data.iloc[1]['board'])][(data.iloc[1]['row'],data.iloc[1]['col'])]\n",
    "    \n",
    "    toa_in_time_0 = 12.5 - (data.iloc[0]['toa'] * fbin0)\n",
    "    toa_in_time_1 = 12.5 - (data.iloc[1]['toa'] * fbin1)\n",
    "\n",
    "    tot_in_time_0 = (2*data.iloc[0]['tot'] - np.floor(data.iloc[0]['tot']/32)) * fbin0\n",
    "    tot_in_time_1 = (2*data.iloc[1]['tot'] - np.floor(data.iloc[1]['tot']/32)) * fbin1\n",
    "\n",
    "    nn_array.append(np.array([tot_in_time_0,tot_in_time_1,toa_in_time_0-toa_in_time_1]))\n",
    "\n",
    "nn_array = np.array(nn_array)"
   ]
  },
  {
   "cell_type": "code",
   "execution_count": null,
   "metadata": {},
   "outputs": [],
   "source": [
    "print(nn_array.shape)"
   ]
  },
  {
   "cell_type": "code",
   "execution_count": null,
   "metadata": {},
   "outputs": [],
   "source": [
    "import tensorflow as tf\n",
    "\n",
    "from tensorflow import keras\n",
    "from tensorflow.keras import layers\n",
    "from tensorflow.keras.models import Sequential\n",
    "from tensorflow.keras.layers import Dense"
   ]
  },
  {
   "cell_type": "code",
   "execution_count": null,
   "metadata": {},
   "outputs": [],
   "source": [
    "model = Sequential()\n",
    "model.add(Dense(5, input_dim = 2))\n",
    "model.add(Dense(1))"
   ]
  },
  {
   "cell_type": "code",
   "execution_count": null,
   "metadata": {},
   "outputs": [],
   "source": [
    "model.compile(optimizer = 'adam', loss = 'mean_squared_error', metrics = ['mse'])"
   ]
  },
  {
   "cell_type": "code",
   "execution_count": null,
   "metadata": {},
   "outputs": [],
   "source": [
    "model.summary()"
   ]
  },
  {
   "cell_type": "code",
   "execution_count": null,
   "metadata": {},
   "outputs": [],
   "source": [
    "history = model.fit(nn_array[:,0:2], nn_array[:,-1:], validation_split=0.2, epochs=150)"
   ]
  },
  {
   "cell_type": "code",
   "execution_count": null,
   "metadata": {},
   "outputs": [],
   "source": [
    "#plot the loss and validation loss of the dataset\n",
    "plt.plot(history.history['mse'], label='mse')\n",
    "plt.plot(history.history['val_mse'], label='val_mse')\n",
    "plt.yscale(\"log\")\n",
    "plt.legend()"
   ]
  },
  {
   "cell_type": "code",
   "execution_count": null,
   "metadata": {},
   "outputs": [],
   "source": [
    "Y_pred = model.predict(nn_array[:,0:2]).flatten()\n",
    "plt.figure(figsize=(10, 10))\n",
    "plt.hist(nn_array[:,-1]-Y_pred, range=(-2,2), bins=50, density=True)\n",
    "plt.xlabel('True-Pred values')\n",
    "plt.xlim(-5, 5)\n",
    "\n",
    "bins, edges = np.histogram(nn_array[:,-1]-Y_pred, range=(-2,2), bins=50, density=True)\n",
    "centers = 0.5*(edges[1:]+edges[:-1])\n",
    "\n",
    "# Define the Gaussian function\n",
    "def Gauss(x, a, mu, sig):\n",
    "    y = a*np.exp(-1*(1/(2*sig**2))*(x-mu)**2)\n",
    "    return y\n",
    "\n",
    "popt, _ = curve_fit(Gauss, centers, bins)\n",
    "plt.plot(np.linspace(-2,2,500), Gauss(np.linspace(-2,2,500), *popt), 'r-')\n",
    "print(popt)\n",
    "plt.show()\n",
    "\n",
    "# plt.figure(figsize=(10, 10))\n",
    "# plt.hist(nn_array[:,-1], range=(-5,5), bins=100)\n",
    "# plt.xlabel('True values')\n",
    "# plt.xlim(-5, 5)\n",
    "# plt.plot()"
   ]
  },
  {
   "cell_type": "code",
   "execution_count": null,
   "metadata": {},
   "outputs": [],
   "source": []
  },
  {
   "cell_type": "code",
   "execution_count": null,
   "metadata": {},
   "outputs": [],
   "source": []
  },
  {
   "cell_type": "code",
   "execution_count": null,
   "metadata": {},
   "outputs": [],
   "source": []
  },
  {
   "cell_type": "code",
   "execution_count": null,
   "metadata": {},
   "outputs": [],
   "source": []
  },
  {
   "cell_type": "code",
   "execution_count": null,
   "metadata": {},
   "outputs": [],
   "source": [
    "def return_hist():\n",
    "    return {chip_name: hist.Hist(hist.axis.Regular(50, 140, 240, name=\"CAL\", label=\"CAL [LSB]\"), \n",
    "                          hist.axis.Regular(64, 0, 512,  name=\"TOT\", label=\"TOT [LSB]\"),\n",
    "                          hist.axis.Regular(64, 0, 1024, name=\"TOA\", label=\"TOA [LSB]\"),\n",
    "                          hist.axis.Regular(10, 0, 10,  name=\"numHits\",label=\"Number of Hits in Event\"),\n",
    "                          hist.axis.Integer(0, 16, name=\"ROW\", label=\"ROW\"),\n",
    "                          hist.axis.Integer(0, 16, name=\"COL\", label=\"COL\")\n",
    "                          )\n",
    "     for chip_name in chip_names}"
   ]
  },
  {
   "cell_type": "code",
   "execution_count": null,
   "metadata": {},
   "outputs": [],
   "source": [
    "def fill_hist(chip_label, chip_name, hist, path_pattern=f\"*{today}_Array_Test_Results/*\", numHitsCut=-1, CALcut=(-1,-1), TOAcut=(-1,-1), TOTcut=(-1,-1), ROWcut=(-1,-1), COLcut=(-1,-1)):\n",
    "    root = '../ETROC-Data'\n",
    "    file_pattern = \"*translated*.dat\"\n",
    "    file_list = []\n",
    "    totalNumHits = 0\n",
    "    for path, subdirs, files in os.walk(root):\n",
    "        if not fnmatch(path, path_pattern): continue\n",
    "        for name in files:\n",
    "            pass\n",
    "            if fnmatch(name, file_pattern):\n",
    "                file_list.append(os.path.join(path, name))\n",
    "    for file_name in (file_list): print(file_name)\n",
    "    for file_name in tqdm(file_list):\n",
    "        with open(file_name) as infile:\n",
    "            miniList  = []\n",
    "            writeList = False\n",
    "            numHits = 0\n",
    "            for line in infile:\n",
    "                text_list = line.split()\n",
    "                if(text_list[1]!=chip_label): continue\n",
    "                if text_list[2]==\"HEADER\":\n",
    "                    writeList = True\n",
    "                if text_list[2]==\"TRAILER\":\n",
    "                    numHits = int(text_list[8])\n",
    "                    if len(miniList)!=numHits: pass\n",
    "                    elif(numHitsCut>-1 and numHits>numHitsCut): pass\n",
    "                    else:\n",
    "                        totalNumHits += numHits\n",
    "                        for selectedLine in miniList:\n",
    "                            text_mini_list = selectedLine.split()\n",
    "                            TOA = int(text_mini_list[10])\n",
    "                            if(TOAcut[0]>-1 and TOAcut[1]>-1 and (TOA<TOAcut[0] or TOA>=TOAcut[1])): continue\n",
    "                            TOT = int(text_mini_list[12])\n",
    "                            if(TOTcut[0]>-1 and TOTcut[1]>-1 and (TOT<TOTcut[0] or TOT>=TOTcut[1])): continue\n",
    "                            CAL = int(text_mini_list[14])\n",
    "                            if(CALcut[0]>-1 and CALcut[1]>-1 and (CAL<CALcut[0] or CAL>=CALcut[1])): continue\n",
    "                            ROW = int(text_mini_list[8])\n",
    "                            if(ROWcut[0]>-1 and ROWcut[1]>-1 and (ROW<ROWcut[0] or ROW>=ROWcut[1])): continue\n",
    "                            COL = int(text_mini_list[6])\n",
    "                            if(COLcut[0]>-1 and COLcut[1]>-1 and (COL<COLcut[0] or COL>=COLcut[1])): continue\n",
    "                            hist[chip_name].fill(CAL,TOT,TOA,numHits,ROW,COL)\n",
    "                    miniList  = []\n",
    "                    writeList = False\n",
    "                    numHits = 0\n",
    "                if(writeList and text_list[2]==\"DATA\"):\n",
    "                    if(int(text_list[8])==2 and int(text_list[6])==1 and text_list[1]==\"0\"): pass\n",
    "                    else: miniList.append(line)\n",
    "    print(\"Total Number of Hits (After DF NHits cut)\", totalNumHits)"
   ]
  },
  {
   "cell_type": "code",
   "execution_count": null,
   "metadata": {},
   "outputs": [],
   "source": [
    "def make_inclusive_plots(chip_name, chip_figname, chip_figtitle, save=True, show=False, tag='', title_tag=''):\n",
    "    \n",
    "    fig = plt.figure(dpi=50, figsize=(20,20))\n",
    "    gs = fig.add_gridspec(1,1)\n",
    "    ax = fig.add_subplot(gs[0,0])\n",
    "    ax.set_title(f\"{chip_figtitle}, Heat Map{title_tag}\", loc=\"right\", size=25)\n",
    "    hep.cms.text(loc=0, ax=ax, text=\"Preliminary\", fontsize=25)\n",
    "    h[chip_name].project(\"COL\",\"ROW\").plot2d(ax=ax, lw=1)\n",
    "    ax.invert_xaxis()\n",
    "    # ax.invert_yaxis()\n",
    "    if(save): plt.savefig(fig_path+\"/\"+chip_figname+\"_heatmap_\"+tag+datetime.datetime.now().strftime(\"%Y-%m-%d_%H-%M\")+\".png\")\n",
    "    if(show): plt.show()\n",
    "    plt.close()\n",
    "    \n",
    "    fig = plt.figure(dpi=50, figsize=(20,10))\n",
    "    gs = fig.add_gridspec(1,1)\n",
    "    ax = fig.add_subplot(gs[0,0])\n",
    "    ax.set_title(f\"{chip_figtitle}, numHits{title_tag}\", loc=\"right\", size=25)\n",
    "    hep.cms.text(loc=0, ax=ax, text=\"Preliminary\", fontsize=25)\n",
    "    h[chip_name].project(\"numHits\")[:10j].plot1d(ax=ax, lw=1)\n",
    "    if(save): plt.savefig(fig_path+\"/\"+chip_figname+\"_numHits_\"+tag+datetime.datetime.now().strftime(\"%Y-%m-%d_%H-%M\")+\".png\")\n",
    "    if(show): plt.show()\n",
    "    plt.close()\n",
    "\n",
    "    fig = plt.figure(dpi=50, figsize=(20,10))\n",
    "    gs = fig.add_gridspec(1,1)\n",
    "    ax = fig.add_subplot(gs[0,0])\n",
    "    ax.set_title(f\"{chip_figtitle}, CAL{title_tag}\", loc=\"right\", size=25)\n",
    "    hep.cms.text(loc=0, ax=ax, text=\"Preliminary\", fontsize=25)\n",
    "    h[chip_name].project(\"CAL\")[:].plot1d(ax=ax, lw=1)\n",
    "    if(save): plt.savefig(fig_path+\"/\"+chip_figname+\"_CAL_\"+tag+datetime.datetime.now().strftime(\"%Y-%m-%d_%H-%M\")+\".png\")\n",
    "    if(show): plt.show()\n",
    "    plt.close()\n",
    "\n",
    "    fig = plt.figure(dpi=50, figsize=(20,10))\n",
    "    gs = fig.add_gridspec(1,1)\n",
    "    ax = fig.add_subplot(gs[0,0])\n",
    "    ax.set_title(f\"{chip_figtitle}, TOT{title_tag}\", loc=\"right\", size=25)\n",
    "    hep.cms.text(loc=0, ax=ax, text=\"Preliminary\", fontsize=25)\n",
    "    h[chip_name].project(\"TOT\")[:].plot1d(ax=ax, lw=1)\n",
    "    if(save): plt.savefig(fig_path+\"/\"+chip_figname+\"_TOT_\"+tag+datetime.datetime.now().strftime(\"%Y-%m-%d_%H-%M\")+\".png\")\n",
    "    if(show): plt.show()\n",
    "    plt.close()\n",
    "\n",
    "    fig = plt.figure(dpi=50, figsize=(20,10))\n",
    "    gs = fig.add_gridspec(1,1)\n",
    "    ax = fig.add_subplot(gs[0,0])\n",
    "    ax.set_title(f\"{chip_figtitle}, TOA{title_tag}\", loc=\"right\", size=25)\n",
    "    hep.cms.text(loc=0, ax=ax, text=\"Preliminary\", fontsize=25)\n",
    "    h[chip_name].project(\"TOA\")[:].plot1d(ax=ax, lw=1)\n",
    "    if(save): plt.savefig(fig_path+\"/\"+chip_figname+\"_TOA_\"+tag+datetime.datetime.now().strftime(\"%Y-%m-%d_%H-%M\")+\".png\")\n",
    "    if(show): plt.show()\n",
    "    plt.close()\n",
    "\n",
    "    fig = plt.figure(dpi=50, figsize=(20,20))\n",
    "    gs = fig.add_gridspec(1,1)\n",
    "    ax = fig.add_subplot(gs[0,0])\n",
    "    ax.set_title(f\"{chip_figtitle}, TOA v TOT{title_tag}\", loc=\"right\", size=25)\n",
    "    hep.cms.text(loc=0, ax=ax, text=\"Preliminary\", fontsize=25)\n",
    "    h[chip_name].project(\"TOA\",\"TOT\")[::2j,::2j].plot2d(ax=ax, lw=1)\n",
    "    if(save): plt.savefig(fig_path+\"/\"+chip_figname+\"_TOA_TOT_\"+tag+datetime.datetime.now().strftime(\"%Y-%m-%d_%H-%M\")+\".png\")\n",
    "    if(show): plt.show()\n",
    "    plt.close()\n",
    "\n",
    "    fig = plt.figure(dpi=50, figsize=(20, 20))\n",
    "    h[chip_name].project(\"TOA\",\"TOT\")[::2j,::2j].plot2d_full(\n",
    "        top_ls=\"-\",\n",
    "        top_color=\"orange\",\n",
    "        top_lw=1,\n",
    "        side_ls=\"-\",\n",
    "        side_lw=1,\n",
    "        side_color=\"steelblue\",\n",
    "    )\n",
    "    plt.tight_layout()\n",
    "    if(save): plt.savefig(fig_path+\"/\"+chip_figname+\"_TOA_TOT_full_\"+tag+datetime.datetime.now().strftime(\"%Y-%m-%d_%H-%M\")+\".png\")\n",
    "    if(show): plt.show()\n",
    "    plt.close()\n",
    "\n",
    "    fig = plt.figure(dpi=50, figsize=(20, 20))\n",
    "    h[chip_name].project(\"TOA\",\"CAL\")[::2j,::1j].plot2d_full(\n",
    "        top_ls=\"-\",\n",
    "        top_color=\"orange\",\n",
    "        top_lw=1,\n",
    "        side_ls=\"-\",\n",
    "        side_lw=1,\n",
    "        side_color=\"steelblue\",\n",
    "    )\n",
    "    plt.tight_layout()\n",
    "    if(save): plt.savefig(fig_path+\"/\"+chip_figname+\"_TOA_CAL_full_\"+tag+datetime.datetime.now().strftime(\"%Y-%m-%d_%H-%M\")+\".png\")\n",
    "    if(show): plt.show()\n",
    "    plt.close()\n",
    "\n",
    "    fig = plt.figure(dpi=50, figsize=(20, 20))\n",
    "    h[chip_name].project(\"TOT\",\"CAL\")[::2j,::1j].plot2d_full(\n",
    "        top_ls=\"-\",\n",
    "        top_color=\"orange\",\n",
    "        top_lw=1,\n",
    "        side_ls=\"-\",\n",
    "        side_lw=1,\n",
    "        side_color=\"steelblue\",\n",
    "    )\n",
    "    plt.tight_layout()\n",
    "    if(save): plt.savefig(fig_path+\"/\"+chip_figname+\"_TOT_CAL_full_\"+tag+datetime.datetime.now().strftime(\"%Y-%m-%d_%H-%M\")+\".png\")\n",
    "    if(show): plt.show()\n",
    "    plt.close()"
   ]
  },
  {
   "cell_type": "code",
   "execution_count": null,
   "metadata": {},
   "outputs": [],
   "source": [
    "h = return_hist()\n",
    "fill_hist(chip_labels[0], chip_names[0], h, path_pattern=path_pattern, \n",
    "          numHitsCut=-1, CALcut=(-1,-1), TOAcut=(-1,-1), TOTcut=(-1,-1), ROWcut=(-1,-1), COLcut=(-1,-1))\n",
    "make_inclusive_plots(chip_names[0], chip_fignames[0], chip_figtitles[0], save=True, show=False, tag=\"tb_inc_\", title_tag=\", Inclusive\")\n",
    "del h"
   ]
  },
  {
   "cell_type": "code",
   "execution_count": null,
   "metadata": {},
   "outputs": [],
   "source": [
    "h = return_hist()\n",
    "fill_hist(chip_labels[1], chip_names[1], h, path_pattern=path_pattern, \n",
    "          numHitsCut=-1, CALcut=(-1,-1), TOAcut=(-1,-1), TOTcut=(-1,-1), ROWcut=(-1,-1), COLcut=(-1,-1))\n",
    "make_inclusive_plots(chip_names[1], chip_fignames[1], chip_figtitles[1], save=True, show=False, tag=\"inclusive_\", title_tag=\", Inclusive\")\n",
    "del h"
   ]
  },
  {
   "cell_type": "code",
   "execution_count": null,
   "metadata": {},
   "outputs": [],
   "source": []
  },
  {
   "cell_type": "code",
   "execution_count": null,
   "metadata": {},
   "outputs": [],
   "source": []
  },
  {
   "cell_type": "code",
   "execution_count": null,
   "metadata": {},
   "outputs": [],
   "source": []
  },
  {
   "cell_type": "code",
   "execution_count": null,
   "metadata": {},
   "outputs": [],
   "source": [
    "def return_2board_hist():\n",
    "    return hist.Hist(hist.axis.Regular(100, -2000, 2000, name=\"del_toa\", label=fr\"$|toa_b - toa_t|$ [ps]\"),\n",
    "                     hist.axis.Regular(100, -5000, 5000, name=\"del_tot\", label=fr\"$|tot_b - tot_t|$ [ps]\"),\n",
    "                     hist.axis.Regular(10, 0, 20, name=\"del_bt\", label=fr\"Euclidean Distance bottom-top hits [px coords]\")\n",
    "                     )"
   ]
  },
  {
   "cell_type": "code",
   "execution_count": null,
   "metadata": {},
   "outputs": [],
   "source": [
    "def fill_2board_hist(chip_labels, chip_names, hist, path_pattern=f\"*{today}_Array_Test_Results/*\", CALcut=(-1,-1), TOAcut=(-1,-1), TOTcut=(-1,-1), ROWcut=(-1,-1), COLcut=(-1,-1), event_displays=False, save=False):\n",
    "    root = '../ETROC-Data'\n",
    "    file_pattern = \"*translated*.dat\"\n",
    "    file_list = []\n",
    "    totalNumHits = 0\n",
    "    totalMidHits = 0\n",
    "    for path, subdirs, files in os.walk(root):\n",
    "        if not fnmatch(path, path_pattern): continue\n",
    "        for name in files:\n",
    "            pass\n",
    "            if fnmatch(name, file_pattern):\n",
    "                file_list.append(os.path.join(path, name))\n",
    "    for file_name in (file_list): print(file_name)\n",
    "    for file_name in tqdm(file_list):\n",
    "        with open(file_name) as infile:\n",
    "            miniDict  = {cid:[] for cid in chip_labels}\n",
    "            writeList = False\n",
    "            numHits   = 0\n",
    "            running_bcid = -1\n",
    "            current_bcid = -1\n",
    "            for line in infile:\n",
    "                text_list = line.split()\n",
    "                if(text_list[1] not in chip_labels): continue\n",
    "                if text_list[2]==\"HEADER\":\n",
    "                    current_bcid = text_list[-1]\n",
    "                    if(current_bcid!=running_bcid and running_bcid!=-1): writeList=True\n",
    "                    elif(current_bcid!=running_bcid and running_bcid==-1): running_bcid = current_bcid\n",
    "                if text_list[2]==\"TRAILER\":\n",
    "                    numHits += int(text_list[8])\n",
    "                    if(text_list[1]==chip_labels[1] and int(text_list[8])<6): totalMidHits += int(text_list[8])\n",
    "                if(text_list[2]==\"DATA\"):\n",
    "                    TOA = int(text_list[10])\n",
    "                    TOT = int(text_list[12])\n",
    "                    CAL = int(text_list[14])\n",
    "                    ROW = int(text_list[8])\n",
    "                    COL = int(text_list[6])\n",
    "                    if( (ROWcut[0]>-1 and ROWcut[1]>-1 and (ROW<ROWcut[0] or ROW>=ROWcut[1])) or (COLcut[0]>-1 and COLcut[1]>-1 and (COL<COLcut[0] or COL>=COLcut[1])) or (TOAcut[0]>-1 and TOAcut[1]>-1 and (TOA<TOAcut[0] or TOA>=TOAcut[1])) or (TOTcut[0]>-1 and TOTcut[1]>-1 and (TOT<TOTcut[0] or TOT>=TOTcut[1])) or (CALcut[0]>-1 and CALcut[1]>-1 and (CAL<CALcut[0] or CAL>=CALcut[1])) ): \n",
    "                        pass\n",
    "                    elif(ROW==2 and COL==1 and text_list[1]=='0'): pass\n",
    "                    else:\n",
    "                        miniDict[text_list[1]].append(line)\n",
    "                if(writeList):\n",
    "                    condition = True\n",
    "                    for cid in chip_labels: condition = condition and (len(miniDict[cid])>=1)\n",
    "                    if(numHits>=2 and condition):\n",
    "                        totalNumHits += 1\n",
    "                        if(event_displays):\n",
    "                            xx, yy = np.meshgrid(np.arange(16), np.arange(16))\n",
    "                            data = np.zeros((16,16,2))\n",
    "                            for idx,cid in zip(range(2),chip_labels): \n",
    "                                for cline in miniDict[cid]:\n",
    "                                    ctext = cline.split()\n",
    "                                    TOA = int(ctext[10])\n",
    "                                    TOT = int(ctext[12])\n",
    "                                    CAL = int(ctext[14])\n",
    "                                    ROW = int(ctext[8])\n",
    "                                    COL = int(ctext[6])\n",
    "                                    data[COL,ROW,idx] = 1\n",
    "                            fig = plt.figure(dpi=50)\n",
    "                            ax1 = fig.add_subplot(111, projection='3d')\n",
    "                            ax1.grid(False)\n",
    "                            ax1.contourf(xx, yy, data[:,:,0], 100, zdir='z', offset=0.0, alpha=0.15)\n",
    "                            ax1.contourf(xx, yy, data[:,:,1], 100, zdir='z', offset=1.0, alpha=0.15, cmap=\"plasma\")\n",
    "                            ax1.set_zlim((0.,1.0))\n",
    "                            ax1.set_xlabel('COL')\n",
    "                            ax1.set_ylabel('ROW')\n",
    "                            ax1.invert_xaxis()\n",
    "                            ax1.set_xticks(ticks=range(16),labels=[],minor=True)\n",
    "                            ax1.set_yticks(ticks=range(16),labels=[],minor=True)\n",
    "                            ax1.set_zticks(ticks=[0,1],labels=[\"B\",\"T\"])\n",
    "                            ax1.tick_params(axis='x', labelsize=8)\n",
    "                            ax1.tick_params(axis='y', labelsize=8)\n",
    "                            ax1.tick_params(axis='z', labelsize=8)\n",
    "                            ax1.grid(visible=False, axis='z')\n",
    "                            ax1.grid(visible=True, which='major', axis='x')\n",
    "                            ax1.grid(visible=True, which='major', axis='y')\n",
    "                            plt.show()\n",
    "                            del data,xx,yy\n",
    "\n",
    "                    condition = True\n",
    "                    for cid in chip_labels: condition = condition and (len(miniDict[cid])==1)\n",
    "                    if(numHits==2 and condition):\n",
    "                        row_b = int(miniDict[chip_labels[0]][0].split()[8])\n",
    "                        row_t = int(miniDict[chip_labels[1]][0].split()[8])\n",
    "                        col_b = int(miniDict[chip_labels[0]][0].split()[6])\n",
    "                        col_t = int(miniDict[chip_labels[1]][0].split()[6])\n",
    "                        cal_b = 190 if col_b>=8 else 200\n",
    "                        cal_t = 181 if col_t>=8 else 203\n",
    "                        toa_b = int(miniDict[chip_labels[0]][0].split()[10])*3125/cal_b\n",
    "                        toa_t = int(miniDict[chip_labels[1]][0].split()[10])*3125/cal_t\n",
    "                        tot_b = int(miniDict[chip_labels[0]][0].split()[12])*2*3125/cal_b\n",
    "                        tot_t = int(miniDict[chip_labels[1]][0].split()[12])*2*3125/cal_t\n",
    "                        \n",
    "                        hist.fill((toa_b-toa_t), (tot_b-tot_t), np.sqrt((row_b-row_t)**2 + (col_b-col_t)**2))\n",
    "                    \n",
    "                    writeList = False\n",
    "                    running_bcid = -1\n",
    "                    numHits = 0\n",
    "                    del miniDict\n",
    "                    miniDict  = {cid:[] for cid in chip_labels}\n",
    "\n",
    "    print(\"Total Number of Events\", totalNumHits)\n",
    "    print(\"Total Number of Hits on Middle Board (<6 hits/event)\", totalMidHits)\n",
    "\n",
    "    fig = plt.figure(dpi=50, figsize=(20,10))\n",
    "    gs = fig.add_gridspec(1,1)\n",
    "    ax = fig.add_subplot(gs[0,0])\n",
    "    # ax.set_title(f\"\", loc=\"right\", size=25)\n",
    "    hep.cms.text(loc=0, ax=ax, text=\"Preliminary\", fontsize=25)\n",
    "    hist.project(\"del_toa\")[:].plot1d(ax=ax, lw=1)\n",
    "    # if(save): plt.savefig(fig_path+\"/\"+chip_figname+\"_TOA_\"+tag+datetime.datetime.now().strftime(\"%Y-%m-%d_%H-%M\")+\".png\")\n",
    "    if(True): plt.show()\n",
    "    plt.close()\n",
    "\n",
    "    fig = plt.figure(dpi=50, figsize=(20,10))\n",
    "    gs = fig.add_gridspec(1,1)\n",
    "    ax = fig.add_subplot(gs[0,0])\n",
    "    # ax.set_title(f\"\", loc=\"right\", size=25)\n",
    "    hep.cms.text(loc=0, ax=ax, text=\"Preliminary\", fontsize=25)\n",
    "    hist.project(\"del_tot\")[:].plot1d(ax=ax, lw=1)\n",
    "    # if(save): plt.savefig(fig_path+\"/\"+chip_figname+\"_TOA_\"+tag+datetime.datetime.now().strftime(\"%Y-%m-%d_%H-%M\")+\".png\")\n",
    "    if(True): plt.show()\n",
    "    plt.close()\n",
    "\n",
    "    fig = plt.figure(dpi=50, figsize=(20,10))\n",
    "    gs = fig.add_gridspec(1,1)\n",
    "    ax = fig.add_subplot(gs[0,0])\n",
    "    # ax.set_title(f\"\", loc=\"right\", size=25)\n",
    "    hep.cms.text(loc=0, ax=ax, text=\"Preliminary\", fontsize=25)\n",
    "    hist.project(\"del_bt\")[:].plot1d(ax=ax, lw=1)\n",
    "    # if(save): plt.savefig(fig_path+\"/\"+chip_figname+\"_TOA_\"+tag+datetime.datetime.now().strftime(\"%Y-%m-%d_%H-%M\")+\".png\")\n",
    "    if(True): plt.show()\n",
    "    plt.close()"
   ]
  },
  {
   "cell_type": "code",
   "execution_count": null,
   "metadata": {},
   "outputs": [],
   "source": [
    "h = return_2board_hist()\n",
    "fill_2board_hist(chip_labels, chip_names, h, path_pattern=path_pattern, \n",
    "          CALcut=(140,240), TOAcut=(100,500), TOTcut=(50,300), ROWcut=(-1,-1), COLcut=(-1,-1), event_displays=False, save=False)\n",
    "del h"
   ]
  },
  {
   "cell_type": "code",
   "execution_count": null,
   "metadata": {},
   "outputs": [],
   "source": []
  },
  {
   "cell_type": "code",
   "execution_count": null,
   "metadata": {},
   "outputs": [],
   "source": []
  },
  {
   "cell_type": "code",
   "execution_count": null,
   "metadata": {},
   "outputs": [],
   "source": [
    "fill_hist(chip_labels[0], chip_names[0], h, path_pattern=f\"*2023-09-08_Array_Test_Results/Run*_ET2-CNM-Batch1-3_cosmic_1hr_run*\", \n",
    "          numHitsCut=-1, CALcut=(-1,-1), TOAcut=(-1,-1), TOTcut=(-1,-1), ROWcut=(0,8), COLcut=(-1,-1))\n",
    "make_inclusive_plots(chip_names[0], chip_fignames[0], chip_figtitles[0], save=False, show=True)\n",
    "del h"
   ]
  },
  {
   "cell_type": "code",
   "execution_count": null,
   "metadata": {},
   "outputs": [],
   "source": [
    "h = return_hist()\n",
    "fill_hist(chip_labels[0], chip_names[0], h, path_pattern=f\"*2023-09-08_Array_Test_Results/Run*_ET2-CNM-Batch1-3_cosmic_1hr_run*\", \n",
    "          numHitsCut=-1, CALcut=(-1,-1), TOAcut=(-1,-1), TOTcut=(-1,-1), ROWcut=(0,8), COLcut=(0,8))\n",
    "make_inclusive_plots(chip_names[0], chip_fignames[0], chip_figtitles[0], save=True, show=True, tag=\"bottomright_\")\n",
    "del h"
   ]
  },
  {
   "cell_type": "code",
   "execution_count": null,
   "metadata": {},
   "outputs": [],
   "source": [
    "fill_hist(chip_labels[0], chip_names[0], h, path_pattern=f\"*2023-09-08_Array_Test_Results/Run*_ET2-CNM-Batch1-3_cosmic_1hr_run*\", \n",
    "          numHitsCut=-1, CALcut=(-1,-1), TOAcut=(-1,-1), TOTcut=(-1,-1), ROWcut=(0,8), COLcut=(8,16))\n",
    "make_inclusive_plots(chip_names[0], chip_fignames[0], chip_figtitles[0], save=False, show=True)\n",
    "del h"
   ]
  },
  {
   "cell_type": "code",
   "execution_count": null,
   "metadata": {},
   "outputs": [],
   "source": [
    "fill_hist(chip_labels[0], chip_names[0], h, path_pattern=f\"*2023-09-08_Array_Test_Results/Run*_ET2-CNM-Batch1-3_cosmic_1hr_run*\", \n",
    "          numHitsCut=-1, CALcut=(-1,-1), TOAcut=(-1,-1), TOTcut=(-1,-1), ROWcut=(0,8), COLcut=(0,15))\n",
    "make_inclusive_plots(chip_names[0], chip_fignames[0], chip_figtitles[0], save=False, show=True)\n",
    "del h"
   ]
  },
  {
   "cell_type": "code",
   "execution_count": null,
   "metadata": {},
   "outputs": [],
   "source": [
    "fill_hist(chip_labels[0], chip_names[0], h, path_pattern=f\"*2023-09-08_Array_Test_Results/Run*_ET2-CNM-Batch1-3_cosmic_1hr_run*\", \n",
    "          numHitsCut=-1, CALcut=(-1,-1), TOAcut=(-1,-1), TOTcut=(-1,-1), ROWcut=(-1,-1), COLcut=(0,8))\n",
    "make_inclusive_plots(chip_names[0], chip_fignames[0], chip_figtitles[0], save=False, show=True)\n",
    "del h"
   ]
  },
  {
   "cell_type": "code",
   "execution_count": null,
   "metadata": {},
   "outputs": [],
   "source": [
    "fill_hist(chip_labels[0], chip_names[0], h, path_pattern=f\"*2023-09-08_Array_Test_Results/Run*_ET2-CNM-Batch1-3_cosmic_1hr_run*\", \n",
    "          numHitsCut=-1, CALcut=(-1,-1), TOAcut=(-1,-1), TOTcut=(-1,-1), ROWcut=(-1,-1), COLcut=(0,7))\n",
    "make_inclusive_plots(chip_names[0], chip_fignames[0], chip_figtitles[0], save=False, show=True)\n",
    "del h"
   ]
  },
  {
   "cell_type": "code",
   "execution_count": null,
   "metadata": {},
   "outputs": [],
   "source": [
    "h = return_hist()\n",
    "fill_hist(chip_labels[0], chip_names[0], h, path_pattern=f\"*2023-09-08_Array_Test_Results/Run*_ET2-CNM-Batch1-3_cosmic_1hr_run*\", \n",
    "          numHitsCut=-1, CALcut=(-1,-1), TOAcut=(-1,-1), TOTcut=(-1,-1), ROWcut=(0,6), COLcut=(0,15))\n",
    "make_inclusive_plots(chip_names[0], chip_fignames[0], chip_figtitles[0], save=True, show=True, tag=\"bottom6minuscol15_\")\n",
    "del h"
   ]
  },
  {
   "cell_type": "code",
   "execution_count": null,
   "metadata": {},
   "outputs": [],
   "source": []
  },
  {
   "cell_type": "code",
   "execution_count": null,
   "metadata": {},
   "outputs": [],
   "source": []
  },
  {
   "cell_type": "code",
   "execution_count": null,
   "metadata": {},
   "outputs": [],
   "source": []
  },
  {
   "cell_type": "code",
   "execution_count": null,
   "metadata": {},
   "outputs": [],
   "source": []
  },
  {
   "cell_type": "code",
   "execution_count": null,
   "metadata": {},
   "outputs": [],
   "source": []
  },
  {
   "cell_type": "code",
   "execution_count": null,
   "metadata": {},
   "outputs": [],
   "source": []
  },
  {
   "cell_type": "code",
   "execution_count": null,
   "metadata": {},
   "outputs": [],
   "source": []
  },
  {
   "cell_type": "code",
   "execution_count": null,
   "metadata": {},
   "outputs": [],
   "source": [
    "def make_exclusive_plots(chip_name, chip_figname, chip_figtitle, save=True, show=False, selection=[(-1,-1),(-1,-1),(-1,-1),(-1,-1)], slice_dict={}):\n",
    "    selection_key = [\"CAL\", \"TOT\", \"TOA\", \"numHits\"]\n",
    "    selection_string = \"\"\n",
    "    selected_hist = h[chip_name][slice_dict]\n",
    "    for i in range(4):\n",
    "        sel_0, sel_1 = selection[i]\n",
    "        if(sel_0==-1 or sel_1==-1): continue\n",
    "        selection_string += selection_key[i]+\" \"+f\"{np.imag(sel_0)} to \"+f\"{np.imag(sel_1)}, \"\n",
    "\n",
    "    fig = plt.figure(dpi=50, figsize=(20,20))\n",
    "    gs = fig.add_gridspec(1,1)\n",
    "    ax = fig.add_subplot(gs[0,0])\n",
    "    ax.set_title(f\"{chip_figtitle}, Heat Map, Inclusive\", loc=\"right\", size=25)\n",
    "    hep.cms.text(loc=0, ax=ax, text=\"Preliminary\", fontsize=25)\n",
    "    selected_hist.project(\"COL\",\"ROW\").plot2d(ax=ax, lw=1)\n",
    "    ax.invert_xaxis()\n",
    "    # ax.invert_yaxis()\n",
    "    if(save): plt.savefig(fig_path+\"/\"+chip_figname+\"_heatmap_exc_\"+datetime.datetime.now().strftime(\"%Y-%m-%d_%H-%M\")+\".png\")\n",
    "    if(show): plt.show()\n",
    "    plt.close()\n",
    "\n",
    "    fig = plt.figure(dpi=100, figsize=(20,10))\n",
    "    gs = fig.add_gridspec(1,1)\n",
    "    ax = fig.add_subplot(gs[0,0])\n",
    "    ax.set_title(f\"{chip_figtitle}, numHits, {selection_string}\", size=15, loc=\"right\")\n",
    "    hep.cms.text(loc=0, ax=ax, text=\"Preliminary\", fontsize=25)\n",
    "    selected_hist.project(\"numHits\").plot1d(ax=ax, lw=1)\n",
    "    if(save): plt.savefig(fig_path+\"/\"+chip_figname+\"_numHits_exc_\"+datetime.datetime.now().strftime(\"%Y-%m-%d_%H-%M\")+\".png\")\n",
    "    if(show): plt.show()\n",
    "    plt.close()\n",
    "\n",
    "    fig = plt.figure(dpi=100, figsize=(20,10))\n",
    "    gs = fig.add_gridspec(1,1)\n",
    "    ax = fig.add_subplot(gs[0,0])\n",
    "    ax.set_title(f\"{chip_figtitle}, CAL, {selection_string}\", size=15, loc=\"right\")\n",
    "    hep.cms.text(loc=0, ax=ax, text=\"Preliminary\", fontsize=25)\n",
    "    selected_hist.project(\"CAL\").plot1d(ax=ax, lw=1)\n",
    "    if(save): plt.savefig(fig_path+\"/\"+chip_figname+\"_CAL_exc_\"+datetime.datetime.now().strftime(\"%Y-%m-%d_%H-%M\")+\".png\")\n",
    "    if(show): plt.show()\n",
    "    plt.close()\n",
    "\n",
    "    fig = plt.figure(dpi=100, figsize=(20,10))\n",
    "    gs = fig.add_gridspec(1,1)\n",
    "    ax = fig.add_subplot(gs[0,0])\n",
    "    ax.set_title(f\"{chip_figtitle}, TOT, {selection_string}\", size=15, loc=\"right\")\n",
    "    hep.cms.text(loc=0, ax=ax, text=\"Preliminary\", fontsize=25)\n",
    "    selected_hist.project(\"TOT\").plot1d(ax=ax, lw=1)\n",
    "    if(save): plt.savefig(fig_path+\"/\"+chip_figname+\"_TOT_exc_\"+datetime.datetime.now().strftime(\"%Y-%m-%d_%H-%M\")+\".png\")\n",
    "    if(show): plt.show()\n",
    "    plt.close()\n",
    "\n",
    "    fig = plt.figure(dpi=100, figsize=(20,10))\n",
    "    gs = fig.add_gridspec(1,1)\n",
    "    ax = fig.add_subplot(gs[0,0])\n",
    "    ax.set_title(f\"{chip_figtitle}, TOA, {selection_string}\", size=15, loc=\"right\")\n",
    "    hep.cms.text(loc=0, ax=ax, text=\"Preliminary\", fontsize=25)\n",
    "    selected_hist.project(\"TOA\").plot1d(ax=ax, lw=1)\n",
    "    if(save): plt.savefig(fig_path+\"/\"+chip_figname+\"_TOA_exc_\"+datetime.datetime.now().strftime(\"%Y-%m-%d_%H-%M\")+\".png\")\n",
    "    if(show): plt.show()\n",
    "    plt.close()\n",
    "\n",
    "    fig = plt.figure(dpi=100, figsize=(20,20))\n",
    "    gs = fig.add_gridspec(1,1)\n",
    "    ax = fig.add_subplot(gs[0,0])\n",
    "    ax.set_title(f\"{chip_figtitle}, TOA v TOT, {selection_string}\", size=15, loc=\"right\")\n",
    "    hep.cms.text(loc=0, ax=ax, text=\"Preliminary\", fontsize=25)\n",
    "    selected_hist.project(\"TOA\",\"TOT\").plot2d(ax=ax, lw=1)\n",
    "    if(save): plt.savefig(fig_path+\"/\"+chip_figname+\"_TOA_TOT_exc_\"+datetime.datetime.now().strftime(\"%Y-%m-%d_%H-%M\")+\".png\")\n",
    "    if(show): plt.show()\n",
    "    plt.close()\n",
    "\n",
    "    fig = plt.figure(dpi=100, figsize=(20, 20))\n",
    "    selected_hist.project(\"TOA\",\"TOT\")[::2j,::2j].plot2d_full(\n",
    "        top_ls=\"-\",\n",
    "        top_color=\"orange\",\n",
    "        top_lw=1,\n",
    "        side_ls=\"-\",\n",
    "        side_lw=1,\n",
    "        side_color=\"steelblue\",\n",
    "    )\n",
    "    plt.tight_layout()\n",
    "    if(save): plt.savefig(fig_path+\"/\"+chip_figname+\"_TOA_TOT_full_exc_\"+datetime.datetime.now().strftime(\"%Y-%m-%d_%H-%M\")+\".png\")\n",
    "    if(show): plt.show()\n",
    "    plt.close()"
   ]
  },
  {
   "cell_type": "code",
   "execution_count": null,
   "metadata": {},
   "outputs": [],
   "source": [
    "s1, s2, s3, s4, s5 = bh.tag.Slicer(),bh.tag.Slicer(),bh.tag.Slicer(),bh.tag.Slicer(),bh.tag.Slicer()\n",
    "\n",
    "make_exclusive_plots(chip_names[0], chip_fignames[0], chip_figtitles[0], save=False, show=True, selection=[(150j,200j),(0j,450j),(100j,500j),(0j,2j)], slice_dict={\"CAL\":s1[150j:200j], \"TOT\":s2[0j:450j], \"TOA\":s3[100j:500j], \"numHits\":s4[0j:2j], \"ROW\":s5[0j:8j]})"
   ]
  },
  {
   "cell_type": "markdown",
   "metadata": {},
   "source": []
  },
  {
   "cell_type": "code",
   "execution_count": null,
   "metadata": {},
   "outputs": [],
   "source": [
    "s1, s2, s3, s4, s5 = bh.tag.Slicer(),bh.tag.Slicer(),bh.tag.Slicer(),bh.tag.Slicer(),bh.tag.Slicer()\n",
    "\n",
    "make_exclusive_plots(chip_names[0], chip_fignames[0], chip_figtitles[0], save=False, show=True, slice_dict={\"ROW\":s5[0j:8j]})"
   ]
  },
  {
   "cell_type": "code",
   "execution_count": null,
   "metadata": {},
   "outputs": [],
   "source": [
    "s1, s2, s3, s4, s5 = bh.tag.Slicer(),bh.tag.Slicer(),bh.tag.Slicer(),bh.tag.Slicer(),bh.tag.Slicer()\n",
    "\n",
    "make_exclusive_plots(chip_names[0], chip_fignames[0], chip_figtitles[0], save=False, show=True, slice_dict={\"ROW\":s5[8j:16j]})"
   ]
  },
  {
   "cell_type": "code",
   "execution_count": null,
   "metadata": {},
   "outputs": [],
   "source": [
    "del h"
   ]
  }
 ],
 "metadata": {
  "kernelspec": {
   "display_name": "venv",
   "language": "python",
   "name": "python3"
  },
  "language_info": {
   "codemirror_mode": {
    "name": "ipython",
    "version": 3
   },
   "file_extension": ".py",
   "mimetype": "text/x-python",
   "name": "python",
   "nbconvert_exporter": "python",
   "pygments_lexer": "ipython3",
   "version": "3.9.16"
  },
  "orig_nbformat": 4
 },
 "nbformat": 4,
 "nbformat_minor": 2
}
