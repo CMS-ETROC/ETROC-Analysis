{
 "cells": [
  {
   "cell_type": "code",
   "execution_count": null,
   "metadata": {},
   "outputs": [],
   "source": [
    "import beamtest_analysis_helper as helper\n",
    "from glob import glob\n",
    "from natsort import natsorted\n",
    "from tqdm.notebook import tqdm\n",
    "import hist\n",
    "import pandas as pd\n",
    "import numpy as np\n",
    "import matplotlib.pyplot as plt\n",
    "import matplotlib.ticker as ticker\n",
    "import matplotlib.colors as colors\n",
    "import mplhep as hep\n",
    "hep.style.use('CMS')\n",
    "import random\n",
    "import importlib\n",
    "importlib.reload(helper)"
   ]
  },
  {
   "cell_type": "code",
   "execution_count": null,
   "metadata": {},
   "outputs": [],
   "source": [
    "columns_to_read = ['evt', 'board', 'row', 'col', 'toa', 'tot', 'cal']\n",
    "names = [\"ET2_EPIR_Pair1\", \"ET2p01_BAR_4\", \"ET2p01_BAR_5\", \"ET2_EPIR_Pair4\"]\n",
    "original_files = glob('/home/daq/ETROC2/ETROC-Data/DESYFeb2024_Run_34_feather/*feather')\n",
    "files = random.sample(original_files, k=20)\n",
    "# files = original_files\n",
    "dut1_id = 1\n",
    "dut2_id = 3\n",
    "ref_id = 2\n",
    "\n",
    "last_evt = 0\n",
    "dataframes = []\n",
    "for idx, ifile in enumerate(files):\n",
    "    tmp_df = pd.read_feather(ifile, columns=columns_to_read)\n",
    "    if tmp_df.empty:\n",
    "        continue\n",
    "    if idx > 0:\n",
    "        tmp_df['evt'] += last_evt\n",
    "    last_evt += np.uint64(tmp_df['evt'].unique()[-1])\n",
    "    ## Selecting good hits\n",
    "    tdc_cuts = {}\n",
    "    for idx in [0,1,2,3]:\n",
    "        # board ID: [CAL LB, CAL UB, TOA LB, TOA UB, TOT LB, TOT UB]\n",
    "        if idx == 0:\n",
    "            tdc_cuts[idx] = [tmp_df.loc[tmp_df['board'] == idx]['cal'].mode()[0]-50, tmp_df.loc[tmp_df['board'] == idx]['cal'].mode()[0]+50,  400, 500, 100, 250]\n",
    "        elif idx == ref_id:\n",
    "            tdc_cuts[idx] = [tmp_df.loc[tmp_df['board'] == idx]['cal'].mode()[0]-50, tmp_df.loc[tmp_df['board'] == idx]['cal'].mode()[0]+50,  0, 1100, 80, 200]\n",
    "        else:\n",
    "            tdc_cuts[idx] = [tmp_df.loc[tmp_df['board'] == idx]['cal'].mode()[0]-50, tmp_df.loc[tmp_df['board'] == idx]['cal'].mode()[0]+50,  0, 1100, 0, 600]\n",
    "    filtered_df = helper.tdc_event_selection(tmp_df, tdc_cuts_dict=tdc_cuts,select_by_hit=True)\n",
    "    del tmp_df\n",
    "    if filtered_df.empty:\n",
    "        continue\n",
    "    event_board_counts = filtered_df.groupby(['evt', 'board']).size().unstack(fill_value=0)\n",
    "    event_selection_col = None\n",
    "\n",
    "    trig_selection = (event_board_counts[0] == 1)\n",
    "    ref_selection = (event_board_counts[ref_id] == 1)\n",
    "    event_selection_col = trig_selection & ref_selection\n",
    "\n",
    "    selected_event_numbers = event_board_counts[event_selection_col].index\n",
    "    selected_subset_df = filtered_df[filtered_df['evt'].isin(selected_event_numbers)]\n",
    "    selected_subset_df.reset_index(inplace=True, drop=True)\n",
    "\n",
    "    dataframes.append(selected_subset_df)\n",
    "    del event_board_counts, selected_event_numbers, selected_subset_df, event_selection_col, filtered_df\n",
    "\n",
    "df = pd.concat(dataframes)\n",
    "df.reset_index(inplace=True, drop=True)\n",
    "del dataframes\n",
    "\n"
   ]
  },
  {
   "cell_type": "code",
   "execution_count": null,
   "metadata": {},
   "outputs": [],
   "source": [
    "pixel_dict = {\n",
    "    0: (7,4),\n",
    "}\n",
    "for board, pix in pixel_dict.items():\n",
    "    filtered_df = df.loc[~( (df['board'] == board) & ((df['row'] != pix[0]) | (df['col'] != pix[1])) )].copy()\n",
    "del df"
   ]
  },
  {
   "cell_type": "code",
   "execution_count": null,
   "metadata": {},
   "outputs": [],
   "source": [
    "helper.plot_occupany_map(df, chipLabels=[0,1,2,3], chipNames=names, fig_title=names, fig_tag='')\n",
    "h_inclusive = helper.return_hist(df, names, [0,1,2,3], hist_bins=[100, 128, 128])\n",
    "for iboard in [0,1,2,3]:\n",
    "    helper.plot_1d_TDC_histograms(h_inclusive, names[iboard], names[iboard], names[iboard], './', save=False,\n",
    "                                tag=\"\", fig_tag=\"\", slide_friendly=True)\n",
    "del h_inclusive"
   ]
  },
  {
   "cell_type": "code",
   "execution_count": null,
   "metadata": {},
   "outputs": [],
   "source": [
    "#### Efficiency plot\n",
    "# Case 1: a single hit on trig and ref, then TOA correlation between trig and ref\n",
    "# Case 2: a single hit on trig and ref, then multiple hits on DUT1 => TOA correction trig and ref, trig - DUT1, ref - DUT1\n",
    "# Case 3: a single hit on trig and ref and DUT2, then TOA correlation between trig and ref\n",
    "# Case 4: a single hit on trig and ref and DUT2, then mutiple hits on DUT1 => TOA correction trig and ref, trig - DUT1, ref - DUT1\n",
    "\n",
    "\n",
    "####\n",
    "# To make occupancy plot - all inclusive\n",
    "# Case 1: No hits on DUT2\n",
    "# Case 2: 1 hit on DUT2\n",
    "# Case 3: >= 2 hit on DUT2"
   ]
  },
  {
   "cell_type": "markdown",
   "metadata": {},
   "source": [
    "# Case 1"
   ]
  },
  {
   "cell_type": "code",
   "execution_count": null,
   "metadata": {},
   "outputs": [],
   "source": [
    "filtered_df = df"
   ]
  },
  {
   "cell_type": "code",
   "execution_count": null,
   "metadata": {},
   "outputs": [],
   "source": [
    "# Case 1: a single hit on trig and ref, then TOA correlation between trig and ref\n",
    "\n",
    "event_board_counts = filtered_df.groupby(['evt', 'board']).size().unstack(fill_value=0)\n",
    "event_selection_col = None\n",
    "\n",
    "trig_selection = (event_board_counts[0] == 1)\n",
    "ref_selection = (event_board_counts[ref_id] == 1)\n",
    "event_selection_col = trig_selection & ref_selection\n",
    "\n",
    "case1_df = filtered_df[filtered_df['evt'].isin(event_board_counts[event_selection_col].index)]\n",
    "case1_df.reset_index(inplace=True, drop=True)"
   ]
  },
  {
   "cell_type": "code",
   "execution_count": null,
   "metadata": {},
   "outputs": [],
   "source": [
    "diff_row = abs(case1_df[case1_df['board'] == 0]['row'].values - case1_df[case1_df['board'] == ref_id]['row'].values)\n",
    "diff_col = abs(case1_df[case1_df['board'] == 0]['col'].values - case1_df[case1_df['board'] == ref_id]['col'].values)"
   ]
  },
  {
   "cell_type": "code",
   "execution_count": null,
   "metadata": {},
   "outputs": [],
   "source": [
    "## Select event numbers where trig - ref colinearity has been satisfied\n",
    "trig_ref_colinear_evts = case1_df['evt'].unique()[(diff_row <= 1) & (diff_col <= 1)]"
   ]
  },
  {
   "cell_type": "code",
   "execution_count": null,
   "metadata": {},
   "outputs": [],
   "source": [
    "print(trig_ref_colinear_evts.size)"
   ]
  },
  {
   "cell_type": "markdown",
   "metadata": {},
   "source": [
    "### TDC Correlation"
   ]
  },
  {
   "cell_type": "code",
   "execution_count": null,
   "metadata": {},
   "outputs": [],
   "source": [
    "# are we plotting correlation from same event? This looks like raw scatter plot"
   ]
  },
  {
   "cell_type": "code",
   "execution_count": null,
   "metadata": {},
   "outputs": [],
   "source": [
    "plot_case1_df = case1_df.loc[(case1_df['board'] == 0) | (case1_df['board'] == ref_id)]\n",
    "helper.plot_TDC_correlation_scatter_matrix(input_df=plot_case1_df, chip_names=names, single_hit=False, colinear=True, colinear_cut=1, save=False)\n",
    "del plot_case1_df"
   ]
  },
  {
   "cell_type": "markdown",
   "metadata": {},
   "source": [
    "# Case 2"
   ]
  },
  {
   "cell_type": "code",
   "execution_count": null,
   "metadata": {},
   "outputs": [],
   "source": [
    "# Case 2: a single hit on trig and ref, then multiple hits on DUT1 => TOA correlation trig and ref, trig - DUT1, ref - DUT1, and efficiency of only events with colinear hits\n",
    "dut1_df = helper.return_broadcast_dataframe(input_df=filtered_df, trig_board_id=0, ref_board_id=ref_id, dut_board_id=dut1_id, trig_dut=True, ref_dut=False)"
   ]
  },
  {
   "cell_type": "code",
   "execution_count": null,
   "metadata": {},
   "outputs": [],
   "source": [
    "colinear_dut1_df = dut1_df[dut1_df['evt'].isin(trig_ref_colinear_evts)].reset_index(drop=True)"
   ]
  },
  {
   "cell_type": "code",
   "execution_count": null,
   "metadata": {},
   "outputs": [],
   "source": [
    "### Board-level Efficiency of DUT w/o considering colinear\n",
    "100*(dut1_df['evt'].nunique())/case1_df['evt'].nunique()"
   ]
  },
  {
   "cell_type": "code",
   "execution_count": null,
   "metadata": {},
   "outputs": [],
   "source": [
    "### Board-level Efficiency of DUT w/ considering colinear of trigger and reference boards\n",
    "# 100*colinear_dut1_df['evt'].nunique()/case1_df['evt'].nunique()\n",
    "100*colinear_dut1_df['evt'].nunique()/trig_ref_colinear_evts.size"
   ]
  },
  {
   "cell_type": "code",
   "execution_count": null,
   "metadata": {},
   "outputs": [],
   "source": [
    "diff_row = colinear_dut1_df[colinear_dut1_df['board'] == 0]['row'].values - colinear_dut1_df[colinear_dut1_df['board'] == dut1_id]['row'].values\n",
    "diff_col = colinear_dut1_df[colinear_dut1_df['board'] == 0]['col'].values - colinear_dut1_df[colinear_dut1_df['board'] == dut1_id]['col'].values"
   ]
  },
  {
   "cell_type": "code",
   "execution_count": null,
   "metadata": {},
   "outputs": [],
   "source": [
    "## Select event numbers where trig - dut colinearity has been satisfied\n",
    "trig_dut_colinear_df = colinear_dut1_df[colinear_dut1_df['board'] == 0][(diff_row <= 1) & (diff_col <= 1)]\n",
    "trig_dut_colinear_evts = trig_dut_colinear_df['evt'].unique()\n",
    "print(trig_dut_colinear_evts.size,colinear_dut1_df['evt'].nunique(),trig_ref_colinear_evts.size,dut1_df['evt'].nunique(),case1_df['evt'].nunique())"
   ]
  },
  {
   "cell_type": "code",
   "execution_count": null,
   "metadata": {},
   "outputs": [],
   "source": [
    "# 100*trig_dut_colinear_df['evt'].nunique()/case1_df['evt'].nunique()\n",
    "100*trig_dut_colinear_df['evt'].nunique()/trig_ref_colinear_evts.size"
   ]
  },
  {
   "cell_type": "code",
   "execution_count": null,
   "metadata": {},
   "outputs": [],
   "source": [
    "colinear_case1_df = case1_df[case1_df['evt'].isin(trig_ref_colinear_evts)].reset_index(drop=True)\n",
    "hits_count_by_col_row_board = colinear_case1_df.groupby(['col', 'row', 'board'])['evt'].count().reset_index()\n",
    "# hits_count_by_col_row_board = colinear_dut1_df.groupby(['col', 'row', 'board'])['evt'].count().reset_index()\n",
    "\n",
    "hits_count_by_col_row_board = hits_count_by_col_row_board.rename(columns={'evt': 'hits'})\n",
    "denominator = hits_count_by_col_row_board[hits_count_by_col_row_board['board'] == 0].pivot_table(\n",
    "    index='row',\n",
    "    columns='col',\n",
    "    values='hits',\n",
    "    fill_value=0  # Fill missing values with 0 (if any)\n",
    ")"
   ]
  },
  {
   "cell_type": "code",
   "execution_count": null,
   "metadata": {},
   "outputs": [],
   "source": [
    "# hits_count_by_col_row_board = trig_dut_colinear_df.groupby(['col', 'row'])['evt'].count().reset_index()\n",
    "colinear_case2_df = case1_df[case1_df['evt'].isin(trig_dut_colinear_evts)].reset_index(drop=True)\n",
    "hits_count_by_col_row_board = colinear_case2_df.groupby(['col', 'row', 'board'])['evt'].count().reset_index()\n",
    "hits_count_by_col_row_board = hits_count_by_col_row_board.rename(columns={'evt': 'hits'})\n",
    "numerator = hits_count_by_col_row_board[hits_count_by_col_row_board['board'] == 0].pivot_table(\n",
    "    index='row',\n",
    "    columns='col',\n",
    "    values='hits',\n",
    "    fill_value=0  # Fill missing values with 0 (if any)\n",
    ")"
   ]
  },
  {
   "cell_type": "code",
   "execution_count": null,
   "metadata": {},
   "outputs": [],
   "source": [
    "eff_table = 100*numerator/denominator\n",
    "eff_table = eff_table.fillna(0)\n",
    "\n",
    "# Create a heatmap to visualize the count of hits\n",
    "fig, ax = plt.subplots(dpi=100, figsize=(20, 20))\n",
    "im = ax.imshow(eff_table, cmap=\"viridis\", interpolation=\"nearest\")\n",
    "\n",
    "# Add color bar\n",
    "cbar = plt.colorbar(im, ax=ax, fraction=0.046, pad=0.04)\n",
    "cbar.set_label('Efficiency', fontsize=20)\n",
    "cbar.ax.tick_params(labelsize=20)\n",
    "\n",
    "for i in range(16):\n",
    "    for j in range(16):\n",
    "        try:\n",
    "            value = eff_table.iloc[i, j]\n",
    "        except:\n",
    "            value = -1\n",
    "        if value == -1: continue\n",
    "        text_color = 'black' if value > 0.5*(eff_table.values.max() + eff_table.values.min()) else 'white'\n",
    "        text = str(\"{:.1f}%\".format(value))\n",
    "        plt.text(j, i, text, va='center', ha='center', color=text_color, fontsize=17)\n",
    "\n",
    "hep.cms.text(loc=0, ax=ax, text=\"Preliminary\", fontsize=25)\n",
    "ax.set_xlabel('Column (col)', fontsize=20)\n",
    "ax.set_ylabel('Row (row)', fontsize=20)\n",
    "ticks = range(0, 16)\n",
    "ax.set_xticks(ticks)\n",
    "ax.set_yticks(ticks)\n",
    "ax.set_title(f\"Efficiency of DUT projected to the trigger board based on 3-board analysis\", loc=\"right\", size=20)\n",
    "ax.tick_params(axis='x', which='both', length=5, labelsize=17)\n",
    "ax.tick_params(axis='y', which='both', length=5, labelsize=17)\n",
    "ax.invert_xaxis()\n",
    "ax.invert_yaxis()\n",
    "plt.minorticks_off()\n",
    "\n",
    "# fig.savefig('dut1_3board_eff_map.png')\n",
    "# fig.savefig('dut1_3board_eff_map.pdf')"
   ]
  },
  {
   "cell_type": "markdown",
   "metadata": {},
   "source": [
    "### TDC correlation"
   ]
  },
  {
   "cell_type": "code",
   "execution_count": null,
   "metadata": {},
   "outputs": [],
   "source": [
    "helper.plot_TDC_correlation_scatter_matrix(input_df=dut1_df, chip_names=names, single_hit=False, colinear=True, save=False)"
   ]
  },
  {
   "cell_type": "markdown",
   "metadata": {},
   "source": [
    "# Case 3"
   ]
  },
  {
   "cell_type": "code",
   "execution_count": null,
   "metadata": {},
   "outputs": [],
   "source": [
    "# Case 3: a single hit on trig and ref and DUT2, then TOA correlation between trig and ref\n",
    "\n",
    "event_board_counts = filtered_df.groupby(['evt', 'board']).size().unstack(fill_value=0)\n",
    "event_selection_col = None\n",
    "\n",
    "trig_selection = (event_board_counts[0] == 1)\n",
    "ref_selection = (event_board_counts[ref_id] == 1)\n",
    "ref_2nd_selection = (event_board_counts[dut2_id] == 1)\n",
    "event_selection_col = trig_selection & ref_selection & ref_2nd_selection\n",
    "\n",
    "case3_df = filtered_df[filtered_df['evt'].isin(event_board_counts[event_selection_col].index)]\n",
    "case3_df.reset_index(inplace=True, drop=True)"
   ]
  },
  {
   "cell_type": "code",
   "execution_count": null,
   "metadata": {},
   "outputs": [],
   "source": [
    "diff_row1 = abs(case3_df[case3_df['board'] == 0]['row'].values - case3_df[case3_df['board'] == ref_id]['row'].values)\n",
    "diff_col1 = abs(case3_df[case3_df['board'] == 0]['col'].values - case3_df[case3_df['board'] == ref_id]['col'].values)\n",
    "\n",
    "diff_row2 = abs(case3_df[case3_df['board'] == 0]['row'].values - case3_df[case3_df['board'] == dut2_id]['row'].values)\n",
    "diff_col2 = abs(case3_df[case3_df['board'] == 0]['col'].values - case3_df[case3_df['board'] == dut2_id]['col'].values)"
   ]
  },
  {
   "cell_type": "code",
   "execution_count": null,
   "metadata": {},
   "outputs": [],
   "source": [
    "## Select event numbers where trig - ref colinearity has been satisfied\n",
    "trig_ref_notInterestDut_colinear_evts = case3_df['evt'].unique()[(diff_row1 <= 1) & (diff_col1 <= 1) & (diff_row2 <= 1) & (diff_col2 <= 1)]"
   ]
  },
  {
   "cell_type": "markdown",
   "metadata": {},
   "source": [
    "### TDC Correlation"
   ]
  },
  {
   "cell_type": "code",
   "execution_count": null,
   "metadata": {},
   "outputs": [],
   "source": [
    "plot_case3_df = case3_df.loc[(case3_df['board'] == 0) | (case3_df['board'] == ref_id)]\n",
    "helper.plot_TDC_correlation_scatter_matrix(input_df=plot_case3_df, chip_names=names, single_hit=False, colinear=False, save=False)\n",
    "del plot_case3_df"
   ]
  },
  {
   "cell_type": "markdown",
   "metadata": {},
   "source": [
    "# Case 4"
   ]
  },
  {
   "cell_type": "code",
   "execution_count": null,
   "metadata": {},
   "outputs": [],
   "source": [
    "# Case 4: a single hit on trig and ref and DUT2, then mutiple hits on DUT1 => TOA correction trig and ref, trig - DUT1, ref - DUT1\n",
    "dut1_df = helper.return_broadcast_dataframe(input_df=filtered_df, trig_board_id=0, ref_board_id=ref_id, dut_board_id=dut1_id, second_ref_board_id=dut2_id, trig_dut=True, ref_dut=False)"
   ]
  },
  {
   "cell_type": "code",
   "execution_count": null,
   "metadata": {},
   "outputs": [],
   "source": [
    "colinear_dut1_df = dut1_df[dut1_df['evt'].isin(trig_ref_notInterestDut_colinear_evts)].reset_index(drop=True)"
   ]
  },
  {
   "cell_type": "code",
   "execution_count": null,
   "metadata": {},
   "outputs": [],
   "source": [
    "### Board-level Efficiency of DUT w/o considering colinear\n",
    "100*(dut1_df['evt'].nunique())/case3_df['evt'].nunique()"
   ]
  },
  {
   "cell_type": "code",
   "execution_count": null,
   "metadata": {},
   "outputs": [],
   "source": [
    "### Board-level Efficiency of DUT w/ considering colinear of trigger and reference boards\n",
    "# 100*colinear_dut1_df['evt'].nunique()/case3_df['evt'].nunique()\n",
    "100*colinear_dut1_df['evt'].nunique()/trig_ref_notInterestDut_colinear_evts.size"
   ]
  },
  {
   "cell_type": "code",
   "execution_count": null,
   "metadata": {},
   "outputs": [],
   "source": [
    "diff_row = colinear_dut1_df[colinear_dut1_df['board'] == 0]['row'].values - colinear_dut1_df[colinear_dut1_df['board'] == dut1_id]['row'].values\n",
    "diff_col = colinear_dut1_df[colinear_dut1_df['board'] == 0]['col'].values - colinear_dut1_df[colinear_dut1_df['board'] == dut1_id]['col'].values"
   ]
  },
  {
   "cell_type": "code",
   "execution_count": null,
   "metadata": {},
   "outputs": [],
   "source": [
    "## Select event numbers where trig - dut colinearity has been satisfied\n",
    "trig_dut_colinear_df = colinear_dut1_df[colinear_dut1_df['board'] == 0][(diff_row <= 1) & (diff_col <= 1)]\n",
    "trig_dut_colinear_evts = trig_dut_colinear_df['evt'].unique()"
   ]
  },
  {
   "cell_type": "code",
   "execution_count": null,
   "metadata": {},
   "outputs": [],
   "source": [
    "# 100*trig_dut_colinear_df['evt'].nunique()/case3_df['evt'].nunique()\n",
    "100*trig_dut_colinear_df['evt'].nunique()/trig_ref_notInterestDut_colinear_evts.size"
   ]
  },
  {
   "cell_type": "code",
   "execution_count": null,
   "metadata": {},
   "outputs": [],
   "source": [
    "# # hits_count_by_col_row_board = case3_df.groupby(['col', 'row', 'board'])['evt'].count().reset_index()\n",
    "# hits_count_by_col_row_board = colinear_dut1_df.groupby(['col', 'row', 'board'])['evt'].count().reset_index()\n",
    "colinear_case3_df = case3_df[case3_df['evt'].isin(trig_ref_notInterestDut_colinear_evts)].reset_index(drop=True)\n",
    "hits_count_by_col_row_board = colinear_case3_df.groupby(['col', 'row', 'board'])['evt'].count().reset_index()\n",
    "\n",
    "hits_count_by_col_row_board = hits_count_by_col_row_board.rename(columns={'evt': 'hits'})\n",
    "denominator = hits_count_by_col_row_board[hits_count_by_col_row_board['board'] == 0].pivot_table(\n",
    "    index='row',\n",
    "    columns='col',\n",
    "    values='hits',\n",
    "    fill_value=0  # Fill missing values with 0 (if any)\n",
    ")"
   ]
  },
  {
   "cell_type": "code",
   "execution_count": null,
   "metadata": {},
   "outputs": [],
   "source": [
    "# hits_count_by_col_row_board = trig_dut_colinear_df.groupby(['col', 'row'])['evt'].count().reset_index()\n",
    "# hits_count_by_col_row_board = hits_count_by_col_row_board.rename(columns={'evt': 'hits'})\n",
    "# numerator = hits_count_by_col_row_board.pivot_table(\n",
    "#     index='row',\n",
    "#     columns='col',\n",
    "#     values='hits',\n",
    "#     fill_value=0  # Fill missing values with 0 (if any)\n",
    "# )\n",
    "\n",
    "colinear_case4_df = case3_df[case3_df['evt'].isin(trig_dut_colinear_evts)].reset_index(drop=True)\n",
    "hits_count_by_col_row_board = colinear_case4_df.groupby(['col', 'row', 'board'])['evt'].count().reset_index()\n",
    "hits_count_by_col_row_board = hits_count_by_col_row_board.rename(columns={'evt': 'hits'})\n",
    "numerator = hits_count_by_col_row_board[hits_count_by_col_row_board['board'] == 0].pivot_table(\n",
    "    index='row',\n",
    "    columns='col',\n",
    "    values='hits',\n",
    "    fill_value=0  # Fill missing values with 0 (if any)\n",
    ")"
   ]
  },
  {
   "cell_type": "code",
   "execution_count": null,
   "metadata": {},
   "outputs": [],
   "source": [
    "eff_table = 100*numerator/denominator\n",
    "eff_table = eff_table.fillna(0)\n",
    "\n",
    "# Create a heatmap to visualize the count of hits\n",
    "fig, ax = plt.subplots(dpi=100, figsize=(20, 20))\n",
    "im = ax.imshow(eff_table, cmap=\"viridis\", interpolation=\"nearest\")\n",
    "\n",
    "# Add color bar\n",
    "cbar = plt.colorbar(im, ax=ax, fraction=0.046, pad=0.04)\n",
    "cbar.set_label('Efficiency', fontsize=20)\n",
    "cbar.ax.tick_params(labelsize=20)\n",
    "\n",
    "for i in range(16):\n",
    "    for j in range(16):\n",
    "        value = eff_table.iloc[i, j]\n",
    "        if value == -1: continue\n",
    "        text_color = 'black' if value > 0.5*(eff_table.values.max() + eff_table.values.min()) else 'white'\n",
    "        text = str(\"{:.1f}%\".format(value))\n",
    "        plt.text(j, i, text, va='center', ha='center', color=text_color, fontsize=17)\n",
    "\n",
    "hep.cms.text(loc=0, ax=ax, text=\"Preliminary\", fontsize=25)\n",
    "ax.set_xlabel('Column (col)', fontsize=20)\n",
    "ax.set_ylabel('Row (row)', fontsize=20)\n",
    "ticks = range(0, 16)\n",
    "ax.set_xticks(ticks)\n",
    "ax.set_yticks(ticks)\n",
    "ax.set_title(f\"Efficiency of DUT projected to the trigger board based on 4-board analysis\", loc=\"right\", size=20)\n",
    "ax.tick_params(axis='x', which='both', length=5, labelsize=17)\n",
    "ax.tick_params(axis='y', which='both', length=5, labelsize=17)\n",
    "ax.invert_xaxis()\n",
    "ax.invert_yaxis()\n",
    "plt.minorticks_off()\n",
    "\n",
    "# fig.savefig('dut1_3board_eff_map.png')"
   ]
  },
  {
   "cell_type": "markdown",
   "metadata": {},
   "source": [
    "### TDC correlation"
   ]
  },
  {
   "cell_type": "code",
   "execution_count": null,
   "metadata": {},
   "outputs": [],
   "source": [
    "helper.plot_TDC_correlation_scatter_matrix(input_df=dut1_df, chip_names=names, single_hit=False, colinear=True, save=False)"
   ]
  },
  {
   "cell_type": "code",
   "execution_count": null,
   "metadata": {},
   "outputs": [],
   "source": []
  }
 ],
 "metadata": {
  "@webio": {
   "lastCommId": null,
   "lastKernelId": null
  },
  "kernelspec": {
   "display_name": "Python 3",
   "language": "python",
   "name": "python3"
  },
  "language_info": {
   "codemirror_mode": {
    "name": "ipython",
    "version": 3
   },
   "file_extension": ".py",
   "mimetype": "text/x-python",
   "name": "python",
   "nbconvert_exporter": "python",
   "pygments_lexer": "ipython3",
   "version": "3.10.12"
  }
 },
 "nbformat": 4,
 "nbformat_minor": 2
}
