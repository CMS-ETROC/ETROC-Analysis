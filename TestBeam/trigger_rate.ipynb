{
 "cells": [
  {
   "cell_type": "code",
   "execution_count": null,
   "id": "f814b7de",
   "metadata": {},
   "outputs": [],
   "source": [
    "from pathlib import Path\n",
    "from natsort import natsorted\n",
    "import pandas as pd\n",
    "import matplotlib.pyplot as plt\n",
    "import mplhep as hep\n",
    "hep.style.use('CMS')"
   ]
  },
  {
   "cell_type": "code",
   "execution_count": null,
   "id": "d9aa08f2",
   "metadata": {},
   "outputs": [],
   "source": [
    "files = natsorted(list(Path('MarcosBoardHV200V_cooling_23C/Run_0_feather').glob('filler_loop_*.feather')))\n",
    "print(files[0])\n",
    "print(files[-1])"
   ]
  },
  {
   "cell_type": "code",
   "execution_count": null,
   "id": "2d1aa7f2",
   "metadata": {},
   "outputs": [],
   "source": [
    "dfs = []\n",
    "for ifile in files:\n",
    "    df = pd.read_feather(ifile)\n",
    "    df = df.loc[df['type']==b'40']\n",
    "    df.reset_index(inplace=True)\n",
    "    dfs.append(df)\n",
    "    del df\n",
    "\n",
    "df = pd.concat(dfs)\n",
    "del dfs\n",
    "df.reset_index(inplace=True)"
   ]
  },
  {
   "cell_type": "code",
   "execution_count": null,
   "id": "2c19acd5",
   "metadata": {},
   "outputs": [],
   "source": [
    "df"
   ]
  },
  {
   "cell_type": "code",
   "execution_count": null,
   "id": "ea1463cc",
   "metadata": {},
   "outputs": [],
   "source": [
    "colors = ['#1b9e77','#d95f02','#7570b3','#e7298a']\n",
    "avg_df4 = df['events'].rolling(window=20).sum().to_frame(name='avg').reset_index()"
   ]
  },
  {
   "cell_type": "code",
   "execution_count": null,
   "id": "0e3f9b97",
   "metadata": {},
   "outputs": [],
   "source": [
    "fig, ax = plt.subplots(figsize=(33, 11))\n",
    "hep.cms.text(loc=0, ax=ax, text=\"ETL ETROC Test Beam\", fontsize=20)\n",
    "ax.set_title(r'120 GeV (1/3 p; 2/3 $\\pi^{+}$) at CERN SPS', loc='right', fontsize=20)\n",
    "\n",
    "ax.plot(avg_df4['index']*0.025, avg_df4['avg']*1e-3/(20.*0.025*1.024**2), '.', color=colors[3])#, label='Rolling Avg Size 20')\n",
    "\n",
    "ax.set_xlabel('Time [s]', fontsize=25)\n",
    "ax.tick_params(axis='both', labelsize=20)\n",
    "ax.set_ylabel('Avg. Trigger Rate over 0.5s [kHz]', fontsize=25)\n",
    "ax.set_ylim(-0.1, 6)\n",
    "# ax.set_xlim(100, 200)\n",
    "ax.set_xlim(18000, 18100)\n",
    "# ax.legend(fontsize=20)\n",
    "\n",
    "# fig.savefig('trigger_rate.png')"
   ]
  }
 ],
 "metadata": {
  "@webio": {
   "lastCommId": null,
   "lastKernelId": null
  },
  "kernelspec": {
   "display_name": "Python 3",
   "language": "python",
   "name": "python3"
  },
  "language_info": {
   "codemirror_mode": {
    "name": "ipython",
    "version": 3
   },
   "file_extension": ".py",
   "mimetype": "text/x-python",
   "name": "python",
   "nbconvert_exporter": "python",
   "pygments_lexer": "ipython3",
   "version": "3.9.12"
  }
 },
 "nbformat": 4,
 "nbformat_minor": 5
}
