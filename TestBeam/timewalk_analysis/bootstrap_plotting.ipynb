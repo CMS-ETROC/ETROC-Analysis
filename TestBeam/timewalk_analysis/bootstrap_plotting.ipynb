{
 "cells": [
  {
   "cell_type": "markdown",
   "metadata": {},
   "source": [
    "Imports"
   ]
  },
  {
   "cell_type": "code",
   "execution_count": null,
   "metadata": {},
   "outputs": [],
   "source": [
    "import sys, os\n",
    "\n",
    "path2add = os.path.normpath(os.path.abspath(os.path.join(os.path.curdir, os.path.pardir)))\n",
    "print(path2add)\n",
    "\n",
    "if (not (path2add in sys.path)) :\n",
    "    sys.path.append(path2add)\n",
    "\n",
    "import beamtest_analysis_helper as helper"
   ]
  },
  {
   "cell_type": "code",
   "execution_count": null,
   "metadata": {},
   "outputs": [],
   "source": [
    "from matplotlib import pyplot as plt\n",
    "import numpy as np\n",
    "import pandas as pd\n",
    "import mplhep as hep\n",
    "import pickle\n",
    "hep.style.use('CMS')"
   ]
  },
  {
   "cell_type": "markdown",
   "metadata": {},
   "source": [
    "Resolutions across multiple runs on a single pixel"
   ]
  },
  {
   "cell_type": "code",
   "execution_count": null,
   "metadata": {},
   "outputs": [],
   "source": [
    "resolutions_df = pd.read_pickle('Resolution_Data/quadratic_resolutions.pkl')\n",
    "# display(resolutions_df)\n",
    "\n",
    "board_names = ['Bar 4','Bar 12','Bar 13']\n",
    "# board_names = ['Bar 12','Bar 13','BB 1-3']\n",
    "showItterations = True\n",
    "RunNums = [45,46,47,48,49,50,51,52,53]"
   ]
  },
  {
   "cell_type": "code",
   "execution_count": null,
   "metadata": {},
   "outputs": [],
   "source": [
    "Resolutions = {}\n",
    "\n",
    "for board in range(1,4):\n",
    "    Resolutions[f'ratio_{board}'] = []\n",
    "    Resolutions[f'ratio_err_{board}'] = []\n",
    "    Resolutions[f'delta_{board}'] = []\n",
    "    Resolutions[f'delta_err_{board}'] = []\n",
    "    Resolutions[f'normal_{board}'] = []\n",
    "    Resolutions[f'normal_err_{board}'] = []\n",
    "    Resolutions[f'mod_{board}'] = []\n",
    "    Resolutions[f'mod_err_{board}'] = []\n",
    "\n",
    "for RunNum in RunNums:\n",
    "    for board in range(1,4):\n",
    "        Resolutions[f'ratio_{board}'].append(resolutions_df[f'ratio_{RunNum}_{board}_0_0'].mean())\n",
    "        Resolutions[f'ratio_err_{board}'].append(resolutions_df[f'ratio_{RunNum}_{board}_0_0'].std())\n",
    "\n",
    "        Resolutions[f'delta_{board}'].append(resolutions_df[f'delta_{RunNum}_{board}_0_0'].mean())\n",
    "        Resolutions[f'delta_err_{board}'].append(resolutions_df[f'delta_{RunNum}_{board}_0_0'].std())\n",
    "\n",
    "        Resolutions[f'normal_{board}'].append(resolutions_df[f'normal_{RunNum}_{board}_0_0'].mean())\n",
    "        Resolutions[f'normal_err_{board}'].append(resolutions_df[f'normal_{RunNum}_{board}_0_0'].std())\n",
    "\n",
    "        Resolutions[f'mod_{board}'].append(resolutions_df[f'mod_{RunNum}_{board}_0_0'].mean())\n",
    "        Resolutions[f'mod_err_{board}'].append(resolutions_df[f'mod_{RunNum}_{board}_0_0'].std())\n",
    "\n",
    "xall = np.linspace(0,(len(RunNums)-1)*6,len(RunNums)*100)\n",
    "xavg = np.linspace(0,(len(RunNums)-1)*6,len(RunNums))\n",
    "\n",
    "#pay cristovo $24.18"
   ]
  },
  {
   "cell_type": "code",
   "execution_count": null,
   "metadata": {},
   "outputs": [],
   "source": [
    "fullres = {}\n",
    "for board in range(1,4):\n",
    "    fullres[f'ratio_{board}'] = []\n",
    "    fullres[f'delta_{board}'] = []\n",
    "    fullres[f'normal_{board}'] = []\n",
    "    fullres[f'mod_{board}'] = []\n",
    "\n",
    "for board in range(1,4):\n",
    "    for RunNum in RunNums:\n",
    "        for idx in range(100):\n",
    "            fullres[f'ratio_{board}'].append(resolutions_df[f'ratio_{RunNum}_{board}_0_0'][idx].item())\n",
    "            fullres[f'delta_{board}'].append(resolutions_df[f'delta_{RunNum}_{board}_0_0'][idx].item())\n",
    "            fullres[f'normal_{board}'].append(resolutions_df[f'normal_{RunNum}_{board}_0_0'][idx].item())\n",
    "            fullres[f'mod_{board}'].append(resolutions_df[f'mod_{RunNum}_{board}_0_0'][idx].item())"
   ]
  },
  {
   "cell_type": "markdown",
   "metadata": {},
   "source": [
    "Resolution Comparison"
   ]
  },
  {
   "cell_type": "code",
   "execution_count": null,
   "metadata": {},
   "outputs": [],
   "source": [
    "fig, ax = plt.subplots(3,1,figsize=(15, 10))\n",
    "hep.cms.text(loc=0, ax=ax[0], text=\"ETL ETROC\", fontsize=25)\n",
    "\n",
    "for board in range(3):\n",
    "\n",
    "    # if showItterations == True:\n",
    "    #     ax[board].plot(xall,fullres[f'normal_{board+1}'],'r-')\n",
    "    #     ax[board].plot(xall,fullres[f'mod_{board+1}'],'b-')\n",
    "\n",
    "    ax[board].errorbar(xavg,Resolutions[f'normal_{board+1}'],yerr=Resolutions[f'normal_err_{board+1}'],fmt='ro',label='Normal')\n",
    "    ax[board].errorbar(xavg,Resolutions[f'mod_{board+1}'],yerr=Resolutions[f'mod_err_{board+1}'],fmt='bo',label='Simplified')\n",
    "\n",
    "    ax[board].set_title(f\"{board_names[board]} Resolutions\", loc=\"right\", size=20)\n",
    "    ax[board].set_ylabel('Resolution (ps)',fontsize='20')\n",
    "    ax[board].set_ylim(min(Resolutions[f'normal_{board+1}'])-2,max(Resolutions[f'normal_{board+1}'])+2)\n",
    "    ax[board].grid()\n",
    "\n",
    "ax[2].set_xlabel('Time (hr)',fontsize='20')\n",
    "ax[0].legend(fontsize='15')\n",
    "fig.tight_layout()\n",
    "plt.show()"
   ]
  },
  {
   "cell_type": "code",
   "execution_count": null,
   "metadata": {},
   "outputs": [],
   "source": [
    "fig, ax = plt.subplots(1,3,figsize=(25, 10))\n",
    "hep.cms.text(loc=0, ax=ax[0], text=\"ETL ETROC\", fontsize=25)\n",
    "\n",
    "for board in range(3):\n",
    "    ax[board].hist(fullres[f'normal_{board+1}'],range=[min(fullres[f'normal_{board+1}']),max(fullres[f'normal_{board+1}'])],bins=25,fc=(1, 0, 0, 0.5),label='Normal')\n",
    "    ax[board].hist(fullres[f'mod_{board+1}'],range=[min(fullres[f'normal_{board+1}']),max(fullres[f'normal_{board+1}'])],bins=25,fc=(0, 0, 1, 0.5),label='Simplified')\n",
    "\n",
    "    ax[board].set_title(f\"{board_names[board]} Resolutions\", loc=\"right\", size=20)\n",
    "    ax[board].grid()\n",
    "\n",
    "ax[2].set_xlabel('Resolution (ps)')\n",
    "ax[0].set_ylabel('Counts')\n",
    "ax[0].legend(fontsize='20')\n",
    "fig.tight_layout()\n",
    "plt.show()"
   ]
  },
  {
   "cell_type": "markdown",
   "metadata": {},
   "source": [
    "Ratio Plots"
   ]
  },
  {
   "cell_type": "code",
   "execution_count": null,
   "metadata": {},
   "outputs": [],
   "source": [
    "fig, ax = plt.subplots(3,1,figsize=(15, 10))\n",
    "hep.cms.text(loc=0, ax=ax[0], text=\"ETL ETROC\", fontsize=25)\n",
    "\n",
    "for board in range(3):\n",
    "\n",
    "    if showItterations == True:\n",
    "        ax[board].plot(xall,fullres[f'ratio_{board+1}'],'r-')\n",
    "\n",
    "    ax[board].errorbar(xavg,Resolutions[f'ratio_{board+1}'],yerr=Resolutions[f'ratio_err_{board+1}'],fmt='ko')\n",
    "\n",
    "    ax[board].set_title(f\"{board_names[board]} Ratios\", loc=\"right\", size=20)\n",
    "    ax[board].set_ylabel('Ratio',fontsize='20')\n",
    "    ax[board].set_ylim(min(fullres[f'ratio_{board+1}']),max(fullres[f'ratio_{board+1}']))\n",
    "    ax[board].grid()\n",
    "\n",
    "ax[2].set_xlabel('Time (hr)',fontsize='20')\n",
    "fig.tight_layout()\n",
    "plt.show()"
   ]
  },
  {
   "cell_type": "code",
   "execution_count": null,
   "metadata": {},
   "outputs": [],
   "source": [
    "fig, ax = plt.subplots(1,3,figsize=(25, 10))\n",
    "hep.cms.text(loc=0, ax=ax[0], text=\"ETL ETROC\", fontsize=25)\n",
    "\n",
    "for board in range(3):\n",
    "    ax[board].hist(fullres[f'ratio_{board+1}'],range=[min(fullres[f'ratio_{board+1}']),max(fullres[f'ratio_{board+1}'])],bins=25,fc=(1, 0, 0, 1))\n",
    "\n",
    "    ax[board].set_title(f\"{board_names[board]} Ratios\", loc=\"right\", size=20)\n",
    "    ax[board].grid()\n",
    "\n",
    "ax[2].set_xlabel('Ratio')\n",
    "ax[0].set_ylabel('Counts')\n",
    "fig.tight_layout()\n",
    "plt.show()"
   ]
  },
  {
   "cell_type": "markdown",
   "metadata": {},
   "source": [
    "Delta plots"
   ]
  },
  {
   "cell_type": "code",
   "execution_count": null,
   "metadata": {},
   "outputs": [],
   "source": [
    "fig, ax = plt.subplots(3,1,figsize=(15, 10))\n",
    "hep.cms.text(loc=0, ax=ax[0], text=\"ETL ETROC\", fontsize=25)\n",
    "\n",
    "for board in range(3):\n",
    "\n",
    "    if showItterations == True:\n",
    "        ax[board].plot(xall,fullres[f'delta_{board+1}'],'r-')\n",
    "\n",
    "    ax[board].errorbar(xavg,Resolutions[f'delta_{board+1}'],yerr=Resolutions[f'delta_err_{board+1}'],fmt='ko')\n",
    "\n",
    "    ax[board].set_title(f\"{board_names[board]} Deltas\", loc=\"right\", size=20)\n",
    "    ax[board].set_ylabel('Delta (ps)',fontsize='20')\n",
    "    ax[board].set_ylim(min(fullres[f'delta_{board+1}']),max(fullres[f'delta_{board+1}']))\n",
    "    ax[board].grid()\n",
    "\n",
    "ax[2].set_xlabel('Time (hr)',fontsize='20')\n",
    "fig.tight_layout()\n",
    "plt.show()"
   ]
  },
  {
   "cell_type": "code",
   "execution_count": null,
   "metadata": {},
   "outputs": [],
   "source": [
    "fig, ax = plt.subplots(1,3,figsize=(25, 10))\n",
    "hep.cms.text(loc=0, ax=ax[0], text=\"ETL ETROC\", fontsize=25)\n",
    "\n",
    "for board in range(3):\n",
    "    ax[board].hist(fullres[f'delta_{board+1}'],range=[min(fullres[f'delta_{board+1}']),max(fullres[f'delta_{board+1}'])],bins=25,fc=(1, 0, 0, 1))\n",
    "\n",
    "    ax[board].set_title(f\"{board_names[board]} Detlas\", loc=\"right\", size=20)\n",
    "    ax[board].grid()\n",
    "\n",
    "ax[2].set_xlabel('Delta (ps)')\n",
    "ax[0].set_ylabel('Counts')\n",
    "fig.tight_layout()\n",
    "plt.show()"
   ]
  },
  {
   "cell_type": "markdown",
   "metadata": {},
   "source": [
    "Resolutions across a single board on a single run"
   ]
  },
  {
   "cell_type": "code",
   "execution_count": null,
   "metadata": {},
   "outputs": [],
   "source": [
    "rspace_df = pd.read_pickle('Resolution_Data/boardscan_resolutions.pkl')\n",
    "# display(rspace_df)\n",
    "\n",
    "Run = 46\n",
    "plotboard = 1"
   ]
  },
  {
   "cell_type": "code",
   "execution_count": null,
   "metadata": {},
   "outputs": [],
   "source": [
    "boardscan = {}\n",
    "for board in range(1,4):\n",
    "    boardscan[f'normal_{board}'] = []\n",
    "    boardscan[f'mod_{board}'] = []\n",
    "    boardscan[f'ratio_{board}'] = []\n",
    "    boardscan[f'delta_{board}'] = []\n",
    "\n",
    "for board in range(1,4):\n",
    "    for row in range(16):\n",
    "        boardscan[f'normal_{board}'].append([])\n",
    "        boardscan[f'mod_{board}'].append([])\n",
    "        boardscan[f'ratio_{board}'].append([])\n",
    "        boardscan[f'delta_{board}'].append([])\n",
    "        for column in range(16):\n",
    "            try:\n",
    "                boardscan[f'normal_{board}'][-1].append(rspace_df[f'normal_{Run}_{board}_{row}_{column}'].mean().item())\n",
    "                boardscan[f'mod_{board}'][-1].append(rspace_df[f'mod_{Run}_{board}_{row}_{column}'].mean().item())\n",
    "                boardscan[f'ratio_{board}'][-1].append(rspace_df[f'ratio_{Run}_{board}_{row}_{column}'].mean().item())\n",
    "                boardscan[f'delta_{board}'][-1].append(rspace_df[f'delta_{Run}_{board}_{row}_{column}'].mean().item())\n",
    "            except:\n",
    "                boardscan[f'normal_{board}'][-1].append(rspace_df[f'normal_{Run}_{board}_{row}_{column}'].mean().item())\n",
    "                boardscan[f'mod_{board}'][-1].append(rspace_df[f'mod_{Run}_{board}_{row}_{column}'].mean().item())\n",
    "                boardscan[f'ratio_{board}'][-1].append(0.0)\n",
    "                boardscan[f'delta_{board}'][-1].append(-10.0)"
   ]
  },
  {
   "cell_type": "code",
   "execution_count": null,
   "metadata": {},
   "outputs": [],
   "source": [
    "fig, ax = plt.subplots(2,2,dpi=100, figsize=(20, 20))\n",
    "hep.cms.text(loc=0, ax=ax[0,0], text=\"ETL ETROC\", fontsize=18)\n",
    "ticks = range(0, 16)\n",
    "im = []\n",
    "vrange = [[40,50],[40,50],[0.99,1.01],[-0.5,0.5]]\n",
    "\n",
    "im = ax[0,0].imshow(boardscan[f'normal_{plotboard}'], interpolation=\"nearest\", vmin=vrange[0][0], vmax=vrange[0][1])\n",
    "plt.colorbar(im, ax=ax[0,0], fraction=0.046, pad=0.04, extend='both')\n",
    "\n",
    "im = ax[0,1].imshow(boardscan[f'mod_{plotboard}'], interpolation=\"nearest\", vmin=vrange[1][0], vmax=vrange[1][1])\n",
    "plt.colorbar(im, ax=ax[0,1], fraction=0.046, pad=0.04, extend='both')\n",
    "\n",
    "im = ax[1,0].imshow(boardscan[f'ratio_{plotboard}'], interpolation=\"nearest\", vmin=vrange[2][0], vmax=vrange[2][1])\n",
    "plt.colorbar(im, ax=ax[1,0], fraction=0.046, pad=0.04, extend='both')\n",
    "\n",
    "im = ax[1,1].imshow(boardscan[f'delta_{plotboard}'], interpolation=\"nearest\", vmin=vrange[3][0], vmax=vrange[3][1])\n",
    "plt.colorbar(im, ax=ax[1,1], fraction=0.046, pad=0.04, extend='both')\n",
    "\n",
    "for row in range(16):\n",
    "    for column in range(16):\n",
    "        ax[0,0].text(column, row, \"{:.2f}\".format(boardscan[f'normal_{plotboard}'][row][column]), ha=\"center\", va=\"center\", rotation=45, fontweight=\"bold\", fontsize=12, color='black')\n",
    "        ax[0,1].text(column, row, \"{:.2f}\".format(boardscan[f'mod_{plotboard}'][row][column]), ha=\"center\", va=\"center\", rotation=45, fontweight=\"bold\", fontsize=12, color='black')\n",
    "        ax[1,0].text(column, row, \"{:.2f}\".format(boardscan[f'ratio_{plotboard}'][row][column]), ha=\"center\", va=\"center\", rotation=45, fontweight=\"bold\", fontsize=12, color='black')\n",
    "        ax[1,1].text(column, row, \"{:.2f}\".format(boardscan[f'delta_{plotboard}'][row][column]), ha=\"center\", va=\"center\", rotation=45, fontweight=\"bold\", fontsize=12, color='black')\n",
    "\n",
    "for i in range(2):\n",
    "    for j in range(2):\n",
    "        ax[i,j].set_xticks(ticks)\n",
    "        ax[i,j].set_yticks(ticks)\n",
    "        ax[i,j].tick_params(axis='x', which='both', length=5, labelsize=17)\n",
    "        ax[i,j].tick_params(axis='y', which='both', length=5, labelsize=17)\n",
    "        ax[i,j].invert_xaxis()\n",
    "        ax[i,j].invert_yaxis()\n",
    "        ax[i,j].set_xlabel('Column', fontsize=25)\n",
    "        ax[i,j].set_ylabel('Row', fontsize=25)\n",
    "        ax[i,j].minorticks_off()\n",
    "\n",
    "ax[0,0].set_title(f'{board_names[0]} Normal', loc=\"right\", size=16)\n",
    "ax[0,1].set_title(f'{board_names[0]} Mod', loc=\"right\", size=16)\n",
    "ax[1,0].set_title(f'{board_names[0]} Ratio', loc=\"right\", size=16)\n",
    "ax[1,1].set_title(f'{board_names[0]} Delta', loc=\"right\", size=16)\n",
    "\n",
    "plt.tight_layout()"
   ]
  },
  {
   "cell_type": "code",
   "execution_count": null,
   "metadata": {},
   "outputs": [],
   "source": [
    "# prints cal code stuff\n",
    "# input_df is the origonal feather file\n",
    "loop_25_feather = pd.read_feather('loop_25.feather')\n",
    "helper.plot_TDC_summary_table(input_df=loop_25_feather, chipLabels=[1,2,3], var='cal')"
   ]
  },
  {
   "cell_type": "markdown",
   "metadata": {},
   "source": [
    "plot board of cal codes\n",
    "show cal codes change over board, which corrects for differences across pixels, and allows for use of one TWC function"
   ]
  },
  {
   "cell_type": "markdown",
   "metadata": {},
   "source": [
    "Coefficients across multiple runs on a single pixel"
   ]
  },
  {
   "cell_type": "code",
   "execution_count": null,
   "metadata": {},
   "outputs": [],
   "source": [
    "coeffs_df = pd.read_pickle('Resolution_Data/quadratic_coeffs.pkl')\n",
    "# display(coeffs_df)\n",
    "\n",
    "RunNums = [45,46,47,48,49,50,51,52,53]\n",
    "board_names = ['Bar 4','Bar 12','Bar 13']\n",
    "# board_names = ['Bar 12','Bar 13','BB 1-3']\n",
    "poly_order = 3\n",
    "coeffnames = ['a','b','c']\n",
    "# coeffnames = ['c','b','a']"
   ]
  },
  {
   "cell_type": "code",
   "execution_count": null,
   "metadata": {},
   "outputs": [],
   "source": [
    "Coefficients = {}\n",
    "CoefficientsError = {}\n",
    "\n",
    "for board in range(1,4):\n",
    "    for i in range(2):\n",
    "        for coeff in range(poly_order):\n",
    "            Coefficients[f'{board}_{i}_{coeff}'] = []\n",
    "            CoefficientsError[f'{board}_{i}_{coeff}'] = []\n",
    "\n",
    "for RunNum in RunNums:\n",
    "    for board in range(1,4):\n",
    "        for i in range(2):\n",
    "            for coeff in range(poly_order):\n",
    "                Coefficients[f'{board}_{i}_{coeff}'].append(coeffs_df[f'{RunNum}_{board}_{i}_{coeff}_0_0'].mean())\n",
    "                CoefficientsError[f'{board}_{i}_{coeff}'].append(coeffs_df[f'{RunNum}_{board}_{i}_{coeff}_0_0'].std())\n",
    "\n",
    "xcoeffs = np.linspace(0,(len(RunNums)-1)*6,len(RunNums))"
   ]
  },
  {
   "cell_type": "code",
   "execution_count": null,
   "metadata": {},
   "outputs": [],
   "source": [
    "fig, ax = plt.subplots(9,1,figsize=(15, 30))\n",
    "hep.cms.text(loc=0, ax=ax[0], text=\"ETL ETROC\", fontsize=25)\n",
    "for board in range(3):\n",
    "    for coeff in range(poly_order):\n",
    "        ax[board*3+coeff].errorbar(xcoeffs,Coefficients[f'{board+1}_0_{coeff}'],yerr=CoefficientsError[f'{board+1}_0_{coeff}'],fmt='bo')\n",
    "\n",
    "        ax[board*3+coeff].set_title(f\"{board_names[board]} coefficient {coeffnames[coeff]}\", loc=\"right\", size=20)\n",
    "        ax[board*3+coeff].set_xlabel('Time (hr)',fontsize='20')\n",
    "        ax[board*3+coeff].set_ylabel(f'Coeff {coeffnames[coeff]} Value',fontsize='20')\n",
    "        ax[board*3+coeff].grid()\n",
    "fig.tight_layout()\n",
    "plt.show()"
   ]
  },
  {
   "cell_type": "code",
   "execution_count": null,
   "metadata": {},
   "outputs": [],
   "source": [
    "fig, ax = plt.subplots(3,3,figsize=(30, 30))\n",
    "hep.cms.text(loc=0, ax=ax[0,0], text=\"ETL ETROC\", fontsize=25)\n",
    "for board in range(3):\n",
    "    for coeff in range(poly_order):\n",
    "        ax[board,coeff].set_title(f\"{board_names[board]} coefficient {coeffnames[coeff]}\", loc=\"right\", size=20)\n",
    "\n",
    "for board in range(3):\n",
    "    for coeff in range(poly_order):\n",
    "        ax[board,coeff].hist(Coefficients[f'{board+1}_0_{coeff}'])\n",
    "\n",
    "for board in range(3):\n",
    "    for coeff in range(poly_order):\n",
    "        ax[board,coeff].set_xlabel(f'Coeff {coeffnames[coeff]} Value         ',fontsize='20')\n",
    "        ax[board,coeff].set_ylabel('Counts',fontsize='20')\n",
    "        ax[board,coeff].grid()\n",
    "fig.tight_layout()\n",
    "plt.show()"
   ]
  },
  {
   "cell_type": "code",
   "execution_count": null,
   "metadata": {},
   "outputs": [],
   "source": [
    "fig, ax = plt.subplots(2,3,figsize=(30, 20))\n",
    "hep.cms.text(loc=0, ax=ax[0,0], text=\"ETL ETROC\", fontsize=25)\n",
    "for i in range(2):\n",
    "    for coeff in range(poly_order):\n",
    "        ax[i,coeff].set_title(f\"Itteration {i} coefficient {coeffnames[coeff]}\", loc=\"right\", size=20)\n",
    "\n",
    "for i in range(2):\n",
    "    for coeff in range(poly_order):\n",
    "        ax[i,coeff].hist(coeffs_df[f'46_1_{i}_{coeff}_0_0'])\n",
    "\n",
    "for i in range(2):\n",
    "    for coeff in range(poly_order):\n",
    "        ax[i,coeff].set_xlabel(f'Coeff {coeff} Value         ',fontsize='20')\n",
    "        ax[i,coeff].set_ylabel('Counts',fontsize='20')\n",
    "        ax[i,coeff].grid()\n",
    "fig.tight_layout()\n",
    "plt.show()"
   ]
  },
  {
   "cell_type": "code",
   "execution_count": null,
   "metadata": {},
   "outputs": [],
   "source": [
    "fig, ax = plt.subplots(2,2,figsize=(15, 15))\n",
    "hep.cms.text(loc=0, ax=ax[0,0], text=\"ETL ETROC\", fontsize=25)\n",
    "\n",
    "ax[0,0].set_title('Coeff a-b Correlation', loc=\"right\", size=20)\n",
    "ax[0,1].set_title('Coeff b-c Correlation', loc=\"right\", size=20)\n",
    "ax[1,0].set_title('Coeff a-c Correlation', loc=\"right\", size=20)\n",
    "\n",
    "ax[0,0].plot(coeffs_df['46_1_0_0_0_0'],coeffs_df['46_1_0_1_0_0'],'bo')\n",
    "ax[0,1].plot(coeffs_df['46_1_0_1_0_0'],coeffs_df['46_1_0_2_0_0'],'bo')\n",
    "ax[1,0].plot(coeffs_df['46_1_0_0_0_0'],coeffs_df['46_1_0_2_0_0'],'bo')\n",
    "\n",
    "ax[0,0].set_xlabel('Coeff a         ',fontsize='20')\n",
    "ax[0,0].set_ylabel('Coeff b',fontsize='20')\n",
    "\n",
    "ax[0,1].set_xlabel('Coeff b',fontsize='20')\n",
    "ax[0,1].set_ylabel('Coeff c',fontsize='20')\n",
    "\n",
    "ax[1,0].set_xlabel('Coeff a         ',fontsize='20')\n",
    "ax[1,0].set_ylabel('Coeff c',fontsize='20')\n",
    "\n",
    "polyparamAB = np.polyfit(coeffs_df['46_1_0_0_0_0'],coeffs_df['46_1_0_1_0_0'],1)\n",
    "polyfuncAB = np.poly1d(polyparamAB)\n",
    "ax[0,0].plot(np.linspace(0,1.5*10**(-5),10),polyfuncAB(np.linspace(0,1.5*10**(-5),10)),'r-')\n",
    "\n",
    "polyparamBC = np.polyfit(coeffs_df['46_1_0_1_0_0'],coeffs_df['46_1_0_2_0_0'],1)\n",
    "polyfuncBC = np.poly1d(polyparamBC)\n",
    "ax[0,1].plot(np.linspace(0.14,0.275,10),polyfuncBC(np.linspace(0.14,0.275,10)),'r-')\n",
    "\n",
    "for i in range(2):\n",
    "    for j in range(2):\n",
    "        ax[i,j].grid()\n",
    "fig.tight_layout()\n",
    "plt.show()"
   ]
  },
  {
   "cell_type": "markdown",
   "metadata": {},
   "source": [
    "look up goodness of fit to check how close functions are\n",
    "\n",
    "can see a unit charge distributed across each function (whole line = 1q), and calc the potential between the two charged lines"
   ]
  },
  {
   "cell_type": "code",
   "execution_count": null,
   "metadata": {},
   "outputs": [],
   "source": [
    "print(polyparamAB)\n",
    "print(polyparamBC)"
   ]
  },
  {
   "cell_type": "code",
   "execution_count": null,
   "metadata": {},
   "outputs": [],
   "source": [
    "x1 = .2\n",
    "y1 = polyfuncAB(x1)\n",
    "x2 = .25\n",
    "y2 = polyfuncAB(x2)\n",
    "\n",
    "dx = x2-x1\n",
    "dy = y1-y2\n",
    "val = dy/dx\n",
    "print(f'val {val}')\n",
    "\n",
    "xv = (val-y1)/x1\n",
    "print(f'xval: {xv}')\n",
    "\n",
    "x3 = .25*10**(-5)\n",
    "y3 = polyfuncBC(x1)\n",
    "x4 = 1*10**(-5)\n",
    "y4 = polyfuncBC(x2)\n",
    "\n",
    "dx2 = x4-x3\n",
    "dy2 = y3-y4\n",
    "val2 = dy2/dx2\n",
    "print(f'val2 {val2}')\n",
    "\n",
    "xv2 = (val2-y3)/x3\n",
    "print(f'xval2: {xv2}')"
   ]
  },
  {
   "cell_type": "code",
   "execution_count": null,
   "metadata": {},
   "outputs": [],
   "source": [
    "maxidxa = coeffs_df.index[coeffs_df['46_1_0_0_0_0']==coeffs_df['46_1_0_0_0_0'].max()]\n",
    "minidxa = coeffs_df.index[coeffs_df['46_1_0_0_0_0']==coeffs_df['46_1_0_0_0_0'].min()]\n",
    "print(f'max a: {maxidxa}, min a {minidxa}')\n",
    "\n",
    "maxidxb = coeffs_df.index[coeffs_df['46_1_0_1_0_0']==coeffs_df['46_1_0_1_0_0'].max()]\n",
    "minidxb = coeffs_df.index[coeffs_df['46_1_0_1_0_0']==coeffs_df['46_1_0_1_0_0'].min()]\n",
    "print(f'min b: {minidxb}, max b {maxidxb}')\n",
    "\n",
    "maxidxc = coeffs_df.index[coeffs_df['46_1_0_2_0_0']==coeffs_df['46_1_0_2_0_0'].max()]\n",
    "minidxc = coeffs_df.index[coeffs_df['46_1_0_2_0_0']==coeffs_df['46_1_0_2_0_0'].min()]\n",
    "print(f'max c: {maxidxc}, min c {minidxc}')"
   ]
  },
  {
   "cell_type": "code",
   "execution_count": null,
   "metadata": {},
   "outputs": [],
   "source": [
    "maxidx = coeffs_df.index[coeffs_df['46_1_0_1_0_0']==coeffs_df['46_1_0_1_0_0'].max()]\n",
    "minidx = coeffs_df.index[coeffs_df['46_1_0_1_0_0']==coeffs_df['46_1_0_1_0_0'].min()]\n",
    "\n",
    "amax = coeffs_df['46_1_0_0_0_0'][maxidx].item()\n",
    "bmax = coeffs_df['46_1_0_1_0_0'][maxidx].item()\n",
    "cmax = coeffs_df['46_1_0_2_0_0'][maxidx].item()\n",
    "maxparam = [amax,bmax,cmax]\n",
    "print(f'max params: {maxparam}')\n",
    "maxfunc = np.poly1d(maxparam)\n",
    "\n",
    "amin = coeffs_df['46_1_0_0_0_0'][minidx].item()\n",
    "bmin = coeffs_df['46_1_0_1_0_0'][minidx].item()\n",
    "cmin = coeffs_df['46_1_0_2_0_0'][minidx].item()\n",
    "minparam = [amin,bmin,cmin]\n",
    "print(f'min params: {minparam}')\n",
    "minfunc = np.poly1d(minparam)\n",
    "\n",
    "xrange = [2500,5500]\n",
    "\n",
    "diff = maxfunc-minfunc\n",
    "integral = np.polyint(diff)\n",
    "area = integral(xrange[1]) - integral(xrange[0])\n",
    "print(f'area: {abs(area)}')"
   ]
  },
  {
   "cell_type": "code",
   "execution_count": null,
   "metadata": {},
   "outputs": [],
   "source": [
    "diff2 = diff**2\n",
    "integral2 = np.polyint(diff2)\n",
    "error = np.sqrt(integral2(xrange[1]) - integral2(xrange[0]))\n",
    "print(error)\n",
    "\n",
    "integral3 = np.polyint(minfunc**2)\n",
    "og = np.sqrt(integral3(xrange[1]) - integral3(xrange[0]))\n",
    "\n",
    "perror = error/og\n",
    "print(perror)\n"
   ]
  },
  {
   "cell_type": "code",
   "execution_count": null,
   "metadata": {},
   "outputs": [],
   "source": [
    "# V = (1/4piE0)*int[{(dq1*dq2)/(y2-y1)}dx]\n",
    "# s = int{sqrt(1+(dy/dx)^2)dx}\n",
    "# dq = 1/s\n",
    "\n",
    "# V = sum(1->n){qi/|r-ri}\n",
    "\n",
    "# print(maxfunc)\n",
    "# print(minfunc)\n",
    "\n",
    "# dq1 = s1[xrange[0]]-s1[xrange[1]]\n",
    "# print(dq1)\n",
    "\n",
    "# print(np.sqrt((maxfunc(xrange[1])-maxfunc(xrange[0]))**2+(xrange[1]-xrange[0])**2))\n",
    "def arclength(x, y):\n",
    "    arc = 0\n",
    "    for i in range(1,len(x)):\n",
    "        arc += np.sqrt(1+((y[i]-y[i-1])/(x[i]-x[i-1]))**2)*(x[i]-x[i-1])\n",
    "    return arc\n",
    "x = np.linspace(xrange[0],xrange[1],1000)\n",
    "ymax = maxfunc(x)\n",
    "ymin = minfunc(x)\n",
    "smax = arclength(x,ymax)\n",
    "smin = arclength(x,ymin)\n",
    "dqmax = 1/smax\n",
    "dqmin = 1/smin\n",
    "\n",
    "\n",
    "\n",
    "\n",
    "# testfunc = (1+np.polyder(maxfunc)**2)**0.5\n",
    "# print(testfunc)\n",
    "# print((testfunc)**(1/2))\n",
    "\n",
    "fig, ax = plt.subplots(1,1,figsize=(6, 6))\n",
    "ax.plot(x,y)\n",
    "plt.show()\n"
   ]
  },
  {
   "cell_type": "markdown",
   "metadata": {},
   "source": [
    "Coefficients across a single board on a single run"
   ]
  },
  {
   "cell_type": "code",
   "execution_count": null,
   "metadata": {},
   "outputs": [],
   "source": [
    "cspace_df = pd.read_pickle('Resolution_Data/boardscan_coeffs.pkl')\n",
    "# display(cspace_df)\n",
    "\n",
    "Run = 46\n",
    "plotboard = 1\n",
    "poly_order = 3\n",
    "board_names = ['Bar 4','Bar 12','Bar 13']\n",
    "# board_names = ['Bar 12','Bar 13','BB 1-3']\n",
    "coeffnames = ['a','b','c']\n",
    "\n",
    "# with open('Resolution_Data/boardscan_coeffs_dict.pkl', 'rb') as f:\n",
    "#     cspace_df = pickle.load(f)"
   ]
  },
  {
   "cell_type": "code",
   "execution_count": null,
   "metadata": {},
   "outputs": [],
   "source": [
    "coeffscan = {}\n",
    "for board in range(1,4):\n",
    "    for i in range(2):\n",
    "        for coeff in range(poly_order):\n",
    "            coeffscan[f'{board}_{i}_{coeff}'] = []\n",
    "\n",
    "for board in range(1,4):\n",
    "    for i in range(2):\n",
    "        for coeff in range(poly_order):\n",
    "            for row in range(16):\n",
    "                coeffscan[f'{board}_{i}_{coeff}'].append([])\n",
    "                for column in range(16):\n",
    "                    try:\n",
    "                        coeffscan[f'{board}_{i}_{coeff}'][-1].append(cspace_df[f'{Run}_{board}_{i}_{coeff}_{row}_{column}'].mean().item())\n",
    "                    except:\n",
    "                        print(f'{Run}_{board}_{i}_{coeff}_{row}_{column}')\n",
    "                        coeffscan[f'{board}_{i}_{coeff}'][-1].append(-1000.0)"
   ]
  },
  {
   "cell_type": "code",
   "execution_count": null,
   "metadata": {},
   "outputs": [],
   "source": [
    "fig, ax = plt.subplots(2,3,dpi=100, figsize=(20, 12))\n",
    "hep.cms.text(loc=0, ax=ax[0,0], text=\"ETL ETROC\", fontsize=16)\n",
    "ticks = range(0, 16)\n",
    "\n",
    "vscan = [[-0.0001,0.0001],[-0.3,0.3],[-500,500]]\n",
    "\n",
    "for i in range(2):\n",
    "    for j in range(3):\n",
    "\n",
    "        im = ax[i,j].imshow(coeffscan[f'{plotboard}_{i}_{j}'], interpolation=\"nearest\", vmin=vscan[(3*i+j)%3][0], vmax=vscan[(3*i+j)%3][1])\n",
    "        plt.colorbar(im, ax=ax[i,j], fraction=0.046, pad=0.04, extend='both')\n",
    "\n",
    "        ax[i,j].set_xticks(ticks)\n",
    "        ax[i,j].set_yticks(ticks)\n",
    "        ax[i,j].tick_params(axis='x', which='both', length=5, labelsize=17)\n",
    "        ax[i,j].tick_params(axis='y', which='both', length=5, labelsize=17)\n",
    "        ax[i,j].invert_xaxis()\n",
    "        ax[i,j].invert_yaxis()\n",
    "        ax[i,j].set_xlabel('Column', fontsize=25)\n",
    "        ax[i,j].set_ylabel('Row', fontsize=25)\n",
    "        ax[i,j].minorticks_off()\n",
    "\n",
    "ax[0,0].set_title(f'{board_names[0]} a0 value', loc=\"right\", size=16)\n",
    "ax[0,1].set_title(f'{board_names[0]} b0 value', loc=\"right\", size=16)\n",
    "ax[0,2].set_title(f'{board_names[0]} c0 value', loc=\"right\", size=16)\n",
    "ax[1,0].set_title(f'{board_names[0]} a1 value', loc=\"right\", size=16)\n",
    "ax[1,1].set_title(f'{board_names[0]} b1 value', loc=\"right\", size=16)\n",
    "ax[1,2].set_title(f'{board_names[0]} c1 value', loc=\"right\", size=16)\n",
    "\n",
    "plt.tight_layout()"
   ]
  },
  {
   "cell_type": "markdown",
   "metadata": {},
   "source": [
    "Other Stuff"
   ]
  },
  {
   "cell_type": "code",
   "execution_count": null,
   "metadata": {},
   "outputs": [],
   "source": [
    "# from scipy.stats import gamma"
   ]
  },
  {
   "cell_type": "code",
   "execution_count": null,
   "metadata": {},
   "outputs": [],
   "source": [
    "# a = 4\n",
    "# xlin = np.linspace(0,10,100)\n",
    "\n",
    "# fig, ax = plt.subplots(figsize=(15, 10))\n",
    "# hep.cms.text(loc=0, ax=ax, text=\"ETL ETROC\", fontsize=25)\n",
    "# ax.set_title('Particle Detection Visualization', loc=\"right\", size=20)\n",
    "\n",
    "# ax.plot([0,10],[0.1,0.1],'k--',label='LGAD trigger threshold')\n",
    "# ax.plot(xlin,gamma.pdf(xlin,a),'b-')\n",
    "# ax.plot(xlin,gamma.pdf(xlin,a)*2,'r-')\n",
    "\n",
    "# ax.set_xlabel('Time')\n",
    "# ax.set_ylabel('Amplitude')\n",
    "# ax.set_xticks([])\n",
    "# ax.set_yticks([])\n",
    "# ax.legend()\n",
    "\n",
    "\n",
    "# plt.show()"
   ]
  },
  {
   "cell_type": "code",
   "execution_count": null,
   "metadata": {},
   "outputs": [],
   "source": [
    "# baseline = []\n",
    "# baseline2 = []\n",
    "# xlin2 = np.linspace(0,10,1000)\n",
    "# for i in range(len(xlin2)):\n",
    "#     noise = np.random.rand()*2\n",
    "#     noise2 = np.random.rand()*2\n",
    "#     baseline.append(noise+40)\n",
    "#     baseline2.append(noise2+40+(i/len(xlin2))*2)\n",
    "    \n",
    "\n",
    "# fig, ax = plt.subplots(figsize=(15, 10))\n",
    "# ax.plot(xlin2,baseline,'b-')\n",
    "# ax.plot(xlin2,baseline2,'r-')\n",
    "# ax.set_ylim(0,50)\n",
    "# plt.show()\n"
   ]
  },
  {
   "cell_type": "code",
   "execution_count": null,
   "metadata": {},
   "outputs": [],
   "source": []
  }
 ],
 "metadata": {
  "kernelspec": {
   "display_name": "venv",
   "language": "python",
   "name": "python3"
  },
  "language_info": {
   "codemirror_mode": {
    "name": "ipython",
    "version": 3
   },
   "file_extension": ".py",
   "mimetype": "text/x-python",
   "name": "python",
   "nbconvert_exporter": "python",
   "pygments_lexer": "ipython3",
   "version": "3.10.12"
  }
 },
 "nbformat": 4,
 "nbformat_minor": 2
}
