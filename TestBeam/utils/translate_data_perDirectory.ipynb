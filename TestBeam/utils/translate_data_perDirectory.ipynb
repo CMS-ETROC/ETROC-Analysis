{
 "cells": [
  {
   "cell_type": "code",
   "execution_count": null,
   "metadata": {},
   "outputs": [],
   "source": [
    "from beamtest_analysis_helper import DecodeBinary\n",
    "from pathlib import Path\n",
    "from natsort import natsorted\n",
    "from tqdm.notebook import tqdm"
   ]
  },
  {
   "cell_type": "code",
   "execution_count": null,
   "metadata": {},
   "outputs": [],
   "source": [
    "path = Path('test/files')\n",
    "outdir = Path('test/feathers')\n",
    "\n",
    "if not outdir.exists():\n",
    "    outdir.mkdir(exist_ok=True)\n",
    "\n",
    "files = natsorted(list(path.glob('TDC*.bin')))\n",
    "decoder = DecodeBinary(\n",
    "    firmware_key=0b0001,\n",
    "    board_id=[0x17f0f, 0x17f0f, 0x17f0f, 0x17f0f],\n",
    "    file_list=files[:1],\n",
    "    save_nem = None,\n",
    "    skip_filler = True,\n",
    ")\n",
    "df, _ = decoder.decode_files()\n",
    "df.to_feather(outdir / f'test.feather')\n",
    "del df"
   ]
  },
  {
   "cell_type": "code",
   "execution_count": null,
   "metadata": {},
   "outputs": [],
   "source": [
    "import pandas as pd"
   ]
  },
  {
   "cell_type": "code",
   "execution_count": null,
   "metadata": {},
   "outputs": [],
   "source": [
    "df = pd.read_feather('test/feathers/test.feather')"
   ]
  },
  {
   "cell_type": "code",
   "execution_count": null,
   "metadata": {},
   "outputs": [],
   "source": [
    "test_df = df.loc[df['evt'] == 0]"
   ]
  },
  {
   "cell_type": "code",
   "execution_count": null,
   "metadata": {},
   "outputs": [],
   "source": [
    "test_df"
   ]
  },
  {
   "cell_type": "code",
   "execution_count": null,
   "metadata": {},
   "outputs": [],
   "source": [
    "# Group the DataFrame by 'col,' 'row,' and 'board,' and count the number of hits in each group\n",
    "hits_count_by_col_row_board = test_df.groupby(['col', 'row', 'board'])['evt'].count().reset_index()\n",
    "\n",
    "# Rename the 'evt' column to 'hits'\n",
    "hits_count_by_col_row_board = hits_count_by_col_row_board.rename(columns={'evt': 'hits'})\n",
    "\n",
    "pivot_table = hits_count_by_col_row_board[hits_count_by_col_row_board['board'] == 0].pivot_table(\n",
    "            index='row',\n",
    "            columns='col',\n",
    "            values='hits',\n",
    "            fill_value=0  # Fill missing values with 0 (if any)\n",
    ")"
   ]
  },
  {
   "cell_type": "code",
   "execution_count": null,
   "metadata": {},
   "outputs": [],
   "source": [
    "pivot_table"
   ]
  },
  {
   "cell_type": "code",
   "execution_count": null,
   "metadata": {},
   "outputs": [],
   "source": []
  }
 ],
 "metadata": {
  "kernelspec": {
   "display_name": "packages",
   "language": "python",
   "name": "python3"
  },
  "language_info": {
   "codemirror_mode": {
    "name": "ipython",
    "version": 3
   },
   "file_extension": ".py",
   "mimetype": "text/x-python",
   "name": "python",
   "nbconvert_exporter": "python",
   "pygments_lexer": "ipython3",
   "version": "3.10.12"
  }
 },
 "nbformat": 4,
 "nbformat_minor": 2
}
