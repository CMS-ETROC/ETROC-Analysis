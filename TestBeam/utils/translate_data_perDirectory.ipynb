{
 "cells": [
  {
   "cell_type": "code",
   "execution_count": null,
   "metadata": {},
   "outputs": [],
   "source": [
    "from beamtest_analysis_helper import DecodeBinary\n",
    "from pathlib import Path\n",
    "from natsort import natsorted\n",
    "from tqdm.notebook import tqdm"
   ]
  },
  {
   "cell_type": "code",
   "execution_count": null,
   "metadata": {},
   "outputs": [],
   "source": [
    "path = Path('DESYFeb2024_Run_21')\n",
    "outdir = Path('DESYFeb2024_Run_21_feather')\n",
    "\n",
    "if not outdir.exists():\n",
    "    outdir.mkdir(exist_ok=True)\n",
    "\n",
    "dirs = natsorted(list(path.glob('loop*')))\n",
    "\n",
    "for idir in dirs:\n",
    "    files = natsorted(list(idir.glob('TDC*.bin')))\n",
    "    decoder = DecodeBinary(\n",
    "        firmware_key=0b0001,\n",
    "        board_id=[0x17f0f, 0x17f0f, 0x17f0f, 0x17f0f],\n",
    "        file_list=files,\n",
    "        save_nem = None,\n",
    "        skip_filler = True,\n",
    "    )\n",
    "    df, _ = decoder.decode_files()\n",
    "    df.to_feather(outdir / f'{idir.name}.feather')\n",
    "    del df"
   ]
  }
 ],
 "metadata": {
  "kernelspec": {
   "display_name": "packages",
   "language": "python",
   "name": "python3"
  },
  "language_info": {
   "codemirror_mode": {
    "name": "ipython",
    "version": 3
   },
   "file_extension": ".py",
   "mimetype": "text/x-python",
   "name": "python",
   "nbconvert_exporter": "python",
   "pygments_lexer": "ipython3",
   "version": "3.10.12"
  }
 },
 "nbformat": 4,
 "nbformat_minor": 2
}
