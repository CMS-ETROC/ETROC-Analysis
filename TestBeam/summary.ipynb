{
 "cells": [
  {
   "cell_type": "code",
   "execution_count": null,
   "metadata": {},
   "outputs": [],
   "source": [
    "from beamtest_analysis_helper import plot_resolution_table, plot_resolution_with_pulls, return_board_resolution\n",
    "import pandas as pd\n",
    "from collections import defaultdict\n",
    "import matplotlib.pyplot as plt\n",
    "import mplhep as hep\n",
    "import numpy as np\n",
    "import matplotlib as mpl"
   ]
  },
  {
   "cell_type": "code",
   "execution_count": null,
   "metadata": {},
   "outputs": [],
   "source": [
    "chip_labels = [0, 1, 2, 3]\n",
    "chip_names = [\"ET2_EPIR_Pair1\", \"ET2_BAR_4\", \"ET2_BAR_5\", \"ET2_EPIR_Pair4\"]\n",
    "\n",
    "high_voltages = [250, 260, 210, 260]\n",
    "\n",
    "# offsets = [15, 10, 10, 15]\n",
    "# offsets = [15, 15, 15, 15]\n",
    "offsets = [15, 20, 20, 15]\n",
    "# offsets = [15, 25, 25, 15]\n",
    "\n",
    "chip_fignames = chip_names\n",
    "chip_figtitles = [\n",
    "    f\"(Trigger) EPIR Pair1 HV{high_voltages[0]}V OS:{offsets[0]}\",\n",
    "    f\"(DUT1) Barcelona 4 HV{high_voltages[1]}V OS:{offsets[1]}\",\n",
    "    f\"(DUT2) Barcelona 5 HV{high_voltages[2]}V OS:{offsets[2]}\",\n",
    "    f\"(Reference) EPIR Pair4 HV{high_voltages[3]}V OS:{offsets[3]}\"\n",
    "]\n",
    "fig_tag=\"| Trigger TOA 100-500\""
   ]
  },
  {
   "cell_type": "code",
   "execution_count": null,
   "metadata": {},
   "outputs": [],
   "source": [
    "toa_range = \"TOA500to700\""
   ]
  },
  {
   "cell_type": "code",
   "execution_count": null,
   "metadata": {},
   "outputs": [],
   "source": [
    "board_to_analyze = [0,1,2]\n",
    "\n",
    "results_3boards = defaultdict(list)\n",
    "\n",
    "for ioffset in [10, 15, 20, 25]:\n",
    "    final_df = pd.read_csv(f'./desy_Feb2024_results/TOTcuts_98percent_3boards/resolution_DESYFeb2024_TrigRefOffset15_DUTOffset{ioffset}_{toa_range}.csv')\n",
    "    selected_data = final_df[(final_df[f'row{board_to_analyze[0]}'] == final_df[f'row{board_to_analyze[1]}']) &\n",
    "                            (final_df[f'row{board_to_analyze[1]}'] == final_df[f'row{board_to_analyze[2]}']) &\n",
    "                            (final_df[f'col{board_to_analyze[0]}'] == final_df[f'col{board_to_analyze[1]}']) &\n",
    "                            (final_df[f'col{board_to_analyze[1]}'] == final_df[f'col{board_to_analyze[2]}'])]\n",
    "    result = return_board_resolution(input_df=selected_data, board_ids=board_to_analyze, key_names=['trig', 'dut1', 'dut2'], hist_bins=25)\n",
    "\n",
    "    for key, value in result.items():\n",
    "        results_3boards[key].append(value)"
   ]
  },
  {
   "cell_type": "code",
   "execution_count": null,
   "metadata": {},
   "outputs": [],
   "source": [
    "board_to_analyze = [1,2,3]\n",
    "\n",
    "results_4boards = defaultdict(list)\n",
    "\n",
    "for ioffset in [10, 15, 20, 25]:\n",
    "    final_df = pd.read_csv(f'./desy_Feb2024_results/TOTcuts_98percent_4boards/resolution_DESYFeb2024_TrigRefOffset15_DUTOffset{ioffset}_{toa_range}.csv')\n",
    "    selected_data = final_df[(final_df[f'row{board_to_analyze[0]}'] == final_df[f'row{board_to_analyze[1]}']) &\n",
    "                            (final_df[f'row{board_to_analyze[1]}'] == final_df[f'row{board_to_analyze[2]}']) &\n",
    "                            (final_df[f'col{board_to_analyze[0]}'] == final_df[f'col{board_to_analyze[1]}']) &\n",
    "                            (final_df[f'col{board_to_analyze[1]}'] == final_df[f'col{board_to_analyze[2]}'])]\n",
    "    result = return_board_resolution(input_df=selected_data, board_ids=board_to_analyze, key_names=['dut1', 'dut2', 'ref'], hist_bins=25)\n",
    "\n",
    "    for key, value in result.items():\n",
    "        results_4boards[key].append(value)"
   ]
  },
  {
   "cell_type": "code",
   "execution_count": null,
   "metadata": {},
   "outputs": [],
   "source": [
    "x_offsets = [10, 15, 20, 25]\n",
    "\n",
    "fig = plt.figure(figsize=(25, 10))\n",
    "gs  = fig.add_gridspec(1, 2)\n",
    "\n",
    "\n",
    "mpl.rcParams['lines.linewidth'] = 0.5\n",
    "mpl.rcParams['errorbar.capsize'] = 10\n",
    "\n",
    "ax0 = fig.add_subplot(gs[0,0])\n",
    "hep.cms.text(loc=0, ax=ax0, text=\"Phase-2 Preliminary\", fontsize=20)\n",
    "ax0.set_title(f'Board Resolutions (TOA 500-700)', loc=\"right\", size=20)\n",
    "\n",
    "ax0.errorbar(x_offsets, results_3boards['dut1_res'], results_3boards['dut1_err'], marker='o', color=\"blue\", label=fr\"DUT1 (Typ Chip FBK Bar4 @ 260V) - 3boards\")\n",
    "ax0.errorbar(x_offsets, results_4boards['dut1_res'], results_4boards['dut1_err'], marker='o', color=\"slateblue\", mfc='w', label=fr\"DUT1 (Typ Chip FBK Bar4 @ 260V) - 4boards\")\n",
    "\n",
    "ax0.errorbar(x_offsets, results_3boards['dut2_res'], results_3boards['dut2_err'], marker='^', color=\"red\", label=fr\"DUT2 (Typ Chip FBK Bar5 @ 210V) - 3boards\")\n",
    "ax0.errorbar(x_offsets, results_4boards['dut2_res'], results_4boards['dut2_err'], marker='^', color=\"firebrick\", mfc='w', label=fr\"DUT2 (Typ Chip FBK Bar5 @ 210V) - 4boards\")\n",
    "\n",
    "ax0.errorbar(x_offsets, results_3boards['trig_res'], results_3boards['trig_err'], marker='s', color=\"limegreen\", mfc='w', label=fr\"Trig (FFF Chip FBK Pair1 @ 250V/Off=15) - 3boards\")\n",
    "\n",
    "ax0.errorbar(x_offsets, results_4boards['ref_res'], results_4boards['ref_err'], marker='D', color=\"orchid\", label=fr\"Refe (Typ Chip FBK Pair4 @ 260V/Off=15) - 4boards\")\n",
    "\n",
    "\n",
    "ax0.set_ylim(35, 75)\n",
    "ax0.set_xticks([10, 15, 20, 25])\n",
    "ax0.set_ylabel('Resolution [ps]', fontsize=20)\n",
    "ax0.set_xlabel('DUT Offset (Threshold above Noise Baseline) [DAC units]', fontsize=20)\n",
    "ax0.tick_params(axis='both', labelsize=20)\n",
    "ax0.legend(fontsize=17, loc='upper right')\n",
    "ax0.grid()\n"
   ]
  },
  {
   "cell_type": "code",
   "execution_count": null,
   "metadata": {},
   "outputs": [],
   "source": [
    "\n",
    "\n",
    "# x_offsets = [10, 15, 20, 25]\n",
    "\n",
    "# fig = plt.figure(figsize=(25, 10))\n",
    "# gs  = fig.add_gridspec(1, 2)\n",
    "\n",
    "# ax0 = fig.add_subplot(gs[0,0])\n",
    "# hep.cms.text(loc=0, ax=ax0, text=\"Phase-2 Preliminary\", fontsize=20)\n",
    "# ax0.set_title(f'Board Resolutions', loc=\"right\", size=20)\n",
    "\n",
    "# # ax0.plot(x_offsets, dut1_results['dut1_res'], color=\"b\", ls=\"-\", marker='o', lw=2, alpha=0.8, label=fr\"Trig (FFF Chip FBK Pair1 @ 250V/Off=15)\")\n",
    "# ax0.plot(x_offsets, dut1_results['dut1_res'], color=\"b\", ls=\"-\", marker='o', lw=2, alpha=0.8, label=fr\"DUT1 (Typ Chip FBK Bar4 @ 260V)\")\n",
    "# # ax0.plot(x_offsets, dut1_results['dut2_res'],  color=\"g\", ls=\"-\", marker='^', lw=2, alpha=0.8, label=fr\"Refe (Typ Chip FBK Pair4 @ 260V/Off=15)\")\n",
    "# ax0.plot(x_offsets, dut1_results['dut2_res'],  color=\"g\", ls=\"-\", marker='^', lw=2, alpha=0.8, label=fr\"DUT2 (Typ Chip FBK Bar5 @ 210V)\")\n",
    "# ax0.plot(x_offsets, dut1_results['ref_res'],  color=\"r\", ls=\"-\", marker='^', lw=2, alpha=0.8, label=fr\"Refe (Typ Chip FBK Pair4 @ 260V/Off=15)\")\n",
    "\n",
    "\n",
    "# ax0.fill_between(\n",
    "#     x_offsets,\n",
    "#     np.array(dut1_results['dut1_res']) - np.array(dut1_results['dut1_err']),\n",
    "#     np.array(dut1_results['dut1_res']) + np.array(dut1_results['dut1_err']),\n",
    "#     color=\"b\",\n",
    "#     alpha=0.1,\n",
    "# )\n",
    "# ax0.fill_between(\n",
    "#     x_offsets,\n",
    "#     np.array(dut1_results['dut2_res']) - np.array(dut1_results['dut2_err']),\n",
    "#     np.array(dut1_results['dut2_res']) + np.array(dut1_results['dut2_err']),\n",
    "#     color=\"g\",\n",
    "#     alpha=0.1,\n",
    "#     hatch='//',\n",
    "# )\n",
    "# ax0.fill_between(\n",
    "#     x_offsets,\n",
    "#     np.array(dut1_results['ref_res']) - np.array(dut1_results['ref_err']),\n",
    "#     np.array(dut1_results['ref_res']) + np.array(dut1_results['ref_err']),\n",
    "#     color=\"r\",\n",
    "#     alpha=0.1,\n",
    "#     hatch='//',\n",
    "# )\n",
    "\n",
    "# ax0.set_ylabel('Resolution [ps]', fontsize=20)\n",
    "# ax0.set_xlabel('DUT Offset (Threshold above Noise Baseline) [DAC units]', fontsize=20)\n",
    "# ax0.set_ylim(35, 75)\n",
    "# ax0.set_xticks([10, 15, 20, 25])\n",
    "# ax0.tick_params(axis='x', labelsize=20)\n",
    "# ax0.tick_params(axis='y', labelsize=20)\n",
    "# ax0.legend(fontsize=17, loc='upper right')\n",
    "# ax0.grid()"
   ]
  },
  {
   "cell_type": "markdown",
   "metadata": {},
   "source": [
    "## Single plots"
   ]
  },
  {
   "cell_type": "code",
   "execution_count": null,
   "metadata": {},
   "outputs": [],
   "source": [
    "# dut = 'dut1'\n",
    "# board_to_analyze = [0,1,2]\n",
    "board_to_analyze = [1,2,3]\n",
    "\n",
    "# offsets = [15, 10, 10, 15]\n",
    "# offsets = [15, 15, 15, 15]\n",
    "# offsets = [15, 20, 20, 15]\n",
    "# offsets = [15, 25, 25, 15]\n",
    "# chip_figtitles = [\n",
    "#     f\"(Trigger) EPIR Pair1 HV{high_voltages[0]}V OS:{offsets[0]}\",\n",
    "#     f\"(DUT1) Barcelona 4 HV{high_voltages[1]}V OS:{offsets[1]}\",\n",
    "#     f\"(DUT2) Barcelona 5 HV{high_voltages[2]}V OS:{offsets[2]}\",\n",
    "#     f\"(Reference) EPIR Pair4 HV{high_voltages[3]}V OS:{offsets[3]}\"\n",
    "# ]\n",
    "\n",
    "offsets = [20, 20, 20, 20]\n",
    "high_voltages = [260, 120, 120, 180]\n",
    "# chip_figtitles = [\n",
    "#     f\"(Trigger) Barcelona 4 HV{high_voltages[0]}V OS:{offsets[0]}\",\n",
    "#     f\"(DUT1) Barcelona 12 HV{high_voltages[1]}V OS:{offsets[1]}\",\n",
    "#     f\"(Reference) Barcelona 13 HV{high_voltages[2]}V OS:{offsets[2]}\"\n",
    "# ]\n",
    "\n",
    "chip_figtitles = [\n",
    "    f\"(Trig) Barcelona 4 HV{high_voltages[0]}V OS:{offsets[0]}\",\n",
    "    f\"(DUT1) Barcelona 12 HV{high_voltages[1]}V OS:{offsets[1]}\",\n",
    "    f\"(DUT2) Barcelona 13 HV{high_voltages[2]}V OS:{offsets[2]}\",\n",
    "    f\"(Ref)  CNM_HPK 1-3 HV{high_voltages[3]}V OS:{offsets[3]}\"\n",
    "]\n",
    "\n",
    "fig_tag=\"| Trigger TOA 000-200\"\n",
    "# fig_tag=\"| Trigger TOA 300-500\"\n",
    "# fig_tag=\"| Trigger TOA 100-300\"\n",
    "# final_df = pd.read_csv(f'./desy_Feb2024_results/TOTcuts_98percent_3boards/resolution_DESYFeb2024_TrigRefOffset15_DUTOffset{offsets[1]}_TOA500to700.csv')\n",
    "final_df = pd.read_csv(f'./desy_Apr2024_results/resolution_DESYApr2024_offset20_4boards_tracks_TOA000to200.csv')"
   ]
  },
  {
   "cell_type": "code",
   "execution_count": null,
   "metadata": {},
   "outputs": [],
   "source": [
    "final_df"
   ]
  },
  {
   "cell_type": "code",
   "execution_count": null,
   "metadata": {},
   "outputs": [],
   "source": [
    "selected_data = final_df[(final_df[f'row{board_to_analyze[0]}'] == final_df[f'row{board_to_analyze[1]}']) &\n",
    "                         (final_df[f'row{board_to_analyze[1]}'] == final_df[f'row{board_to_analyze[2]}']) &\n",
    "                         (final_df[f'col{board_to_analyze[0]}'] == final_df[f'col{board_to_analyze[1]}']) &\n",
    "                         (final_df[f'col{board_to_analyze[1]}'] == final_df[f'col{board_to_analyze[2]}'])]\n",
    "selected_data"
   ]
  },
  {
   "cell_type": "code",
   "execution_count": null,
   "metadata": {},
   "outputs": [],
   "source": [
    "plot_resolution_table(input_df=selected_data, chipLabels=board_to_analyze, fig_title=chip_figtitles,\n",
    "                             fig_tag=fig_tag, slides_friendly = False, show_number=True)"
   ]
  },
  {
   "cell_type": "code",
   "execution_count": null,
   "metadata": {},
   "outputs": [],
   "source": [
    "plot_resolution_with_pulls(input_df=selected_data, board_ids=board_to_analyze, fig_title=chip_figtitles,\n",
    "                           fig_tag=fig_tag, hist_bins=25)"
   ]
  },
  {
   "cell_type": "markdown",
   "metadata": {},
   "source": [
    "## Matching with number of events"
   ]
  },
  {
   "cell_type": "code",
   "execution_count": null,
   "metadata": {},
   "outputs": [],
   "source": [
    "board_to_analyze = [1,2,3]\n",
    "offsets = [20, 20, 20, 20]\n",
    "high_voltages = [260, 120, 120, 200]\n",
    "\n",
    "\n",
    "chip_figtitles = [\n",
    "    f\"(Trig) Barcelona 4 HV{high_voltages[0]}V OS:{offsets[0]}\",\n",
    "    f\"(DUT1) Barcelona 12 HV{high_voltages[1]}V OS:{offsets[1]}\",\n",
    "    f\"(DUT2) Barcelona 13 HV{high_voltages[2]}V OS:{offsets[2]}\",\n",
    "    f\"(Ref)  CNM_HPK 1-3 HV{high_voltages[3]}V OS:{offsets[3]}\"\n",
    "]\n",
    "\n",
    "fig_tag=\"| Trigger TOA 000-200\"\n",
    "# final_df = pd.read_csv(f'./desy_Apr2024_results/resolution_DESYApr2024_offset20_4boards_tracks_TOA000to200.csv')\n",
    "final_df = pd.read_csv(f'./desy_Apr2024_results/resolution_DESYApr2024_offset20_4boards_tracks_200V_TOA000to200.csv')"
   ]
  },
  {
   "cell_type": "code",
   "execution_count": null,
   "metadata": {},
   "outputs": [],
   "source": [
    "# nevt_track_df = pd.read_csv('./desy_Apr2024_results/DESYApr2024_offset20_4boards_tracks_nevt_per_track.csv')\n",
    "nevt_track_df = pd.read_csv('./desy_Apr2024_results/DESYApr2024_offset20_4boards_tracks_200V_nevt_per_track.csv')"
   ]
  },
  {
   "cell_type": "code",
   "execution_count": null,
   "metadata": {},
   "outputs": [],
   "source": [
    "merged_df = pd.merge(final_df, nevt_track_df, on=['row0', 'col0', 'row1', 'col1', 'row2', 'col2', 'row3', 'col3'])"
   ]
  },
  {
   "cell_type": "code",
   "execution_count": null,
   "metadata": {},
   "outputs": [],
   "source": [
    "merged_df.sort_values(by=['nevt'], ascending=False).reset_index(drop=True)"
   ]
  },
  {
   "cell_type": "code",
   "execution_count": null,
   "metadata": {},
   "outputs": [],
   "source": [
    "condition = (merged_df['row0'] == merged_df['row1']+1) & (merged_df['col2'] == merged_df['col1']-1)"
   ]
  },
  {
   "cell_type": "code",
   "execution_count": null,
   "metadata": {},
   "outputs": [],
   "source": [
    "col_list, row_list = np.meshgrid(np.arange(16),np.arange(16))\n",
    "scan_list = list(zip(row_list.flatten(),col_list.flatten()))"
   ]
  },
  {
   "cell_type": "code",
   "execution_count": null,
   "metadata": {},
   "outputs": [],
   "source": [
    "satisfy_df = merged_df[condition].sort_values(by=['nevt'], ascending=False).reset_index(drop=True)\n",
    "non_satisfy_df = merged_df[~condition].sort_values(by=['nevt'], ascending=False).reset_index(drop=True)"
   ]
  },
  {
   "cell_type": "code",
   "execution_count": null,
   "metadata": {},
   "outputs": [],
   "source": [
    "# Define a function to check if tuple exists as a row\n",
    "def is_tuple_in_df(t, df):\n",
    "    return any(row.tolist() == list(t) for _, row in df.iterrows())"
   ]
  },
  {
   "cell_type": "code",
   "execution_count": null,
   "metadata": {},
   "outputs": [],
   "source": [
    "# Filter elements not present\n",
    "missing_pixels_board1 = [item for item in scan_list if not is_tuple_in_df(item, satisfy_df[['row1', 'col1']])]\n",
    "missing_pixels_board2 = [item for item in scan_list if not is_tuple_in_df(item, satisfy_df[['row2', 'col2']])]\n",
    "missing_pixels_board3 = [item for item in scan_list if not is_tuple_in_df(item, satisfy_df[['row3', 'col3']])]"
   ]
  },
  {
   "cell_type": "code",
   "execution_count": null,
   "metadata": {},
   "outputs": [],
   "source": [
    "missing_pix_dict = {\n",
    "    1: defaultdict(list),\n",
    "    2: defaultdict(list),\n",
    "    3: defaultdict(list),\n",
    "}"
   ]
  },
  {
   "cell_type": "code",
   "execution_count": null,
   "metadata": {},
   "outputs": [],
   "source": [
    "for board_num, missing_pixels in enumerate([missing_pixels_board1, missing_pixels_board2, missing_pixels_board3], start=1):\n",
    "    for missing_pixel in missing_pixels:\n",
    "        board_key = f'board{board_num}'\n",
    "        row_key = f'row{board_num}'\n",
    "        col_key = f'col{board_num}'\n",
    "        res_key = f'res{board_num}'\n",
    "        err_key = f'err{board_num}'\n",
    "\n",
    "        tmp_df = non_satisfy_df.loc[(non_satisfy_df[row_key] == missing_pixel[0]) & (non_satisfy_df[col_key] == missing_pixel[1])]\n",
    "        if not tmp_df.empty:\n",
    "            missing_pix_dict[board_num]['row'].append(tmp_df.iloc[0][row_key])\n",
    "            missing_pix_dict[board_num]['col'].append(tmp_df.iloc[0][col_key])\n",
    "            missing_pix_dict[board_num]['res'].append(tmp_df.iloc[0][res_key])\n",
    "            missing_pix_dict[board_num]['err'].append(tmp_df.iloc[0][err_key])"
   ]
  },
  {
   "cell_type": "code",
   "execution_count": null,
   "metadata": {},
   "outputs": [],
   "source": [
    "selected_data = merged_df[condition]\n",
    "selected_data = selected_data.drop(columns=['row0', 'col0', 'nevt'])\n",
    "selected_data"
   ]
  },
  {
   "cell_type": "code",
   "execution_count": null,
   "metadata": {},
   "outputs": [],
   "source": [
    "plot_resolution_table(input_df=selected_data, chipLabels=board_to_analyze, fig_title=chip_figtitles, missing_pixel_info=missing_pix_dict,\n",
    "                             fig_tag=fig_tag, slides_friendly = False, show_number=True)"
   ]
  },
  {
   "cell_type": "code",
   "execution_count": null,
   "metadata": {},
   "outputs": [],
   "source": [
    "# plot_resolution_table(input_df=selected_data, chipLabels=board_to_analyze, fig_title=chip_figtitles,\n",
    "#                              fig_tag=fig_tag, slides_friendly = False, show_number=True)"
   ]
  },
  {
   "cell_type": "code",
   "execution_count": null,
   "metadata": {},
   "outputs": [],
   "source": [
    "plot_resolution_with_pulls(input_df=selected_data, board_ids=board_to_analyze, fig_title=chip_figtitles,\n",
    "                           fig_tag=fig_tag, hist_bins=25)"
   ]
  },
  {
   "cell_type": "code",
   "execution_count": null,
   "metadata": {},
   "outputs": [],
   "source": []
  }
 ],
 "metadata": {
  "kernelspec": {
   "display_name": "packages",
   "language": "python",
   "name": "python3"
  },
  "language_info": {
   "codemirror_mode": {
    "name": "ipython",
    "version": 3
   },
   "file_extension": ".py",
   "mimetype": "text/x-python",
   "name": "python",
   "nbconvert_exporter": "python",
   "pygments_lexer": "ipython3",
   "version": "3.10.12"
  }
 },
 "nbformat": 4,
 "nbformat_minor": 2
}
