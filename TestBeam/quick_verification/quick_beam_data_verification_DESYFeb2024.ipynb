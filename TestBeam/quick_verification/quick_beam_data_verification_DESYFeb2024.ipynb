{
 "cells": [
  {
   "cell_type": "code",
   "execution_count": null,
   "metadata": {},
   "outputs": [],
   "source": [
    "import beamtest_analysis_helper as helper\n",
    "from natsort import natsorted\n",
    "from pathlib import Path\n",
    "from glob import glob\n",
    "import hist\n",
    "import pandas as pd\n",
    "def return_hist_new(\n",
    "        input_df: pd.DataFrame,\n",
    "        chipNames: list[str],\n",
    "        chipLabels: list[int],\n",
    "        hist_bins: list = [50, 64, 64]\n",
    "):\n",
    "    h = {chipNames[board_idx]: hist.Hist(hist.axis.Regular(hist_bins[0], 100, 240, name=\"CAL\", label=\"CAL [LSB]\"),\n",
    "                hist.axis.Regular(hist_bins[1], 0, 512,  name=\"TOT\", label=\"TOT [LSB]\"),\n",
    "                hist.axis.Regular(hist_bins[2], 0, 1024, name=\"TOA\", label=\"TOA [LSB]\"),\n",
    "        )\n",
    "    for board_idx in range(len(chipLabels))}\n",
    "\n",
    "    for board_idx in range(len(chipLabels)):\n",
    "        tmp_df = input_df.loc[input_df['board'] == chipLabels[board_idx]]\n",
    "        h[chipNames[board_idx]].fill(tmp_df['cal'].values, tmp_df['tot'].values, tmp_df['toa'].values)\n",
    "\n",
    "    return h"
   ]
  },
  {
   "cell_type": "code",
   "execution_count": null,
   "metadata": {},
   "outputs": [],
   "source": [
    "# files = glob('/media/daq/X9/Run_nominal_alignment_12/loop_[0-2]/*nem')\n",
    "# #files = natsorted(files)\n",
    "# #files = files[30:90]\n",
    "# for file in files: print(file)\n",
    "# df = helper.toSingleDataFrame_newEventModel(files=files)"
   ]
  },
  {
   "cell_type": "code",
   "execution_count": null,
   "metadata": {},
   "outputs": [],
   "source": [
    "files = natsorted(list(Path('/media/daq/X9/Run_DESYFeb2024_Run_48/').glob('loop_0/*.bin')))\n",
    "# files += natsorted(list(Path('/media/daq/X9/Run_DESYFeb2024_Run_20/').glob('loop_1[0-9]/*.bin')))\n",
    "for file in files: print(file)\n",
    "decode = helper.DecodeBinary(firmware_key=0b0001, board_id=[0x17f0f, 0x17f0f, 0x17f0f, 0x17f0f], file_list=files)\n",
    "df = decode.decode_files()[0]\n",
    "df.info()"
   ]
  },
  {
   "cell_type": "code",
   "execution_count": null,
   "metadata": {},
   "outputs": [],
   "source": [
    "chip_labels = [0, 1, 2, 3]\n",
    "chip_names = [\"ET2_EPIR_Pair1\", \"ET2p01_BAR_4\", \"ET2p01_BAR_5\", \"ET2_EPIR_Pair4\"]\n",
    "# chip_labels = [0, 1, 2]\n",
    "# chip_names = [\"ET2_EPIR_Pair1\", \"ET2p01_BAR_4\", \"ET2_EPIR_Pair4\"]\n",
    "# offsets = [20, 20, 20, 20]\n",
    "offset = 20\n",
    "offsets = [offset for chiplabel in chip_labels]\n",
    "high_voltages = [250, 260, 210, 260]\n",
    "# high_voltages = [250, 250, 250]\n",
    "\n",
    "fig_path = './'\n",
    "\n",
    "chip_fignames = chip_names\n",
    "chip_figtitles = [\n",
    "    f\"(Trigger) Pair1 HV{high_voltages[0]}V OS:{offsets[0]}\",\n",
    "    f\"Bar4 HV{high_voltages[1]}V OS:{offsets[1]}\",\n",
    "    f\"Bar5 HV{high_voltages[2]}V OS:{offsets[2]}\",\n",
    "    f\"Pair4 HV{high_voltages[3]}V OS:{offsets[3]}\"]\n",
    "# chip_figtitles = [\n",
    "#     f\"(Trigger) Pair1 HV{high_voltages[0]}V OS:{offsets[0]}\",\n",
    "#     f\"Bar4 HV{high_voltages[1]}V OS:{offsets[1]}\",\n",
    "#     f\"Pair4 HV{high_voltages[2]}V OS:{offsets[2]}\"]"
   ]
  },
  {
   "cell_type": "code",
   "execution_count": null,
   "metadata": {},
   "outputs": [],
   "source": [
    "helper.plot_occupany_map(df, chip_labels,chip_names, chip_figtitles, fig_tag=\"inclusive\")"
   ]
  },
  {
   "cell_type": "code",
   "execution_count": null,
   "metadata": {},
   "outputs": [],
   "source": [
    "h_inclusive = helper.return_hist(df, chip_names, chip_labels, hist_bins=[100, 256, 512])\n",
    "\n",
    "helper.plot_1d_TDC_histograms(h_inclusive, chip_names[0], chip_fignames[0], chip_figtitles[0], fig_path, save=False,\n",
    "                                tag=\"inclusive\", fig_tag=\", inclusive\", slide_friendly=True)\n",
    "\n",
    "helper.plot_1d_TDC_histograms(h_inclusive, chip_names[1], chip_fignames[1], chip_figtitles[1], fig_path, save=False,\n",
    "                                tag=\"inclusive\", fig_tag=\", inclusive\", slide_friendly=True)\n",
    "\n",
    "helper.plot_1d_TDC_histograms(h_inclusive, chip_names[2], chip_fignames[2], chip_figtitles[2], fig_path, save=False,\n",
    "                                tag=\"inclusive\", fig_tag=\", inclusive\", slide_friendly=True)\n",
    "\n",
    "helper.plot_1d_TDC_histograms(h_inclusive, chip_names[3], chip_fignames[3], chip_figtitles[3], fig_path, save=False,\n",
    "                                tag=\"inclusive\", fig_tag=\", inclusive\", slide_friendly=True)\n",
    "\n",
    "del h_inclusive"
   ]
  },
  {
   "cell_type": "markdown",
   "metadata": {},
   "source": [
    "## TDC Filtering on Trigger Board"
   ]
  },
  {
   "cell_type": "code",
   "execution_count": null,
   "metadata": {},
   "outputs": [],
   "source": [
    "# CAL TOA TOT\n",
    "tdc_cuts = {\n",
    "    0: [205, 225, 400, 500, 100, 250],\n",
    "}\n",
    "tdc_filtered_df = helper.tdc_event_selection(df, tdc_cuts_dict=tdc_cuts, select_by_hit=True)"
   ]
  },
  {
   "cell_type": "code",
   "execution_count": null,
   "metadata": {},
   "outputs": [],
   "source": [
    "custom_tag = \",100<TOT<250 400<TOA<500 205<CAL<225\"\n",
    "# h_inclusive = helper.return_hist(df, chip_names, chip_labels, hist_bins=[100, 256, 512])\n",
    "helper.plot_occupany_map(tdc_filtered_df, chip_labels, chip_names, chip_figtitles, fig_tag=custom_tag)\n",
    "h_inclusive = return_hist_new(tdc_filtered_df, chip_names, chip_labels, hist_bins=[100, 256, 512])\n",
    "\n",
    "helper.plot_1d_TDC_histograms(h_inclusive, chip_names[0], chip_fignames[0], chip_figtitles[0], fig_path, save=False,\n",
    "                                tag=\"inclusive\", fig_tag=custom_tag, slide_friendly=True)"
   ]
  },
  {
   "cell_type": "code",
   "execution_count": null,
   "metadata": {},
   "outputs": [],
   "source": []
  }
 ],
 "metadata": {
  "kernelspec": {
   "display_name": "packages",
   "language": "python",
   "name": "python3"
  },
  "language_info": {
   "codemirror_mode": {
    "name": "ipython",
    "version": 3
   },
   "file_extension": ".py",
   "mimetype": "text/x-python",
   "name": "python",
   "nbconvert_exporter": "python",
   "pygments_lexer": "ipython3",
   "version": "3.10.12"
  }
 },
 "nbformat": 4,
 "nbformat_minor": 2
}
