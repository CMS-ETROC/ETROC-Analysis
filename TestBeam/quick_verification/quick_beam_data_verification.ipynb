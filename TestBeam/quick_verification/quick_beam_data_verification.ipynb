{
 "cells": [
  {
   "cell_type": "code",
   "execution_count": null,
   "metadata": {},
   "outputs": [],
   "source": [
    "from natsort import natsorted\n",
    "from pathlib import Path\n",
    "import sys, os\n",
    "\n",
    "path2add = os.path.normpath(os.path.abspath(os.path.join(os.path.curdir, os.path.pardir)))\n",
    "print(path2add)\n",
    "\n",
    "if (not (path2add in sys.path)) :\n",
    "    sys.path.append(path2add)\n",
    "\n",
    "from beamtest_analysis_helper import toSingleDataFrame_newEventModel, DecodeBinary, plot_occupany_map, return_hist, plot_1d_TDC_histograms"
   ]
  },
  {
   "cell_type": "code",
   "execution_count": null,
   "metadata": {},
   "outputs": [],
   "source": [
    "# ### In case, you're using \"nem\" files\n",
    "# files = Path('/media/daq/X9/Run_nominal_alignment_12').glob('loop_*/*nem')\n",
    "# print(files[0])\n",
    "# print(files[-1])\n",
    "# df = toSingleDataFrame_newEventModel(files=files)"
   ]
  },
  {
   "cell_type": "code",
   "execution_count": null,
   "metadata": {},
   "outputs": [],
   "source": [
    "### In case, you're converting from binary files\n",
    "input_path = \"/media/daq/X9/Run_DESYFeb2024_Run_34/\"\n",
    "pattern = 'loop_*/TDC*.bin'\n",
    "files = natsorted(list(Path(input_path).glob(pattern)))\n",
    "print(files[0])\n",
    "print(files[-1])\n",
    "decode = DecodeBinary(firmware_key=0b0001, board_id=[0x17f0f, 0x17f0f, 0x17f0f, 0x17f0f], file_list=files)\n",
    "df, _, _, _ = decode.decode_files() # hit dataframe, event dataframe, CRC dataframe, fillter dataframe\n",
    "print(f'Nhits: {df.shape[0]}, Nevts: {df['evt'].nunique()}')"
   ]
  },
  {
   "cell_type": "code",
   "execution_count": null,
   "metadata": {},
   "outputs": [],
   "source": [
    "chip_labels = [0, 1, 2, 3]\n",
    "chip_names = [\"ET2_BAR_4\", \"ET2p01_BAR_12\", \"ET2p01_BAR_13\", \"ET2_BB_1-3\"]\n",
    "offsets = [20, 20, 20, 20]\n",
    "high_voltages = [250, 260, 210, 260]\n",
    "\n",
    "chip_fignames = chip_names\n",
    "chip_figtitles = [\n",
    "    f\"(Trigger) Bar 4 HV{high_voltages[0]}V OS:{offsets[0]}\",\n",
    "    f\"Bar 12 HV{high_voltages[1]}V OS:{offsets[1]}\",\n",
    "    f\"Bar 13 HV{high_voltages[2]}V OS:{offsets[2]}\",\n",
    "    f\"BB 1-3 HV{high_voltages[3]}V OS:{offsets[3]}\"]"
   ]
  },
  {
   "cell_type": "code",
   "execution_count": null,
   "metadata": {},
   "outputs": [],
   "source": [
    "plot_occupany_map(df, board_ids=chip_labels, board_names=chip_names, tb_loc='cern')"
   ]
  },
  {
   "cell_type": "code",
   "execution_count": null,
   "metadata": {},
   "outputs": [],
   "source": [
    "h_inclusive = return_hist(input_df=df, board_names=chip_names, board_ids=chip_labels, hist_bins=[100, 128, 128])\n",
    "for iboard in chip_labels:\n",
    "    plot_1d_TDC_histograms(h_inclusive, chip_names[iboard], 'cern', chip_figtitles[iboard], slide_friendly=True)\n",
    "del h_inclusive"
   ]
  }
 ],
 "metadata": {
  "kernelspec": {
   "display_name": "packages",
   "language": "python",
   "name": "python3"
  },
  "language_info": {
   "codemirror_mode": {
    "name": "ipython",
    "version": 3
   },
   "file_extension": ".py",
   "mimetype": "text/x-python",
   "name": "python",
   "nbconvert_exporter": "python",
   "pygments_lexer": "ipython3",
   "version": "3.10.12"
  }
 },
 "nbformat": 4,
 "nbformat_minor": 2
}
