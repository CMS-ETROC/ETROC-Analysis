{
 "cells": [
  {
   "cell_type": "code",
   "execution_count": null,
   "id": "ceb1d08b",
   "metadata": {},
   "outputs": [],
   "source": [
    "import pandas as pd\n",
    "import matplotlib.pyplot as plt\n",
    "import matplotlib.dates as mdates"
   ]
  },
  {
   "cell_type": "code",
   "execution_count": null,
   "id": "1679484b",
   "metadata": {},
   "outputs": [],
   "source": [
    "def plot_time_series(csv_file_path):\n",
    "    \"\"\"\n",
    "    Reads a CSV file, processes the time series data, and creates separate plots\n",
    "    for different parameter groups.\n",
    "\n",
    "    Args:\n",
    "        csv_file_path (str): The path to the CSV file.\n",
    "    \"\"\"\n",
    "    try:\n",
    "        # Read the CSV file into a pandas DataFrame\n",
    "        # The 'timestamp' column is parsed as dates and set as the index\n",
    "        data = pd.read_csv(csv_file_path, parse_dates=['timestamp'], index_col='timestamp')\n",
    "        print(\"CSV file loaded successfully.\")\n",
    "    except FileNotFoundError:\n",
    "        print(f\"Error: The file '{csv_file_path}' was not found.\")\n",
    "        return\n",
    "    except Exception as e:\n",
    "        print(f\"An error occurred while reading the file: {e}\")\n",
    "        return\n",
    "\n",
    "    # --- Define parameter groups for plotting ---\n",
    "    # We identify groups of columns based on their prefixes.\n",
    "    plot_groups = {\n",
    "        'Reference Voltages (Vref)': [col for col in data.columns if col.startswith('Vref') and col.endswith('_volts')],\n",
    "        'Temperature Sensor Voltages (VTEMP)': [col for col in data.columns if col.startswith('VTEMP') and col.endswith('_volts')],\n",
    "        'Current Monitor Voltages (V1V2HM)': [col for col in data.columns if col.startswith('V1V2HM') and col.endswith('_volts')],\n",
    "    }\n",
    "\n",
    "    # --- Create a separate plot for each group ---\n",
    "    for title, columns in plot_groups.items():\n",
    "        if not columns:\n",
    "            print(f\"No columns found for group '{title}'. Skipping plot.\")\n",
    "            continue\n",
    "\n",
    "        print(f\"Plotting group: {title}\")\n",
    "\n",
    "        # Create a new figure and axes for each plot\n",
    "        plt.style.use('seaborn-v0_8-whitegrid')\n",
    "        fig, ax = plt.subplots(figsize=(15, 8))\n",
    "\n",
    "        # Plot each column in the current group\n",
    "        for column in columns:\n",
    "            ax.plot(data.index, data[column], label=column, marker='.', linestyle='-', markersize=4)\n",
    "\n",
    "        # --- Formatting the Plot ---\n",
    "        ax.set_title(f'{title} Over Time', fontsize=18)\n",
    "        ax.set_xlabel('Timestamp', fontsize=12)\n",
    "        ax.set_ylabel('Voltage (V)', fontsize=12)\n",
    "\n",
    "        # Format the x-axis to display dates nicely\n",
    "        ax.xaxis.set_major_formatter(mdates.DateFormatter('%Y-%m-%d %H:%M:%S'))\n",
    "        plt.xticks(rotation=45, ha='right')\n",
    "\n",
    "        # Add a legend to identify the lines\n",
    "        ax.legend(loc='best', fontsize=10)\n",
    "\n",
    "        # Ensure all elements fit within the figure\n",
    "        plt.tight_layout()\n",
    "\n",
    "    # Display all the generated plots\n",
    "    print(\"Showing plots...\")\n",
    "    plt.show()"
   ]
  },
  {
   "cell_type": "code",
   "execution_count": null,
   "id": "7d499d55",
   "metadata": {},
   "outputs": [],
   "source": [
    "board_titles = {0:'ET2p02_PT_IH14 HV200 OS:20', 1:'ET2p02_PT_IH15 HV200 OS:20', 2:'ET2p02_PT_IH8 HV200 OS:20', 3:'ET2p02_PT_IH6 HV200 OS:20'}\n",
    "board_titles = {0:'ET2p01_PT_LF6 HV180 OS:20', 1:'ET2p01_PT_LF3 HV180 OS:20', 2:'ET2p01_PT_LF9 HV130 OS:20'}\n",
    "board_titles = {0:'ET2p02_PT_IH14 HV200 OS:20', 1:'ET2p02_PT_IH15 HV200 OS:20', 2:'ET2p02_PT_IH6 HV200 OS:20', 3:'ET2p02_PT_IH8 HV200 OS:20'}\n",
    "board_titles = {0:'ET2p02_PT_IH16 HV2180 OS:20', 1:'ET2p02_PT_IH15 HV180 OS:20', 2:'ET2p02_PT_IH6 HV180 OS:20', 3:'ET2p02_PT_IH8 HV180 OS:20'}"
   ]
  },
  {
   "cell_type": "code",
   "execution_count": null,
   "id": "e5d521b3",
   "metadata": {},
   "outputs": [],
   "source": [
    "# plot_time_series(\"/home/daq/ETROC2_KCU105/tamalero/vtemp_hpkstack_15Cstart.csv\")\n",
    "# plot_time_series(\"/home/daq/ETROC2_KCU105/tamalero/vtemp_lfstack_0C_start.csv\")\n",
    "plot_time_series(\"/home/daq/ETROC2_KCU105/tamalero/vtemp_t1_20c_start.csv\")"
   ]
  },
  {
   "cell_type": "code",
   "execution_count": null,
   "id": "f99230e4",
   "metadata": {},
   "outputs": [],
   "source": []
  }
 ],
 "metadata": {
  "kernelspec": {
   "display_name": "3.10.16",
   "language": "python",
   "name": "python3"
  },
  "language_info": {
   "codemirror_mode": {
    "name": "ipython",
    "version": 3
   },
   "file_extension": ".py",
   "mimetype": "text/x-python",
   "name": "python",
   "nbconvert_exporter": "python",
   "pygments_lexer": "ipython3",
   "version": "3.10.16"
  }
 },
 "nbformat": 4,
 "nbformat_minor": 5
}
