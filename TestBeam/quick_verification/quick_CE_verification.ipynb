{
 "cells": [
  {
   "cell_type": "code",
   "execution_count": null,
   "id": "c232739f",
   "metadata": {},
   "outputs": [],
   "source": [
    "import os, sys\n",
    "path2add = os.path.normpath(os.path.abspath(os.path.join(os.path.curdir, os.path.pardir)))\n",
    "print(path2add)\n",
    "\n",
    "if (not (path2add in sys.path)) :\n",
    "    sys.path.append(path2add)\n",
    "\n",
    "import BeamTestHelpers as helper\n",
    "from pathlib import Path\n",
    "from natsort import natsorted"
   ]
  },
  {
   "cell_type": "code",
   "execution_count": null,
   "id": "2ebd7327",
   "metadata": {},
   "outputs": [],
   "source": [
    "path_to_files = \"\"\n",
    "files = natsorted(Path(path_to_files).glob('file*dat'))\n",
    "df = helper.process_tamalero_outputs(files)"
   ]
  },
  {
   "cell_type": "code",
   "execution_count": null,
   "id": "ed3d3f01",
   "metadata": {},
   "outputs": [],
   "source": [
    "helper.plot_occupany_map(df, tb_loc='wh14', board_ids=[0, 1], board_names=['ET2.01 PacTech NH39(CE)', 'ET2.01 PacTech NH40(CE)'])"
   ]
  },
  {
   "cell_type": "code",
   "execution_count": null,
   "id": "c8d14f4e",
   "metadata": {},
   "outputs": [],
   "source": [
    "h_inclusive = helper.return_hist(input_df=df, board_info=None, board_ids=[0, 1], board_names=['ET2.01-PT-NH39(CE)', 'ET2.01-PT-NH40(CE)'], hist_bins=[140, 128, 128])\n",
    "\n",
    "chip_figtitles = ['ET2.01 PacTech NH41(CE) HV230V OS:20', 'ET2.01 PacTech NH42(CE) HV230V OS:20']\n",
    "helper.plot_1d_TDC_histograms(h_inclusive, tb_loc='wh14', fig_tag=chip_figtitles, slide_friendly=True)#, save_mother_dir=output_campaign_dir, tag='inclusive')"
   ]
  },
  {
   "cell_type": "code",
   "execution_count": null,
   "id": "73d6c2c1",
   "metadata": {},
   "outputs": [],
   "source": []
  }
 ],
 "metadata": {
  "kernelspec": {
   "display_name": "venv",
   "language": "python",
   "name": "python3"
  },
  "language_info": {
   "codemirror_mode": {
    "name": "ipython",
    "version": 3
   },
   "file_extension": ".py",
   "mimetype": "text/x-python",
   "name": "python",
   "nbconvert_exporter": "python",
   "pygments_lexer": "ipython3",
   "version": "3.9.21"
  }
 },
 "nbformat": 4,
 "nbformat_minor": 5
}
