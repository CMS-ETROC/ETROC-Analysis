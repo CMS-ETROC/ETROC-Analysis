{
 "cells": [
  {
   "cell_type": "code",
   "execution_count": null,
   "metadata": {},
   "outputs": [],
   "source": [
    "import beamtest_analysis_helper as helper\n",
    "from natsort import natsorted\n",
    "from pathlib import Path\n",
    "from glob import glob"
   ]
  },
  {
   "cell_type": "markdown",
   "metadata": {},
   "source": [
    "#### nem text files"
   ]
  },
  {
   "cell_type": "code",
   "execution_count": null,
   "metadata": {},
   "outputs": [],
   "source": [
    "# ### In case, you're using \"nem\" files\n",
    "# # files = glob('/media/daq/X9/DESY_Apr2024/ETROC-Data/Run_nominal_alignment_11/loop_[1-9]/*nem')\n",
    "# # files = glob('/media/daq/X9/DESY_Apr2024/ETROC-Data/Run_displace_alignment_0/loop_[1-9]/*nem')\n",
    "# files = glob('/media/daq/X9/DESY_Apr2024/ETROC-Data/Run_ethernet_issue_4/loop_[1-9]/*nem')\n",
    "# #files = natsorted(files)\n",
    "# #files = files[30:90]\n",
    "# for file in files: print(file)\n",
    "# df = helper.toSingleDataFrame_newEventModel(files=files)\n",
    "# df.info()"
   ]
  },
  {
   "cell_type": "markdown",
   "metadata": {},
   "source": [
    "#### raw binary files"
   ]
  },
  {
   "cell_type": "code",
   "execution_count": null,
   "metadata": {},
   "outputs": [],
   "source": [
    "### In case, you're converting from binary files\n",
    "files = natsorted(list(Path('/media/daq/X9/DESY_Apr2024/ETROC-Data/Run_44/').glob('loop_0/*.bin')))\n",
    "# files = natsorted(list(Path('/media/daq/X9/DESY_Apr2024/ETROC-Data/Run_rfsel_1_test_10/').glob('loop_[0-9]/*.bin')))\n",
    "print(files[0], files[-1])\n",
    "decode = helper.DecodeBinary(firmware_key=0b0001, board_id=[0x17f0f, 0x17f0f, 0x17f0f, 0x17f0f], file_list=files, skip_filler=True, skip_crc_df=True, skip_event_df=True)\n",
    "df, _, _, _ = decode.decode_files() # hit dataframe, event dataframe, CRC dataframe\n",
    "df.info()"
   ]
  },
  {
   "cell_type": "code",
   "execution_count": null,
   "metadata": {},
   "outputs": [],
   "source": [
    "chip_labels = [0, 1, 2, 3]\n",
    "chip_names = [\"ET2p01_BAR_4\", \"ET2p01_BAR_12\", \"ET2p01_BAR_13\", \"ET2p01_CNM13HPK\"]\n",
    "offsets = [20, 20, 20, 20]\n",
    "# offset = 15\n",
    "# offsets = [offset for chiplabel in chip_labels]\n",
    "high_voltages = [260, 120, 120, 140]\n",
    "\n",
    "fig_path = './'\n",
    "\n",
    "chip_fignames = chip_names\n",
    "chip_figtitles = [\n",
    "    f\"(Trigger) Bar 4 HV{high_voltages[0]}V OS:{offsets[0]}\",\n",
    "    f\"Bar 12 HV{high_voltages[1]}V OS:{offsets[1]}\",\n",
    "    f\"Bar 13 HV{high_voltages[2]}V OS:{offsets[2]}\",\n",
    "    f\"CNM 1-3 HV{high_voltages[3]}V OS:{offsets[3]}\"]"
   ]
  },
  {
   "cell_type": "code",
   "execution_count": null,
   "metadata": {},
   "outputs": [],
   "source": [
    "helper.plot_occupany_map(df, chip_labels,chip_names, chip_figtitles, fig_tag=\"inclusive\")"
   ]
  },
  {
   "cell_type": "code",
   "execution_count": null,
   "metadata": {},
   "outputs": [],
   "source": [
    "h_inclusive = helper.return_hist(df, chip_names, chip_labels, hist_bins=[100, 256, 512])\n",
    "\n",
    "helper.plot_1d_TDC_histograms(h_inclusive, chip_names[0], chip_fignames[0], chip_figtitles[0], fig_path, save=False,\n",
    "                                tag=\"inclusive\", fig_tag=\", inclusive\", slide_friendly=True)\n",
    "\n",
    "helper.plot_1d_TDC_histograms(h_inclusive, chip_names[1], chip_fignames[1], chip_figtitles[1], fig_path, save=False,\n",
    "                                tag=\"inclusive\", fig_tag=\", inclusive\", slide_friendly=True)\n",
    "\n",
    "helper.plot_1d_TDC_histograms(h_inclusive, chip_names[2], chip_fignames[2], chip_figtitles[2], fig_path, save=False,\n",
    "                                tag=\"inclusive\", fig_tag=\", inclusive\", slide_friendly=True)\n",
    "\n",
    "helper.plot_1d_TDC_histograms(h_inclusive, chip_names[3], chip_fignames[3], chip_figtitles[3], fig_path, save=False,\n",
    "                                tag=\"inclusive\", fig_tag=\", inclusive\", slide_friendly=True)\n",
    "\n",
    "del h_inclusive"
   ]
  },
  {
   "cell_type": "code",
   "execution_count": null,
   "metadata": {},
   "outputs": [],
   "source": []
  },
  {
   "cell_type": "code",
   "execution_count": null,
   "metadata": {},
   "outputs": [],
   "source": []
  }
 ],
 "metadata": {
  "kernelspec": {
   "display_name": "packages",
   "language": "python",
   "name": "python3"
  },
  "language_info": {
   "codemirror_mode": {
    "name": "ipython",
    "version": 3
   },
   "file_extension": ".py",
   "mimetype": "text/x-python",
   "name": "python",
   "nbconvert_exporter": "python",
   "pygments_lexer": "ipython3",
   "version": "3.10.12"
  }
 },
 "nbformat": 4,
 "nbformat_minor": 2
}
