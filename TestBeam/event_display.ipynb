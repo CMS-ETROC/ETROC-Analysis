{
 "cells": [
  {
   "cell_type": "code",
   "execution_count": null,
   "metadata": {},
   "outputs": [],
   "source": [
    "import pandas as pd\n",
    "import matplotlib.pyplot as plt\n",
    "import numpy as np"
   ]
  },
  {
   "cell_type": "code",
   "execution_count": null,
   "metadata": {},
   "outputs": [],
   "source": [
    "df = pd.read_feather('./desy_TB_run9/loop_1.feather')\n",
    "first_100_events = df['evt'].unique()\n",
    "df = df.loc[df['evt'].isin(first_100_events)]"
   ]
  },
  {
   "cell_type": "code",
   "execution_count": null,
   "metadata": {},
   "outputs": [],
   "source": [
    "for evt in df['evt'].unique()[15:31]:\n",
    "    fig = plt.figure(figsize=(10, 10))\n",
    "    ax1 = fig.add_subplot(111, projection='3d')\n",
    "    ax1.grid(False)\n",
    "\n",
    "    xx, yy = np.meshgrid(np.arange(16), np.arange(16))\n",
    "\n",
    "    tmp_df = df.loc[df['evt'] == evt]\n",
    "\n",
    "    for board_value, coloarmap in zip([3, 2, 1, 0], ['Greys', 'Reds', 'Greens', 'Blues']):\n",
    "\n",
    "        board_subset_df = tmp_df.loc[tmp_df['board'] == board_value]\n",
    "\n",
    "        grid = np.zeros((16, 16))\n",
    "        for idx, row in board_subset_df.iterrows():\n",
    "            grid[row['row'], row['col']] = 1\n",
    "\n",
    "        ax1.contourf(xx, yy, grid, 100, zdir='z', offset=board_value, alpha=0.15, cmap=coloarmap)\n",
    "\n",
    "    ax1.set_zlim((0., 3.0))  # Adjust z-axis limit based on your board values\n",
    "    ax1.set_xlabel('COL', fontsize=15, labelpad=15)\n",
    "    ax1.set_ylabel('ROW', fontsize=15, labelpad=15)\n",
    "    ax1.invert_xaxis()\n",
    "    ax1.invert_yaxis()\n",
    "    ticks = range(0, 16)\n",
    "    ax1.set_xticks(ticks)\n",
    "    ax1.set_yticks(ticks)\n",
    "    ax1.set_xticks(ticks=range(16), labels=[], minor=True)\n",
    "    ax1.set_yticks(ticks=range(16), labels=[], minor=True)\n",
    "    ax1.set_zticks(ticks=[3, 2, 1, 0], labels=[\"CNM (HPK) 1-3\", \"Bar6\", \"Ba4\", \"Pair1\"])\n",
    "    ax1.tick_params(axis='x', labelsize=8)  # You can adjust the 'pad' value\n",
    "    ax1.tick_params(axis='y', labelsize=8)\n",
    "    ax1.tick_params(axis='z', labelsize=8)\n",
    "    ax1.grid(visible=False, axis='z')\n",
    "    ax1.grid(visible=True, which='major', axis='x')\n",
    "    ax1.grid(visible=True, which='major', axis='y')\n",
    "    plt.title(f'Event {evt}')\n",
    "\n",
    "    del xx, yy, fig, ax1"
   ]
  }
 ],
 "metadata": {
  "kernelspec": {
   "display_name": "packages",
   "language": "python",
   "name": "python3"
  },
  "language_info": {
   "codemirror_mode": {
    "name": "ipython",
    "version": 3
   },
   "file_extension": ".py",
   "mimetype": "text/x-python",
   "name": "python",
   "nbconvert_exporter": "python",
   "pygments_lexer": "ipython3",
   "version": "3.10.12"
  }
 },
 "nbformat": 4,
 "nbformat_minor": 2
}
