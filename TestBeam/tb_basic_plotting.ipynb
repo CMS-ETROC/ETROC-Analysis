{
 "cells": [
  {
   "cell_type": "markdown",
   "metadata": {},
   "source": [
    "## Import"
   ]
  },
  {
   "cell_type": "code",
   "execution_count": null,
   "metadata": {},
   "outputs": [],
   "source": [
    "import beamtest_analysis_helper as helper\n",
    "from glob import glob\n",
    "from natsort import natsorted\n",
    "import pandas as pd\n",
    "import hist\n",
    "import numpy as np\n",
    "import matplotlib.pyplot as plt\n",
    "import matplotlib.ticker as ticker\n",
    "import matplotlib.colors as colors\n",
    "import mplhep as hep\n",
    "hep.style.use('CMS')"
   ]
  },
  {
   "cell_type": "code",
   "execution_count": null,
   "metadata": {},
   "outputs": [],
   "source": [
    "chip_labels = [0, 1, 2, 3]\n",
    "chip_names = [\"ET2_EPIR_Pair1\", \"ET2_BAR_4\", \"ET2_BAR_6\", \"ET2_EPIR_Pair4\"]\n",
    "offsets = [20, 20, 20, 20]\n",
    "high_voltages = [250, 250, 250, 250]\n",
    "\n",
    "fig_path = './'\n",
    "\n",
    "board_to_analyze = [0, 1, 3]\n",
    "\n",
    "chip_fignames = chip_names\n",
    "chip_figtitles = [\n",
    "    f\"(Trigger) Pair1 HV{high_voltages[0]}V OS:{offsets[0]}\",\n",
    "    f\"Bar4 HV{high_voltages[1]}V OS:{offsets[1]}\",\n",
    "    f\"Bar6 HV{high_voltages[2]}V OS:{offsets[2]}\",\n",
    "    f\"Pair4 HV{high_voltages[3]}V OS:{offsets[3]}\"]"
   ]
  },
  {
   "cell_type": "markdown",
   "metadata": {},
   "source": [
    "## Loading dataframe: No trigger, No event"
   ]
  },
  {
   "cell_type": "code",
   "execution_count": null,
   "metadata": {},
   "outputs": [],
   "source": [
    "files = glob('./DESYFeb2024_Run_0_loop_10.feather')\n",
    "\n",
    "last_evt = 0\n",
    "dataframes = []\n",
    "\n",
    "for idx, ifile in enumerate(files):\n",
    "    tmp_df = pd.read_feather(ifile)\n",
    "    tmp_df.drop(columns=['evt_number', 'bcid', 'l1a_counter', 'ea'], inplace=True)\n",
    "\n",
    "    if idx > 0:\n",
    "        tmp_df['evt'] += last_evt\n",
    "    last_evt += tmp_df['evt'].unique()[-1]\n",
    "\n",
    "    event_board_counts = tmp_df.groupby(['evt', 'board']).size().unstack(fill_value=0)\n",
    "\n",
    "    base_selection = (event_board_counts[0] >= 1) # event must have at least one hit from the trigger board\n",
    "    selected_subset_df = tmp_df[tmp_df['evt'].isin(event_board_counts[base_selection].index)]\n",
    "    selected_subset_df.reset_index(inplace=True, drop=True)\n",
    "\n",
    "    dataframes.append(selected_subset_df)\n",
    "    del tmp_df, event_board_counts, base_selection, selected_subset_df\n",
    "\n",
    "df = pd.concat(dataframes)\n",
    "df.reset_index(inplace=True, drop=True)\n",
    "del dataframes"
   ]
  },
  {
   "cell_type": "code",
   "execution_count": null,
   "metadata": {},
   "outputs": [],
   "source": [
    "df.info()"
   ]
  },
  {
   "cell_type": "markdown",
   "metadata": {},
   "source": [
    "## Inclusive plots"
   ]
  },
  {
   "cell_type": "code",
   "execution_count": null,
   "metadata": {},
   "outputs": [],
   "source": [
    "helper.plot_number_of_fired_board(df)"
   ]
  },
  {
   "cell_type": "code",
   "execution_count": null,
   "metadata": {},
   "outputs": [],
   "source": [
    "helper.plot_number_of_hits_per_event(df, fig_titles=chip_figtitles)"
   ]
  },
  {
   "cell_type": "code",
   "execution_count": null,
   "metadata": {},
   "outputs": [],
   "source": [
    "helper.plot_2d_nHits_nBoard(df, fig_titles=chip_figtitles)"
   ]
  },
  {
   "cell_type": "code",
   "execution_count": null,
   "metadata": {},
   "outputs": [],
   "source": [
    "h_inclusive = helper.return_hist(df, chip_names, chip_labels, hist_bins=[100, 128, 128])\n",
    "\n",
    "for iboard in board_to_analyze:\n",
    "    helper.plot_1d_TDC_histograms(h_inclusive, chip_names[iboard], chip_fignames[iboard], chip_figtitles[iboard], fig_path, save=False,\n",
    "                                tag=\"inclusive\", fig_tag=\", inclusive\", slide_friendly=True)\n",
    "\n",
    "del h_inclusive"
   ]
  },
  {
   "cell_type": "code",
   "execution_count": null,
   "metadata": {},
   "outputs": [],
   "source": [
    "helper.plot_occupany_map(df, chipLabels=chip_labels, chipNames=chip_names, fig_title=chip_figtitles, fig_tag='inclusive')"
   ]
  },
  {
   "cell_type": "markdown",
   "metadata": {},
   "source": [
    "## Filter noise"
   ]
  },
  {
   "cell_type": "code",
   "execution_count": null,
   "metadata": {},
   "outputs": [],
   "source": [
    "## Selecting good hits\n",
    "tdc_cuts = {}\n",
    "for idx in board_to_analyze:\n",
    "    # board ID: [CAL LB, CAL UB, TOA LB, TOA UB, TOT LB, TOT UB]\n",
    "    if idx == 0:\n",
    "        tdc_cuts[idx] = [df.loc[df['board'] == idx]['cal'].mode()[0]-50, df.loc[df['board'] == idx]['cal'].mode()[0]+50,  100, 500, 0, 600]\n",
    "    else:\n",
    "        tdc_cuts[idx] = [df.loc[df['board'] == idx]['cal'].mode()[0]-50, df.loc[df['board'] == idx]['cal'].mode()[0]+50,  0, 1100, 0, 600]\n",
    "\n",
    "filtered_df = helper.tdc_event_selection(df, tdc_cuts_dict=tdc_cuts, select_by_hit=False)\n",
    "del df"
   ]
  },
  {
   "cell_type": "code",
   "execution_count": null,
   "metadata": {},
   "outputs": [],
   "source": [
    "filtered_df"
   ]
  },
  {
   "cell_type": "markdown",
   "metadata": {},
   "source": [
    "## Correlation trigger - reference"
   ]
  },
  {
   "cell_type": "code",
   "execution_count": null,
   "metadata": {},
   "outputs": [],
   "source": [
    "event_board_counts = filtered_df.groupby(['evt', 'board']).size().unstack(fill_value=0)\n",
    "event_selection_col = None\n",
    "\n",
    "trig_selection = (event_board_counts[0] == 1)\n",
    "ref_selection = (event_board_counts[3] == 1)\n",
    "event_selection_col = trig_selection & ref_selection\n",
    "\n",
    "selected_event_numbers = event_board_counts[event_selection_col].index\n",
    "selected_subset_df = filtered_df[filtered_df['evt'].isin(selected_event_numbers)]\n",
    "selected_subset_df.reset_index(inplace=True, drop=True)\n",
    "\n",
    "single_df = selected_subset_df\n",
    "del selected_subset_df"
   ]
  },
  {
   "cell_type": "code",
   "execution_count": null,
   "metadata": {},
   "outputs": [],
   "source": [
    "event_board_counts = filtered_df.groupby(['evt', 'board']).size().unstack(fill_value=0)\n",
    "event_selection_col = None\n",
    "\n",
    "trig_selection = (event_board_counts[0] == 1)\n",
    "ref_selection = (event_board_counts[3] > 1)\n",
    "event_selection_col = trig_selection & ref_selection\n",
    "\n",
    "selected_event_numbers = event_board_counts[event_selection_col].index\n",
    "selected_subset_df = filtered_df[filtered_df['evt'].isin(selected_event_numbers)]\n",
    "selected_subset_df.reset_index(inplace=True, drop=True)\n",
    "\n",
    "multiple_df = selected_subset_df\n",
    "del selected_subset_df"
   ]
  },
  {
   "cell_type": "code",
   "execution_count": null,
   "metadata": {},
   "outputs": [],
   "source": [
    "broadcasted_multiple_df = multiple_df.groupby('evt').apply(helper.broadcast_dataframe, reference_board_id=3, board_id_want_broadcast=0).reset_index(drop=True)"
   ]
  },
  {
   "cell_type": "code",
   "execution_count": null,
   "metadata": {},
   "outputs": [],
   "source": [
    "broadcasted_oneTrig_onePlusRef_df = pd.concat([single_df.loc[(single_df['board'] == 0) | (single_df['board'] == 3)].reset_index(drop=True), broadcasted_multiple_df])\n",
    "del multiple_df"
   ]
  },
  {
   "cell_type": "code",
   "execution_count": null,
   "metadata": {},
   "outputs": [],
   "source": [
    "helper.plot_correlation_of_pixels(single_df, np.array([0,3]), xaxis_label_board_name='Reference Board', fig_title=\"Single hit on Trig and Ref\", fit_tag='')"
   ]
  },
  {
   "cell_type": "code",
   "execution_count": null,
   "metadata": {},
   "outputs": [],
   "source": [
    "helper.plot_correlation_of_pixels(broadcasted_multiple_df, np.array([0,3]), xaxis_label_board_name='Reference Board', fig_title=\"Single hit on Trig / Multi hits on Ref\", fit_tag='')"
   ]
  },
  {
   "cell_type": "code",
   "execution_count": null,
   "metadata": {},
   "outputs": [],
   "source": [
    "h_dis_1hit = helper.plot_distance(single_df, board_ids=np.array([0, 3]), xaxis_label_board_name='Reference', fig_title=\"Single hit on Trig and Ref\", do_logy=False)"
   ]
  },
  {
   "cell_type": "code",
   "execution_count": null,
   "metadata": {},
   "outputs": [],
   "source": [
    "h_dis_multihits = helper.plot_distance(broadcasted_multiple_df, board_ids=np.array([0, 3]), xaxis_label_board_name='Reference', fig_title=\"Single hit on Trig / Multi hits on Ref\", do_logy=False)"
   ]
  },
  {
   "cell_type": "markdown",
   "metadata": {},
   "source": [
    "## Compare Ref 1 hit and 2+ hit cases"
   ]
  },
  {
   "cell_type": "code",
   "execution_count": null,
   "metadata": {},
   "outputs": [],
   "source": [
    "fig, ax = plt.subplots(dpi=100, figsize=(15, 8))\n",
    "hep.histplot(h_dis_1hit, density=True, label=\"1= Ref Hit\")\n",
    "hep.histplot(h_dis_multihits, density=True, label=\"2+ Ref Hits\")\n",
    "hep.cms.text(loc=0, ax=ax, text=\"Preliminary\", fontsize=25)\n",
    "ax.legend()"
   ]
  },
  {
   "cell_type": "markdown",
   "metadata": {},
   "source": [
    "## Trigger - DUT Correlations (Only 1 Hit on Trig + 1 Hit on Ref + 1 Hit on DUT)"
   ]
  },
  {
   "cell_type": "code",
   "execution_count": null,
   "metadata": {},
   "outputs": [],
   "source": [
    "event_board_counts = oneTrig_onePlusRef_df.groupby(['evt', 'board']).size().unstack(fill_value=0)\n",
    "\n",
    "ref_selection = (event_board_counts[2] == 1)\n",
    "dut_selection = (event_board_counts[1] == 1)\n",
    "event_selection_col = ref_selection & dut_selection\n",
    "\n",
    "selected_event_numbers = event_board_counts[event_selection_col].index\n",
    "tmp_df = oneTrig_onePlusRef_df[oneTrig_onePlusRef_df['evt'].isin(selected_event_numbers)]\n",
    "tmp_df.reset_index(inplace=True, drop=True)"
   ]
  },
  {
   "cell_type": "code",
   "execution_count": null,
   "metadata": {},
   "outputs": [],
   "source": [
    "helper.plot_correlation_of_pixels(tmp_df, hit_type='single', board_id_to_correlate=1, title_tag='')\n",
    "h_dis_dut_one = helper.plot_distance(tmp_df, hit_type='single', board_id_to_correlate=1, title_tag='', do_logy=True)"
   ]
  },
  {
   "cell_type": "code",
   "execution_count": null,
   "metadata": {},
   "outputs": [],
   "source": [
    "del tmp_df, event_board_counts, selected_event_numbers"
   ]
  },
  {
   "cell_type": "markdown",
   "metadata": {},
   "source": [
    "## Trigger - DUT Correlations (Only 1 Hit on Trig + 1 Hit on Ref + 2+ Hits on DUT)"
   ]
  },
  {
   "cell_type": "code",
   "execution_count": null,
   "metadata": {},
   "outputs": [],
   "source": [
    "event_board_counts = oneTrig_onePlusRef_df.groupby(['evt', 'board']).size().unstack(fill_value=0)\n",
    "\n",
    "ref_selection = (event_board_counts[2] == 1)\n",
    "dut_selection = (event_board_counts[1] >= 2)\n",
    "event_selection_col = ref_selection & dut_selection\n",
    "\n",
    "selected_event_numbers = event_board_counts[event_selection_col].index\n",
    "tmp_df = oneTrig_onePlusRef_df[oneTrig_onePlusRef_df['evt'].isin(selected_event_numbers)]\n",
    "tmp_df.reset_index(inplace=True, drop=True)"
   ]
  },
  {
   "cell_type": "code",
   "execution_count": null,
   "metadata": {},
   "outputs": [],
   "source": [
    "helper.plot_correlation_of_pixels(tmp_df, hit_type='multiple', board_id_to_correlate=1, title_tag='')\n",
    "h_dis_dut_2p = helper.plot_distance(tmp_df, hit_type='multiple', board_id_to_correlate=1, title_tag='', do_logy=True)"
   ]
  },
  {
   "cell_type": "code",
   "execution_count": null,
   "metadata": {},
   "outputs": [],
   "source": [
    "del tmp_df, event_board_counts, selected_event_numbers"
   ]
  },
  {
   "cell_type": "markdown",
   "metadata": {},
   "source": [
    "## Compare different DUT cases"
   ]
  },
  {
   "cell_type": "code",
   "execution_count": null,
   "metadata": {},
   "outputs": [],
   "source": [
    "fig, ax = plt.subplots(dpi=100, figsize=(15, 8))\n",
    "hep.histplot(h_dis_dut_one, density=True, label=\"=1 DUT Hits\")\n",
    "hep.histplot(h_dis_dut_2p, density=True, label=\"2+ DUT Hits\")\n",
    "hep.cms.text(loc=0, ax=ax, text=\"Preliminary\", fontsize=25)\n",
    "# ax.set_title(f\"{title_tag}\", loc=\"right\", size=15)\n",
    "ax.legend()"
   ]
  }
 ],
 "metadata": {
  "kernelspec": {
   "display_name": "Python 3 (ipykernel)",
   "language": "python",
   "name": "python3"
  },
  "language_info": {
   "codemirror_mode": {
    "name": "ipython",
    "version": 3
   },
   "file_extension": ".py",
   "mimetype": "text/x-python",
   "name": "python",
   "nbconvert_exporter": "python",
   "pygments_lexer": "ipython3",
   "version": "3.10.12"
  }
 },
 "nbformat": 4,
 "nbformat_minor": 4
}
