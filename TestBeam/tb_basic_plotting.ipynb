{
 "cells": [
  {
   "cell_type": "markdown",
   "metadata": {},
   "source": [
    "## Import"
   ]
  },
  {
   "cell_type": "code",
   "execution_count": null,
   "metadata": {},
   "outputs": [],
   "source": [
    "import beamtest_analysis_helper as helper\n",
    "from glob import glob\n",
    "from natsort import natsorted\n",
    "import pandas as pd\n",
    "import hist\n",
    "import numpy as np\n",
    "import matplotlib.pyplot as plt\n",
    "import matplotlib.ticker as ticker\n",
    "import matplotlib.colors as colors\n",
    "import mplhep as hep\n",
    "hep.style.use('CMS')"
   ]
  },
  {
   "cell_type": "code",
   "execution_count": null,
   "metadata": {},
   "outputs": [],
   "source": [
    "chip_labels = [0, 1, 2, 3]\n",
    "chip_names = [\"ET2_EPIR_Pair1\", \"ET2_BAR_4\", \"ET2_BAR_6\", \"ET2_CNM_1-3\"]\n",
    "offsets = [15, 6, 15, 6]\n",
    "high_voltages = [260, 260, 260, 200]\n",
    "\n",
    "fig_path = './'\n",
    "\n",
    "chip_fignames = chip_names\n",
    "chip_figtitles = [\n",
    "    f\"(Trigger) Pair1 HV{high_voltages[0]}V OS:{offsets[0]}\",\n",
    "    f\"Bar4 HV{high_voltages[1]}V OS:{offsets[1]}\",\n",
    "    f\"Bar6 HV{high_voltages[2]}V OS:{offsets[2]}\",\n",
    "    f\"CNM (HPK) 1-3 HV{high_voltages[3]}V OS:{offsets[3]}\"]"
   ]
  },
  {
   "cell_type": "markdown",
   "metadata": {},
   "source": [
    "## Loading dataframe: No trigger, No event"
   ]
  },
  {
   "cell_type": "code",
   "execution_count": null,
   "metadata": {},
   "outputs": [],
   "source": [
    "files = glob('./desy_TB_run12/Run_12_loop_[4-6].feather')\n",
    "\n",
    "last_evt = 0\n",
    "dataframes = []\n",
    "\n",
    "for idx, ifile in enumerate(files):\n",
    "    tmp_df = pd.read_feather(ifile)\n",
    "    tmp_df.drop(columns=['evt_number', 'bcid', 'l1a_counter', 'ea'], inplace=True)\n",
    "\n",
    "    if idx > 0:\n",
    "        tmp_df['evt'] += last_evt\n",
    "    last_evt += tmp_df['evt'].unique()[-1]\n",
    "\n",
    "    event_board_counts = tmp_df.groupby(['evt', 'board']).size().unstack(fill_value=0)\n",
    "\n",
    "    base_selection = (event_board_counts[0] >= 1) # event must have at least one hit from the trigger board\n",
    "    selected_event_numbers = event_board_counts[base_selection].index\n",
    "    selected_subset_df = tmp_df[tmp_df['evt'].isin(selected_event_numbers)]\n",
    "    selected_subset_df.reset_index(inplace=True, drop=True)\n",
    "\n",
    "    dataframes.append(selected_subset_df)\n",
    "    del tmp_df, event_board_counts, base_selection, selected_event_numbers, selected_subset_df\n",
    "\n",
    "df = pd.concat(dataframes)\n",
    "df.reset_index(inplace=True, drop=True)\n",
    "del dataframes"
   ]
  },
  {
   "cell_type": "code",
   "execution_count": null,
   "metadata": {},
   "outputs": [],
   "source": [
    "df.info()"
   ]
  },
  {
   "cell_type": "code",
   "execution_count": null,
   "metadata": {},
   "outputs": [],
   "source": [
    "helper.plot_number_of_fired_board(df)"
   ]
  },
  {
   "cell_type": "code",
   "execution_count": null,
   "metadata": {},
   "outputs": [],
   "source": [
    "helper.plot_number_of_hits_per_event(df, chip_figtitles=chip_figtitles)"
   ]
  },
  {
   "cell_type": "code",
   "execution_count": null,
   "metadata": {},
   "outputs": [],
   "source": [
    "helper.plot_2d_nHits_nBoard(df, chip_figtitles=chip_figtitles)"
   ]
  },
  {
   "cell_type": "code",
   "execution_count": null,
   "metadata": {},
   "outputs": [],
   "source": [
    "h_inclusive = helper.return_hist(df, chip_names, chip_labels, hist_bins=[100, 128, 128])\n",
    "\n",
    "helper.plot_1d_TDC_histograms(h_inclusive, chip_names[0], chip_fignames[0], chip_figtitles[0], fig_path, save=False, show=True,\n",
    "                                tag=\"inclusive\", title_tag=\", inclusive\", slide_friendly=True)\n",
    "\n",
    "helper.plot_1d_TDC_histograms(h_inclusive, chip_names[1], chip_fignames[1], chip_figtitles[1], fig_path, save=False, show=True,\n",
    "                                tag=\"inclusive\", title_tag=\", inclusive\", slide_friendly=True)\n",
    "\n",
    "helper.plot_1d_TDC_histograms(h_inclusive, chip_names[2], chip_fignames[2], chip_figtitles[2], fig_path, save=False, show=True,\n",
    "                                tag=\"inclusive\", title_tag=\", inclusive\", slide_friendly=True)\n",
    "\n",
    "helper.plot_1d_TDC_histograms(h_inclusive, chip_names[3], chip_fignames[3], chip_figtitles[3], fig_path, save=False, show=True,\n",
    "                                tag=\"inclusive\", title_tag=\", inclusive\", slide_friendly=True)\n",
    "\n",
    "del h_inclusive"
   ]
  },
  {
   "cell_type": "code",
   "execution_count": null,
   "metadata": {},
   "outputs": [],
   "source": [
    "helper.plot_heatmap_byPandas(df, chipLabels=chip_labels, figtitle=chip_figtitles, figtitle_tag='inclusive')"
   ]
  },
  {
   "cell_type": "markdown",
   "metadata": {},
   "source": [
    "## Check noise"
   ]
  },
  {
   "cell_type": "code",
   "execution_count": null,
   "metadata": {},
   "outputs": [],
   "source": [
    "tdc_cuts = {\n",
    "    # board ID: [CAL LB, CAL UB, TOA LB, TOA UB, TOT LB, TOT UB]\n",
    "    0: [0, 1100,   0, 1100, 0, 600],\n",
    "    1: [0, 1100,   0, 1100, 0, 100], # pixel (15, 6), (15, 7) Sep 28th data\n",
    "    2: [0, 1100,   0, 1100, 0, 600],\n",
    "    3: [0, 1100,   0, 1100, 0, 100],\n",
    "}\n",
    "\n",
    "filtered_df = helper.tdc_event_selection(df, tdc_cuts_dict=tdc_cuts)"
   ]
  },
  {
   "cell_type": "code",
   "execution_count": null,
   "metadata": {},
   "outputs": [],
   "source": [
    "h_inclusive = helper.return_hist(filtered_df, chip_names, chip_labels, hist_bins=[100, 128, 128])\n",
    "\n",
    "helper.plot_1d_TDC_histograms(h_inclusive, chip_names[0], chip_fignames[0], chip_figtitles[0], fig_path, save=False, show=True,\n",
    "                                tag=\"inclusive\", title_tag=\", inclusive\", slide_friendly=True)\n",
    "\n",
    "helper.plot_1d_TDC_histograms(h_inclusive, chip_names[1], chip_fignames[1], chip_figtitles[1], fig_path, save=False, show=True,\n",
    "                                tag=\"inclusive\", title_tag=\", inclusive\", slide_friendly=True)\n",
    "\n",
    "helper.plot_1d_TDC_histograms(h_inclusive, chip_names[2], chip_fignames[2], chip_figtitles[2], fig_path, save=False, show=True,\n",
    "                                tag=\"inclusive\", title_tag=\", inclusive\", slide_friendly=True)\n",
    "\n",
    "helper.plot_1d_TDC_histograms(h_inclusive, chip_names[3], chip_fignames[3], chip_figtitles[3], fig_path, save=False, show=True,\n",
    "                                tag=\"inclusive\", title_tag=\", inclusive\", slide_friendly=True)\n",
    "\n",
    "del h_inclusive"
   ]
  },
  {
   "cell_type": "code",
   "execution_count": null,
   "metadata": {},
   "outputs": [],
   "source": [
    "helper.plot_heatmap_byPandas(filtered_df, chipLabels=chip_labels, figtitle=chip_figtitles, figtitle_tag='')"
   ]
  },
  {
   "cell_type": "code",
   "execution_count": null,
   "metadata": {},
   "outputs": [],
   "source": [
    "del filtered_df"
   ]
  },
  {
   "cell_type": "markdown",
   "metadata": {},
   "source": [
    "## Single hit on the trigger board and hit >= 1 on the reference board"
   ]
  },
  {
   "cell_type": "code",
   "execution_count": null,
   "metadata": {},
   "outputs": [],
   "source": [
    "## Selecting good hits\n",
    "tdc_cuts = {\n",
    "    # board ID: [CAL LB, CAL UB, TOA LB, TOA UB, TOT LB, TOT UB]\n",
    "    0: [df.loc[df['board'] == 0]['cal'].mode()[0]-50, df.loc[df['board'] == 0]['cal'].mode()[0]+50,   0, 1100, 0, 600],\n",
    "    1: [df.loc[df['board'] == 1]['cal'].mode()[0]-50, df.loc[df['board'] == 1]['cal'].mode()[0]+50,   0, 1100, 0, 600],\n",
    "    2: [df.loc[df['board'] == 2]['cal'].mode()[0]-50, df.loc[df['board'] == 2]['cal'].mode()[0]+50,   0, 1100, 0, 600],\n",
    "    3: [df.loc[df['board'] == 3]['cal'].mode()[0]-50, df.loc[df['board'] == 3]['cal'].mode()[0]+50,   0, 1100, 0, 600],\n",
    "}\n",
    "\n",
    "filtered_df = helper.tdc_event_selection(df, tdc_cuts_dict=tdc_cuts)"
   ]
  },
  {
   "cell_type": "code",
   "execution_count": null,
   "metadata": {},
   "outputs": [],
   "source": [
    "event_board_counts = filtered_df.groupby(['evt', 'board']).size().unstack(fill_value=0)\n",
    "event_selection_col = None\n",
    "\n",
    "trig_selection = (event_board_counts[0] == 1)\n",
    "ref_selection = (event_board_counts[2] >= 1)\n",
    "event_selection_col = trig_selection & ref_selection\n",
    "\n",
    "selected_event_numbers = event_board_counts[event_selection_col].index\n",
    "selected_subset_df = filtered_df[filtered_df['evt'].isin(selected_event_numbers)]\n",
    "selected_subset_df.reset_index(inplace=True, drop=True)\n",
    "del filtered_df"
   ]
  },
  {
   "cell_type": "code",
   "execution_count": null,
   "metadata": {},
   "outputs": [],
   "source": [
    "## Temporary cell\n",
    "raw_df = df"
   ]
  },
  {
   "cell_type": "code",
   "execution_count": null,
   "metadata": {},
   "outputs": [],
   "source": [
    "h_inclusive = helper.return_hist(selected_subset_df, chip_names, chip_labels, hist_bins=[100, 128, 128])\n",
    "\n",
    "helper.plot_1d_TDC_histograms(h_inclusive, chip_names[0], chip_fignames[0], chip_figtitles[0], fig_path, save=False, show=True,\n",
    "                                tag=\"inclusive\", title_tag=\", inclusive\", slide_friendly=True)\n",
    "\n",
    "helper.plot_1d_TDC_histograms(h_inclusive, chip_names[1], chip_fignames[1], chip_figtitles[1], fig_path, save=False, show=True,\n",
    "                                tag=\"inclusive\", title_tag=\", inclusive\", slide_friendly=True)\n",
    "\n",
    "helper.plot_1d_TDC_histograms(h_inclusive, chip_names[2], chip_fignames[2], chip_figtitles[2], fig_path, save=False, show=True,\n",
    "                                tag=\"inclusive\", title_tag=\", inclusive\", slide_friendly=True)\n",
    "\n",
    "helper.plot_1d_TDC_histograms(h_inclusive, chip_names[3], chip_fignames[3], chip_figtitles[3], fig_path, save=False, show=True,\n",
    "                                tag=\"inclusive\", title_tag=\", inclusive\", slide_friendly=True)\n",
    "\n",
    "del h_inclusive"
   ]
  },
  {
   "cell_type": "code",
   "execution_count": null,
   "metadata": {},
   "outputs": [],
   "source": [
    "oneTrig_onePlusRef_df = selected_subset_df\n",
    "del selected_subset_df"
   ]
  },
  {
   "cell_type": "markdown",
   "metadata": {},
   "source": [
    "## Correlation trigger - reference 1 to 1 hit"
   ]
  },
  {
   "cell_type": "code",
   "execution_count": null,
   "metadata": {},
   "outputs": [],
   "source": [
    "event_board_counts = oneTrig_onePlusRef_df.groupby(['evt', 'board']).size().unstack(fill_value=0)\n",
    "\n",
    "ref_selection = (event_board_counts[2] == 1)\n",
    "event_selection_col = ref_selection\n",
    "\n",
    "selected_event_numbers = event_board_counts[event_selection_col].index\n",
    "tmp_df = oneTrig_onePlusRef_df[oneTrig_onePlusRef_df['evt'].isin(selected_event_numbers)]\n",
    "tmp_df.reset_index(inplace=True, drop=True)\n",
    "\n",
    "h_test1 = hist.Hist(\n",
    "    hist.axis.Regular(16, 0, 16, name='b0 row', label='Trigger Board Row'),\n",
    "    hist.axis.Regular(16, 0, 16, name='b2 row', label='Reference Board Row'),\n",
    ")\n",
    "h_test1.fill(tmp_df.loc[tmp_df['board'] == 0]['row'], tmp_df.loc[tmp_df['board'] == 2]['row'])\n",
    "\n",
    "h_test2 = hist.Hist(\n",
    "    hist.axis.Regular(16, 0, 16, name='b0 col', label='Trigger Board Col'),\n",
    "    hist.axis.Regular(16, 0, 16, name='b2 col', label='Reference Board Col'),\n",
    ")\n",
    "h_test2.fill(tmp_df.loc[tmp_df['board'] == 0]['col'], tmp_df.loc[tmp_df['board'] == 2]['col'])\n",
    "\n",
    "location = np.arange(0, 16) + 0.5\n",
    "tick_labels = np.char.mod('%d', np.arange(0, 16))\n",
    "\n",
    "fig, ax = plt.subplots(1, 2, dpi=100, figsize=(35, 15))\n",
    "\n",
    "hep.hist2dplot(h_test1, ax=ax[0])\n",
    "hep.cms.text(loc=0, ax=ax[0], text=\"Preliminary\", fontsize=25)\n",
    "# ax[0].set_title(f\"{chip_figtitle}, CAL{title_tag}\", loc=\"right\", size=15)\n",
    "ax[0].xaxis.set_major_formatter(ticker.NullFormatter())\n",
    "ax[0].xaxis.set_minor_locator(ticker.FixedLocator(location))\n",
    "ax[0].xaxis.set_minor_formatter(ticker.FixedFormatter(tick_labels))\n",
    "ax[0].yaxis.set_major_formatter(ticker.NullFormatter())\n",
    "ax[0].yaxis.set_minor_locator(ticker.FixedLocator(location))\n",
    "ax[0].yaxis.set_minor_formatter(ticker.FixedFormatter(tick_labels))\n",
    "ax[0].tick_params(axis='both', which='major', length=0)\n",
    "\n",
    "hep.hist2dplot(h_test2, ax=ax[1])\n",
    "hep.cms.text(loc=0, ax=ax[1], text=\"Preliminary\", fontsize=25)\n",
    "ax[1].xaxis.set_major_formatter(ticker.NullFormatter())\n",
    "ax[1].xaxis.set_minor_locator(ticker.FixedLocator(location))\n",
    "ax[1].xaxis.set_minor_formatter(ticker.FixedFormatter(tick_labels))\n",
    "ax[1].yaxis.set_major_formatter(ticker.NullFormatter())\n",
    "ax[1].yaxis.set_minor_locator(ticker.FixedLocator(location))\n",
    "ax[1].yaxis.set_minor_formatter(ticker.FixedFormatter(tick_labels))\n",
    "ax[1].tick_params(axis='both', which='major', length=0)\n",
    "\n",
    "h_dis = hist.Hist(\n",
    "    hist.axis.Regular(32, 0, 32, name='dis', label='Distance (Trigger - Reference)'),\n",
    ")\n",
    "dis = np.sqrt((tmp_df.loc[tmp_df['board'] == 0]['row'].values - tmp_df.loc[tmp_df['board'] == 2]['row'].values)**2 + (tmp_df.loc[tmp_df['board'] == 0]['col'].values - tmp_df.loc[tmp_df['board'] == 2]['col'].values)**2)\n",
    "h_dis.fill(dis)\n",
    "\n",
    "fig, ax = plt.subplots(dpi=100, figsize=(15, 8))\n",
    "hep.histplot(h_dis, ax=ax)\n",
    "hep.cms.text(loc=0, ax=ax, text=\"Preliminary\", fontsize=25)\n",
    "ax.set_yscale('log')\n",
    "\n",
    "del tmp_df, event_board_counts, selected_event_numbers"
   ]
  },
  {
   "cell_type": "markdown",
   "metadata": {},
   "source": [
    "## Correlation trigger + multiple (2+) hits on reference"
   ]
  },
  {
   "cell_type": "code",
   "execution_count": null,
   "metadata": {},
   "outputs": [],
   "source": [
    "event_board_counts = oneTrig_onePlusRef_df.groupby(['evt', 'board']).size().unstack(fill_value=0)\n",
    "\n",
    "ref_selection = (event_board_counts[2] >= 2)\n",
    "event_selection_col = ref_selection\n",
    "\n",
    "selected_event_numbers = event_board_counts[event_selection_col].index\n",
    "tmp_df = oneTrig_onePlusRef_df[oneTrig_onePlusRef_df['evt'].isin(selected_event_numbers)]\n",
    "tmp_df.reset_index(inplace=True, drop=True)\n",
    "\n",
    "n = int(0.01*tmp_df.shape[0]) # ~100k events\n",
    "indices = np.random.choice(tmp_df['evt'].unique(), n, replace=False)\n",
    "test_df = tmp_df.loc[tmp_df['evt'].isin(indices)]\n",
    "\n",
    "h_test1 = hist.Hist(\n",
    "    hist.axis.Regular(16, 0, 16, name='b0 row', label='Trigger Board Row'),\n",
    "    hist.axis.Regular(16, 0, 16, name='b2 row', label='Reference Board Row'),\n",
    ")\n",
    "h_test2 = hist.Hist(\n",
    "    hist.axis.Regular(16, 0, 16, name='b0 col', label='Trigger Board Col'),\n",
    "    hist.axis.Regular(16, 0, 16, name='b2 col', label='Reference Board Col'),\n",
    ")\n",
    "h_dis_2hit = hist.Hist(\n",
    "    hist.axis.Regular(32, 0, 32, name='dis', label='Distance (Trigger - Reference)'),\n",
    ")\n",
    "\n",
    "for name, group in test_df.groupby('evt'):\n",
    "    cnt = len(group[group['board'] == 2]['row'])\n",
    "    broadcasted_trig_row = np.full(cnt, group.loc[group['board'] == 0]['row'].values)\n",
    "    broadcasted_trig_col = np.full(cnt, group.loc[group['board'] == 0]['col'].values)\n",
    "    h_test1.fill(broadcasted_trig_row, group.loc[group['board'] == 2]['row'].to_numpy())\n",
    "    h_test2.fill(broadcasted_trig_col, group.loc[group['board'] == 2]['col'].to_numpy())\n",
    "    dis = np.sqrt((broadcasted_trig_row - group.loc[group['board'] == 2]['row'].values)**2 + (broadcasted_trig_col - group.loc[group['board'] == 2]['col'].values)**2)\n",
    "    h_dis_2hit.fill(dis)\n",
    "\n",
    "location = np.arange(0, 16) + 0.5\n",
    "tick_labels = np.char.mod('%d', np.arange(0, 16))\n",
    "\n",
    "fig, ax = plt.subplots(1, 2, dpi=100, figsize=(35, 15))\n",
    "\n",
    "hep.hist2dplot(h_test1, ax=ax[0])\n",
    "hep.cms.text(loc=0, ax=ax[0], text=\"Preliminary\", fontsize=25)\n",
    "# ax[0].set_title(f\"{chip_figtitle}, CAL{title_tag}\", loc=\"right\", size=15)\n",
    "ax[0].xaxis.set_major_formatter(ticker.NullFormatter())\n",
    "ax[0].xaxis.set_minor_locator(ticker.FixedLocator(location))\n",
    "ax[0].xaxis.set_minor_formatter(ticker.FixedFormatter(tick_labels))\n",
    "ax[0].yaxis.set_major_formatter(ticker.NullFormatter())\n",
    "ax[0].yaxis.set_minor_locator(ticker.FixedLocator(location))\n",
    "ax[0].yaxis.set_minor_formatter(ticker.FixedFormatter(tick_labels))\n",
    "ax[0].tick_params(axis='both', which='major', length=0)\n",
    "\n",
    "hep.hist2dplot(h_test2, ax=ax[1])\n",
    "hep.cms.text(loc=0, ax=ax[1], text=\"Preliminary\", fontsize=25)\n",
    "ax[1].xaxis.set_major_formatter(ticker.NullFormatter())\n",
    "ax[1].xaxis.set_minor_locator(ticker.FixedLocator(location))\n",
    "ax[1].xaxis.set_minor_formatter(ticker.FixedFormatter(tick_labels))\n",
    "ax[1].yaxis.set_major_formatter(ticker.NullFormatter())\n",
    "ax[1].yaxis.set_minor_locator(ticker.FixedLocator(location))\n",
    "ax[1].yaxis.set_minor_formatter(ticker.FixedFormatter(tick_labels))\n",
    "ax[1].tick_params(axis='both', which='major', length=0)\n",
    "\n",
    "fig, ax = plt.subplots(dpi=100, figsize=(15, 8))\n",
    "hep.histplot(h_dis_2hit, ax=ax)\n",
    "hep.cms.text(loc=0, ax=ax, text=\"Preliminary\", fontsize=25)\n",
    "ax.set_yscale('log')\n",
    "\n",
    "del tmp_df, event_board_counts, selected_event_numbers, test_df\n"
   ]
  },
  {
   "cell_type": "markdown",
   "metadata": {},
   "source": [
    "### Compare Ref 1 hit and 2+ hit cases"
   ]
  },
  {
   "cell_type": "code",
   "execution_count": null,
   "metadata": {},
   "outputs": [],
   "source": [
    "hep.histplot(h_dis, density=True, label=\"1 Ref Hit\")\n",
    "hep.histplot(h_dis_2hit, density=True, label=\"2+ Ref Hits\")\n",
    "plt.legend()"
   ]
  },
  {
   "cell_type": "code",
   "execution_count": null,
   "metadata": {},
   "outputs": [],
   "source": [
    "del h_dis_2hit, h_dis,h_test1,h_test2"
   ]
  },
  {
   "cell_type": "markdown",
   "metadata": {},
   "source": [
    "## Trigger - DUT Correlations (Only 1 Hit on Trig + 1 Hit on Ref + 1+ Hits on DUT)"
   ]
  },
  {
   "cell_type": "code",
   "execution_count": null,
   "metadata": {},
   "outputs": [],
   "source": [
    "event_board_counts = oneTrig_onePlusRef_df.groupby(['evt', 'board']).size().unstack(fill_value=0)\n",
    "\n",
    "ref_selection = (event_board_counts[2] == 1)\n",
    "event_selection_col = ref_selection\n",
    "\n",
    "selected_event_numbers = event_board_counts[event_selection_col].index\n",
    "tmp_df = oneTrig_onePlusRef_df[oneTrig_onePlusRef_df['evt'].isin(selected_event_numbers)]\n",
    "tmp_df.reset_index(inplace=True, drop=True)\n",
    "\n",
    "n = int(0.01*tmp_df.shape[0]) # ~100k events\n",
    "indices = np.random.choice(tmp_df['evt'].unique(), n, replace=False)\n",
    "test_df = tmp_df.loc[tmp_df['evt'].isin(indices)]\n",
    "\n",
    "h_test1 = hist.Hist(\n",
    "    hist.axis.Regular(16, 0, 16, name='b0 row', label='Trigger Board Row'),\n",
    "    hist.axis.Regular(16, 0, 16, name='b2 row', label='DUT 1 Board Row'),\n",
    ")\n",
    "h_test2 = hist.Hist(\n",
    "    hist.axis.Regular(16, 0, 16, name='b0 col', label='Trigger Board Col'),\n",
    "    hist.axis.Regular(16, 0, 16, name='b2 col', label='DUT 1 Board Col'),\n",
    ")\n",
    "h_dis_dut_inc = hist.Hist(\n",
    "    hist.axis.Regular(32, 0, 32, name='dis', label='Distance (Trigger - DUT 1)'),\n",
    ")\n",
    "\n",
    "for name, group in test_df.groupby('evt'):\n",
    "    cnt = len(group[group['board'] == 1]['row'])\n",
    "    if(cnt==0): continue\n",
    "    broadcasted_trig_row = np.full(cnt, group.loc[group['board'] == 0]['row'].values)\n",
    "    broadcasted_trig_col = np.full(cnt, group.loc[group['board'] == 0]['col'].values)\n",
    "    h_test1.fill(broadcasted_trig_row, group.loc[group['board'] == 1]['row'].to_numpy())\n",
    "    h_test2.fill(broadcasted_trig_col, group.loc[group['board'] == 1]['col'].to_numpy())\n",
    "    dis = np.sqrt((broadcasted_trig_row - group.loc[group['board'] == 1]['row'].values)**2 + (broadcasted_trig_col - group.loc[group['board'] == 1]['col'].values)**2)\n",
    "    h_dis_dut_inc.fill(dis)\n",
    "\n",
    "location = np.arange(0, 16) + 0.5\n",
    "tick_labels = np.char.mod('%d', np.arange(0, 16))\n",
    "\n",
    "fig, ax = plt.subplots(1, 2, dpi=100, figsize=(35, 15))\n",
    "\n",
    "hep.hist2dplot(h_test1, ax=ax[0])\n",
    "hep.cms.text(loc=0, ax=ax[0], text=\"Preliminary\", fontsize=25)\n",
    "# ax[0].set_title(f\"{chip_figtitle}, CAL{title_tag}\", loc=\"right\", size=15)\n",
    "ax[0].xaxis.set_major_formatter(ticker.NullFormatter())\n",
    "ax[0].xaxis.set_minor_locator(ticker.FixedLocator(location))\n",
    "ax[0].xaxis.set_minor_formatter(ticker.FixedFormatter(tick_labels))\n",
    "ax[0].yaxis.set_major_formatter(ticker.NullFormatter())\n",
    "ax[0].yaxis.set_minor_locator(ticker.FixedLocator(location))\n",
    "ax[0].yaxis.set_minor_formatter(ticker.FixedFormatter(tick_labels))\n",
    "ax[0].tick_params(axis='both', which='major', length=0)\n",
    "\n",
    "hep.hist2dplot(h_test2, ax=ax[1])\n",
    "hep.cms.text(loc=0, ax=ax[1], text=\"Preliminary\", fontsize=25)\n",
    "ax[1].xaxis.set_major_formatter(ticker.NullFormatter())\n",
    "ax[1].xaxis.set_minor_locator(ticker.FixedLocator(location))\n",
    "ax[1].xaxis.set_minor_formatter(ticker.FixedFormatter(tick_labels))\n",
    "ax[1].yaxis.set_major_formatter(ticker.NullFormatter())\n",
    "ax[1].yaxis.set_minor_locator(ticker.FixedLocator(location))\n",
    "ax[1].yaxis.set_minor_formatter(ticker.FixedFormatter(tick_labels))\n",
    "ax[1].tick_params(axis='both', which='major', length=0)\n",
    "\n",
    "fig, ax = plt.subplots(dpi=100, figsize=(15, 8))\n",
    "hep.histplot(h_dis_dut_inc, ax=ax)\n",
    "hep.cms.text(loc=0, ax=ax, text=\"Preliminary\", fontsize=25)\n",
    "ax.set_yscale('log')\n",
    "\n",
    "del tmp_df, event_board_counts, selected_event_numbers, test_df\n"
   ]
  },
  {
   "cell_type": "markdown",
   "metadata": {},
   "source": [
    "## Trigger - DUT Correlations (Only 1 Hit on Trig + 1 Hit on Ref + 1 Hit on DUT)"
   ]
  },
  {
   "cell_type": "code",
   "execution_count": null,
   "metadata": {},
   "outputs": [],
   "source": [
    "event_board_counts = oneTrig_onePlusRef_df.groupby(['evt', 'board']).size().unstack(fill_value=0)\n",
    "\n",
    "ref_selection = (event_board_counts[2] == 1)\n",
    "dut_selection = (event_board_counts[1] == 1)\n",
    "event_selection_col = ref_selection & dut_selection\n",
    "\n",
    "selected_event_numbers = event_board_counts[event_selection_col].index\n",
    "tmp_df = oneTrig_onePlusRef_df[oneTrig_onePlusRef_df['evt'].isin(selected_event_numbers)]\n",
    "tmp_df.reset_index(inplace=True, drop=True)\n",
    "\n",
    "h_test1 = hist.Hist(\n",
    "    hist.axis.Regular(16, 0, 16, name='b0 row', label='Trigger Board Row'),\n",
    "    hist.axis.Regular(16, 0, 16, name='b2 row', label='DUT 1 Board Row'),\n",
    ")\n",
    "h_test1.fill(tmp_df.loc[tmp_df['board'] == 0]['row'], tmp_df.loc[tmp_df['board'] == 1]['row'])\n",
    "\n",
    "h_test2 = hist.Hist(\n",
    "    hist.axis.Regular(16, 0, 16, name='b0 col', label='Trigger Board Col'),\n",
    "    hist.axis.Regular(16, 0, 16, name='b2 col', label='DUT 1 Board Col'),\n",
    ")\n",
    "h_test2.fill(tmp_df.loc[tmp_df['board'] == 0]['col'], tmp_df.loc[tmp_df['board'] == 1]['col'])\n",
    "\n",
    "location = np.arange(0, 16) + 0.5\n",
    "tick_labels = np.char.mod('%d', np.arange(0, 16))\n",
    "\n",
    "fig, ax = plt.subplots(1, 2, dpi=100, figsize=(35, 15))\n",
    "\n",
    "hep.hist2dplot(h_test1, ax=ax[0])\n",
    "hep.cms.text(loc=0, ax=ax[0], text=\"Preliminary\", fontsize=25)\n",
    "# ax[0].set_title(f\"{chip_figtitle}, CAL{title_tag}\", loc=\"right\", size=15)\n",
    "ax[0].xaxis.set_major_formatter(ticker.NullFormatter())\n",
    "ax[0].xaxis.set_minor_locator(ticker.FixedLocator(location))\n",
    "ax[0].xaxis.set_minor_formatter(ticker.FixedFormatter(tick_labels))\n",
    "ax[0].yaxis.set_major_formatter(ticker.NullFormatter())\n",
    "ax[0].yaxis.set_minor_locator(ticker.FixedLocator(location))\n",
    "ax[0].yaxis.set_minor_formatter(ticker.FixedFormatter(tick_labels))\n",
    "ax[0].tick_params(axis='both', which='major', length=0)\n",
    "\n",
    "hep.hist2dplot(h_test2, ax=ax[1])\n",
    "hep.cms.text(loc=0, ax=ax[1], text=\"Preliminary\", fontsize=25)\n",
    "ax[1].xaxis.set_major_formatter(ticker.NullFormatter())\n",
    "ax[1].xaxis.set_minor_locator(ticker.FixedLocator(location))\n",
    "ax[1].xaxis.set_minor_formatter(ticker.FixedFormatter(tick_labels))\n",
    "ax[1].yaxis.set_major_formatter(ticker.NullFormatter())\n",
    "ax[1].yaxis.set_minor_locator(ticker.FixedLocator(location))\n",
    "ax[1].yaxis.set_minor_formatter(ticker.FixedFormatter(tick_labels))\n",
    "ax[1].tick_params(axis='both', which='major', length=0)\n",
    "\n",
    "h_dis_dut_one = hist.Hist(\n",
    "    hist.axis.Regular(32, 0, 32, name='dis', label='Distance (Trigger - DUT 1)'),\n",
    ")\n",
    "dis = np.sqrt((tmp_df.loc[tmp_df['board'] == 0]['row'].values - tmp_df.loc[tmp_df['board'] == 1]['row'].values)**2 + (tmp_df.loc[tmp_df['board'] == 0]['col'].values - tmp_df.loc[tmp_df['board'] == 1]['col'].values)**2)\n",
    "h_dis_dut_one.fill(dis)\n",
    "\n",
    "fig, ax = plt.subplots(dpi=100, figsize=(15, 8))\n",
    "hep.histplot(h_dis_dut_one, ax=ax)\n",
    "hep.cms.text(loc=0, ax=ax, text=\"Preliminary\", fontsize=25)\n",
    "ax.set_yscale('log')\n",
    "\n",
    "del tmp_df, event_board_counts, selected_event_numbers"
   ]
  },
  {
   "cell_type": "markdown",
   "metadata": {},
   "source": [
    "## Trigger - DUT Correlations (Only 1 Hit on Trig + 1 Hit on Ref + 2+ Hits on DUT)"
   ]
  },
  {
   "cell_type": "code",
   "execution_count": null,
   "metadata": {},
   "outputs": [],
   "source": [
    "event_board_counts = oneTrig_onePlusRef_df.groupby(['evt', 'board']).size().unstack(fill_value=0)\n",
    "\n",
    "ref_selection = (event_board_counts[2] == 1)\n",
    "dut_selection = (event_board_counts[1] >= 2)\n",
    "event_selection_col = ref_selection & dut_selection\n",
    "\n",
    "selected_event_numbers = event_board_counts[event_selection_col].index\n",
    "tmp_df = oneTrig_onePlusRef_df[oneTrig_onePlusRef_df['evt'].isin(selected_event_numbers)]\n",
    "tmp_df.reset_index(inplace=True, drop=True)\n",
    "\n",
    "n = int(0.01*tmp_df.shape[0]) # ~100k events\n",
    "indices = np.random.choice(tmp_df['evt'].unique(), n, replace=False)\n",
    "test_df = tmp_df.loc[tmp_df['evt'].isin(indices)]\n",
    "\n",
    "h_test1 = hist.Hist(\n",
    "    hist.axis.Regular(16, 0, 16, name='b0 row', label='Trigger Board Row'),\n",
    "    hist.axis.Regular(16, 0, 16, name='b2 row', label='DUT 1 Board Row'),\n",
    ")\n",
    "h_test2 = hist.Hist(\n",
    "    hist.axis.Regular(16, 0, 16, name='b0 col', label='Trigger Board Col'),\n",
    "    hist.axis.Regular(16, 0, 16, name='b2 col', label='DUT 1 Board Col'),\n",
    ")\n",
    "h_dis_dut_2p = hist.Hist(\n",
    "    hist.axis.Regular(32, 0, 32, name='dis', label='Distance (Trigger - DUT 1)'),\n",
    ")\n",
    "\n",
    "for name, group in test_df.groupby('evt'):\n",
    "    cnt = len(group[group['board'] == 1]['row'])\n",
    "    broadcasted_trig_row = np.full(cnt, group.loc[group['board'] == 0]['row'].values)\n",
    "    broadcasted_trig_col = np.full(cnt, group.loc[group['board'] == 0]['col'].values)\n",
    "    h_test1.fill(broadcasted_trig_row, group.loc[group['board'] == 1]['row'].to_numpy())\n",
    "    h_test2.fill(broadcasted_trig_col, group.loc[group['board'] == 1]['col'].to_numpy())\n",
    "    dis = np.sqrt((broadcasted_trig_row - group.loc[group['board'] == 1]['row'].values)**2 + (broadcasted_trig_col - group.loc[group['board'] == 1]['col'].values)**2)\n",
    "    h_dis_dut_2p.fill(dis)\n",
    "\n",
    "location = np.arange(0, 16) + 0.5\n",
    "tick_labels = np.char.mod('%d', np.arange(0, 16))\n",
    "\n",
    "fig, ax = plt.subplots(1, 2, dpi=100, figsize=(35, 15))\n",
    "\n",
    "hep.hist2dplot(h_test1, ax=ax[0])\n",
    "hep.cms.text(loc=0, ax=ax[0], text=\"Preliminary\", fontsize=25)\n",
    "# ax[0].set_title(f\"{chip_figtitle}, CAL{title_tag}\", loc=\"right\", size=15)\n",
    "ax[0].xaxis.set_major_formatter(ticker.NullFormatter())\n",
    "ax[0].xaxis.set_minor_locator(ticker.FixedLocator(location))\n",
    "ax[0].xaxis.set_minor_formatter(ticker.FixedFormatter(tick_labels))\n",
    "ax[0].yaxis.set_major_formatter(ticker.NullFormatter())\n",
    "ax[0].yaxis.set_minor_locator(ticker.FixedLocator(location))\n",
    "ax[0].yaxis.set_minor_formatter(ticker.FixedFormatter(tick_labels))\n",
    "ax[0].tick_params(axis='both', which='major', length=0)\n",
    "\n",
    "hep.hist2dplot(h_test2, ax=ax[1])\n",
    "hep.cms.text(loc=0, ax=ax[1], text=\"Preliminary\", fontsize=25)\n",
    "ax[1].xaxis.set_major_formatter(ticker.NullFormatter())\n",
    "ax[1].xaxis.set_minor_locator(ticker.FixedLocator(location))\n",
    "ax[1].xaxis.set_minor_formatter(ticker.FixedFormatter(tick_labels))\n",
    "ax[1].yaxis.set_major_formatter(ticker.NullFormatter())\n",
    "ax[1].yaxis.set_minor_locator(ticker.FixedLocator(location))\n",
    "ax[1].yaxis.set_minor_formatter(ticker.FixedFormatter(tick_labels))\n",
    "ax[1].tick_params(axis='both', which='major', length=0)\n",
    "\n",
    "fig, ax = plt.subplots(dpi=100, figsize=(15, 8))\n",
    "hep.histplot(h_dis_dut_2p, ax=ax)\n",
    "hep.cms.text(loc=0, ax=ax, text=\"Preliminary\", fontsize=25)\n",
    "ax.set_yscale('log')\n",
    "\n",
    "del tmp_df, event_board_counts, selected_event_numbers, test_df\n"
   ]
  },
  {
   "cell_type": "markdown",
   "metadata": {},
   "source": [
    "### Compare different DUT cases"
   ]
  },
  {
   "cell_type": "code",
   "execution_count": null,
   "metadata": {},
   "outputs": [],
   "source": [
    "hep.histplot(h_dis_dut_inc, density=True, label=\"1+ DUT Hits\")\n",
    "hep.histplot(h_dis_dut_one, density=True, label=\"=1 DUT Hits\")\n",
    "hep.histplot(h_dis_dut_2p, density=True, label=\"2+ DUT Hits\")\n",
    "plt.legend()"
   ]
  },
  {
   "cell_type": "code",
   "execution_count": null,
   "metadata": {},
   "outputs": [],
   "source": []
  },
  {
   "cell_type": "code",
   "execution_count": null,
   "metadata": {},
   "outputs": [],
   "source": []
  },
  {
   "cell_type": "code",
   "execution_count": null,
   "metadata": {},
   "outputs": [],
   "source": []
  },
  {
   "cell_type": "code",
   "execution_count": null,
   "metadata": {},
   "outputs": [],
   "source": []
  },
  {
   "cell_type": "code",
   "execution_count": null,
   "metadata": {},
   "outputs": [],
   "source": [
    "location = np.arange(0, 16) + 0.5\n",
    "tick_labels = np.char.mod('%d', np.arange(0, 16))\n",
    "\n",
    "fig, ax = plt.subplots(1, 2, dpi=100, figsize=(35, 15))\n",
    "\n",
    "hep.hist2dplot(h_test1, ax=ax[0])\n",
    "hep.cms.text(loc=0, ax=ax[0], text=\"Preliminary\", fontsize=25)\n",
    "ax[0].xaxis.set_major_formatter(ticker.NullFormatter())\n",
    "ax[0].xaxis.set_minor_locator(ticker.FixedLocator(location))\n",
    "ax[0].xaxis.set_minor_formatter(ticker.FixedFormatter(tick_labels))\n",
    "ax[0].yaxis.set_major_formatter(ticker.NullFormatter())\n",
    "ax[0].yaxis.set_minor_locator(ticker.FixedLocator(location))\n",
    "ax[0].yaxis.set_minor_formatter(ticker.FixedFormatter(tick_labels))\n",
    "ax[0].tick_params(axis='both', which='major', length=0)\n",
    "\n",
    "hep.hist2dplot(h_test2, ax=ax[1])\n",
    "hep.cms.text(loc=0, ax=ax[1], text=\"Preliminary\", fontsize=25)\n",
    "ax[1].xaxis.set_major_formatter(ticker.NullFormatter())\n",
    "ax[1].xaxis.set_minor_locator(ticker.FixedLocator(location))\n",
    "ax[1].xaxis.set_minor_formatter(ticker.FixedFormatter(tick_labels))\n",
    "ax[1].yaxis.set_major_formatter(ticker.NullFormatter())\n",
    "ax[1].yaxis.set_minor_locator(ticker.FixedLocator(location))\n",
    "ax[1].yaxis.set_minor_formatter(ticker.FixedFormatter(tick_labels))\n",
    "ax[1].tick_params(axis='both', which='major', length=0)"
   ]
  },
  {
   "cell_type": "code",
   "execution_count": null,
   "metadata": {},
   "outputs": [],
   "source": [
    "df.info()"
   ]
  },
  {
   "cell_type": "code",
   "execution_count": null,
   "metadata": {},
   "outputs": [],
   "source": [
    "event_board_counts = df.groupby(['evt', 'board']).size().unstack(fill_value=0)\n",
    "b1_plus1hit_cut = event_board_counts[1] >= 1\n",
    "b1_plus2hit_cut = event_board_counts[1] >= 2\n",
    "\n",
    "b3_plus1hit_cut = event_board_counts[3] >= 1\n",
    "b3_plus2hit_cut = event_board_counts[3] >= 2\n",
    "\n",
    "selected_event_numbers = event_board_counts[b1_plus1hit_cut].index\n",
    "b1_plus1hit_df = df.loc[df['evt'].isin(selected_event_numbers)]\n",
    "b1_plus1hit_df = b1_plus1hit_df.loc[b1_plus1hit_df['board'] != 3]\n",
    "\n",
    "selected_event_numbers = event_board_counts[b1_plus2hit_cut].index\n",
    "b1_plus2hit_df = df.loc[df['evt'].isin(selected_event_numbers)]\n",
    "b1_plus2hit_df = b1_plus2hit_df.loc[b1_plus2hit_df['board'] != 3]\n",
    "\n",
    "selected_event_numbers = event_board_counts[b3_plus1hit_cut].index\n",
    "b3_plus1hit_df = df.loc[df['evt'].isin(selected_event_numbers)]\n",
    "b3_plus1hit_df = b3_plus1hit_df.loc[b3_plus1hit_df['board'] != 1]\n",
    "\n",
    "selected_event_numbers = event_board_counts[b3_plus2hit_cut].index\n",
    "b3_plus2hit_df = df.loc[df['evt'].isin(selected_event_numbers)]\n",
    "b3_plus2hit_df = b3_plus2hit_df.loc[b3_plus2hit_df['board'] != 1]"
   ]
  },
  {
   "cell_type": "code",
   "execution_count": null,
   "metadata": {},
   "outputs": [],
   "source": [
    "print(b1_plus1hit_df['evt'].nunique()/df['evt'].nunique())\n",
    "print(b3_plus1hit_df['evt'].nunique()/df['evt'].nunique())"
   ]
  },
  {
   "cell_type": "markdown",
   "metadata": {},
   "source": [
    "### Correlation of the trigger board and DUT"
   ]
  },
  {
   "cell_type": "code",
   "execution_count": null,
   "metadata": {},
   "outputs": [],
   "source": [
    "h_test1 = hist.Hist(\n",
    "    hist.axis.Regular(16, 0, 16, name='b0 row', label='Trigger Board Row'),\n",
    "    hist.axis.Regular(16, 0, 16, name='b1 row', label='DUT1 Row'),\n",
    ")\n",
    "\n",
    "h_test2 = hist.Hist(\n",
    "    hist.axis.Regular(16, 0, 16, name='b0 col', label='Trigger Board Col'),\n",
    "    hist.axis.Regular(16, 0, 16, name='b1 col', label='DUT1 Col'),\n",
    ")\n",
    "\n",
    "h_test3 = hist.Hist(\n",
    "    hist.axis.Regular(16, 0, 16, name='b0 row', label='Trigger Board Row'),\n",
    "    hist.axis.Regular(16, 0, 16, name='b3 row', label='DUT2 Row'),\n",
    ")\n",
    "\n",
    "h_test4 = hist.Hist(\n",
    "    hist.axis.Regular(16, 0, 16, name='b0 col', label='Trigger Board Col'),\n",
    "    hist.axis.Regular(16, 0, 16, name='b3 col', label='DUT2 Col'),\n",
    ")"
   ]
  },
  {
   "cell_type": "code",
   "execution_count": null,
   "metadata": {},
   "outputs": [],
   "source": [
    "counter = 0\n",
    "for name, group in b1_plus1hit_df.groupby('evt'):\n",
    "\n",
    "    if counter > 100000:\n",
    "        break\n",
    "\n",
    "    cnt = len(group[group['board'] == 1]['row'])\n",
    "    h_test1.fill(np.full(cnt, group.loc[group['board'] == 0]['row'].values[0]), group.loc[group['board'] == 1]['row'].to_numpy())\n",
    "    h_test2.fill(np.full(cnt, group.loc[group['board'] == 0]['col'].values[0]), group.loc[group['board'] == 1]['col'].to_numpy())\n",
    "\n",
    "    counter += 1\n",
    "\n",
    "    # h_test1.fill(group.loc[group['board'] == 0]['row'].values[0], group.loc[group['board'] == 1]['row'].values[0])\n",
    "    # h_test2.fill(group.loc[group['board'] == 0]['col'].values[0], group.loc[group['board'] == 1]['col'].values[0])\n",
    "\n",
    "    # if cnt > 1:\n",
    "    #     b1row = group.loc[group['board'] == 1]['row'].to_list()\n",
    "    #     b1col = group.loc[group['board'] == 1]['col'].to_list()\n",
    "    #     for icnt in range(cnt):\n",
    "    #         h_test1.fill(group.loc[group['board'] == 0]['row'].values[0], b1row[icnt])\n",
    "    #         h_test2.fill(group.loc[group['board'] == 0]['col'].values[0], b1col[icnt])\n",
    "    # else:"
   ]
  },
  {
   "cell_type": "code",
   "execution_count": null,
   "metadata": {},
   "outputs": [],
   "source": [
    "location = np.arange(0, 16) + 0.5\n",
    "tick_labels = np.char.mod('%d', np.arange(0, 16))\n",
    "\n",
    "fig, ax = plt.subplots(1, 2, dpi=100, figsize=(35, 15))\n",
    "\n",
    "hep.hist2dplot(h_test1, ax=ax[0])\n",
    "hep.cms.text(loc=0, ax=ax[0], text=\"Preliminary\", fontsize=25)\n",
    "ax[0].xaxis.set_major_formatter(ticker.NullFormatter())\n",
    "ax[0].xaxis.set_minor_locator(ticker.FixedLocator(location))\n",
    "ax[0].xaxis.set_minor_formatter(ticker.FixedFormatter(tick_labels))\n",
    "ax[0].yaxis.set_major_formatter(ticker.NullFormatter())\n",
    "ax[0].yaxis.set_minor_locator(ticker.FixedLocator(location))\n",
    "ax[0].yaxis.set_minor_formatter(ticker.FixedFormatter(tick_labels))\n",
    "ax[0].tick_params(axis='both', which='major', length=0)\n",
    "\n",
    "hep.hist2dplot(h_test2, ax=ax[1])\n",
    "hep.cms.text(loc=0, ax=ax[1], text=\"Preliminary\", fontsize=25)\n",
    "ax[1].xaxis.set_major_formatter(ticker.NullFormatter())\n",
    "ax[1].xaxis.set_minor_locator(ticker.FixedLocator(location))\n",
    "ax[1].xaxis.set_minor_formatter(ticker.FixedFormatter(tick_labels))\n",
    "ax[1].yaxis.set_major_formatter(ticker.NullFormatter())\n",
    "ax[1].yaxis.set_minor_locator(ticker.FixedLocator(location))\n",
    "ax[1].yaxis.set_minor_formatter(ticker.FixedFormatter(tick_labels))\n",
    "ax[1].tick_params(axis='both', which='major', length=0)"
   ]
  },
  {
   "cell_type": "code",
   "execution_count": null,
   "metadata": {},
   "outputs": [],
   "source": [
    "counter = 0\n",
    "for name, group in b3_plus1hit_df.groupby('evt'):\n",
    "\n",
    "    if counter > 100000:\n",
    "        break\n",
    "\n",
    "    cnt = len(group[group['board'] == 3]['row'])\n",
    "    h_test3.fill(np.full(cnt, group.loc[group['board'] == 0]['row'].values[0]), group.loc[group['board'] == 3]['row'].to_numpy())\n",
    "    h_test4.fill(np.full(cnt, group.loc[group['board'] == 0]['col'].values[0]), group.loc[group['board'] == 3]['col'].to_numpy())\n",
    "\n",
    "    counter += 1"
   ]
  },
  {
   "cell_type": "code",
   "execution_count": null,
   "metadata": {},
   "outputs": [],
   "source": [
    "location = np.arange(0, 16) + 0.5\n",
    "tick_labels = np.char.mod('%d', np.arange(0, 16))\n",
    "\n",
    "fig, ax = plt.subplots(1, 2, dpi=100, figsize=(35, 15))\n",
    "\n",
    "hep.hist2dplot(h_test3, ax=ax[0])\n",
    "hep.cms.text(loc=0, ax=ax[0], text=\"Preliminary\", fontsize=25)\n",
    "ax[0].xaxis.set_major_formatter(ticker.NullFormatter())\n",
    "ax[0].xaxis.set_minor_locator(ticker.FixedLocator(location))\n",
    "ax[0].xaxis.set_minor_formatter(ticker.FixedFormatter(tick_labels))\n",
    "ax[0].yaxis.set_major_formatter(ticker.NullFormatter())\n",
    "ax[0].yaxis.set_minor_locator(ticker.FixedLocator(location))\n",
    "ax[0].yaxis.set_minor_formatter(ticker.FixedFormatter(tick_labels))\n",
    "ax[0].tick_params(axis='both', which='major', length=0)\n",
    "\n",
    "hep.hist2dplot(h_test4, ax=ax[1])\n",
    "hep.cms.text(loc=0, ax=ax[1], text=\"Preliminary\", fontsize=25)\n",
    "ax[1].xaxis.set_major_formatter(ticker.NullFormatter())\n",
    "ax[1].xaxis.set_minor_locator(ticker.FixedLocator(location))\n",
    "ax[1].xaxis.set_minor_formatter(ticker.FixedFormatter(tick_labels))\n",
    "ax[1].yaxis.set_major_formatter(ticker.NullFormatter())\n",
    "ax[1].yaxis.set_minor_locator(ticker.FixedLocator(location))\n",
    "ax[1].yaxis.set_minor_formatter(ticker.FixedFormatter(tick_labels))\n",
    "ax[1].tick_params(axis='both', which='major', length=0)"
   ]
  },
  {
   "cell_type": "code",
   "execution_count": null,
   "metadata": {},
   "outputs": [],
   "source": [
    "h_diff_0plus = hist.Hist(\n",
    "    hist.axis.Regular(16, 0, 16, name='delta_row', label='delta_row'),\n",
    "    hist.axis.Regular(16, 0, 16, name='delta_col', label='delta_col'),\n",
    ")\n",
    "h_diff_1plus = hist.Hist(\n",
    "    hist.axis.Regular(16, 0, 16, name='delta_row', label='delta_row'),\n",
    "    hist.axis.Regular(16, 0, 16, name='delta_col', label='delta_col'),\n",
    ")\n",
    "h_diff_2plus = hist.Hist(\n",
    "    hist.axis.Regular(16, 0, 16, name='delta_row', label='delta_row'),\n",
    "    hist.axis.Regular(16, 0, 16, name='delta_col', label='delta_col'),\n",
    ")\n",
    "\n",
    "h_dis_0plus = hist.Hist(hist.axis.Regular(32, 0, 32, name='distance', label='distance'))\n",
    "h_dis_1plus = hist.Hist(hist.axis.Regular(32, 0, 32, name='distance', label='distance'))\n",
    "h_dis_2plus = hist.Hist(hist.axis.Regular(32, 0, 32, name='distance', label='distance'))"
   ]
  },
  {
   "cell_type": "code",
   "execution_count": null,
   "metadata": {},
   "outputs": [],
   "source": [
    "for name, group in b1_plus1hit_df.groupby('evt'):\n",
    "\n",
    "    refer_row = 0.5*(group.loc[group['board']==0]['row'].values[0] + group.loc[group['board']==2]['row'].values[0])\n",
    "    refer_col = 0.5*(group.loc[group['board']==0]['col'].values[0] + group.loc[group['board']==2]['col'].values[0])\n",
    "\n",
    "    b1_row = group.loc[group['board'] == 1]['row'].to_numpy()\n",
    "    b1_col = group.loc[group['board'] == 1]['col'].to_numpy()\n",
    "\n",
    "    diff_row = np.abs(refer_row - b1_row)\n",
    "    diff_col = np.abs(refer_col - b1_col)\n",
    "\n",
    "    h_diff_2plus.fill(diff_row, diff_col)\n",
    "    h_dis_2plus.fill(np.sqrt(diff_row**2 + diff_col**2))"
   ]
  },
  {
   "cell_type": "code",
   "execution_count": null,
   "metadata": {},
   "outputs": [],
   "source": [
    "for name, group in b1_plus2hit_df.groupby('evt'):\n",
    "\n",
    "    refer_row = 0.5*(group.loc[group['board']==0]['row'].values[0] + group.loc[group['board']==2]['row'].values[0])\n",
    "    refer_col = 0.5*(group.loc[group['board']==0]['col'].values[0] + group.loc[group['board']==2]['col'].values[0])\n",
    "\n",
    "    b1_row = group.loc[group['board'] == 1]['row'].to_numpy()\n",
    "    b1_col = group.loc[group['board'] == 1]['col'].to_numpy()\n",
    "\n",
    "    diff_row = np.abs(refer_row - b1_row)\n",
    "    diff_col = np.abs(refer_col - b1_col)\n",
    "\n",
    "    h_diff_2plus.fill(diff_row, diff_col)\n",
    "    h_dis_2plus.fill(np.sqrt(diff_row**2 + diff_col**2))"
   ]
  },
  {
   "cell_type": "code",
   "execution_count": null,
   "metadata": {},
   "outputs": [],
   "source": [
    "# # diff_dict = {}\n",
    "# counter = 0\n",
    "\n",
    "# for name, group in second_tmp_df.groupby('evt'):\n",
    "\n",
    "#     # if counter > 30:\n",
    "#     #     break\n",
    "#     # diff_dict[name] = {}\n",
    "\n",
    "#     arr = group['row'].to_numpy()\n",
    "#     # print('row:', arr)\n",
    "#     differences = arr[:, np.newaxis] - arr\n",
    "#     upper_triangle_indices = np.triu_indices(len(arr), k=1)\n",
    "#     diff_row = np.abs(differences[upper_triangle_indices])\n",
    "#     # diff_dict[name]['row'] = upper_triangle_values\n",
    "\n",
    "#     arr = group['col'].to_numpy()\n",
    "#     # print('col:', arr)\n",
    "#     differences = arr[:, np.newaxis] - arr\n",
    "#     upper_triangle_indices = np.triu_indices(len(arr), k=1)\n",
    "#     diff_col = np.abs(differences[upper_triangle_indices])\n",
    "#     # diff_dict[name]['col'] = upper_triangle_values\n",
    "\n",
    "#     h_diff.fill(diff_row, diff_col)\n",
    "#     h_deltaR.fill(diff_row + diff_col)\n",
    "#     # h_deltaR.fill(np.sqrt(diff_row**2 + diff_col**2))\n",
    "\n",
    "#     # counter += 1"
   ]
  },
  {
   "cell_type": "code",
   "execution_count": null,
   "metadata": {},
   "outputs": [],
   "source": [
    "location = np.arange(0, 16) + 0.5\n",
    "tick_labels = np.char.mod('%d', np.arange(0, 16))\n",
    "\n",
    "fig, ax = plt.subplots(1, 2, dpi=100, figsize=(35, 15))\n",
    "\n",
    "hep.hist2dplot(h_diff_2plus, ax=ax[0])\n",
    "hep.cms.text(loc=0, ax=ax[0], text=\"Preliminary\", fontsize=25)\n",
    "ax[0].xaxis.set_major_formatter(ticker.NullFormatter())\n",
    "ax[0].xaxis.set_minor_locator(ticker.FixedLocator(location))\n",
    "ax[0].xaxis.set_minor_formatter(ticker.FixedFormatter(tick_labels))\n",
    "ax[0].yaxis.set_major_formatter(ticker.NullFormatter())\n",
    "ax[0].yaxis.set_minor_locator(ticker.FixedLocator(location))\n",
    "ax[0].yaxis.set_minor_formatter(ticker.FixedFormatter(tick_labels))\n",
    "ax[0].tick_params(axis='both', which='major', length=0)\n",
    "\n",
    "hep.hist2dplot(h_diff_2plus, ax=ax[1], norm=colors.LogNorm())\n",
    "hep.cms.text(loc=0, ax=ax[1], text=\"Preliminary\", fontsize=25)\n",
    "ax[1].xaxis.set_major_formatter(ticker.NullFormatter())\n",
    "ax[1].xaxis.set_minor_locator(ticker.FixedLocator(location))\n",
    "ax[1].xaxis.set_minor_formatter(ticker.FixedFormatter(tick_labels))\n",
    "ax[1].yaxis.set_major_formatter(ticker.NullFormatter())\n",
    "ax[1].yaxis.set_minor_locator(ticker.FixedLocator(location))\n",
    "ax[1].yaxis.set_minor_formatter(ticker.FixedFormatter(tick_labels))\n",
    "ax[1].tick_params(axis='both', which='major', length=0)"
   ]
  },
  {
   "cell_type": "code",
   "execution_count": null,
   "metadata": {},
   "outputs": [],
   "source": [
    "hep.histplot(h_dis_2plus)"
   ]
  },
  {
   "cell_type": "code",
   "execution_count": null,
   "metadata": {},
   "outputs": [],
   "source": []
  },
  {
   "cell_type": "code",
   "execution_count": null,
   "metadata": {},
   "outputs": [],
   "source": []
  },
  {
   "cell_type": "code",
   "execution_count": null,
   "metadata": {},
   "outputs": [],
   "source": [
    "h_test1.plot2d()"
   ]
  },
  {
   "cell_type": "code",
   "execution_count": null,
   "metadata": {},
   "outputs": [],
   "source": [
    "h_test2.plot2d()"
   ]
  },
  {
   "cell_type": "code",
   "execution_count": null,
   "metadata": {},
   "outputs": [],
   "source": [
    "h_test3.plot2d()"
   ]
  },
  {
   "cell_type": "code",
   "execution_count": null,
   "metadata": {},
   "outputs": [],
   "source": [
    "h_test4.plot2d()"
   ]
  },
  {
   "cell_type": "code",
   "execution_count": null,
   "metadata": {},
   "outputs": [],
   "source": []
  }
 ],
 "metadata": {
  "kernelspec": {
   "display_name": "Python 3 (ipykernel)",
   "language": "python",
   "name": "python3"
  },
  "language_info": {
   "codemirror_mode": {
    "name": "ipython",
    "version": 3
   },
   "file_extension": ".py",
   "mimetype": "text/x-python",
   "name": "python",
   "nbconvert_exporter": "python",
   "pygments_lexer": "ipython3",
   "version": "3.11.2"
  }
 },
 "nbformat": 4,
 "nbformat_minor": 4
}
