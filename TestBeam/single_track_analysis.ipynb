{
 "cells": [
  {
   "cell_type": "code",
   "execution_count": null,
   "metadata": {},
   "outputs": [],
   "source": [
    "import beamtest_analysis_helper as helper\n",
    "from glob import glob\n",
    "from natsort import natsorted\n",
    "from tqdm.notebook import tqdm\n",
    "import pandas as pd\n",
    "import numpy as np\n",
    "\n",
    "# import hist\n",
    "# import matplotlib.pyplot as plt\n",
    "# import matplotlib.ticker as ticker\n",
    "# import matplotlib.colors as colors\n",
    "# import mplhep as hep\n",
    "# hep.style.use('CMS')"
   ]
  },
  {
   "cell_type": "code",
   "execution_count": null,
   "metadata": {},
   "outputs": [],
   "source": [
    "columns_to_read = ['evt', 'board', 'row', 'col', 'toa', 'tot', 'cal']\n",
    "names = [\"ET2_EPIR_Pair1\", \"ET2p01_BAR_4\", \"ET2p01_BAR_5\", \"ET2_EPIR_Pair4\"]\n",
    "\n",
    "high_voltages = [250, 260, 210, 260]\n",
    "offsets = [15, 10, 10, 15]\n",
    "\n",
    "chip_figtitles = [\n",
    "    f\"(Trigger) EPIR Pair1 HV{high_voltages[0]}V OS:{offsets[0]}\",\n",
    "    f\"(DUT1) Barcelona 4 HV{high_voltages[1]}V OS:{offsets[1]}\",\n",
    "    f\"(Reference) Barcelona 5 HV{high_voltages[2]}V OS:{offsets[2]}\",\n",
    "    f\"(DUT2) EPIR Pair4 HV{high_voltages[3]}V OS:{offsets[3]}\"\n",
    "]\n",
    "\n",
    "dut1_id = 1\n",
    "dut2_id = 3\n",
    "ref_id = 2"
   ]
  },
  {
   "cell_type": "code",
   "execution_count": null,
   "metadata": {},
   "outputs": [],
   "source": [
    "files = natsorted(glob('DESYFeb2024_Run_34_feather/*feather'))\n",
    "files[:3]"
   ]
  },
  {
   "cell_type": "markdown",
   "metadata": {},
   "source": [
    "### Load dataframe based on single pixel selection from the trigger board"
   ]
  },
  {
   "cell_type": "code",
   "execution_count": null,
   "metadata": {},
   "outputs": [],
   "source": [
    "last_evt = 0\n",
    "dataframes = []\n",
    "\n",
    "for idx, ifile in enumerate(tqdm(files)):\n",
    "\n",
    "    tmp_df = pd.read_feather(ifile, columns=columns_to_read)\n",
    "\n",
    "    if tmp_df.empty:\n",
    "        continue\n",
    "\n",
    "    subset_df = tmp_df.loc[tmp_df['evt'].isin(tmp_df.loc[(tmp_df['board'] == 0) & (tmp_df['row'] == 7) & (tmp_df['col'] == 7)]['evt'].unique())]\n",
    "    del tmp_df\n",
    "\n",
    "    if subset_df.empty:\n",
    "        continue\n",
    "\n",
    "    subset_df.reset_index(drop=True, inplace=True)\n",
    "    subset_df['evt'] = subset_df.groupby('evt').ngroup().astype('uint64')\n",
    "\n",
    "    if idx > 0:\n",
    "        subset_df['evt'] += np.uint64(last_evt)\n",
    "\n",
    "    last_evt += np.uint64(subset_df['evt'].nunique())\n",
    "\n",
    "    dataframes.append(subset_df)\n",
    "    del subset_df\n",
    "\n",
    "df = pd.concat(dataframes)\n",
    "df.reset_index(inplace=True, drop=True)\n",
    "del dataframes"
   ]
  },
  {
   "cell_type": "markdown",
   "metadata": {},
   "source": [
    "### Basic TDC plots"
   ]
  },
  {
   "cell_type": "code",
   "execution_count": null,
   "metadata": {},
   "outputs": [],
   "source": [
    "h_inclusive = helper.return_hist(df, chipNames=names, chipLabels=[0,1,2,3], hist_bins=[100, 128, 128])\n",
    "\n",
    "for iboard in [0,1,2,3]:\n",
    "    helper.plot_1d_TDC_histograms(h_inclusive, names[iboard], names[iboard], chip_figtitles[iboard], save=False,\n",
    "                                tag=\"inclusive\", fig_tag=\", inclusive\", slide_friendly=True)\n",
    "\n",
    "del h_inclusive"
   ]
  },
  {
   "cell_type": "markdown",
   "metadata": {},
   "source": [
    "### Occupancy map"
   ]
  },
  {
   "cell_type": "code",
   "execution_count": null,
   "metadata": {},
   "outputs": [],
   "source": [
    "helper.plot_occupany_map(df, chipLabels=[0,1,2,3], chipNames=names, fig_title=chip_figtitles, fig_tag='inclusive')"
   ]
  },
  {
   "cell_type": "markdown",
   "metadata": {},
   "source": [
    "### Filtering by TDC"
   ]
  },
  {
   "cell_type": "code",
   "execution_count": null,
   "metadata": {},
   "outputs": [],
   "source": [
    "## Selecting good hits\n",
    "tdc_cuts = {}\n",
    "for idx in [0,1,2,3]:\n",
    "    # board ID: [CAL LB, CAL UB, TOA LB, TOA UB, TOT LB, TOT UB]\n",
    "    if idx == 0:\n",
    "        tdc_cuts[idx] = [df.loc[df['board'] == idx]['cal'].mode()[0]-3, df.loc[df['board'] == idx]['cal'].mode()[0]+3,  100, 500, 100, 250]\n",
    "    elif idx == ref_id:\n",
    "        tdc_cuts[idx] = [df.loc[df['board'] == idx]['cal'].mode()[0]-3, df.loc[df['board'] == idx]['cal'].mode()[0]+3,  0, 1100, 80, 200]\n",
    "    else:\n",
    "        tdc_cuts[idx] = [df.loc[df['board'] == idx]['cal'].mode()[0]-3, df.loc[df['board'] == idx]['cal'].mode()[0]+3,  0, 1100, 0, 600]\n",
    "\n",
    "filtered_df = helper.tdc_event_selection(df, tdc_cuts_dict=tdc_cuts, select_by_hit=False)"
   ]
  },
  {
   "cell_type": "markdown",
   "metadata": {},
   "source": [
    "### Efficiency"
   ]
  },
  {
   "cell_type": "code",
   "execution_count": null,
   "metadata": {},
   "outputs": [],
   "source": [
    "event_board_counts = filtered_df.groupby(['evt', 'board']).size().unstack(fill_value=0)\n",
    "event_selection_col = None\n",
    "\n",
    "trig_selection = (event_board_counts[0] == 1)\n",
    "ref_selection = (event_board_counts[ref_id] == 1)\n",
    "event_selection_col = trig_selection & ref_selection\n",
    "\n",
    "case1_df = filtered_df[filtered_df['evt'].isin(event_board_counts[event_selection_col].index)]\n",
    "case1_df.reset_index(inplace=True, drop=True)"
   ]
  },
  {
   "cell_type": "code",
   "execution_count": null,
   "metadata": {},
   "outputs": [],
   "source": [
    "diff_row = abs(case1_df[case1_df['board'] == 0]['row'].values - case1_df[case1_df['board'] == ref_id]['row'].values)\n",
    "diff_col = abs(case1_df[case1_df['board'] == 0]['col'].values - case1_df[case1_df['board'] == ref_id]['col'].values)"
   ]
  },
  {
   "cell_type": "code",
   "execution_count": null,
   "metadata": {},
   "outputs": [],
   "source": [
    "## Select event numbers where trig - ref colinearity has been satisfied\n",
    "trig_ref_colinear_evts = case1_df['evt'].unique()[(diff_row <= 1) & (diff_col <= 1)]"
   ]
  },
  {
   "cell_type": "code",
   "execution_count": null,
   "metadata": {},
   "outputs": [],
   "source": [
    "dut1_df = helper.return_broadcast_dataframe(input_df=filtered_df, trig_board_id=0, ref_board_id=ref_id, dut_board_id=dut1_id, trig_dut=True, ref_dut=False)"
   ]
  },
  {
   "cell_type": "code",
   "execution_count": null,
   "metadata": {},
   "outputs": [],
   "source": [
    "colinear_dut1_df = dut1_df[dut1_df['evt'].isin(trig_ref_colinear_evts)].reset_index(drop=True)"
   ]
  },
  {
   "cell_type": "code",
   "execution_count": null,
   "metadata": {},
   "outputs": [],
   "source": [
    "### Board-level Efficiency of DUT w/ considering colinear of trigger and reference boards\n",
    "# 100*colinear_dut1_df['evt'].nunique()/case1_df['evt'].nunique()\n",
    "100*colinear_dut1_df['evt'].nunique()/trig_ref_colinear_evts.size"
   ]
  },
  {
   "cell_type": "code",
   "execution_count": null,
   "metadata": {},
   "outputs": [],
   "source": [
    "diff_row = colinear_dut1_df[colinear_dut1_df['board'] == 0]['row'].values - colinear_dut1_df[colinear_dut1_df['board'] == dut1_id]['row'].values\n",
    "diff_col = colinear_dut1_df[colinear_dut1_df['board'] == 0]['col'].values - colinear_dut1_df[colinear_dut1_df['board'] == dut1_id]['col'].values"
   ]
  },
  {
   "cell_type": "code",
   "execution_count": null,
   "metadata": {},
   "outputs": [],
   "source": [
    "## Select event numbers where trig - dut colinearity has been satisfied\n",
    "trig_dut_colinear_df = colinear_dut1_df[colinear_dut1_df['board'] == 0][(diff_row <= 2) & (diff_col <= 2)]\n",
    "trig_dut_colinear_evts = trig_dut_colinear_df['evt'].unique()\n",
    "print(trig_dut_colinear_evts.size,colinear_dut1_df['evt'].nunique(),trig_ref_colinear_evts.size,dut1_df['evt'].nunique(),case1_df['evt'].nunique())"
   ]
  },
  {
   "cell_type": "code",
   "execution_count": null,
   "metadata": {},
   "outputs": [],
   "source": [
    "# 100*trig_dut_colinear_df['evt'].nunique()/case1_df['evt'].nunique()\n",
    "100*trig_dut_colinear_df['evt'].nunique()/trig_ref_colinear_evts.size"
   ]
  },
  {
   "cell_type": "code",
   "execution_count": null,
   "metadata": {},
   "outputs": [],
   "source": [
    "colinear_case1_df = case1_df[case1_df['evt'].isin(trig_ref_colinear_evts)].reset_index(drop=True)\n",
    "hits_count_by_col_row_board = colinear_case1_df.groupby(['col', 'row', 'board'])['evt'].count().reset_index()\n",
    "# hits_count_by_col_row_board = colinear_dut1_df.groupby(['col', 'row', 'board'])['evt'].count().reset_index()\n",
    "\n",
    "hits_count_by_col_row_board = hits_count_by_col_row_board.rename(columns={'evt': 'hits'})\n",
    "denominator = hits_count_by_col_row_board[hits_count_by_col_row_board['board'] == 0].pivot_table(\n",
    "    index='row',\n",
    "    columns='col',\n",
    "    values='hits',\n",
    "    fill_value=0  # Fill missing values with 0 (if any)\n",
    ")"
   ]
  },
  {
   "cell_type": "code",
   "execution_count": null,
   "metadata": {},
   "outputs": [],
   "source": [
    "# hits_count_by_col_row_board = trig_dut_colinear_df.groupby(['col', 'row'])['evt'].count().reset_index()\n",
    "colinear_case2_df = case1_df[case1_df['evt'].isin(trig_dut_colinear_evts)].reset_index(drop=True)\n",
    "hits_count_by_col_row_board = colinear_case2_df.groupby(['col', 'row', 'board'])['evt'].count().reset_index()\n",
    "hits_count_by_col_row_board = hits_count_by_col_row_board.rename(columns={'evt': 'hits'})\n",
    "numerator = hits_count_by_col_row_board[hits_count_by_col_row_board['board'] == 0].pivot_table(\n",
    "    index='row',\n",
    "    columns='col',\n",
    "    values='hits',\n",
    "    fill_value=0  # Fill missing values with 0 (if any)\n",
    ")"
   ]
  },
  {
   "cell_type": "code",
   "execution_count": null,
   "metadata": {},
   "outputs": [],
   "source": [
    "eff_table = 100*numerator/denominator\n",
    "eff_table = eff_table.fillna(0)\n",
    "\n",
    "# Create a heatmap to visualize the count of hits\n",
    "fig, ax = plt.subplots(dpi=100, figsize=(20, 20))\n",
    "im = ax.imshow(eff_table, cmap=\"viridis\", interpolation=\"nearest\")\n",
    "\n",
    "# Add color bar\n",
    "cbar = plt.colorbar(im, ax=ax, fraction=0.046, pad=0.04)\n",
    "cbar.set_label('Efficiency', fontsize=20)\n",
    "cbar.ax.tick_params(labelsize=20)\n",
    "\n",
    "for i in range(16):\n",
    "    for j in range(16):\n",
    "        try:\n",
    "            value = eff_table.iloc[i, j]\n",
    "        except:\n",
    "            value = -1\n",
    "        if value == -1: continue\n",
    "        text_color = 'black' if value > 0.5*(eff_table.values.max() + eff_table.values.min()) else 'white'\n",
    "        text = str(\"{:.1f}%\".format(value))\n",
    "        plt.text(j, i, text, va='center', ha='center', color=text_color, fontsize=17)\n",
    "\n",
    "hep.cms.text(loc=0, ax=ax, text=\"Preliminary\", fontsize=25)\n",
    "ax.set_xlabel('Column (col)', fontsize=20)\n",
    "ax.set_ylabel('Row (row)', fontsize=20)\n",
    "ticks = range(0, 16)\n",
    "ax.set_xticks(ticks)\n",
    "ax.set_yticks(ticks)\n",
    "ax.set_title(f\"Efficiency of DUT projected to the trigger board based on 3-board analysis\", loc=\"right\", size=20)\n",
    "ax.tick_params(axis='x', which='both', length=5, labelsize=17)\n",
    "ax.tick_params(axis='y', which='both', length=5, labelsize=17)\n",
    "ax.invert_xaxis()\n",
    "ax.invert_yaxis()\n",
    "plt.minorticks_off()\n",
    "\n",
    "# fig.savefig('dut1_3board_eff_map.png')\n",
    "# fig.savefig('dut1_3board_eff_map.pdf')"
   ]
  }
 ],
 "metadata": {
  "kernelspec": {
   "display_name": "packages",
   "language": "python",
   "name": "python3"
  },
  "language_info": {
   "codemirror_mode": {
    "name": "ipython",
    "version": 3
   },
   "file_extension": ".py",
   "mimetype": "text/x-python",
   "name": "python",
   "nbconvert_exporter": "python",
   "pygments_lexer": "ipython3",
   "version": "3.10.12"
  }
 },
 "nbformat": 4,
 "nbformat_minor": 2
}
