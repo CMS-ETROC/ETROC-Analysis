{
 "cells": [
  {
   "cell_type": "markdown",
   "metadata": {},
   "source": [
    "## Import"
   ]
  },
  {
   "cell_type": "code",
   "execution_count": null,
   "metadata": {},
   "outputs": [],
   "source": [
    "import sys, os\n",
    "path2add = os.path.normpath(os.path.abspath(os.path.join(os.path.curdir, os.path.pardir)))\n",
    "print(path2add)\n",
    "\n",
    "if (not (path2add in sys.path)) :\n",
    "    sys.path.append(path2add)"
   ]
  },
  {
   "cell_type": "code",
   "execution_count": null,
   "metadata": {},
   "outputs": [],
   "source": [
    "from scipy.stats import mode\n",
    "from tqdm.notebook import tqdm\n",
    "from pathlib import Path\n",
    "\n",
    "import beamtest_analysis_helper as helper\n",
    "import pandas as pd\n",
    "import numpy as np\n",
    "import matplotlib.pyplot as plt\n",
    "import mplhep as hep\n",
    "hep.style.use('CMS')"
   ]
  },
  {
   "cell_type": "markdown",
   "metadata": {},
   "source": [
    "## Specify board information"
   ]
  },
  {
   "cell_type": "code",
   "execution_count": null,
   "metadata": {},
   "outputs": [],
   "source": [
    "chip_labels = [0, 1, 2, 3]\n",
    "\n",
    "## DESY TB Dec2023, Run39 configs\n",
    "# chip_names = [\"EPIR_Pair1\", \"BAR_4\", \"BAR_6\", \"BB_1-3\"]\n",
    "# high_voltages = [260, 260, 260, 200]\n",
    "# offsets = [15, 10, 15, 10]\n",
    "# chip_fignames = chip_names\n",
    "# chip_figtitles = [\n",
    "#     f\"EPIR Pair1 HV{high_voltages[0]}V OS:{offsets[0]}\",\n",
    "#     f\"Barcelona 4 HV{high_voltages[1]}V OS:{offsets[1]}\",\n",
    "#     f\"Barcelona 6 HV{high_voltages[2]}V OS:{offsets[2]}\",\n",
    "#     f\"BB 1-3 HV{high_voltages[3]}V OS:{offsets[3]}\"\n",
    "# ]\n",
    "\n",
    "## DESY TB Feb2024, Run36 configs\n",
    "# chip_names = [\"EPIR_Pair1\", \"BAR_4\", \"BAR_5\", \"EPIR_Pair4\"]\n",
    "# high_voltages = [250, 260, 210, 200]\n",
    "# offsets = [15, 20, 20, 15]\n",
    "# chip_fignames = chip_names\n",
    "# chip_figtitles = [\n",
    "#     f\"EPIR Pair1 HV{high_voltages[0]}V OS:{offsets[0]}\",\n",
    "#     f\"Barcelona 4 HV{high_voltages[1]}V OS:{offsets[1]}\",\n",
    "#     f\"Barcelona 5 HV{high_voltages[2]}V OS:{offsets[2]}\",\n",
    "#     f\"EPIR Pair4 HV{high_voltages[3]}V OS:{offsets[3]}\"\n",
    "# ]\n",
    "\n",
    "## DESY TB Apr2024, Run13 configs\n",
    "chip_names = [\"BAR_4\", \"BAR_12\", \"BAR_13\", \"BB_1-3\"]\n",
    "high_voltages = [260, 120, 120, 200]\n",
    "offsets = [20, 20, 20, 20]\n",
    "chip_fignames = chip_names\n",
    "chip_figtitles = [\n",
    "    f\"Barcelona 4 HV{high_voltages[0]}V OS:{offsets[0]}\",\n",
    "    f\"Barcelona 12 HV{high_voltages[1]}V OS:{offsets[1]}\",\n",
    "    f\"Barcelona 13 HV{high_voltages[2]}V OS:{offsets[2]}\",\n",
    "    f\"BB 1-3 HV{high_voltages[3]}V OS:{offsets[3]}\"\n",
    "]"
   ]
  },
  {
   "cell_type": "markdown",
   "metadata": {},
   "source": [
    "## Set output directory depending on TB campaign"
   ]
  },
  {
   "cell_type": "code",
   "execution_count": null,
   "metadata": {},
   "outputs": [],
   "source": [
    "current_dir = Path('./')\n",
    "output_mother_dir = current_dir / 'etroc_TB_figs'\n",
    "output_mother_dir.mkdir(exist_ok=True)\n",
    "\n",
    "### Now you need change the directory name per campaign\n",
    "### Naming rule is this:\n",
    "### <TB location>_TB_MonthYear\n",
    "### E.g. desy_TB_Apr2024, cern_TB_Sep2023, fnal_TB_Jul2024\n",
    "\n",
    "output_campaign_dir = output_mother_dir / 'desy_TB_Apr2024'\n",
    "output_campaign_dir.mkdir(exist_ok=True)"
   ]
  },
  {
   "cell_type": "markdown",
   "metadata": {},
   "source": [
    "## Read input files"
   ]
  },
  {
   "cell_type": "code",
   "execution_count": null,
   "metadata": {},
   "outputs": [],
   "source": [
    "files = Path('./desy_apr2024_run13').glob('loop*feather')\n",
    "files = sorted(list(files))\n",
    "files"
   ]
  },
  {
   "cell_type": "code",
   "execution_count": null,
   "metadata": {},
   "outputs": [],
   "source": [
    "dataframes = []\n",
    "columns_to_read = ['evt', 'ea', 'board', 'row', 'col', 'toa', 'tot', 'cal']\n",
    "\n",
    "for idx, ifile in enumerate(files):\n",
    "    tmp_df = pd.read_feather(ifile, columns=columns_to_read)\n",
    "    nevt = tmp_df['evt'].nunique()\n",
    "    if idx > 0:\n",
    "        tmp_df['evt'] += nevt\n",
    "    dataframes.append(tmp_df)\n",
    "    del tmp_df\n",
    "\n",
    "df = pd.concat(dataframes)\n",
    "del dataframes"
   ]
  },
  {
   "cell_type": "markdown",
   "metadata": {},
   "source": [
    "## Make occupancy map"
   ]
  },
  {
   "cell_type": "code",
   "execution_count": null,
   "metadata": {},
   "outputs": [],
   "source": [
    "helper.plot_occupany_map(df, chipLabels=chip_labels, board_names=chip_names, tb_loc='desy', fname_tag='inclusive', save_mother_dir=output_campaign_dir)"
   ]
  },
  {
   "cell_type": "code",
   "execution_count": null,
   "metadata": {},
   "outputs": [],
   "source": [
    "h_inclusive = helper.return_hist_pivot(input_df=df, chipNames=chip_names, board_id_to_analyze=chip_labels, hist_bins=[100, 128, 128])\n",
    "for iboard in chip_labels:\n",
    "    helper.plot_1d_TDC_histograms(h_inclusive, chip_names[iboard], 'cern', chip_figtitles[iboard], slide_friendly=True)#, save_mother_dir=output_campaign_dir, tag='inclusive')\n",
    "del h_inclusive"
   ]
  },
  {
   "cell_type": "markdown",
   "metadata": {},
   "source": [
    "## CAL code filtering"
   ]
  },
  {
   "cell_type": "code",
   "execution_count": null,
   "metadata": {},
   "outputs": [],
   "source": [
    "### CAL code filtering\n",
    "cal_table = df.pivot_table(index=[\"row\", \"col\"], columns=[\"board\"], values=[\"cal\"], aggfunc=lambda x: x.mode().iat[0])\n",
    "cal_table = cal_table.reset_index().set_index([('row', ''), ('col', '')]).stack().reset_index()\n",
    "cal_table.columns = ['row', 'col', 'board', 'cal_mode']\n",
    "\n",
    "merged_df = pd.merge(df[['board', 'row', 'col', 'cal']], cal_table, on=['board', 'row', 'col'])\n",
    "merged_df['board'] = merged_df['board'].astype('uint8')\n",
    "merged_df['cal_mode'] = merged_df['cal_mode'].astype('int16')\n",
    "cal_condition = abs(merged_df['cal'] - merged_df['cal_mode']) <= 3\n",
    "del cal_table, merged_df\n",
    "cal_filtered_df = df[cal_condition].reset_index(drop=True)\n",
    "del df, cal_condition"
   ]
  },
  {
   "cell_type": "code",
   "execution_count": null,
   "metadata": {},
   "outputs": [],
   "source": [
    "h_inclusive = helper.return_hist_pivot(input_df=cal_filtered_df, chipNames=chip_names, board_id_to_analyze=chip_labels, hist_bins=[100, 128, 128])\n",
    "for iboard in chip_labels:\n",
    "    helper.plot_1d_TDC_histograms(h_inclusive, chip_names[iboard], 'cern', chip_figtitles[iboard], slide_friendly=True)#, save_mother_dir=output_campaign_dir, tag='inclusive')\n",
    "del h_inclusive"
   ]
  },
  {
   "cell_type": "markdown",
   "metadata": {},
   "source": [
    "## Offline trigger selection: single hit on the trigger board & TOT requirement"
   ]
  },
  {
   "cell_type": "code",
   "execution_count": null,
   "metadata": {},
   "outputs": [],
   "source": [
    "identifier_counts = cal_filtered_df.loc[cal_filtered_df['board'] == 0].groupby('evt')['identifier'].size()\n",
    "single_trig_hit = (identifier_counts == 1)\n",
    "single_trig_hit_evt = identifier_counts[single_trig_hit].index\n",
    "\n",
    "# Filter the DataFrame for single trigger hit events\n",
    "single_trig_hit_df = cal_filtered_df.loc[cal_filtered_df['evt'].isin(single_trig_hit_evt)]\n",
    "\n",
    "# Further filter based on 'board' and 'tot' criteria\n",
    "selected_evt = single_trig_hit_df.loc[(single_trig_hit_df['board'] == 0) & (single_trig_hit_df['tot'].between(100, 200))]['evt'].unique()\n",
    "\n",
    "trig_cleaned_df = single_trig_hit_df.loc[single_trig_hit_df['evt'].isin(selected_evt)].reset_index(drop=True)\n",
    "\n",
    "del cal_filtered_df, identifier_counts, selected_evt, single_trig_hit_df, single_trig_hit, single_trig_hit_evt"
   ]
  },
  {
   "cell_type": "code",
   "execution_count": null,
   "metadata": {},
   "outputs": [],
   "source": [
    "h_inclusive = helper.return_hist_pivot(input_df=trig_cleaned_df, chipNames=chip_names, board_id_to_analyze=chip_labels, hist_bins=[100, 128, 128])\n",
    "for iboard in chip_labels:\n",
    "    helper.plot_1d_TDC_histograms(h_inclusive, chip_names[iboard], 'cern', chip_figtitles[iboard], slide_friendly=True)#, save_mother_dir=output_campaign_dir, tag='inclusive')\n",
    "del h_inclusive"
   ]
  },
  {
   "cell_type": "code",
   "execution_count": null,
   "metadata": {},
   "outputs": [],
   "source": [
    "# helper.plot_number_of_hits_per_event(input_df=trig_cleaned_df, fig_titles=chip_figtitles, fig_tag='offline trigger selection', bins=15, hist_range=(0,15), do_logy=True)"
   ]
  },
  {
   "cell_type": "code",
   "execution_count": null,
   "metadata": {},
   "outputs": [],
   "source": [
    "# helper.plot_number_of_fired_board(input_df=trig_cleaned_df, fig_tag='offline trigger selection')"
   ]
  },
  {
   "cell_type": "markdown",
   "metadata": {},
   "source": [
    "## Make spatial correlation plots"
   ]
  },
  {
   "cell_type": "code",
   "execution_count": null,
   "metadata": {},
   "outputs": [],
   "source": [
    "id1 = 0\n",
    "id2 = 1"
   ]
  },
  {
   "cell_type": "code",
   "execution_count": null,
   "metadata": {},
   "outputs": [],
   "source": [
    "single_hit_df, multi_hits_df = helper.return_broadcast_dataframe(input_df=trig_cleaned_df, reference_board_id=id2, board_id_want_broadcast=id1)"
   ]
  },
  {
   "cell_type": "code",
   "execution_count": null,
   "metadata": {},
   "outputs": [],
   "source": [
    "helper.plot_correlation_of_pixels(single_hit_df, sorted(set(int(col.split('_')[-1]) for col in single_hit_df.columns)), board_name1=chip_names[id1], board_name2=chip_names[id2],\n",
    "                                  tb_loc='desy', fname_tag='single', save_mother_dir=output_campaign_dir)"
   ]
  },
  {
   "cell_type": "code",
   "execution_count": null,
   "metadata": {},
   "outputs": [],
   "source": [
    "helper.plot_correlation_of_pixels(multi_hits_df, sorted(set(int(col.split('_')[-1]) for col in multi_hits_df.columns)), board_name1=chip_names[id1], board_name2=chip_names[id2],\n",
    "                                  tb_loc='desy', fname_tag='multiple', save_mother_dir=output_campaign_dir)"
   ]
  },
  {
   "cell_type": "code",
   "execution_count": null,
   "metadata": {},
   "outputs": [],
   "source": [
    "helper.plot_difference_of_pixels(input_df=single_hit_df, board_ids=sorted(set(int(col.split('_')[-1]) for col in single_hit_df.columns)),\n",
    "                                 tb_loc='desy', fname_tag='single', board_name1=chip_names[id1], board_name2=chip_names[id2], save_mother_dir=output_campaign_dir)"
   ]
  },
  {
   "cell_type": "code",
   "execution_count": null,
   "metadata": {},
   "outputs": [],
   "source": [
    "helper.plot_difference_of_pixels(input_df=multi_hits_df, board_ids=sorted(set(int(col.split('_')[-1]) for col in multi_hits_df.columns)),\n",
    "                                 tb_loc='desy', fname_tag='multiple', board_name1=chip_names[id1], board_name2=chip_names[id2], save_mother_dir=output_campaign_dir)"
   ]
  },
  {
   "cell_type": "code",
   "execution_count": null,
   "metadata": {},
   "outputs": [],
   "source": []
  }
 ],
 "metadata": {
  "kernelspec": {
   "display_name": "packages",
   "language": "python",
   "name": "python3"
  },
  "language_info": {
   "codemirror_mode": {
    "name": "ipython",
    "version": 3
   },
   "file_extension": ".py",
   "mimetype": "text/x-python",
   "name": "python",
   "nbconvert_exporter": "python",
   "pygments_lexer": "ipython3",
   "version": "3.10.12"
  }
 },
 "nbformat": 4,
 "nbformat_minor": 2
}
