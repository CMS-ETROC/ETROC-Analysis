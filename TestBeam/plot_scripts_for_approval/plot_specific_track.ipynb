{
 "cells": [
  {
   "cell_type": "markdown",
   "metadata": {},
   "source": [
    "## Import"
   ]
  },
  {
   "cell_type": "code",
   "execution_count": null,
   "metadata": {},
   "outputs": [],
   "source": [
    "import sys, os\n",
    "path2add = os.path.normpath(os.path.abspath(os.path.join(os.path.curdir, os.path.pardir)))\n",
    "print(path2add)\n",
    "\n",
    "if (not (path2add in sys.path)) :\n",
    "    sys.path.append(path2add)"
   ]
  },
  {
   "cell_type": "code",
   "execution_count": null,
   "metadata": {},
   "outputs": [],
   "source": [
    "from pathlib import Path\n",
    "\n",
    "import beamtest_analysis_helper as helper\n",
    "import pandas as pd\n",
    "import numpy as np\n",
    "import matplotlib.pyplot as plt\n",
    "import matplotlib.colors as colors\n",
    "import hist\n",
    "import mplhep as hep\n",
    "hep.style.use('CMS')"
   ]
  },
  {
   "cell_type": "markdown",
   "metadata": {},
   "source": [
    "## Read track file"
   ]
  },
  {
   "cell_type": "code",
   "execution_count": null,
   "metadata": {},
   "outputs": [],
   "source": [
    "df = pd.read_pickle('./desy_apr2024_track/track_681_R9C11_R8C11_R8C10_R8C11.pkl')\n",
    "df"
   ]
  },
  {
   "cell_type": "markdown",
   "metadata": {},
   "source": [
    "## Specify track information"
   ]
  },
  {
   "cell_type": "code",
   "execution_count": null,
   "metadata": {},
   "outputs": [],
   "source": [
    "chip_labels = [0, 1, 2, 3]\n",
    "\n",
    "## DESY TB Dec2023, Run39 configs\n",
    "# chip_names = [\"EPIR_Pair1\", \"BAR_4\", \"BAR_6\", \"BB_1-3\"]\n",
    "# high_voltages = [260, 260, 260, 200]\n",
    "# offsets = [15, 10, 15, 10]\n",
    "# chip_fignames = chip_names\n",
    "# chip_figtitles = [\n",
    "#     f\"EPIR Pair1 HV{high_voltages[0]}V OS:{offsets[0]}\",\n",
    "#     f\"Barcelona 4 HV{high_voltages[1]}V OS:{offsets[1]}\",\n",
    "#     f\"Barcelona 6 HV{high_voltages[2]}V OS:{offsets[2]}\",\n",
    "#     f\"BB 1-3 HV{high_voltages[3]}V OS:{offsets[3]}\"\n",
    "# ]\n",
    "\n",
    "## DESY TB Feb2024, Run36 configs\n",
    "# chip_names = [\"EPIR_Pair1\", \"BAR_4\", \"BAR_5\", \"EPIR_Pair4\"]\n",
    "# high_voltages = [250, 260, 210, 200]\n",
    "# offsets = [15, 20, 20, 15]\n",
    "# chip_fignames = chip_names\n",
    "# chip_figtitles = [\n",
    "#     f\"EPIR Pair1 HV{high_voltages[0]}V OS:{offsets[0]}\",\n",
    "#     f\"Barcelona 4 HV{high_voltages[1]}V OS:{offsets[1]}\",\n",
    "#     f\"Barcelona 5 HV{high_voltages[2]}V OS:{offsets[2]}\",\n",
    "#     f\"EPIR Pair4 HV{high_voltages[3]}V OS:{offsets[3]}\"\n",
    "# ]\n",
    "\n",
    "## DESY TB Apr2024, Run13 configs\n",
    "chip_names = [\"BAR_4\", \"BAR_12\", \"BAR_13\", \"BB_1-3\"]\n",
    "high_voltages = [260, 120, 120, 200]\n",
    "offsets = [20, 20, 20, 20]\n",
    "chip_fignames = chip_names\n",
    "chip_figtitles = [\n",
    "    f\"Barcelona 4 HV{high_voltages[0]}V OS:{offsets[0]}\",\n",
    "    f\"Barcelona 12 HV{high_voltages[1]}V OS:{offsets[1]}\",\n",
    "    f\"Barcelona 13 HV{high_voltages[2]}V OS:{offsets[2]}\",\n",
    "    f\"BB 1-3 HV{high_voltages[3]}V OS:{offsets[3]}\"\n",
    "]\n",
    "fig_tags = [\n",
    "    'R9C11',\n",
    "    'R8C11',\n",
    "    'R8C10',\n",
    "    'R8C11',\n",
    "]"
   ]
  },
  {
   "cell_type": "markdown",
   "metadata": {},
   "source": [
    "## Set output directory depending on TB campaign"
   ]
  },
  {
   "cell_type": "code",
   "execution_count": null,
   "metadata": {},
   "outputs": [],
   "source": [
    "current_dir = Path('./')\n",
    "output_mother_dir = current_dir / 'etroc_TB_figs'\n",
    "output_mother_dir.mkdir(exist_ok=True)\n",
    "\n",
    "### Now you need change the directory name per campaign\n",
    "### Naming rule is this:\n",
    "### <TB location>_TB_MonthYear\n",
    "### E.g. desy_TB_Apr2024, cern_TB_Sep2023, fnal_TB_Jul2024\n",
    "\n",
    "output_campaign_dir = output_mother_dir / 'desy_TB_Apr2024'\n",
    "output_campaign_dir.mkdir(exist_ok=True)"
   ]
  },
  {
   "cell_type": "markdown",
   "metadata": {},
   "source": [
    "## Make 1D TDC hists"
   ]
  },
  {
   "cell_type": "code",
   "execution_count": null,
   "metadata": {},
   "outputs": [],
   "source": [
    "h_track = helper.return_hist_pivot(input_df=df, chipNames=chip_names, board_id_to_analyze=chip_labels, hist_bins=[100, 128, 128])\n",
    "for iboard in chip_labels:\n",
    "    helper.plot_1d_TDC_histograms(h_track, chip_names[iboard], 'desy', chip_figtitles[iboard], slide_friendly=False, save_mother_dir=output_campaign_dir, tag=fig_tags[iboard])\n",
    "del h_track"
   ]
  },
  {
   "cell_type": "markdown",
   "metadata": {},
   "source": [
    "## Make TOA correlation plots"
   ]
  },
  {
   "cell_type": "code",
   "execution_count": null,
   "metadata": {},
   "outputs": [],
   "source": [
    "helper.plot_TOA_correlation(df, board_id1=1, board_id2=2, boundary_cut=3, board_names=chip_names, draw_boundary=True, tb_loc='desy', save_mother_dir=output_campaign_dir)\n",
    "helper.plot_TOA_correlation(df, board_id1=1, board_id2=3, boundary_cut=3, board_names=chip_names, draw_boundary=True, tb_loc='desy', save_mother_dir=output_campaign_dir)\n",
    "helper.plot_TOA_correlation(df, board_id1=2, board_id2=3, boundary_cut=3, board_names=chip_names, draw_boundary=True, tb_loc='desy', save_mother_dir=output_campaign_dir)"
   ]
  },
  {
   "cell_type": "markdown",
   "metadata": {},
   "source": [
    "## Apply TDC cuts"
   ]
  },
  {
   "cell_type": "code",
   "execution_count": null,
   "metadata": {},
   "outputs": [],
   "source": [
    "tot_cuts = {}\n",
    "\n",
    "for idx in [1, 2, 3]:\n",
    "    lower_bound = df['tot'][idx].quantile(0.01)\n",
    "    upper_bound = df['tot'][idx].quantile(0.96)\n",
    "    tot_cuts[idx] = [round(lower_bound), round(upper_bound)]\n",
    "\n",
    "tot_cuts"
   ]
  },
  {
   "cell_type": "code",
   "execution_count": null,
   "metadata": {},
   "outputs": [],
   "source": [
    "## Selecting good hits with TDC cuts\n",
    "tdc_cuts = {}\n",
    "for idx in [1, 2, 3]:\n",
    "    if idx == 1:\n",
    "        tdc_cuts[idx] = [0, 1100, 250, 500, tot_cuts[idx][0], tot_cuts[idx][1]]\n",
    "    else:\n",
    "        tdc_cuts[idx] = [0, 1100, 0, 1100, tot_cuts[idx][0], tot_cuts[idx][1]]\n",
    "\n",
    "track_tmp_df = helper.tdc_event_selection_pivot(df, tdc_cuts_dict=tdc_cuts)"
   ]
  },
  {
   "cell_type": "code",
   "execution_count": null,
   "metadata": {},
   "outputs": [],
   "source": [
    "dut1_dut2_params, dut1_dut2_dist = helper.return_TOA_correlation_param(track_tmp_df, board_id1=1, board_id2=2)\n",
    "dut1_ref_params, dut1_ref_dist = helper.return_TOA_correlation_param(track_tmp_df, board_id1=1, board_id2=3)\n",
    "dut2_ref_params, dut2_ref_dist = helper.return_TOA_correlation_param(track_tmp_df, board_id1=2, board_id2=3)\n",
    "\n",
    "condition1 = np.abs(dut1_dut2_dist) < 3*np.std(dut1_dut2_dist)\n",
    "condition2 = np.abs(dut1_ref_dist) < 3*np.std(dut1_ref_dist)\n",
    "condition3 = np.abs(dut2_ref_dist) < 3*np.std(dut2_ref_dist)\n",
    "\n",
    "distance_condition = condition1 & condition2 & condition3"
   ]
  },
  {
   "cell_type": "code",
   "execution_count": null,
   "metadata": {},
   "outputs": [],
   "source": [
    "analysis_df = track_tmp_df[distance_condition].reset_index(drop=True)"
   ]
  },
  {
   "cell_type": "code",
   "execution_count": null,
   "metadata": {},
   "outputs": [],
   "source": [
    "h_track = helper.return_hist_pivot(input_df=analysis_df, chipNames=chip_names, board_id_to_analyze=chip_labels, hist_bins=[100, 128, 128])\n",
    "for iboard in [1,2,3]:\n",
    "    helper.plot_1d_TDC_histograms(h_track, chip_names[iboard], 'desy', chip_figtitles[iboard], slide_friendly=False, save_mother_dir=output_campaign_dir, tag=fig_tags[iboard]+'_afterTDCcuts')\n",
    "del h_track"
   ]
  },
  {
   "cell_type": "markdown",
   "metadata": {},
   "source": [
    "## Random sampling iteration"
   ]
  },
  {
   "cell_type": "code",
   "execution_count": null,
   "metadata": {},
   "outputs": [],
   "source": [
    "analysis_df = analysis_df.reset_index().rename(columns={'index':'evt'})\n",
    "n = int(0.75*analysis_df.shape[0])\n",
    "indices = np.random.choice(analysis_df['evt'].unique(), n, replace=False)\n",
    "tdc_filtered_df = analysis_df.loc[analysis_df['evt'].isin(indices)]"
   ]
  },
  {
   "cell_type": "markdown",
   "metadata": {},
   "source": [
    "## Make dataframe in time"
   ]
  },
  {
   "cell_type": "code",
   "execution_count": null,
   "metadata": {},
   "outputs": [],
   "source": [
    "board_to_analyze = [1,2,3]\n",
    "\n",
    "d = {}\n",
    "\n",
    "for idx in board_to_analyze:\n",
    "    bins = 3.125/tdc_filtered_df['cal'][idx].mean()\n",
    "    d[f'toa_b{str(idx)}'] = (12.5 - tdc_filtered_df['toa'][idx] * bins)*1e3\n",
    "    d[f'tot_b{str(idx)}'] = ((2*tdc_filtered_df['tot'][idx] - np.floor(tdc_filtered_df['tot'][idx]/32)) * bins)*1e3\n",
    "\n",
    "df_in_time = pd.DataFrame(data=d)\n",
    "del d, tdc_filtered_df"
   ]
  },
  {
   "cell_type": "code",
   "execution_count": null,
   "metadata": {},
   "outputs": [],
   "source": [
    "df_in_time"
   ]
  },
  {
   "cell_type": "markdown",
   "metadata": {},
   "source": [
    "## TOA hists before TWC"
   ]
  },
  {
   "cell_type": "code",
   "execution_count": null,
   "metadata": {},
   "outputs": [],
   "source": [
    "h_before_twc_toa1 = hist.Hist(hist.axis.Regular(50, 0, 14000, name='toa_b0', label='toa_b0'))\n",
    "h_before_twc_toa2 = hist.Hist(hist.axis.Regular(50, 0, 14000, name='toa_b1', label='toa_b1'))\n",
    "h_before_twc_toa3 = hist.Hist(hist.axis.Regular(50, 0, 14000, name='toa_b2', label='toa_b2'))\n",
    "\n",
    "h_before_twc_toa1.fill(df_in_time['toa_b1'])\n",
    "h_before_twc_toa2.fill(df_in_time['toa_b2'])\n",
    "h_before_twc_toa3.fill(df_in_time['toa_b3'])"
   ]
  },
  {
   "cell_type": "code",
   "execution_count": null,
   "metadata": {},
   "outputs": [],
   "source": [
    "fig, axes = plt.subplots(1, 3, figsize=(25, 10))\n",
    "yerr_bool = np.array(h_before_twc_toa1.values(), dtype=bool)\n",
    "hep.histplot(h_before_twc_toa1, ax=axes[0], yerr=yerr_bool)\n",
    "axes[0].set_xlabel('TOA1')\n",
    "\n",
    "yerr_bool = np.array(h_before_twc_toa2.values(), dtype=bool)\n",
    "hep.histplot(h_before_twc_toa2, ax=axes[1], yerr=yerr_bool)\n",
    "axes[1].set_xlabel('TOA2')\n",
    "\n",
    "yerr_bool = np.array(h_before_twc_toa3.values(), dtype=bool)\n",
    "hep.histplot(h_before_twc_toa3, ax=axes[2], yerr=yerr_bool)\n",
    "axes[2].set_xlabel('TOA3')\n",
    "\n",
    "plt.tight_layout()"
   ]
  },
  {
   "cell_type": "markdown",
   "metadata": {},
   "source": [
    "### Delta TOA hists before TWC"
   ]
  },
  {
   "cell_type": "code",
   "execution_count": null,
   "metadata": {},
   "outputs": [],
   "source": [
    "board_list = [1, 2, 3]\n",
    "\n",
    "del_toa_b0 = (0.5*(df_in_time[f'toa_b{board_list[1]}'] + df_in_time[f'toa_b{board_list[2]}']) - df_in_time[f'toa_b{board_list[0]}'])\n",
    "del_toa_b1 = (0.5*(df_in_time[f'toa_b{board_list[0]}'] + df_in_time[f'toa_b{board_list[2]}']) - df_in_time[f'toa_b{board_list[1]}'])\n",
    "del_toa_b2 = (0.5*(df_in_time[f'toa_b{board_list[0]}'] + df_in_time[f'toa_b{board_list[1]}']) - df_in_time[f'toa_b{board_list[2]}'])"
   ]
  },
  {
   "cell_type": "code",
   "execution_count": null,
   "metadata": {},
   "outputs": [],
   "source": [
    "h_before_twc_delta_toa1 = hist.Hist(hist.axis.Regular(50, -2500, 2500, name='toa_b1', label='toa_b1'))\n",
    "h_before_twc_delta_toa2 = hist.Hist(hist.axis.Regular(50, -2500, 2500, name='toa_b2', label='toa_b2'))\n",
    "h_before_twc_delta_toa3 = hist.Hist(hist.axis.Regular(50, -2500, 2500, name='toa_b3', label='toa_b3'))\n",
    "\n",
    "h_before_twc_delta_toa1.fill(del_toa_b0)\n",
    "h_before_twc_delta_toa2.fill(del_toa_b1)\n",
    "h_before_twc_delta_toa3.fill(del_toa_b2)"
   ]
  },
  {
   "cell_type": "code",
   "execution_count": null,
   "metadata": {},
   "outputs": [],
   "source": [
    "fig, axes = plt.subplots(1, 3, figsize=(25, 10))\n",
    "yerr_bool = np.array(h_before_twc_delta_toa1.values(), dtype=bool)\n",
    "hep.histplot(h_before_twc_delta_toa1, ax=axes[0], yerr=yerr_bool)\n",
    "axes[0].set_xlabel('0.5*(TOA2+TOA3)-TOA1', fontsize=15)\n",
    "\n",
    "\n",
    "yerr_bool = np.array(h_before_twc_delta_toa2.values(), dtype=bool)\n",
    "hep.histplot(h_before_twc_delta_toa2, ax=axes[1], yerr=yerr_bool)\n",
    "axes[1].set_xlabel('0.5*(TOA1+TOA3)-TOA2', fontsize=15)\n",
    "\n",
    "\n",
    "yerr_bool = np.array(h_before_twc_delta_toa3.values(), dtype=bool)\n",
    "hep.histplot(h_before_twc_delta_toa3, ax=axes[2], yerr=yerr_bool)\n",
    "axes[2].set_xlabel('0.5*(TOA2+TOA3)-TOA1', fontsize=15)\n",
    "\n",
    "plt.tight_layout()"
   ]
  },
  {
   "cell_type": "markdown",
   "metadata": {},
   "source": [
    "### Pairwise delta TOA before TWC"
   ]
  },
  {
   "cell_type": "code",
   "execution_count": null,
   "metadata": {},
   "outputs": [],
   "source": [
    "pre_diffs = {}\n",
    "for board_a in board_to_analyze:\n",
    "    for board_b in board_to_analyze:\n",
    "        if board_b <= board_a:\n",
    "            continue\n",
    "        name = f\"{board_a}{board_b}\"\n",
    "        pre_diffs[name] = np.asarray(df_in_time[f'toa_b{board_a}'] - df_in_time[f'toa_b{board_b}'])\n",
    "\n",
    "fit_params = {}\n",
    "scores = []\n",
    "\n",
    "for ikey in pre_diffs.keys():\n",
    "    params, eval_scores = helper.fwhm_based_on_gaussian_mixture_model(pre_diffs[ikey], 'desy', n_components=3, show_sub_gaussian=False, show_fwhm_guideline=False, show_number=True, tag=ikey, save_mother_dir=output_campaign_dir, fname_tag='before_TWC')\n",
    "    fit_params[ikey] = float(params[0]/2.355)\n",
    "    scores.append(eval_scores)\n",
    "\n",
    "print(scores)"
   ]
  },
  {
   "cell_type": "code",
   "execution_count": null,
   "metadata": {},
   "outputs": [],
   "source": [
    "keys = list(pre_diffs.keys())\n",
    "resolutions = helper.return_resolution_three_board_fromFWHM(fit_params, var=keys, board_list=board_to_analyze)\n",
    "resolutions"
   ]
  },
  {
   "cell_type": "markdown",
   "metadata": {},
   "source": [
    "### Investigate TWC"
   ]
  },
  {
   "cell_type": "code",
   "execution_count": null,
   "metadata": {},
   "outputs": [],
   "source": [
    "helper.plot_TWC(input_df=df_in_time, board_list=board_to_analyze, tot_range=[1500, 6500], tb_loc='desy', poly_order=2, save_mother_dir=output_campaign_dir, print_func=False)"
   ]
  },
  {
   "cell_type": "markdown",
   "metadata": {},
   "source": [
    "### Iterative TWC step by step"
   ]
  },
  {
   "cell_type": "code",
   "execution_count": null,
   "metadata": {},
   "outputs": [],
   "source": [
    "corr_toas = helper.three_board_iterative_timewalk_correction(df_in_time, iterative_cnt=2, poly_order=2, board_list=board_to_analyze)"
   ]
  },
  {
   "cell_type": "code",
   "execution_count": null,
   "metadata": {},
   "outputs": [],
   "source": [
    "helper.plot_TWC(input_df=df_in_time, board_list=board_to_analyze, tot_range=[2000, 6500], poly_order=2, corr_toas=corr_toas)"
   ]
  },
  {
   "cell_type": "code",
   "execution_count": null,
   "metadata": {},
   "outputs": [],
   "source": [
    "pre_diffs = {}\n",
    "for board_a in board_to_analyze:\n",
    "    for board_b in board_to_analyze:\n",
    "        if board_b <= board_a:\n",
    "            continue\n",
    "        name = f\"{board_a}{board_b}\"\n",
    "        pre_diffs[name] = np.asarray(corr_toas[f'toa_b{board_a}'] - corr_toas[f'toa_b{board_b}'])\n",
    "\n",
    "fit_params = {}\n",
    "scores = []\n",
    "\n",
    "for ikey in pre_diffs.keys():\n",
    "    params, eval_scores = helper.fwhm_based_on_gaussian_mixture_model(pre_diffs[ikey], n_components=3, show_sub_gaussian=False, show_fwhm_guideline=False, show_number=True, title=ikey, save_mother_dir=output_campaign_dir, fname_tag='after_TWC')\n",
    "    fit_params[ikey] = float(params[0]/2.355)\n",
    "    scores.append(eval_scores)\n",
    "\n",
    "print(scores)"
   ]
  },
  {
   "cell_type": "code",
   "execution_count": null,
   "metadata": {},
   "outputs": [],
   "source": [
    "keys = list(pre_diffs.keys())\n",
    "resolutions = helper.return_resolution_three_board_fromFWHM(fit_params, var=keys, board_list=board_to_analyze)\n",
    "resolutions"
   ]
  }
 ],
 "metadata": {
  "kernelspec": {
   "display_name": "packages",
   "language": "python",
   "name": "python3"
  },
  "language_info": {
   "codemirror_mode": {
    "name": "ipython",
    "version": 3
   },
   "file_extension": ".py",
   "mimetype": "text/x-python",
   "name": "python",
   "nbconvert_exporter": "python",
   "pygments_lexer": "ipython3",
   "version": "3.10.12"
  }
 },
 "nbformat": 4,
 "nbformat_minor": 2
}
