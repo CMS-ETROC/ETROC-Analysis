{
 "cells": [
  {
   "cell_type": "code",
   "execution_count": null,
   "metadata": {},
   "outputs": [],
   "source": [
    "import beamtest_analysis_helper as helper\n",
    "from glob import glob\n",
    "from pathlib import Path\n",
    "from datetime import datetime, timedelta\n",
    "import pandas\n",
    "import re\n",
    "from natsort import natsorted\n",
    "import copy"
   ]
  },
  {
   "cell_type": "code",
   "execution_count": null,
   "metadata": {},
   "outputs": [],
   "source": [
    "chip_labels = [0, 1, 2, 3]\n",
    "chip_names = [\"ET2_EPIR_Pair1\", \"ET2_BAR_4\", \"ET2_BAR_6\", \"ET2_EPIR_Pair4\"]\n",
    "# chip_figtitles = ['ET2 EPIR FBK UFSD4 W10 5-5']  # Pair 3\n",
    "#chip_figtitles = ['ET2 EPIR FBK UFSD4 W9 3-5']  # Pair 2\n",
    "# chip_figtitles = ['ET2 EPIR FBK UFSD4 W13 4-5']  # CERN Trigger\n",
    "# chip_figtitles = ['ET2 Barcelona FBK UFSD4 W12 2-3']  # W12 2-3\n",
    "#chip_figtitles = ['ET2 Barcelona FBK UFSD4 W12 5-3']  # W12 5-3\n",
    "#chip_figtitles = ['ET2 Barcelona FBK UFSD4 W15 3-4']  # W15 3-4\n",
    "#chip_figtitles = ['ET2 EPIR FBK Pair 4']  # Pair 4\n",
    "#chip_figtitles = ['ET2 Barcelona FBK UFSD4 W12 5-5']  # W12 5-5\n",
    "chip_figtitles = chip_names\n",
    "chip_fignames = chip_figtitles\n",
    "fig_path = './'"
   ]
  },
  {
   "cell_type": "code",
   "execution_count": null,
   "metadata": {},
   "outputs": [],
   "source": [
    "# files = glob('/run/media/daq/T7/BumpBondedCosmicRuns/Pair2/2023-10-31_Array_Test_Results_Overnight/*/*.dat')\n",
    "# files = glob('/run/media/daq/T7/BumpBondedCosmicRuns/CERNTrigger/2023-11-12_Array_Test_Results_Overnight/*/*.dat')\n",
    "#files = glob('/run/media/daq/T7/BumpBondedCosmicRuns/Pair3/2023-11-10_Array_Test_Results_Weekend/*/*.dat')\n",
    "#files = glob('/run/media/daq/T7/BumpBondedCosmicRuns/W12_2_3/2023-11-18_Array_Test_Results_Weekend/*/*.dat')\n",
    "#files = glob('/run/media/daq/T7/BumpBondedCosmicRuns/W12_5_3/2023-11-20_Array_Test_Results/*/*.dat')\n",
    "#files = glob('/run/media/daq/T7/BumpBondedCosmicRuns/W15_3_4/2023-11-21_Array_Test_Results_Overnight/*/*.dat')\n",
    "#files = glob('/run/media/daq/T7/BumpBondedCosmicRuns/Pair4/2023-11-27_Array_Test_Results_Overnight/*/*.nem')\n",
    "#files = glob('/run/media/daq/T7/BumpBondedCosmicRuns/W12_5_5/2023-11-28_Array_Test_Results_1hour/*/*.nem')\n",
    "#files = glob('/run/media/daq/T7/2023-11-01_Array_Test_Results/*/*.dat')\n",
    "# files = glob('../../ETROC-Data/2023-12-05_Array_Test_Results/SelfTrigger_ALL_OR_Readout_b0_EPIR_Pair1_b1_BAR_4_b2_BAR_6_b3_EPIR_Pair4_settings_offset_12_loop_0/*.nem')\n",
    "#files = glob('/run/media/daq/T7/2023-12-05_Array_Test_Results/beamprep_SelfTrigger_EPIR_Pair1_Readout_b0_EPIR_Pair1_b1_BAR_4_b2_BAR_6_b3_EPIR_Pair4_settings_offset_15_loop_0/*.nem')\n",
    "#files = glob('/run/media/daq/T7/Run_CNM_Alignment/loop_0/*nem')\n",
    "files = glob('/run/media/daq/T7/Run_PACTECH234_02_22_OVERNIGHT_OFFSET5/loop_*/*nem')\n",
    "#files = natsorted(files)\n",
    "\n",
    "#files = files[30:90]\n",
    "\n",
    "print(files)\n",
    "\n",
    "# df = helper.toSingleDataFrame(files=files)\n",
    "df = helper.toSingleDataFrame_newEventModel(files=files)\n",
    "#helper.toSingleDataFramePerDirectory('/run/media/daq/T7/2023-10-28_Array_Test_Results', 'SelfTrigger_ET2_EPIR_Pair3_HV300_Readout_offset10_lowpower_cosmics_loop_*')"
   ]
  },
  {
   "cell_type": "code",
   "execution_count": null,
   "metadata": {},
   "outputs": [],
   "source": [
    "df = pandas.read_feather('./cosmic_run_Feb22.feather')"
   ]
  },
  {
   "attachments": {},
   "cell_type": "markdown",
   "metadata": {},
   "source": [
    "# Inclusive"
   ]
  },
  {
   "cell_type": "code",
   "execution_count": null,
   "metadata": {},
   "outputs": [],
   "source": [
    "helper.plot_occupany_map(df, chip_labels, chip_figtitles, \"inclusive\")"
   ]
  },
  {
   "cell_type": "code",
   "execution_count": null,
   "metadata": {},
   "outputs": [],
   "source": [
    "helper.plot_TDC_summary_table(df, chip_labels, \"cal\")"
   ]
  },
  {
   "cell_type": "code",
   "execution_count": null,
   "metadata": {},
   "outputs": [],
   "source": [
    "helper.plot_TDC_summary_table(df, chip_labels, \"toa\")"
   ]
  },
  {
   "cell_type": "code",
   "execution_count": null,
   "metadata": {},
   "outputs": [],
   "source": [
    "helper.plot_TDC_summary_table(df, chip_labels, \"tot\")"
   ]
  },
  {
   "cell_type": "code",
   "execution_count": null,
   "metadata": {},
   "outputs": [],
   "source": [
    "h_inclusive = helper.return_hist(df, chip_names, chip_labels)\n",
    "helper.plot_1d_TDC_histograms(h_inclusive, chip_names[0], chip_fignames[0], chip_figtitles[0], \n",
    "                                fig_path, save=False, tag=\"inclusive\", fig_tag=\", inclusive\", slide_friendly=True)"
   ]
  },
  {
   "cell_type": "code",
   "execution_count": null,
   "metadata": {},
   "outputs": [],
   "source": [
    "helper.plot_1d_TDC_histograms(h_inclusive, chip_names[1], chip_fignames[1], chip_figtitles[1], \n",
    "                                fig_path, save=False, tag=\"inclusive\", fig_tag=\", inclusive\", slide_friendly=True)"
   ]
  },
  {
   "cell_type": "code",
   "execution_count": null,
   "metadata": {},
   "outputs": [],
   "source": [
    "helper.plot_1d_TDC_histograms(h_inclusive, chip_names[2], chip_fignames[2], chip_figtitles[2], \n",
    "                                fig_path, save=False, tag=\"inclusive\", fig_tag=\", inclusive\", slide_friendly=True)"
   ]
  },
  {
   "cell_type": "code",
   "execution_count": null,
   "metadata": {},
   "outputs": [],
   "source": [
    "helper.plot_1d_TDC_histograms(h_inclusive, chip_names[3], chip_fignames[3], chip_figtitles[3], \n",
    "                                fig_path, save=False, tag=\"inclusive\", fig_tag=\", inclusive\", slide_friendly=True)"
   ]
  },
  {
   "cell_type": "markdown",
   "metadata": {},
   "source": [
    "# Event Based Selection"
   ]
  },
  {
   "cell_type": "code",
   "execution_count": null,
   "metadata": {},
   "outputs": [],
   "source": [
    "df_event_selection = df.copy()\n",
    "\n",
    "selection = (df_event_selection['board'] == 0) & (df_event_selection['row'] == 13) & (df_event_selection['col'] == 4)\n",
    "\n",
    "selected_events = df_event_selection.loc[selection]['evt']\n",
    "\n",
    "print(selected_events)\n",
    "\n",
    "df_event_selection = df_event_selection.loc[df_event_selection['evt'].isin(selected_events)]\n",
    "df_event_selection = df_event_selection.loc[~((df_event_selection['board'] == 0) & (df_event_selection['row'] == 13) & (df_event_selection['col'] == 4))]"
   ]
  },
  {
   "cell_type": "code",
   "execution_count": null,
   "metadata": {},
   "outputs": [],
   "source": [
    "helper.plot_occupany_map(df_event_selection, chip_labels, chip_figtitles, \"event selected\")\n"
   ]
  },
  {
   "cell_type": "code",
   "execution_count": null,
   "metadata": {},
   "outputs": [],
   "source": [
    "h_event_selected = helper.return_hist(df_event_selection, chip_names, chip_labels)\n",
    "helper.plot_1d_TDC_histograms(h_event_selected, chip_names[3], chip_fignames[3], chip_figtitles[3], \n",
    "                                fig_path, save=False, tag=\"event_selected\", fig_tag=\", event selected\", slide_friendly=True)"
   ]
  },
  {
   "attachments": {},
   "cell_type": "markdown",
   "metadata": {},
   "source": [
    "# Plot selected pixels\n",
    "\n",
    "Useful for plotting a single noisy pixel for instance, or a group of pixels"
   ]
  },
  {
   "cell_type": "code",
   "execution_count": null,
   "metadata": {},
   "outputs": [],
   "source": [
    "selected_pixels = [\n",
    "#    (10, 8),\n",
    "#    (12, 14),\n",
    "#    (3, 10),\n",
    "#    (2, 10),\n",
    "#    (4, 12),\n",
    "#    (5, 13),\n",
    "#    (3, 11),\n",
    "    (13, 4),\n",
    "#    (15, 12),\n",
    "#    (12, 14),\n",
    "#    (13, 14),\n",
    "#    (2, 15),\n",
    "]\n",
    "\n",
    "print(\"Number of Selected Pixels:\", len(selected_pixels))\n",
    "\n",
    "df_selected = df.copy()\n",
    "\n",
    "for pixel in selected_pixels:\n",
    "    df_selected = df_selected.loc[((df_selected['row'] == pixel[0]) & (df_selected['col'] == pixel[1]))].copy()"
   ]
  },
  {
   "cell_type": "code",
   "execution_count": null,
   "metadata": {},
   "outputs": [],
   "source": [
    "helper.plot_occupany_map(df_selected, chip_labels, chip_figtitles, \"selected\")"
   ]
  },
  {
   "cell_type": "code",
   "execution_count": null,
   "metadata": {},
   "outputs": [],
   "source": [
    "helper.plot_TDC_summary_table(df_selected, chip_labels, \"cal\")"
   ]
  },
  {
   "cell_type": "code",
   "execution_count": null,
   "metadata": {},
   "outputs": [],
   "source": [
    "helper.plot_TDC_summary_table(df_selected, chip_labels, \"toa\")"
   ]
  },
  {
   "cell_type": "code",
   "execution_count": null,
   "metadata": {},
   "outputs": [],
   "source": [
    "helper.plot_TDC_summary_table(df_selected, chip_labels, \"tot\")"
   ]
  },
  {
   "cell_type": "code",
   "execution_count": null,
   "metadata": {},
   "outputs": [],
   "source": [
    "h_selected = helper.return_hist(df_selected, chip_names, chip_labels)\n",
    "helper.plot_1d_TDC_histograms(h_selected, chip_names[0], chip_fignames[0], chip_figtitles[0], \n",
    "                                fig_path, save=False, tag=\"selected\", fig_tag=\", selected\", slide_friendly=True)"
   ]
  },
  {
   "attachments": {},
   "cell_type": "markdown",
   "metadata": {},
   "source": [
    "# Mask selected pixels\n",
    "\n",
    "Remove the selected pixels from processing"
   ]
  },
  {
   "cell_type": "code",
   "execution_count": null,
   "metadata": {},
   "outputs": [],
   "source": [
    "masked_pixels = [\n",
    "#    (10, 8),\n",
    "#    (12, 14),\n",
    "#    (3, 10),\n",
    "#    (2, 10),\n",
    "#    (4, 12),\n",
    "#    (3, 11),\n",
    "#    (15, 11),\n",
    "#    (5, 13),\n",
    "#    (15, 12),\n",
    "#    (12, 14),\n",
    "#    (14, 15),\n",
    "#    (15, 13),\n",
    "#    (15, 14),\n",
    "    (6, 1),\n",
    "    #(2, 15),\n",
    "#    (13, 14),\n",
    "#    (2, 15),\n",
    "]\n",
    "\n",
    "print(\"Number of Masked Pixels:\", len(masked_pixels))\n",
    "\n",
    "df_masked = df.copy()\n",
    "\n",
    "for pixel in masked_pixels:\n",
    "    df_masked = df_masked.loc[~((df_masked['row'] == pixel[0]) & (df_masked['col'] == pixel[1]))].copy()\n",
    "\n",
    "print(\"Number of Events:\",len(df_masked))\n"
   ]
  },
  {
   "cell_type": "code",
   "execution_count": null,
   "metadata": {},
   "outputs": [],
   "source": [
    "helper.plot_occupany_map(df_masked, chip_labels, chip_figtitles, \"masked\")"
   ]
  },
  {
   "cell_type": "code",
   "execution_count": null,
   "metadata": {},
   "outputs": [],
   "source": [
    "helper.plot_TDC_summary_table(df_masked, chip_labels, \"cal\")"
   ]
  },
  {
   "cell_type": "code",
   "execution_count": null,
   "metadata": {},
   "outputs": [],
   "source": [
    "helper.plot_TDC_summary_table(df_masked, chip_labels, \"toa\")"
   ]
  },
  {
   "cell_type": "code",
   "execution_count": null,
   "metadata": {},
   "outputs": [],
   "source": [
    "helper.plot_TDC_summary_table(df_masked, chip_labels, \"tot\")"
   ]
  },
  {
   "cell_type": "code",
   "execution_count": null,
   "metadata": {},
   "outputs": [],
   "source": [
    "h_masked = helper.return_hist(df_masked, chip_names, chip_labels)\n",
    "helper.plot_1d_TDC_histograms(h_masked, chip_names[0], chip_fignames[0], chip_figtitles[0], \n",
    "                                fig_path, save=False, tag=\"masked\", fig_tag=\", masked\", slide_friendly=True)"
   ]
  },
  {
   "attachments": {},
   "cell_type": "markdown",
   "metadata": {},
   "source": [
    "# Filter Event\n",
    "\n",
    "For applying cuts to the TOT, TOA or CAL"
   ]
  },
  {
   "cell_type": "code",
   "execution_count": null,
   "metadata": {},
   "outputs": [],
   "source": [
    "df_filtered = df.copy()\n",
    "\n",
    "#df_filtered = df_filtered.loc[(df_filtered['tot'] < 100) & (df_filtered['tot'] < 10000)].copy()\n",
    "#df_filtered = df_filtered.loc[(df_filtered['tot'] < 100) | (df_filtered['board'] != 3)].copy()\n",
    "df_filtered = df_filtered.loc[(df_filtered['tot'] > 100) & (df_filtered['tot'] < 10000)].copy()\n",
    "#df_filtered = df_filtered.loc[(df_filtered['cal'] > 194) & (df_filtered['tot'] < 10000)].copy()\n",
    "#df_filtered = df_filtered.loc[(df_filtered['cal'] < 200) & (df_filtered['tot'] < 10000)].copy()\n",
    "#df_filtered = df_filtered.loc[(df_filtered['cal'] > 194) & (df_filtered['cal'] < 200)].copy()\n",
    "\n",
    "pixels = [\n",
    "#    (5, 13),\n",
    "#    (3, 11),\n",
    "#    (15, 11),\n",
    "]\n",
    "\n",
    "for pixel in pixels:\n",
    "    df_filtered = df_filtered.loc[~((df_filtered['row'] == pixel[0]) & (df_filtered['col'] == pixel[1]))].copy()"
   ]
  },
  {
   "cell_type": "code",
   "execution_count": null,
   "metadata": {},
   "outputs": [],
   "source": [
    "helper.plot_occupany_map(df_filtered, chip_labels, chip_figtitles, \"filtered\")"
   ]
  },
  {
   "cell_type": "code",
   "execution_count": null,
   "metadata": {},
   "outputs": [],
   "source": [
    "helper.plot_TDC_summary_table(df_filtered, chip_labels, \"cal\")"
   ]
  },
  {
   "cell_type": "code",
   "execution_count": null,
   "metadata": {},
   "outputs": [],
   "source": [
    "helper.plot_TDC_summary_table(df_filtered, chip_labels, \"toa\")"
   ]
  },
  {
   "cell_type": "code",
   "execution_count": null,
   "metadata": {},
   "outputs": [],
   "source": [
    "helper.plot_TDC_summary_table(df_filtered, chip_labels, \"tot\")"
   ]
  },
  {
   "cell_type": "code",
   "execution_count": null,
   "metadata": {},
   "outputs": [],
   "source": [
    "h_filtered = helper.return_hist(df_filtered, chip_names, chip_labels)\n",
    "helper.plot_1d_TDC_histograms(h_filtered, chip_names[3], chip_fignames[3], chip_figtitles[3], \n",
    "                                fig_path, save=False, tag=\"masked\", fig_tag=\", masked\", slide_friendly=True)"
   ]
  },
  {
   "attachments": {},
   "cell_type": "markdown",
   "metadata": {},
   "source": [
    "# Save Data"
   ]
  },
  {
   "cell_type": "code",
   "execution_count": null,
   "metadata": {},
   "outputs": [],
   "source": [
    "#df.to_csv('ET2_EPIR_FBK_Pair4_single_cosmic.csv', index=False)\n",
    "df.to_feather('test.feather')"
   ]
  },
  {
   "cell_type": "code",
   "execution_count": null,
   "metadata": {},
   "outputs": [],
   "source": []
  }
 ],
 "metadata": {
  "kernelspec": {
   "display_name": "venv",
   "language": "python",
   "name": "python3"
  },
  "language_info": {
   "codemirror_mode": {
    "name": "ipython",
    "version": 3
   },
   "file_extension": ".py",
   "mimetype": "text/x-python",
   "name": "python",
   "nbconvert_exporter": "python",
   "pygments_lexer": "ipython3",
   "version": "3.9.18"
  },
  "orig_nbformat": 4
 },
 "nbformat": 4,
 "nbformat_minor": 2
}
