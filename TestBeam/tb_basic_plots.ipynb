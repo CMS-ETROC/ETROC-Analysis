{
 "cells": [
  {
   "cell_type": "code",
   "execution_count": null,
   "metadata": {},
   "outputs": [],
   "source": [
    "#############################################################################\n",
    "# zlib License\n",
    "#\n",
    "# (C) 2023 Murtaza Safdari <musafdar@cern.ch>, Jongho Lee <jongho.lee@cern.ch>\n",
    "#\n",
    "# This software is provided 'as-is', without any express or implied\n",
    "# warranty.  In no event will the authors be held liable for any damages\n",
    "# arising from the use of this software.\n",
    "#\n",
    "# Permission is granted to anyone to use this software for any purpose,\n",
    "# including commercial applications, and to alter it and redistribute it\n",
    "# freely, subject to the following restrictions:\n",
    "#\n",
    "# 1. The origin of this software must not be misrepresented; you must not\n",
    "#    claim that you wrote the original software. If you use this software\n",
    "#    in a product, an acknowledgment in the product documentation would be\n",
    "#    appreciated but is not required.\n",
    "# 2. Altered source versions must be plainly marked as such, and must not be\n",
    "#    misrepresented as being the original software.\n",
    "# 3. This notice may not be removed or altered from any source distribution.\n",
    "#############################################################################"
   ]
  },
  {
   "cell_type": "code",
   "execution_count": null,
   "metadata": {},
   "outputs": [],
   "source": [
    "from beamtest_analysis_helper import etroc2_analysis_helper\n",
    "import datetime\n",
    "from pathlib import Path\n",
    "import pandas as pd\n",
    "import numpy as np\n",
    "from glob import glob\n",
    "from natsort import natsorted"
   ]
  },
  {
   "cell_type": "code",
   "execution_count": null,
   "metadata": {},
   "outputs": [],
   "source": [
    "# !!!!!!!!!!!!\n",
    "# It is very important to correctly set the chip name, this value is stored with the data\n",
    "chip_names = [\"ET2_W36_IP7_13_HV210V_offset20\",\"ET2_EPIR_1_1_HV210V_offset20\", \"ET2_CNM_1_3_HV210V_offset20\"]\n",
    "chip_fignames = chip_names\n",
    "chip_figtitles = [\"ETROC2 WB W36 IP7-13 HV210V OS:20\",\"ETROC2 BB EPIR 1-1 HV210V OS:20\", \"(Trigger) ETROC2 BB CNM 1-3 HV210V OS:20\"]\n",
    "\n",
    "chip_labels= [\"1\",\"0\",\"3\"]\n",
    "\n",
    "today = datetime.date.today().isoformat()\n",
    "fig_outdir = Path('../../ETROC-figures')\n",
    "fig_outdir = fig_outdir / (today + '_Array_Test_Results')\n",
    "fig_outdir.mkdir(exist_ok=True)\n",
    "fig_path = str(fig_outdir)\n",
    "\n",
    "# path_pattern = f\"*2023-09-21_Array_Test_Results/SelfTrigger_bottom_Readout_topbottom_1\"\n",
    "path_pattern = f\"./SelfTrigger_ET2_CNM_BATCH_1_3_Readout_ET2_EPIR_BATCH1_1_ET2_W36_IP7_13_ET2_CNM_BATCH1_3_loop_*.pqt\"\n",
    "\n",
    "helper = etroc2_analysis_helper(chip_names=chip_names, chip_figtitles=chip_figtitles, chip_labels=chip_labels)"
   ]
  },
  {
   "cell_type": "code",
   "execution_count": null,
   "metadata": {},
   "outputs": [],
   "source": [
    "#%%\n",
    "%matplotlib inline\n",
    "import matplotlib.pyplot as plt\n",
    "\n",
    "fig = plt.figure(dpi=50, figsize=(5,5))\n",
    "gs = fig.add_gridspec(1,1)\n",
    "\n",
    "ax0 = fig.add_subplot(gs[0,0])\n",
    "ax0.plot([1, 0], [1, 0])\n",
    "plt.show()"
   ]
  },
  {
   "cell_type": "code",
   "execution_count": null,
   "metadata": {},
   "outputs": [],
   "source": [
    "def pixelID_filter(group):\n",
    "    return any((group['board'] == 1) & (group['row'] == 15) & (group['col'] == 6)) & \\\n",
    "            any((group['board'] == 0) & (group['row'] == 2) & (group['col'] == 6)) & \\\n",
    "            any((group['board'] == 3) & (group['row'] == 2) & (group['col'] == 5))"
   ]
  },
  {
   "cell_type": "code",
   "execution_count": null,
   "metadata": {},
   "outputs": [],
   "source": [
    "files = glob(path_pattern)\n",
    "files = natsorted(files)\n",
    "\n",
    "dataframes = []\n",
    "\n",
    "for ifile in files:\n",
    "    tmp_df = pd.read_parquet(ifile)\n",
    "\n",
    "    # Group the DataFrame by 'evt' and count unique 'board' values in each group\n",
    "    unique_board_counts = tmp_df.groupby('evt')['board'].nunique()\n",
    "\n",
    "    ## event has two unique board ID\n",
    "    event_numbers_with_three_unique_boards = unique_board_counts[unique_board_counts == 3].index\n",
    "    subset_df = tmp_df[tmp_df['evt'].isin(event_numbers_with_three_unique_boards)]\n",
    "    subset_df.reset_index(inplace=True, drop=True)\n",
    "\n",
    "    del tmp_df\n",
    "    if subset_df.empty: continue\n",
    "\n",
    "    ## event has one hit from each board\n",
    "    event_board_counts = subset_df.groupby(['evt', 'board']).size().unstack(fill_value=0)\n",
    "    selected_event_numbers = event_board_counts[(event_board_counts[0] == 1) & (event_board_counts[1] == 1) & (event_board_counts[3] == 1)].index\n",
    "    selected_subset_df = subset_df[subset_df['evt'].isin(selected_event_numbers)]\n",
    "    selected_subset_df.reset_index(inplace=True, drop=True)\n",
    "    dataframes.append(selected_subset_df)\n",
    "\n",
    "df = pd.concat(dataframes)"
   ]
  },
  {
   "cell_type": "code",
   "execution_count": null,
   "metadata": {},
   "outputs": [],
   "source": [
    "df.info()"
   ]
  },
  {
   "cell_type": "code",
   "execution_count": null,
   "metadata": {},
   "outputs": [],
   "source": [
    "tmp_group = df.groupby('evt')\n",
    "filtered_group = tmp_group.filter(pixelID_filter)\n",
    "filtered_group.reset_index(inplace=True, drop=True)\n",
    "filtered_group"
   ]
  },
  {
   "cell_type": "code",
   "execution_count": null,
   "metadata": {},
   "outputs": [],
   "source": [
    "h_selection = helper.return_hist(filtered_group, chip_names, chip_labels)"
   ]
  },
  {
   "cell_type": "code",
   "execution_count": null,
   "metadata": {},
   "outputs": [],
   "source": [
    "helper.make_pix_inclusive_plots(h_selection, chip_names[0], chip_fignames[0], chip_figtitles[0], fig_path, save=False, show=True, tag=\"Pixel (15, 6)\", title_tag=\", Pixel (15, 6)\")"
   ]
  },
  {
   "cell_type": "code",
   "execution_count": null,
   "metadata": {},
   "outputs": [],
   "source": [
    "helper.make_pix_inclusive_plots(h_selection, chip_names[1], chip_fignames[1], chip_figtitles[1], fig_path, save=False, show=True, tag=\"Pixel (2, 6)\", title_tag=\", Pixel (2, 6)\")"
   ]
  },
  {
   "cell_type": "code",
   "execution_count": null,
   "metadata": {},
   "outputs": [],
   "source": [
    "helper.make_pix_inclusive_plots(h_selection, chip_names[2], chip_fignames[2], chip_figtitles[2], fig_path, save=False, show=True, tag=\"Pixel (2, 5)\", title_tag=\", Pixel (2, 5)\")"
   ]
  },
  {
   "cell_type": "code",
   "execution_count": null,
   "metadata": {},
   "outputs": [],
   "source": [
    "del h_selection"
   ]
  },
  {
   "cell_type": "code",
   "execution_count": null,
   "metadata": {},
   "outputs": [],
   "source": [
    "cal_cut = [150, 250] # min, max\n",
    "toa_cut = [100, 500] # min, max\n",
    "tot_cut = [ 50, 300] # min, max\n",
    "\n",
    "## Boundary values are included by default:\n",
    "selected_df = filtered_group[filtered_group['cal'].between(cal_cut[0], cal_cut[1]) &\n",
    "                            filtered_group['toa'].between(toa_cut[0], toa_cut[1]) &\n",
    "                            filtered_group['tot'].between(tot_cut[0], tot_cut[1])]\n",
    "\n",
    "selected_df.reset_index(inplace=True, drop=True)"
   ]
  },
  {
   "cell_type": "code",
   "execution_count": null,
   "metadata": {},
   "outputs": [],
   "source": [
    "h_after_tdc = helper.return_hist(selected_df, chip_names, chip_labels)"
   ]
  },
  {
   "cell_type": "code",
   "execution_count": null,
   "metadata": {},
   "outputs": [],
   "source": [
    "helper.make_pix_inclusive_plots(h_after_tdc, chip_names[0], chip_fignames[0], chip_figtitles[0], fig_path, save=False, show=True, tag=\"Pixel (15, 6)\", title_tag=\", Pixel (15, 6) after TDC cut\")"
   ]
  },
  {
   "cell_type": "code",
   "execution_count": null,
   "metadata": {},
   "outputs": [],
   "source": [
    "helper.make_pix_inclusive_plots(h_after_tdc, chip_names[1], chip_fignames[1], chip_figtitles[1], fig_path, save=False, show=True, tag=\"Pixel (2, 6)\", title_tag=\", Pixel (2, 6) after TDC cut\")"
   ]
  },
  {
   "cell_type": "code",
   "execution_count": null,
   "metadata": {},
   "outputs": [],
   "source": [
    "helper.make_pix_inclusive_plots(h_after_tdc, chip_names[2], chip_fignames[2], chip_figtitles[2], fig_path, save=False, show=True, tag=\"Pixel (2, 5)\", title_tag=\", Pixel (2, 5) after TDC cut\")"
   ]
  },
  {
   "cell_type": "code",
   "execution_count": null,
   "metadata": {},
   "outputs": [],
   "source": [
    "del h_after_tdc"
   ]
  },
  {
   "cell_type": "code",
   "execution_count": null,
   "metadata": {},
   "outputs": [],
   "source": []
  }
 ],
 "metadata": {
  "kernelspec": {
   "display_name": "venv",
   "language": "python",
   "name": "python3"
  },
  "language_info": {
   "codemirror_mode": {
    "name": "ipython",
    "version": 3
   },
   "file_extension": ".py",
   "mimetype": "text/x-python",
   "name": "python",
   "nbconvert_exporter": "python",
   "pygments_lexer": "ipython3",
   "version": "3.9.16"
  },
  "orig_nbformat": 4
 },
 "nbformat": 4,
 "nbformat_minor": 2
}
