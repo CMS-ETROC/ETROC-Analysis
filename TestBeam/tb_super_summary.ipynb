{
 "cells": [
  {
   "cell_type": "code",
   "execution_count": null,
   "metadata": {},
   "outputs": [],
   "source": [
    "#############################################################################\n",
    "# zlib License\n",
    "#\n",
    "# (C) 2023 Murtaza Safdari <musafdar@cern.ch>, Jongho Lee <jongho.lee@cern.ch>\n",
    "#\n",
    "# This software is provided 'as-is', without any express or implied\n",
    "# warranty.  In no event will the authors be held liable for any damages\n",
    "# arising from the use of this software.\n",
    "#\n",
    "# Permission is granted to anyone to use this software for any purpose,\n",
    "# including commercial applications, and to alter it and redistribute it\n",
    "# freely, subject to the following restrictions:\n",
    "#\n",
    "# 1. The origin of this software must not be misrepresented; you must not\n",
    "#    claim that you wrote the original software. If you use this software\n",
    "#    in a product, an acknowledgment in the product documentation would be\n",
    "#    appreciated but is not required.\n",
    "# 2. Altered source versions must be plainly marked as such, and must not be\n",
    "#    misrepresented as being the original software.\n",
    "# 3. This notice may not be removed or altered from any source distribution.\n",
    "#############################################################################"
   ]
  },
  {
   "cell_type": "code",
   "execution_count": null,
   "metadata": {},
   "outputs": [],
   "source": [
    "#%%\n",
    "%matplotlib inline\n",
    "import matplotlib.pyplot as plt\n",
    "import pandas as pd\n",
    "import mplhep as hep\n",
    "hep.style.use('CMS')"
   ]
  },
  {
   "cell_type": "code",
   "execution_count": null,
   "metadata": {},
   "outputs": [],
   "source": [
    "fig = plt.figure(dpi=50, figsize=(5,5))\n",
    "gs = fig.add_gridspec(1,1)\n",
    "\n",
    "ax0 = fig.add_subplot(gs[0,0])\n",
    "ax0.plot([1, 0], [1, 0])\n",
    "plt.show()"
   ]
  },
  {
   "cell_type": "markdown",
   "metadata": {},
   "source": [
    "## Super Summary of Sep 28th data"
   ]
  },
  {
   "cell_type": "code",
   "execution_count": null,
   "metadata": {},
   "outputs": [],
   "source": [
    "wide_toa_summary = {\n",
    "    'time_resol': [62.19, 69.67, 73.67, 70.54, 62.90, 71.52, 74.09, 70.77,\n",
    "                   82.61, 91.87, 83.59, 83.17, 82.98, 90.97, 84.02, 84.51,\n",
    "                   53.37, 52.52, 56.90, 57.25, 51.30, 53.22, 58.01, 54.72,\n",
    "                   ],\n",
    "    'error': [1.48, 1.89, 1.56, 1.61, 1.59, 1.75, 1.47, 1.18,\n",
    "              1.11, 1.43, 1.38, 1.37, 1.21, 1.38, 1.30, 0.99,\n",
    "              1.72, 2.50, 2.02, 1.99, 1.95, 2.35, 1.88, 1.53,\n",
    "              ],\n",
    "    'board': ['TOP', 'TOP', 'TOP', 'TOP', 'TOP', 'TOP', 'TOP', 'TOP',\n",
    "              'MID', 'MID', 'MID', 'MID', 'MID', 'MID', 'MID', 'MID',\n",
    "              'BOT', 'BOT', 'BOT', 'BOT', 'BOT', 'BOT', 'BOT', 'BOT',\n",
    "              ],\n",
    "    'track': ['Track 1 STWC', 'Track 2 STWC', 'Track 3 STWC', 'Track 4 STWC', 'Track 1 PTWC', 'Track 2 PTWC', 'Track 3 PTWC', 'Track 4 PTWC',\n",
    "              'Track 1 STWC', 'Track 2 STWC', 'Track 3 STWC', 'Track 4 STWC', 'Track 1 PTWC', 'Track 2 PTWC', 'Track 3 PTWC', 'Track 4 PTWC',\n",
    "              'Track 1 STWC', 'Track 2 STWC', 'Track 3 STWC', 'Track 4 STWC', 'Track 1 PTWC', 'Track 2 PTWC', 'Track 3 PTWC', 'Track 4 PTWC',\n",
    "              ]\n",
    "}\n",
    "\n",
    "summary_df = pd.DataFrame(wide_toa_summary)\n",
    "val = summary_df.pivot(index='board', columns='track', values='time_resol')\n",
    "err = summary_df.pivot(index='board', columns='track', values='error')\n",
    "\n",
    "ax = val.plot(kind='barh', xerr=err, rot=0,  figsize=(19, 8))\n",
    "# Add some text for labels, title and custom x-axis tick labels, etc.\n",
    "hep.cms.text(loc=0, ax=ax, text=\"Preliminary\", fontsize=25)\n",
    "ax.set_title(rf'Summary Plot, Top 2x2 WB Board TOA$\\in \\left[100, 500\\right]$', loc=\"right\", size=20)\n",
    "ax.set_xlabel('Time Resolution [ps]', fontsize=20)\n",
    "ax.set_ylabel('')\n",
    "ax.legend(loc='upper right', fontsize=15, ncols=2)\n",
    "ax.set_xlim(30, 110)"
   ]
  },
  {
   "cell_type": "code",
   "execution_count": null,
   "metadata": {},
   "outputs": [],
   "source": [
    "wide_toa_summary = {\n",
    "    'time_resol': [48.56, 49.44, 54.91, 51.66, 50.45, 55.68, 51.42, 48.58,\n",
    "                   82.29, 93.77, 85.74, 80.48, 81.93, 93.94, 88.78, 83.84,\n",
    "                   49.57, 50.78, 56.65, 57.09, 49.54, 41.46, 55.34, 56.30,\n",
    "                   ],\n",
    "    'error': [2.57, 6.71, 3.23, 3.37, 2.73, 5.26, 4.43, 3.83,\n",
    "              1.51, 3.54, 2.07, 2.16, 1.65, 3.12, 2.56, 2.22,\n",
    "              2.51, 6.53, 3.13, 3.05, 2.68, 7.06, 4.11, 3.31,\n",
    "              ],\n",
    "    'board': ['TOP', 'TOP', 'TOP', 'TOP', 'TOP', 'TOP', 'TOP', 'TOP',\n",
    "              'MID', 'MID', 'MID', 'MID', 'MID', 'MID', 'MID', 'MID',\n",
    "              'BOT', 'BOT', 'BOT', 'BOT', 'BOT', 'BOT', 'BOT', 'BOT',\n",
    "              ],\n",
    "    'track': ['Track 1 STWC', 'Track 2 STWC', 'Track 3 STWC', 'Track 4 STWC', 'Track 1 PTWC', 'Track 2 PTWC', 'Track 3 PTWC', 'Track 4 PTWC',\n",
    "              'Track 1 STWC', 'Track 2 STWC', 'Track 3 STWC', 'Track 4 STWC', 'Track 1 PTWC', 'Track 2 PTWC', 'Track 3 PTWC', 'Track 4 PTWC',\n",
    "              'Track 1 STWC', 'Track 2 STWC', 'Track 3 STWC', 'Track 4 STWC', 'Track 1 PTWC', 'Track 2 PTWC', 'Track 3 PTWC', 'Track 4 PTWC',\n",
    "              ]\n",
    "}\n",
    "\n",
    "summary_df = pd.DataFrame(wide_toa_summary)\n",
    "val = summary_df.pivot(index='board', columns='track', values='time_resol')\n",
    "err = summary_df.pivot(index='board', columns='track', values='error')\n",
    "\n",
    "ax = val.plot(kind='barh', xerr=err, rot=0,  figsize=(19, 8))\n",
    "# Add some text for labels, title and custom x-axis tick labels, etc.\n",
    "hep.cms.text(loc=0, ax=ax, text=\"Preliminary\", fontsize=25)\n",
    "ax.set_title(rf'Summary Plot, Top 2x2 WB Board TOA$\\in \\left[Narrow Cut\\right]$', loc=\"right\", size=20)\n",
    "ax.set_xlabel('Time Resolution [ps]', fontsize=20)\n",
    "ax.set_ylabel('')\n",
    "ax.legend(loc='upper right', fontsize=15, ncols=2)\n",
    "ax.set_xlim(30, 110)"
   ]
  },
  {
   "cell_type": "markdown",
   "metadata": {},
   "source": [
    "## Super Summary of Sep 28th data with TOA slicing on Bottom Board"
   ]
  },
  {
   "cell_type": "code",
   "execution_count": null,
   "metadata": {},
   "outputs": [],
   "source": [
    "wide_toa_summary = {\n",
    "    'time_resol': [45.99, 61.93, 49.50, 57.46, 60.07, 93.60,\n",
    "                   79.18, 83.48, 82.75, 83.08, 80.40, 78.80,\n",
    "                   46.22, 47.52, 45.50, 42.58, 48.91, 50.79,\n",
    "                   ],\n",
    "    'error': [3.03, 2.60, 1.72, 2.70, 1.67, 2.57,\n",
    "              1.76, 1.93, 1.30, 1.87, 1.25, 3.05,\n",
    "              3.01, 3.38, 1.87, 3.65, 2.06, 4.73,\n",
    "              ],\n",
    "    'board': ['TOP', 'TOP', 'TOP', 'TOP', 'TOP', 'TOP',\n",
    "              'MID', 'MID', 'MID', 'MID', 'MID', 'MID',\n",
    "              'BOT', 'BOT', 'BOT', 'BOT', 'BOT', 'BOT',\n",
    "              ],\n",
    "    'slice': [r'TOA$\\in \\left[100, 200\\right]$', r'TOA$\\in \\left[200, 300\\right]$', r'TOA$\\in \\left[300, 400\\right]$', r'TOA$\\in \\left[400, 500\\right]$', r'TOA$\\in \\left[500, 600\\right]$', r'TOA$\\in \\left[600, 700\\right]$',\n",
    "              r'TOA$\\in \\left[100, 200\\right]$', r'TOA$\\in \\left[200, 300\\right]$', r'TOA$\\in \\left[300, 400\\right]$', r'TOA$\\in \\left[400, 500\\right]$', r'TOA$\\in \\left[500, 600\\right]$', r'TOA$\\in \\left[600, 700\\right]$',\n",
    "              r'TOA$\\in \\left[100, 200\\right]$', r'TOA$\\in \\left[200, 300\\right]$', r'TOA$\\in \\left[300, 400\\right]$', r'TOA$\\in \\left[400, 500\\right]$', r'TOA$\\in \\left[500, 600\\right]$', r'TOA$\\in \\left[600, 700\\right]$',\n",
    "              ]\n",
    "}\n",
    "\n",
    "summary_df = pd.DataFrame(wide_toa_summary)\n",
    "val = summary_df.pivot(index='board', columns='slice', values='time_resol')\n",
    "err = summary_df.pivot(index='board', columns='slice', values='error')\n",
    "\n",
    "ax = val.plot(kind='barh', xerr=err, rot=0,  figsize=(19, 8))\n",
    "# Add some text for labels, title and custom x-axis tick labels, etc.\n",
    "hep.cms.text(loc=0, ax=ax, text=\"Preliminary\", fontsize=25)\n",
    "ax.set_title(rf'Summary Plot, Bot Bump Board TOA slicing', loc=\"right\", size=20)\n",
    "ax.set_xlabel('Time Resolution [ps]', fontsize=20)\n",
    "ax.set_ylabel('')\n",
    "ax.legend(loc='lower right', fontsize=15, ncols=2)\n",
    "ax.set_xlim(30, 110)"
   ]
  }
 ],
 "metadata": {
  "kernelspec": {
   "display_name": "Python 3 (ipykernel)",
   "language": "python",
   "name": "python3"
  },
  "language_info": {
   "codemirror_mode": {
    "name": "ipython",
    "version": 3
   },
   "file_extension": ".py",
   "mimetype": "text/x-python",
   "name": "python",
   "nbconvert_exporter": "python",
   "pygments_lexer": "ipython3",
   "version": "3.10.12"
  }
 },
 "nbformat": 4,
 "nbformat_minor": 4
}
