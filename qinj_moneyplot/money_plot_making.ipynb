{
 "cells": [
  {
   "cell_type": "code",
   "execution_count": null,
   "metadata": {},
   "outputs": [],
   "source": [
    "from glob import glob\n",
    "from natsort import natsorted\n",
    "import pandas as pd\n",
    "from tqdm import tqdm\n",
    "from cycler import cycler\n",
    "import matplotlib.pyplot as plt\n",
    "import datetime\n",
    "import os\n",
    "import mplhep as hep\n",
    "hep.style.use('CMS')\n",
    "import qinj_analysis_helper as helper"
   ]
  },
  {
   "cell_type": "code",
   "execution_count": null,
   "metadata": {},
   "outputs": [],
   "source": [
    "helper.toSingleDataFramePerDirectory_newEventModel(\n",
    "    path_to_dir = '../../ETROC-Data/cern_Jan2024/TID/*PlateTemp12C_DryAir*/',\n",
    "    dir_name_pattern = 'ET2p01_W36_6_VRef_SCurve_TDC_*',\n",
    "    output_dir = '../../ETROC-Data/cern_Jan2024/TID/0MRad_Data/',\n",
    "    extra_str = '_p12c_0MRad',\n",
    "    # save_to_csv = True,\n",
    "    # debugging = True\n",
    ")"
   ]
  },
  {
   "cell_type": "code",
   "execution_count": null,
   "metadata": {},
   "outputs": [],
   "source": [
    "files = natsorted(glob('../../ETROC-Data/cern_Jan2024/TID/400MRad_Data/*'))\n",
    "files"
   ]
  },
  {
   "cell_type": "code",
   "execution_count": null,
   "metadata": {},
   "outputs": [],
   "source": [
    "data_dict = {\n",
    "    'row': [],\n",
    "    'col': [],\n",
    "    'charge': [],\n",
    "    'dac': [],\n",
    "    'temp': [],\n",
    "    'dose': [],\n",
    "    'toa_mean': [],\n",
    "    'toa_std': [],\n",
    "    'tot_mean': [],\n",
    "    'tot_std': [],\n",
    "    'cal_mean': [],\n",
    "    'cal_std': [],\n",
    "}\n",
    "\n",
    "for ifile in tqdm(files):\n",
    "    fname = ifile.split('/')[-1].split('.')[0]\n",
    "\n",
    "    # row = fname.split('_')[-5].split('R')[1]\n",
    "    # col = fname.split('_')[-6].split('C')[1]\n",
    "    # charge = fname.split('_')[-3]\n",
    "    # dac = fname.split('_')[-1]\n",
    "\n",
    "    row = fname.split('_')[-7].split('R')[1]\n",
    "    col = fname.split('_')[-8].split('C')[1]\n",
    "    charge = fname.split('_')[-5]\n",
    "    dac = fname.split('_')[-3]\n",
    "    temp = fname.split('_')[-2][1:-1]\n",
    "    if fname.split('_')[-2][0] == 'm':\n",
    "        temp = '-'+temp\n",
    "    dose = fname.split('_')[-1][0:-4]\n",
    "\n",
    "    # print(row, col, charge, dac)\n",
    "\n",
    "    df = pd.read_feather(ifile)\n",
    "    df = df.loc[(df['cal'] >= df['cal'].mode()[0]-2) & (df['cal'] <= df['cal'].mode()[0]+2)]\n",
    "\n",
    "    data_dict['row'].append(int(row))\n",
    "    data_dict['col'].append(int(col))\n",
    "    data_dict['charge'].append(int(charge))\n",
    "    data_dict['dac'].append(int(dac))\n",
    "    data_dict['temp'].append(int(temp))\n",
    "    data_dict['dose'].append(int(dose))\n",
    "\n",
    "    data_dict['toa_mean'].append(df['toa'].mean())\n",
    "    data_dict['toa_std'].append(df['toa'].std())\n",
    "    data_dict['tot_mean'].append(df['tot'].mean())\n",
    "    data_dict['tot_std'].append(df['tot'].std())\n",
    "    data_dict['cal_mean'].append(df['cal'].mean())\n",
    "    data_dict['cal_std'].append(df['cal'].std())"
   ]
  },
  {
   "cell_type": "code",
   "execution_count": null,
   "metadata": {},
   "outputs": [],
   "source": [
    "cut_df = pd.DataFrame(data=data_dict)"
   ]
  },
  {
   "cell_type": "code",
   "execution_count": null,
   "metadata": {},
   "outputs": [],
   "source": [
    "final_df = cut_df.loc[(cut_df['toa_std'] <= 4)]"
   ]
  },
  {
   "cell_type": "code",
   "execution_count": null,
   "metadata": {},
   "outputs": [],
   "source": [
    "final_df.to_feather('ET2p01_W36_6_TDC_summary_400MRad.feather')"
   ]
  },
  {
   "cell_type": "code",
   "execution_count": null,
   "metadata": {},
   "outputs": [],
   "source": [
    "final_df = pd.read_feather('./ET2p01_W36_6_TDC_summary_allMRad.feather')\n",
    "# final_df = pd.read_feather('./ET2p01_W36_6_TDC_summary_400MRad.feather')\n",
    "final_df"
   ]
  },
  {
   "cell_type": "code",
   "execution_count": null,
   "metadata": {},
   "outputs": [],
   "source": [
    "final_df.loc[(final_df['row'] == 1)]['col'].unique()\n",
    "# final_df.loc[(final_df['col'] == 2)]['row'].unique()\n",
    "\n",
    "# (0,2), (0,8), (0, 14)\n",
    "# (1,2), (1,8), (1, 14)\n",
    "# (3,2), (3,8), (3, 14)\n",
    "# (12,2), (12,8), (12, 14)"
   ]
  },
  {
   "cell_type": "code",
   "execution_count": null,
   "metadata": {},
   "outputs": [],
   "source": [
    "def round_down_to_nearest_hundred(number):\n",
    "    rounded_number = (number // 100) * 100\n",
    "    return rounded_number\n",
    "\n",
    "def round_down_to_nearest_ten(number):\n",
    "    rounded_number = (number // 10) * 10\n",
    "    return rounded_number"
   ]
  },
  {
   "cell_type": "code",
   "execution_count": null,
   "metadata": {},
   "outputs": [],
   "source": [
    "def make_moneyplot(\n",
    "        input_df: pd.DataFrame,\n",
    "        pixel: list[set],\n",
    "        value_name: str,\n",
    "        board_name: str,\n",
    "        title_tag: str,\n",
    "        dose: int,\n",
    "        ylabel: str,\n",
    "    ):\n",
    "\n",
    "    sub_df = input_df.loc[(input_df['row'] == pixel[0]) & (input_df['col'] == pixel[1]) & (input_df['dose'] == dose)]\n",
    "\n",
    "    \n",
    "    custom_cycler = (cycler(color=['#1b9e77','#d95f02','#7570b3','#e7298a','#66a61e','#e6ab02'])\n",
    "                    + cycler(marker=['o', 'X', '^', 'D', 's', '*']))\n",
    "\n",
    "    fig, ax = plt.subplots(figsize=(16, 9))\n",
    "    hep.cms.text(loc=0, ax=ax, text=\"Preliminary\", fontsize=25)\n",
    "    ax.set_prop_cycle(custom_cycler)\n",
    "    ax.grid()\n",
    "\n",
    "    for icharge in input_df['charge'].unique():\n",
    "        tmp_df = sub_df.loc[sub_df['charge'] == icharge]\n",
    "        plt.plot(tmp_df['dac'], tmp_df[value_name], label=f\"{icharge} fC\")\n",
    "\n",
    "    ax.set_title(f\"{board_name} Pixel ({pixel[0]},{pixel[1]}) {title_tag}, {dose} MRad\", size=22, loc=\"right\")\n",
    "    ax.set_xlim(round_down_to_nearest_ten(tmp_df['dac'].min())-10, None)\n",
    "    # ax.tick_params(axis='x', which='major', pad=7)\n",
    "    # ax.tick_params(axis='y', which='major', pad=8)\n",
    "    # ax.set_ylim(-0.2, 8)\n",
    "    ax.legend(loc='upper right')\n",
    "    ax.set_xlabel('DAC value [LSB]')\n",
    "    ax.set_ylabel(ylabel)\n",
    "\n",
    "    timestamp = datetime.datetime.now().strftime(\"%Y-%m-%d_%H-%M\")\n",
    "    dir = \"../../ETROC-figures/\"+datetime.date.today().isoformat() + '_Array_Test_Results/Normal_Money/'\n",
    "    os.system(f'mkdir -p {dir}')\n",
    "    plt.savefig(dir+board_name+\"_R\"+str(pixel[0])+\"_C\"+str(pixel[1])+\"_TID_\"+str(dose)+\"_\"+value_name+\"_\"+str(timestamp)+\".png\")\n",
    "    plt.close()"
   ]
  },
  {
   "cell_type": "code",
   "execution_count": null,
   "metadata": {},
   "outputs": [],
   "source": [
    "def make_TID_moneyplot(\n",
    "        input_df: pd.DataFrame,\n",
    "        pixel: list[set],\n",
    "        value_name: str,\n",
    "        board_name: str,\n",
    "        title_tag: str,\n",
    "        QInj: int,\n",
    "        ylabel: str,\n",
    "    ):\n",
    "\n",
    "    sub_df = input_df.loc[(input_df['row'] == pixel[0]) & (input_df['col'] == pixel[1]) & (input_df['charge'] == QInj)]\n",
    "\n",
    "    \n",
    "    custom_cycler = (cycler(color=['#1b9e77','#d95f02','#7570b3','#e7298a','#66a61e','#e6ab02'])\n",
    "                    + cycler(marker=['o', 'X', '^', 'D', 's', '*']))\n",
    "\n",
    "    fig, ax = plt.subplots(figsize=(16, 9))\n",
    "    hep.cms.text(loc=0, ax=ax, text=\"Preliminary\", fontsize=25)\n",
    "    ax.set_prop_cycle(custom_cycler)\n",
    "    ax.grid()\n",
    "    x_min = 1000\n",
    "    for idose in input_df['dose'].unique():\n",
    "        tmp_df = sub_df.loc[sub_df['dose'] == idose]\n",
    "        temp = tmp_df['temp'].unique()[0]\n",
    "        current_x_min = round_down_to_nearest_ten(tmp_df['dac'].min())-10\n",
    "        if (current_x_min < x_min):\n",
    "            x_min = current_x_min\n",
    "        plt.plot(tmp_df['dac'], tmp_df[value_name], label=f\"{idose} MRad {temp}\\N{DEGREE SIGN}C\")\n",
    "\n",
    "    title = f\"{board_name} Pixel ({pixel[0]},{pixel[1]}) {title_tag}\"\n",
    "    ax.set_title(f\"{board_name} Pixel ({pixel[0]},{pixel[1]}) {title_tag}\", size=22, loc=\"right\")\n",
    "    ax.set_xlim(x_min, None)\n",
    "    # ax.tick_params(axis='x', which='major', pad=7)\n",
    "    # ax.tick_params(axis='y', which='major', pad=8)\n",
    "    # ax.set_ylim(-0.2, 8)\n",
    "    if 'mean' in value_name:\n",
    "        ax.legend(loc='upper right')\n",
    "    else:\n",
    "        ax.legend(loc='upper left')\n",
    "    ax.set_xlabel('DAC value [LSB]')\n",
    "    ax.set_ylabel(ylabel)\n",
    "\n",
    "    timestamp = datetime.datetime.now().strftime(\"%Y-%m-%d_%H-%M\")\n",
    "    dir = \"../../ETROC-figures/\"+datetime.date.today().isoformat() + '_Array_Test_Results/TID_Money/'\n",
    "    os.system(f'mkdir -p {dir}')\n",
    "    plt.savefig(dir+board_name+\"_R\"+str(pixel[0])+\"_C\"+str(pixel[1])+\"_QInj_\"+str(QInj)+\"_TID_\"+value_name+\"_\"+str(timestamp)+\".png\")\n",
    "    plt.close()"
   ]
  },
  {
   "cell_type": "code",
   "execution_count": null,
   "metadata": {},
   "outputs": [],
   "source": [
    "pixels = [(0,2), (0,8), (0,14), (3,2), (3,8), (3,14), (12,2), (12,8), (12,14)]\n",
    "doses = [0,200,400]\n",
    "QInjEns = [5, 6, 8, 15, 22, 27]\n",
    "value_names = [\"toa_mean\",\"toa_std\",\"tot_mean\",\"tot_std\",\"cal_mean\",\"cal_std\"]\n",
    "ylabels = [\"TOA Mean\",\"TOA Std\",\"TOT Mean\",\"TOT Std\",\"CAL Mean\",\"CAL Std\"]\n",
    "vals = list(zip(value_names,ylabels))"
   ]
  },
  {
   "cell_type": "code",
   "execution_count": null,
   "metadata": {},
   "outputs": [],
   "source": [
    "for value_name, label in vals:\n",
    "    for ipix in pixels:\n",
    "        for dose in doses:\n",
    "            make_moneyplot(final_df, ipix, value_name=value_name, board_name='ET2 W36 6', title_tag='QInj', dose=dose, ylabel=label+' [LSB]')"
   ]
  },
  {
   "cell_type": "code",
   "execution_count": null,
   "metadata": {},
   "outputs": [],
   "source": [
    "for value_name, label in vals:\n",
    "    for ipix in pixels:\n",
    "        for QInj in QInjEns:\n",
    "            make_TID_moneyplot(final_df, ipix, value_name=value_name, board_name='ET2 W36 6', title_tag='TID', QInj=QInj, ylabel=label+' [LSB]')"
   ]
  },
  {
   "cell_type": "code",
   "execution_count": null,
   "metadata": {},
   "outputs": [],
   "source": [
    "helper.plot_TDC_summary_table(final_df, [0], \"cal\")"
   ]
  },
  {
   "cell_type": "code",
   "execution_count": null,
   "metadata": {},
   "outputs": [],
   "source": [
    "pixels = [(2,2), (2,8), (2,14), (8,2), (8,8), (8,14), (14,2), (14,8), (14,14)]\n",
    "for ipix in pixels:\n",
    "    make_moneyplot(final_df, ipix, value_name='toa_std', board_name='ET2.01 Bar4', title_tag='QInj Money plot',temperature='-25C', ylabel='TOA Std [LSB]')"
   ]
  },
  {
   "cell_type": "code",
   "execution_count": null,
   "metadata": {},
   "outputs": [],
   "source": [
    "pixels = [(0,2), (0,8), (0,14), (1,2), (1,8), (1,14), (3,2), (3,8), (3,14), (12,2), (12,8), (12,14)]\n",
    "\n",
    "for ipix in pixels:\n",
    "    make_moneyplot(final_df, ipix, value_name='toa_mean', board_name='ET2.01 W36-6', title_tag='QInj Money plot 200MRad',temperature='-25C', ylabel='TOA Mean [LSB]')"
   ]
  },
  {
   "cell_type": "code",
   "execution_count": null,
   "metadata": {},
   "outputs": [],
   "source": []
  }
 ],
 "metadata": {
  "kernelspec": {
   "display_name": "packages",
   "language": "python",
   "name": "python3"
  },
  "language_info": {
   "codemirror_mode": {
    "name": "ipython",
    "version": 3
   },
   "file_extension": ".py",
   "mimetype": "text/x-python",
   "name": "python",
   "nbconvert_exporter": "python",
   "pygments_lexer": "ipython3",
   "version": "3.10.12"
  }
 },
 "nbformat": 4,
 "nbformat_minor": 2
}
