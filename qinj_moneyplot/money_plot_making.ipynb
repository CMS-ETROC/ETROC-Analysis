{
 "cells": [
  {
   "cell_type": "code",
   "execution_count": null,
   "metadata": {},
   "outputs": [],
   "source": [
    "from glob import glob\n",
    "from natsort import natsorted\n",
    "import pandas as pd\n",
    "from tqdm import tqdm\n",
    "import matplotlib.pyplot as plt\n",
    "import mplhep as hep\n",
    "hep.style.use('CMS')"
   ]
  },
  {
   "cell_type": "code",
   "execution_count": null,
   "metadata": {},
   "outputs": [],
   "source": [
    "import qinj_analysis_helper as helper\n",
    "\n",
    "helper.toSingleDataFramePerDirectory_newEventModel(\n",
    "    path_to_dir = '../../ETROC-Data/cern_Jan2024/TID/*PlateTemp12C_DryAir*/',\n",
    "    dir_name_pattern = 'ET2p01_W36_6_VRef_SCurve_TDC_*',\n",
    "    output_dir = '../../ETROC-Data/cern_Jan2024/TID/0MRad_Data/',\n",
    "    extra_str = '_p12c_0MRad',\n",
    "    # save_to_csv = True,\n",
    "    # debugging = True\n",
    ")"
   ]
  },
  {
   "cell_type": "code",
   "execution_count": null,
   "metadata": {},
   "outputs": [],
   "source": [
    "files = natsorted(glob('../../ETROC-Data/cern_Jan2024/TID/0MRad_Data/*feather'))\n",
    "files"
   ]
  },
  {
   "cell_type": "code",
   "execution_count": null,
   "metadata": {},
   "outputs": [],
   "source": [
    "data_dict = {\n",
    "    'row': [],\n",
    "    'col': [],\n",
    "    'charge': [],\n",
    "    'dac': [],\n",
    "    'toa_mean': [],\n",
    "    'toa_std': [],\n",
    "    'tot_mean': [],\n",
    "    'tot_std': [],\n",
    "    'cal_mean': [],\n",
    "    'cal_std': [],\n",
    "}\n",
    "\n",
    "for ifile in tqdm(files):\n",
    "    fname = ifile.split('/')[-1].split('.')[0]\n",
    "\n",
    "    # row = fname.split('_')[-5].split('R')[1]\n",
    "    # col = fname.split('_')[-6].split('C')[1]\n",
    "    # charge = fname.split('_')[-3]\n",
    "    # dac = fname.split('_')[-1]\n",
    "\n",
    "    row = fname.split('_')[-7].split('R')[1]\n",
    "    col = fname.split('_')[-8].split('C')[1]\n",
    "    charge = fname.split('_')[-5]\n",
    "    dac = fname.split('_')[-3]\n",
    "\n",
    "    # print(row, col, charge, dac)\n",
    "\n",
    "    df = pd.read_feather(ifile)\n",
    "    df = df.loc[(df['cal'] >= df['cal'].mode()[0]-2) & (df['cal'] <= df['cal'].mode()[0]+2)]\n",
    "\n",
    "    data_dict['row'].append(int(row))\n",
    "    data_dict['col'].append(int(col))\n",
    "    data_dict['charge'].append(int(charge))\n",
    "    data_dict['dac'].append(int(dac))\n",
    "\n",
    "    data_dict['toa_mean'].append(df['toa'].mean())\n",
    "    data_dict['toa_std'].append(df['toa'].std())\n",
    "    data_dict['tot_mean'].append(df['tot'].mean())\n",
    "    data_dict['tot_std'].append(df['tot'].std())\n",
    "    data_dict['cal_mean'].append(df['cal'].mean())\n",
    "    data_dict['cal_std'].append(df['cal'].std())"
   ]
  },
  {
   "cell_type": "code",
   "execution_count": null,
   "metadata": {},
   "outputs": [],
   "source": [
    "cut_df = pd.DataFrame(data=data_dict)"
   ]
  },
  {
   "cell_type": "code",
   "execution_count": null,
   "metadata": {},
   "outputs": [],
   "source": [
    "final_df = cut_df.loc[(cut_df['toa_std'] <= 5)]"
   ]
  },
  {
   "cell_type": "code",
   "execution_count": null,
   "metadata": {},
   "outputs": [],
   "source": [
    "final_df.to_feather('ET2p01_W36_6_TDC_summary_p12C_0MRad.feather')"
   ]
  },
  {
   "cell_type": "code",
   "execution_count": null,
   "metadata": {},
   "outputs": [],
   "source": [
    "# final_df = pd.read_feather('./ET2p01_Bar4_TDC_summary_p22C.feather')\n",
    "# final_df = pd.read_feather('./ET2p01_Bar4_TDC_summary_m25C.feather')\n",
    "final_df = pd.read_feather('./ET2p01_W36_6_TDC_summary_p12C_0MRad.feather')\n",
    "final_df"
   ]
  },
  {
   "cell_type": "code",
   "execution_count": null,
   "metadata": {},
   "outputs": [],
   "source": [
    "final_df.loc[(final_df['row'] == 1)]['col'].unique()\n",
    "# final_df.loc[(final_df['col'] == 2)]['row'].unique()\n",
    "\n",
    "# (0,2), (0,8), (0, 14)\n",
    "# (1,2), (1,8), (1, 14)\n",
    "# (3,2), (3,8), (3, 14)\n",
    "# (12,2), (12,8), (12, 14)"
   ]
  },
  {
   "cell_type": "code",
   "execution_count": null,
   "metadata": {},
   "outputs": [],
   "source": [
    "def round_down_to_nearest_hundred(number):\n",
    "    rounded_number = (number // 100) * 100\n",
    "    return rounded_number\n",
    "\n",
    "def round_down_to_nearest_ten(number):\n",
    "    rounded_number = (number // 10) * 10\n",
    "    return rounded_number"
   ]
  },
  {
   "cell_type": "code",
   "execution_count": null,
   "metadata": {},
   "outputs": [],
   "source": [
    "def make_moneyplot(\n",
    "        input_df: pd.DataFrame,\n",
    "        pixel: list[set],\n",
    "        value_name: str,\n",
    "        board_name: str,\n",
    "        title_tag: str,\n",
    "        temperature: str,\n",
    "        ylabel: str,\n",
    "    ):\n",
    "\n",
    "    sub_df = input_df.loc[(input_df['row'] == pixel[0]) & (input_df['col'] == pixel[1])]\n",
    "\n",
    "    from cycler import cycler\n",
    "    custom_cycler = (cycler(color=['#1b9e77','#d95f02','#7570b3','#e7298a','#66a61e','#e6ab02'])\n",
    "                    + cycler(marker=['o', 'X', '^', 'D', 's', '*']))\n",
    "\n",
    "    fig, ax = plt.subplots(figsize=(16, 9))\n",
    "    hep.cms.text(loc=0, ax=ax, text=\"Preliminary\", fontsize=25)\n",
    "    ax.set_prop_cycle(custom_cycler)\n",
    "    ax.grid()\n",
    "\n",
    "    for icharge in input_df['charge'].unique():\n",
    "        tmp_df = sub_df.loc[sub_df['charge'] == icharge]\n",
    "        plt.plot(tmp_df['dac'], tmp_df[value_name], label=f\"{icharge} fC\")\n",
    "\n",
    "    ax.set_title(f\"{board_name} Pixel ({pixel[0]},{pixel[1]}) {title_tag}, T: {temperature}\", size=22, loc=\"right\")\n",
    "    ax.set_xlim(round_down_to_nearest_ten(tmp_df['dac'].min())-10, None)\n",
    "    # ax.tick_params(axis='x', which='major', pad=7)\n",
    "    # ax.tick_params(axis='y', which='major', pad=8)\n",
    "    # ax.set_ylim(-0.2, 8)\n",
    "    ax.legend(loc='upper right')\n",
    "    ax.set_xlabel('DAC value [LSB]')\n",
    "    ax.set_ylabel(ylabel)"
   ]
  },
  {
   "cell_type": "code",
   "execution_count": null,
   "metadata": {},
   "outputs": [],
   "source": [
    "pixels = [(0,2), (0,8), (0,14), (3,2), (3,8), (3,14), (12,2), (12,8), (12,14)]\n",
    "\n",
    "for ipix in pixels:\n",
    "    make_moneyplot(final_df, ipix, value_name='toa_std', board_name='ET2.01 Bar4', title_tag='QInj Money plot', temperature='-25C', ylabel='TOA Std [LSB]')"
   ]
  },
  {
   "cell_type": "code",
   "execution_count": null,
   "metadata": {},
   "outputs": [],
   "source": [
    "pixels = [(2,2), (2,8), (2,14), (8,2), (8,8), (8,14), (14,2), (14,8), (14,14)]\n",
    "for ipix in pixels:\n",
    "    make_moneyplot(final_df, ipix, value_name='toa_std', board_name='ET2.01 Bar4', title_tag='QInj Money plot',temperature='-25C', ylabel='TOA Std [LSB]')"
   ]
  },
  {
   "cell_type": "code",
   "execution_count": null,
   "metadata": {},
   "outputs": [],
   "source": [
    "pixels = [(0,2), (0,8), (0,14), (1,2), (1,8), (1,14), (3,2), (3,8), (3,14), (12,2), (12,8), (12,14)]\n",
    "\n",
    "for ipix in pixels:\n",
    "    make_moneyplot(final_df, ipix, value_name='toa_mean', board_name='ET2.01 W36-6', title_tag='QInj Money plot 200MRad',temperature='-25C', ylabel='TOA Mean [LSB]')"
   ]
  },
  {
   "cell_type": "code",
   "execution_count": null,
   "metadata": {},
   "outputs": [],
   "source": []
  }
 ],
 "metadata": {
  "kernelspec": {
   "display_name": "packages",
   "language": "python",
   "name": "python3"
  },
  "language_info": {
   "codemirror_mode": {
    "name": "ipython",
    "version": 3
   },
   "file_extension": ".py",
   "mimetype": "text/x-python",
   "name": "python",
   "nbconvert_exporter": "python",
   "pygments_lexer": "ipython3",
   "version": "3.10.12"
  }
 },
 "nbformat": 4,
 "nbformat_minor": 2
}
