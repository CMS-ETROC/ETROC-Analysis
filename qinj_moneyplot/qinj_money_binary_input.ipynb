{
 "cells": [
  {
   "cell_type": "code",
   "execution_count": null,
   "metadata": {},
   "outputs": [],
   "source": [
    "from concurrent.futures import ProcessPoolExecutor\n",
    "from pathlib import Path\n",
    "from natsort import natsorted\n",
    "import pandas as pd\n",
    "import os, sys\n",
    "\n",
    "path2add = os.path.normpath(os.path.abspath(os.path.join(os.path.curdir, os.path.pardir, 'TestBeam')))\n",
    "print(path2add)\n",
    "\n",
    "if (not (path2add in sys.path)) :\n",
    "    sys.path.append(path2add)\n",
    "\n",
    "from beamtest_analysis_helper import DecodeBinary"
   ]
  },
  {
   "cell_type": "code",
   "execution_count": null,
   "metadata": {},
   "outputs": [],
   "source": [
    "def decode_directory(path_to_dir):\n",
    "    # Assuming each directory has a list of files to decode\n",
    "    files = sorted(list(path_to_dir.glob('TDC*bin')))\n",
    "    decoder = DecodeBinary(\n",
    "        firmware_key=0b0001,\n",
    "        board_id=[0x17f0f, 0x17f0f, 0x17f0f, 0x17f0f],\n",
    "        file_list=files,\n",
    "        save_nem=None,\n",
    "        skip_fw_filler=True,\n",
    "        skip_event_df=True,\n",
    "        skip_crc_df=True,\n",
    "    )\n",
    "    df, _, _, filler_df = decoder.decode_files()\n",
    "\n",
    "    return df, filler_df"
   ]
  },
  {
   "cell_type": "code",
   "execution_count": null,
   "metadata": {},
   "outputs": [],
   "source": [
    "dirs = natsorted(list(Path('/home/jongho/Physics/ETROC/ETROC-Analysis/binary_files').glob('ET2p03_BARE9*Threshold*')))\n",
    "dirs"
   ]
  },
  {
   "cell_type": "code",
   "execution_count": null,
   "metadata": {},
   "outputs": [],
   "source": [
    "with ProcessPoolExecutor() as executor:\n",
    "    results = list(executor.map(decode_directory, dirs))"
   ]
  },
  {
   "cell_type": "code",
   "execution_count": null,
   "metadata": {},
   "outputs": [],
   "source": [
    "dfs = []\n",
    "\n",
    "for idx, idir in enumerate(dirs):\n",
    "    info = idir.name.split('_')\n",
    "    thres = int(info[-1])\n",
    "    charge = int(info[-3])\n",
    "\n",
    "    tmp = results[idx][0][1000:].copy()\n",
    "\n",
    "    if tmp.shape[0] < 100:\n",
    "        continue\n",
    "\n",
    "    tmp.loc[:, 'charge'] = charge\n",
    "    tmp.loc[:, 'threshold'] = thres\n",
    "\n",
    "    tmp['charge'] = tmp['charge'].astype('uint8')\n",
    "    tmp['threshold'] = tmp['threshold'].astype('uint16')\n",
    "\n",
    "    dfs.append(tmp)"
   ]
  },
  {
   "cell_type": "code",
   "execution_count": null,
   "metadata": {},
   "outputs": [],
   "source": [
    "df = pd.concat(dfs)\n",
    "del dfs"
   ]
  },
  {
   "cell_type": "code",
   "execution_count": null,
   "metadata": {},
   "outputs": [],
   "source": [
    "df.reset_index(drop=True, inplace=True)"
   ]
  },
  {
   "cell_type": "code",
   "execution_count": null,
   "metadata": {},
   "outputs": [],
   "source": [
    "df"
   ]
  },
  {
   "cell_type": "code",
   "execution_count": null,
   "metadata": {},
   "outputs": [],
   "source": [
    "df.to_feather('ET2p03_BARE9_Run1_externalVRef1V_qinj_moneyplot.feather')"
   ]
  },
  {
   "cell_type": "code",
   "execution_count": null,
   "metadata": {},
   "outputs": [],
   "source": [
    "### filler\n",
    "# results[0][1]"
   ]
  },
  {
   "cell_type": "code",
   "execution_count": null,
   "metadata": {},
   "outputs": [],
   "source": [
    "### Drop unnecessary columns\n",
    "df.drop(columns=['ea', 'bcid', 'l1a_counter'], inplace=True)"
   ]
  },
  {
   "cell_type": "code",
   "execution_count": null,
   "metadata": {},
   "outputs": [],
   "source": [
    "cal_table = df.pivot_table(index=[\"row\", \"col\", \"charge\", \"threshold\"], columns=[\"board\"], values=[\"cal\"], aggfunc=lambda x: x.mode().iat[0])\n",
    "\n",
    "cal_table = cal_table.reset_index().set_index([('row', ''), ('col', ''), ('charge', ''), ('threshold', '')]).stack().reset_index()\n",
    "cal_table.columns = ['row', 'col', 'charge', 'threshold', 'board', 'cal_mode']\n",
    "\n",
    "merged_df = pd.merge(df, cal_table, on=['board', 'row', 'col', 'charge','threshold'])\n",
    "del df, cal_table\n",
    "\n",
    "cal_condition = abs(merged_df['cal'] - merged_df['cal_mode']) <= 3\n",
    "merged_df = merged_df[cal_condition].drop(columns=['cal_mode'])\n",
    "\n",
    "cal_filtered_df = merged_df.reset_index(drop=True)\n",
    "cal_filtered_df['board'] = cal_filtered_df['board'].astype('uint8')\n",
    "del merged_df, cal_condition"
   ]
  },
  {
   "cell_type": "code",
   "execution_count": null,
   "metadata": {},
   "outputs": [],
   "source": [
    "tot_table = cal_filtered_df.pivot_table(index=[\"row\", \"col\", \"charge\", \"threshold\"], columns=[\"board\"], values=[\"tot\"], aggfunc=lambda x: x.mode().iat[0])\n",
    "\n",
    "tot_table = tot_table.reset_index().set_index([('row', ''), ('col', ''), ('charge', ''), ('threshold', '')]).stack().reset_index()\n",
    "tot_table.columns = ['row', 'col', 'charge', 'threshold', 'board', 'tot_mode']\n",
    "\n",
    "merged_df = pd.merge(cal_filtered_df, tot_table, on=['board', 'row', 'col', 'charge','threshold'])\n",
    "del cal_filtered_df, tot_table\n",
    "\n",
    "tot_condition = abs(merged_df['tot'] - merged_df['tot_mode']) <= 100\n",
    "merged_df = merged_df[tot_condition].drop(columns=['tot_mode'])\n",
    "\n",
    "tot_filtered_df = merged_df.reset_index(drop=True)\n",
    "tot_filtered_df['board'] = tot_filtered_df['board'].astype('uint8')\n",
    "del merged_df, tot_condition"
   ]
  },
  {
   "cell_type": "code",
   "execution_count": null,
   "metadata": {},
   "outputs": [],
   "source": [
    "tot_filtered_df"
   ]
  },
  {
   "cell_type": "code",
   "execution_count": null,
   "metadata": {},
   "outputs": [],
   "source": [
    "grouped = tot_filtered_df.groupby(['row', 'col', 'charge', 'threshold'])\n",
    "agg_df = grouped.agg(\n",
    "    cal_mean=('cal', 'mean'),\n",
    "    cal_std=('cal', 'std'),\n",
    "    toa_mean = ('toa','mean'),\n",
    "    toa_std = ('toa', 'std'),\n",
    "    tot_mean=('tot', 'mean'),\n",
    "    tot_std=('tot', 'std'),\n",
    ")\n",
    "# agg_df.to_pickle(f'{board_name}_{run_name}_TDC_Summary.pickle')"
   ]
  },
  {
   "cell_type": "code",
   "execution_count": null,
   "metadata": {},
   "outputs": [],
   "source": [
    "agg_df"
   ]
  },
  {
   "cell_type": "code",
   "execution_count": null,
   "metadata": {},
   "outputs": [],
   "source": [
    "import matplotlib.pyplot as plt\n",
    "import mplhep as hep\n",
    "hep.style.use('CMS')"
   ]
  },
  {
   "cell_type": "code",
   "execution_count": null,
   "metadata": {},
   "outputs": [],
   "source": [
    "def draw_cal(pixels, input_df, board_name, run_name):\n",
    "    for (row, col) in pixels:\n",
    "        subset = input_df.xs((row, col), level=('row', 'col'))\n",
    "\n",
    "        if subset.empty:\n",
    "            continue\n",
    "\n",
    "        charges = subset.index.get_level_values('charge').unique()\n",
    "\n",
    "        fig, axes = plt.subplots(1, 2, figsize=(22, 10))\n",
    "\n",
    "        for charge in charges:\n",
    "            charge_data = subset[['cal_mean', 'cal_std']].xs(charge, level='charge')\n",
    "            charge_data = charge_data[(charge_data['cal_mean'] < 300.)]\n",
    "            axes[0].plot(charge_data.index.get_level_values('threshold'), charge_data['cal_mean'], '.-', label=f'{charge} fC')\n",
    "            axes[1].plot(charge_data.index.get_level_values('threshold'), charge_data['cal_std'], '.-', label=f'{charge} fC')\n",
    "\n",
    "        hep.cms.text(loc=0, ax=axes[0], text=\"ETL ETROC\", fontsize=18)\n",
    "        hep.cms.text(loc=0, ax=axes[1], text=\"ETL ETROC\", fontsize=18)\n",
    "        axes[0].set_title(f'Row {row}, Col {col}', loc='right', fontsize=16)\n",
    "        axes[1].set_title(f'Row {row}, Col {col}', loc='right', fontsize=16)\n",
    "\n",
    "        axes[0].set_ylim(charge_data['cal_mean'].mean()-5, charge_data['cal_mean'].mean()+5)\n",
    "        axes[1].set_ylim(-0.03, 1)\n",
    "\n",
    "        axes[0].set_xlabel('Threshold')\n",
    "        axes[1].set_xlabel('Threshold')\n",
    "        axes[0].set_ylabel('CAL Mean')\n",
    "        axes[1].set_ylabel('CAL Std')\n",
    "        axes[0].legend()\n",
    "        axes[1].legend()\n",
    "\n",
    "        plt.tight_layout()\n",
    "        # fig.savefig(f'{board_name}/{board_name}_{run_name}_Row_{row}_Col_{col}_CAL.png')\n",
    "        # fig.savefig(f'{board_name}/{board_name}_{run_name}_Row_{row}_Col_{col}_CAL.pdf')\n",
    "        # plt.close(fig)"
   ]
  },
  {
   "cell_type": "code",
   "execution_count": null,
   "metadata": {},
   "outputs": [],
   "source": [
    "def draw_toa(pixels, input_df, board_name, run_name):\n",
    "    for (row, col) in pixels:\n",
    "        subset = input_df.xs((row, col), level=('row', 'col'))\n",
    "\n",
    "        if subset.empty:\n",
    "            continue\n",
    "\n",
    "        charges = subset.index.get_level_values('charge').unique()\n",
    "\n",
    "        fig, axes = plt.subplots(1, 2, figsize=(22, 10))\n",
    "\n",
    "        for charge in charges:\n",
    "            charge_data = subset[['toa_mean', 'toa_std']].xs(charge, level='charge')\n",
    "            charge_data = charge_data[(charge_data['toa_mean'] < 300.) & (charge_data['toa_std'] < 3.)]\n",
    "            axes[0].plot(charge_data.index.get_level_values('threshold'), charge_data['toa_mean'], '.-', label=f'{charge} fC')\n",
    "            axes[1].plot(charge_data.index.get_level_values('threshold'), charge_data['toa_std'], '.-', label=f'{charge} fC')\n",
    "\n",
    "        hep.cms.text(loc=0, ax=axes[0], text=\"ETL ETROC\", fontsize=18)\n",
    "        hep.cms.text(loc=0, ax=axes[1], text=\"ETL ETROC\", fontsize=18)\n",
    "        axes[0].set_title(f'Row {row}, Col {col}', loc='right', fontsize=16)\n",
    "        axes[1].set_title(f'Row {row}, Col {col}', loc='right', fontsize=16)\n",
    "\n",
    "        axes[1].set_ylim(-0.03, 4)\n",
    "        # axes[0].set_ylim(200, 290)\n",
    "\n",
    "        axes[0].set_xlabel('Threshold')\n",
    "        axes[1].set_xlabel('Threshold')\n",
    "        axes[0].set_ylabel('TOA Mean')\n",
    "        axes[1].set_ylabel('TOA Std')\n",
    "        axes[0].legend()\n",
    "        axes[1].legend()\n",
    "\n",
    "        plt.tight_layout()\n",
    "        # fig.savefig(f'{board_name}/{board_name}_{run_name}_Row_{row}_Col_{col}_TOA.png')\n",
    "        # fig.savefig(f'{board_name}/{board_name}_{run_name}_Row_{row}_Col_{col}_TOA.pdf')\n",
    "        # plt.close(fig)"
   ]
  },
  {
   "cell_type": "code",
   "execution_count": null,
   "metadata": {},
   "outputs": [],
   "source": [
    "def draw_tot(pixels, input_df, board_name, run_name):\n",
    "    for (row, col) in pixels:\n",
    "        subset = input_df.xs((row, col), level=('row', 'col'))\n",
    "\n",
    "        if subset.empty:\n",
    "            continue\n",
    "\n",
    "        charges = subset.index.get_level_values('charge').unique()\n",
    "\n",
    "        fig, axes = plt.subplots(1, 2, figsize=(22, 10))\n",
    "\n",
    "        for charge in charges:\n",
    "            charge_data = subset[['tot_mean', 'tot_std']].xs(charge, level='charge')\n",
    "            charge_data = charge_data[(charge_data['tot_mean'] < 300.) & (charge_data['tot_std'] < 3.) & (charge_data['tot_std'] != 0)]\n",
    "            axes[0].plot(charge_data.index.get_level_values('threshold'), charge_data['tot_mean'], '.-', label=f'{charge} fC')\n",
    "            axes[1].plot(charge_data.index.get_level_values('threshold'), charge_data['tot_std'], '.-', label=f'{charge} fC')\n",
    "\n",
    "        hep.cms.text(loc=0, ax=axes[0], text=\"ETL ETROC\", fontsize=18)\n",
    "        hep.cms.text(loc=0, ax=axes[1], text=\"ETL ETROC\", fontsize=18)\n",
    "        axes[0].set_title(f'Row {row}, Col {col}', loc='right', fontsize=16)\n",
    "        axes[1].set_title(f'Row {row}, Col {col}', loc='right', fontsize=16)\n",
    "\n",
    "        axes[1].set_ylim(-0.03, 4)\n",
    "\n",
    "        axes[0].set_xlabel('Threshold')\n",
    "        axes[1].set_xlabel('Threshold')\n",
    "        axes[0].set_ylabel('TOT Mean')\n",
    "        axes[1].set_ylabel('TOT Std')\n",
    "        axes[0].legend()\n",
    "        axes[1].legend()\n",
    "\n",
    "        plt.tight_layout()\n",
    "        # fig.savefig(f'{board_name}/{board_name}_{run_name}_Row_{row}_Col_{col}_TOT.png')\n",
    "        # fig.savefig(f'{board_name}/{board_name}_{run_name}_Row_{row}_Col_{col}_TOT.pdf')\n",
    "        # plt.close(fig)"
   ]
  },
  {
   "cell_type": "code",
   "execution_count": null,
   "metadata": {},
   "outputs": [],
   "source": [
    "row_col_combinations = [(0, 0), (0, 14), (3, 0), (3, 14), (12, 0), (12, 14)]"
   ]
  },
  {
   "cell_type": "code",
   "execution_count": null,
   "metadata": {},
   "outputs": [],
   "source": [
    "b_name = ''\n",
    "r_name = ''\n",
    "\n",
    "draw_cal(row_col_combinations, agg_df, b_name, r_name)\n",
    "draw_toa(row_col_combinations, agg_df, b_name, r_name)\n",
    "draw_tot(row_col_combinations, agg_df, b_name, r_name)"
   ]
  },
  {
   "cell_type": "code",
   "execution_count": null,
   "metadata": {},
   "outputs": [],
   "source": []
  }
 ],
 "metadata": {
  "kernelspec": {
   "display_name": "packages",
   "language": "python",
   "name": "python3"
  },
  "language_info": {
   "codemirror_mode": {
    "name": "ipython",
    "version": 3
   },
   "file_extension": ".py",
   "mimetype": "text/x-python",
   "name": "python",
   "nbconvert_exporter": "python",
   "pygments_lexer": "ipython3",
   "version": "3.10.12"
  }
 },
 "nbformat": 4,
 "nbformat_minor": 2
}
