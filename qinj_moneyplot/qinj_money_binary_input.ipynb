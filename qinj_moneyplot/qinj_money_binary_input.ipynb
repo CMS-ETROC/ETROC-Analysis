{
 "cells": [
  {
   "cell_type": "code",
   "execution_count": null,
   "metadata": {},
   "outputs": [],
   "source": [
    "from concurrent.futures import ProcessPoolExecutor\n",
    "from pathlib import Path\n",
    "from natsort import natsorted\n",
    "import pandas as pd"
   ]
  },
  {
   "cell_type": "code",
   "execution_count": null,
   "metadata": {},
   "outputs": [],
   "source": [
    "import sys, os\n",
    "\n",
    "path2add = os.path.normpath(os.path.abspath(os.path.join(os.path.curdir, os.path.pardir, 'TestBeam')))\n",
    "print(path2add)\n",
    "\n",
    "if (not (path2add in sys.path)) :\n",
    "    sys.path.append(path2add)\n",
    "\n",
    "from beamtest_analysis_helper import DecodeBinary"
   ]
  },
  {
   "cell_type": "code",
   "execution_count": null,
   "metadata": {},
   "outputs": [],
   "source": [
    "def decode_directory(path_to_dir):\n",
    "    # Assuming each directory has a list of files to decode\n",
    "    files = sorted(list(path_to_dir.glob('TDC*bin')))\n",
    "    decoder = DecodeBinary(\n",
    "        firmware_key=0b0001,\n",
    "        board_id=[0x17f0f, 0x17f0f, 0x17f0f, 0x17f0f],\n",
    "        file_list=files,\n",
    "        save_nem=None,\n",
    "        skip_fw_filler=True,\n",
    "        skip_event_df=True,\n",
    "        skip_crc_df=True,\n",
    "    )\n",
    "    df, _, _, filler_df = decoder.decode_files()\n",
    "\n",
    "    return df, filler_df"
   ]
  },
  {
   "cell_type": "code",
   "execution_count": null,
   "metadata": {},
   "outputs": [],
   "source": [
    "dirs = natsorted(list(Path('./CERN_Aug_2024_TID/ET2p03_BARE9_1p20VA_1p20VD_200MRad_23h00m00s_m23p6').glob('ET2p03_BARE9*Threshold*')))\n",
    "dirs[:5]"
   ]
  },
  {
   "cell_type": "code",
   "execution_count": null,
   "metadata": {},
   "outputs": [],
   "source": [
    "with ProcessPoolExecutor() as executor:\n",
    "    results = list(executor.map(decode_directory, dirs))"
   ]
  },
  {
   "cell_type": "code",
   "execution_count": null,
   "metadata": {},
   "outputs": [],
   "source": [
    "dfs = []\n",
    "\n",
    "for idx, idir in enumerate(dirs):\n",
    "    info = idir.name.split('_')\n",
    "    thres = int(info[-1])\n",
    "    charge = int(info[-3])\n",
    "\n",
    "    tmp = results[idx][0][1000:].copy()\n",
    "\n",
    "    if tmp.shape[0] < 100:\n",
    "        continue\n",
    "\n",
    "    tmp.loc[:, 'charge'] = charge\n",
    "    tmp.loc[:, 'threshold'] = thres\n",
    "\n",
    "    tmp['charge'] = tmp['charge'].astype('uint8')\n",
    "    tmp['threshold'] = tmp['threshold'].astype('uint16')\n",
    "\n",
    "    dfs.append(tmp)\n",
    "\n",
    "df = pd.concat(dfs)\n",
    "del dfs\n",
    "\n",
    "df.reset_index(drop=True, inplace=True)"
   ]
  },
  {
   "cell_type": "code",
   "execution_count": null,
   "metadata": {},
   "outputs": [],
   "source": [
    "df.to_feather('ET2p03_BARE9_1p2VD_1p20VA_m23p7C_200MRad_23h_qinj_moneyplot.feather')"
   ]
  },
  {
   "cell_type": "code",
   "execution_count": null,
   "metadata": {},
   "outputs": [],
   "source": [
    "### filler\n",
    "\n",
    "filler_dfs = []\n",
    "for idx, idir in enumerate(dirs):\n",
    "    info = idir.name.split('_')\n",
    "    thres = int(info[-1])\n",
    "    charge = int(info[-3])\n",
    "\n",
    "    tmp = results[idx][1].copy()\n",
    "\n",
    "    if tmp.empty:\n",
    "        continue\n",
    "\n",
    "    tmp.loc[:, 'charge'] = charge\n",
    "    tmp.loc[:, 'threshold'] = thres\n",
    "\n",
    "    tmp['charge'] = tmp['charge'].astype('uint8')\n",
    "    tmp['threshold'] = tmp['threshold'].astype('uint16')\n",
    "\n",
    "    filler_dfs.append(tmp)\n",
    "\n",
    "filler_df = pd.concat(filler_dfs)\n",
    "del filler_dfs\n",
    "\n",
    "filler_df.reset_index(drop=True, inplace=True)"
   ]
  },
  {
   "cell_type": "code",
   "execution_count": null,
   "metadata": {},
   "outputs": [],
   "source": [
    "filler_df.to_feather('ET2p03_BARE9_1p2VD_1p20VA_m23p7C_200MRad_23h_qinj_moneyplot_filler.feather')"
   ]
  }
 ],
 "metadata": {
  "kernelspec": {
   "display_name": "packages",
   "language": "python",
   "name": "python3"
  },
  "language_info": {
   "codemirror_mode": {
    "name": "ipython",
    "version": 3
   },
   "file_extension": ".py",
   "mimetype": "text/x-python",
   "name": "python",
   "nbconvert_exporter": "python",
   "pygments_lexer": "ipython3",
   "version": "3.10.12"
  }
 },
 "nbformat": 4,
 "nbformat_minor": 2
}
