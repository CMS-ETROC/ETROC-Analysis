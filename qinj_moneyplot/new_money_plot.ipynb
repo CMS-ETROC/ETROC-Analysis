{
 "cells": [
  {
   "cell_type": "code",
   "execution_count": null,
   "metadata": {},
   "outputs": [],
   "source": [
    "import sys, os\n",
    "\n",
    "path2add = os.path.normpath(os.path.abspath(os.path.join(os.path.curdir, os.path.pardir, 'TestBeam')))\n",
    "print(path2add)\n",
    "\n",
    "if (not (path2add in sys.path)) :\n",
    "    sys.path.append(path2add)"
   ]
  },
  {
   "cell_type": "code",
   "execution_count": null,
   "metadata": {},
   "outputs": [],
   "source": [
    "from pathlib import Path\n",
    "from natsort import natsorted\n",
    "import pandas as pd\n",
    "import numpy as np\n",
    "import matplotlib.pyplot as plt\n",
    "import mplhep as hep\n",
    "hep.style.use('CMS')\n",
    "\n",
    "from beamtest_analysis_helper import toSingleDataFrame_newEventModel_moneyplot"
   ]
  },
  {
   "cell_type": "code",
   "execution_count": null,
   "metadata": {},
   "outputs": [],
   "source": [
    "board_name = \"ET2p03\"\n",
    "run_name = \"Run_3\""
   ]
  },
  {
   "cell_type": "code",
   "execution_count": null,
   "metadata": {},
   "outputs": [],
   "source": [
    "full_path = '/home/daq/ETROC2/ETROC-Data/2024-07-13_Array_Test_Results'\n",
    "dirs = natsorted(list(Path(full_path).glob(f'{board_name}_VRef_SCurve_TDC_Pixel_*_QInj_*_Threshold_*')))\n",
    "dirs[:3]"
   ]
  },
  {
   "attachments": {},
   "cell_type": "markdown",
   "metadata": {},
   "source": [
    "## Translate nem files to dataframe"
   ]
  },
  {
   "cell_type": "code",
   "execution_count": null,
   "metadata": {},
   "outputs": [],
   "source": [
    "df = toSingleDataFrame_newEventModel_moneyplot(directories=dirs)"
   ]
  },
  {
   "cell_type": "code",
   "execution_count": null,
   "metadata": {},
   "outputs": [],
   "source": [
    "df.to_feather(f'{board_name}_{run_name}_qinj_moneyplot.feather')"
   ]
  },
  {
   "cell_type": "code",
   "execution_count": null,
   "metadata": {},
   "outputs": [],
   "source": [
    "### Drop unnecessary columns\n",
    "df.drop(columns=['ea', 'bcid', 'l1a_counter'], inplace=True)"
   ]
  },
  {
   "attachments": {},
   "cell_type": "markdown",
   "metadata": {},
   "source": [
    "## CAL code filtering"
   ]
  },
  {
   "cell_type": "code",
   "execution_count": null,
   "metadata": {},
   "outputs": [],
   "source": [
    "cal_table = df.pivot_table(index=[\"row\", \"col\", \"charge\", \"threshold\"], columns=[\"board\"], values=[\"cal\"], aggfunc=lambda x: x.mode().iat[0])\n",
    "\n",
    "cal_table = cal_table.reset_index().set_index([('row', ''), ('col', ''), ('charge', ''), ('threshold', '')]).stack().reset_index()\n",
    "cal_table.columns = ['row', 'col', 'charge', 'threshold', 'board', 'cal_mode']\n",
    "\n",
    "merged_df = pd.merge(df, cal_table, on=['board', 'row', 'col', 'charge','threshold'])\n",
    "del df, cal_table\n",
    "\n",
    "cal_condition = abs(merged_df['cal'] - merged_df['cal_mode']) <= 3\n",
    "merged_df = merged_df[cal_condition].drop(columns=['cal_mode'])\n",
    "\n",
    "cal_filtered_df = merged_df.reset_index(drop=True)\n",
    "cal_filtered_df['board'] = cal_filtered_df['board'].astype(np.uint8)\n",
    "del merged_df, cal_condition"
   ]
  },
  {
   "attachments": {},
   "cell_type": "markdown",
   "metadata": {},
   "source": [
    "## TOT code filtering"
   ]
  },
  {
   "cell_type": "code",
   "execution_count": null,
   "metadata": {},
   "outputs": [],
   "source": [
    "tot_table = cal_filtered_df.pivot_table(index=[\"row\", \"col\", \"charge\", \"threshold\"], columns=[\"board\"], values=[\"tot\"], aggfunc=lambda x: x.mode().iat[0])\n",
    "\n",
    "tot_table = tot_table.reset_index().set_index([('row', ''), ('col', ''), ('charge', ''), ('threshold', '')]).stack().reset_index()\n",
    "tot_table.columns = ['row', 'col', 'charge', 'threshold', 'board', 'tot_mode']\n",
    "\n",
    "merged_df = pd.merge(cal_filtered_df, tot_table, on=['board', 'row', 'col', 'charge','threshold'])\n",
    "del cal_filtered_df, tot_table\n",
    "\n",
    "tot_condition = abs(merged_df['tot'] - merged_df['tot_mode']) <= 100\n",
    "merged_df = merged_df[tot_condition].drop(columns=['tot_mode'])\n",
    "\n",
    "tot_filtered_df = merged_df.reset_index(drop=True)\n",
    "tot_filtered_df['board'] = tot_filtered_df['board'].astype(np.uint8)\n",
    "del merged_df, tot_condition"
   ]
  },
  {
   "attachments": {},
   "cell_type": "markdown",
   "metadata": {},
   "source": [
    "## Calculate mean and std"
   ]
  },
  {
   "cell_type": "code",
   "execution_count": null,
   "metadata": {},
   "outputs": [],
   "source": [
    "grouped = tot_filtered_df.groupby(['row', 'col', 'charge', 'threshold'])\n",
    "agg_df = grouped.agg(\n",
    "    cal_mean=('cal', 'mean'),\n",
    "    cal_std=('cal', 'std'),\n",
    "    toa_mean = ('toa','mean'),\n",
    "    toa_std = ('toa', 'std'),\n",
    "    tot_mean=('tot', 'mean'),\n",
    "    tot_std=('tot', 'std'),\n",
    ")\n",
    "agg_df.to_pickle(f'{board_name}_{run_name}_TDC_Summary.pickle')"
   ]
  },
  {
   "attachments": {},
   "cell_type": "markdown",
   "metadata": {},
   "source": [
    "## Drawing plots"
   ]
  },
  {
   "cell_type": "code",
   "execution_count": null,
   "metadata": {},
   "outputs": [],
   "source": [
    "row_col_combinations = agg_df.index.to_frame(index=False)[['row', 'col']].drop_duplicates(subset=['row', 'col'])\n",
    "\n",
    "for (row, col) in row_col_combinations.values:\n",
    "    subset = agg_df.xs((row, col), level=('row', 'col'))\n",
    "    charges = subset.index.get_level_values('charge').unique()\n",
    "\n",
    "    fig, axes = plt.subplots(1, 2, figsize=(22, 10))\n",
    "\n",
    "    for charge in charges:\n",
    "        charge_data = subset.xs(charge, level='charge')\n",
    "        axes[0].plot(charge_data.index.get_level_values('threshold'), charge_data['cal_mean'], '.-', label=f'{charge} fC')\n",
    "        axes[1].plot(charge_data.index.get_level_values('threshold'), charge_data['cal_std'], '.-', label=f'{charge} fC')\n",
    "\n",
    "    hep.cms.text(loc=0, ax=axes[0], text=\"ETL ETROC\", fontsize=18)\n",
    "    hep.cms.text(loc=0, ax=axes[1], text=\"ETL ETROC\", fontsize=18)\n",
    "    axes[0].set_title(f'Row {row}, Col {col}', loc='right', fontsize=16)\n",
    "    axes[1].set_title(f'Row {row}, Col {col}', loc='right', fontsize=16)\n",
    "\n",
    "    axes[0].set_ylim(charge_data['cal_mean'].mean()-5, charge_data['cal_mean'].mean()+5)\n",
    "    axes[1].set_ylim(-0.03, 1)\n",
    "\n",
    "    axes[0].set_xlabel('Threshold')\n",
    "    axes[1].set_xlabel('Threshold')\n",
    "    axes[0].set_ylabel('CAL Mean')\n",
    "    axes[1].set_ylabel('CAL Std')\n",
    "    axes[0].legend()\n",
    "    axes[1].legend()\n",
    "\n",
    "    plt.tight_layout()\n",
    "    # fig.savefig(f'{board_name}/{board_name}_{run_name}_Row_{row}_Col_{col}_CAL.png')\n",
    "    # fig.savefig(f'{board_name}/{board_name}_{run_name}_Row_{row}_Col_{col}_CAL.pdf')\n",
    "    # plt.close(fig)"
   ]
  },
  {
   "cell_type": "code",
   "execution_count": null,
   "metadata": {},
   "outputs": [],
   "source": [
    "row_col_combinations = agg_df.index.to_frame(index=False)[['row', 'col']].drop_duplicates(subset=['row', 'col'])\n",
    "\n",
    "for (row, col) in row_col_combinations.values:\n",
    "    subset = agg_df.xs((row, col), level=('row', 'col'))\n",
    "    charges = subset.index.get_level_values('charge').unique()\n",
    "\n",
    "    fig, axes = plt.subplots(1, 2, figsize=(22, 10))\n",
    "\n",
    "    for charge in charges:\n",
    "        charge_data = subset.xs(charge, level='charge')\n",
    "        axes[0].plot(charge_data.index.get_level_values('threshold'), charge_data['toa_mean'], '.-', label=f'{charge} fC')\n",
    "        axes[1].plot(charge_data.index.get_level_values('threshold'), charge_data['toa_std'], '.-', label=f'{charge} fC')\n",
    "\n",
    "    hep.cms.text(loc=0, ax=axes[0], text=\"ETL ETROC\", fontsize=18)\n",
    "    hep.cms.text(loc=0, ax=axes[1], text=\"ETL ETROC\", fontsize=18)\n",
    "    axes[0].set_title(f'Row {row}, Col {col}', loc='right', fontsize=16)\n",
    "    axes[1].set_title(f'Row {row}, Col {col}', loc='right', fontsize=16)\n",
    "\n",
    "    axes[1].set_ylim(-0.03, 4)\n",
    "    axes[0].set_ylim(200, 290)\n",
    "\n",
    "    axes[0].set_xlabel('Threshold')\n",
    "    axes[1].set_xlabel('Threshold')\n",
    "    axes[0].set_ylabel('TOA Mean')\n",
    "    axes[1].set_ylabel('TOA Std')\n",
    "    axes[0].legend()\n",
    "    axes[1].legend()\n",
    "\n",
    "    plt.tight_layout()\n",
    "    # fig.savefig(f'{board_name}/{board_name}_{run_name}_Row_{row}_Col_{col}_TOA.png')\n",
    "    # fig.savefig(f'{board_name}/{board_name}_{run_name}_Row_{row}_Col_{col}_TOA.pdf')\n",
    "    # plt.close(fig)"
   ]
  },
  {
   "cell_type": "code",
   "execution_count": null,
   "metadata": {},
   "outputs": [],
   "source": [
    "row_col_combinations = agg_df.index.to_frame(index=False)[['row', 'col']].drop_duplicates(subset=['row', 'col'])\n",
    "\n",
    "for (row, col) in row_col_combinations.values:\n",
    "    subset = agg_df.xs((row, col), level=('row', 'col'))\n",
    "    charges = subset.index.get_level_values('charge').unique()\n",
    "\n",
    "    fig, axes = plt.subplots(1, 2, figsize=(22, 10))\n",
    "\n",
    "    for charge in charges:\n",
    "        charge_data = subset.xs(charge, level='charge')\n",
    "        axes[0].plot(charge_data.index.get_level_values('threshold'), charge_data['tot_mean'], '.-', label=f'{charge} fC')\n",
    "        axes[1].plot(charge_data.index.get_level_values('threshold'), charge_data['tot_std'], '.-', label=f'{charge} fC')\n",
    "\n",
    "    hep.cms.text(loc=0, ax=axes[0], text=\"ETL ETROC\", fontsize=18)\n",
    "    hep.cms.text(loc=0, ax=axes[1], text=\"ETL ETROC\", fontsize=18)\n",
    "    axes[0].set_title(f'Row {row}, Col {col}', loc='right', fontsize=16)\n",
    "    axes[1].set_title(f'Row {row}, Col {col}', loc='right', fontsize=16)\n",
    "\n",
    "    axes[1].set_ylim(-0.03, 4)\n",
    "\n",
    "    axes[0].set_xlabel('Threshold')\n",
    "    axes[1].set_xlabel('Threshold')\n",
    "    axes[0].set_ylabel('TOT Mean')\n",
    "    axes[1].set_ylabel('TOT Std')\n",
    "    axes[0].legend()\n",
    "    axes[1].legend()\n",
    "\n",
    "    plt.tight_layout()\n",
    "    # fig.savefig(f'{board_name}/{board_name}_{run_name}_Row_{row}_Col_{col}_TOT.png')\n",
    "    # fig.savefig(f'{board_name}/{board_name}_{run_name}_Row_{row}_Col_{col}_TOT.pdf')\n",
    "    # plt.close(fig)"
   ]
  },
  {
   "cell_type": "code",
   "execution_count": null,
   "metadata": {},
   "outputs": [],
   "source": []
  }
 ],
 "metadata": {
  "kernelspec": {
   "display_name": "packages",
   "language": "python",
   "name": "python3"
  },
  "language_info": {
   "codemirror_mode": {
    "name": "ipython",
    "version": 3
   },
   "file_extension": ".py",
   "mimetype": "text/x-python",
   "name": "python",
   "nbconvert_exporter": "python",
   "pygments_lexer": "ipython3",
   "version": "3.10.14"
  }
 },
 "nbformat": 4,
 "nbformat_minor": 2
}
