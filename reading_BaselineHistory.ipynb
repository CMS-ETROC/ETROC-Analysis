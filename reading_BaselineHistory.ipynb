{
 "cells": [
  {
   "attachments": {},
   "cell_type": "markdown",
   "metadata": {},
   "source": [
    "## Import"
   ]
  },
  {
   "cell_type": "code",
   "execution_count": null,
   "metadata": {},
   "outputs": [],
   "source": [
    "import sqlite3\n",
    "import pandas as pd\n",
    "import numpy as np\n",
    "import matplotlib.pyplot as plt\n",
    "from mpl_toolkits.axes_grid1 import make_axes_locatable"
   ]
  },
  {
   "attachments": {},
   "cell_type": "markdown",
   "metadata": {},
   "source": [
    "## Load file and specify the board name"
   ]
  },
  {
   "cell_type": "code",
   "execution_count": null,
   "metadata": {},
   "outputs": [],
   "source": [
    "con = sqlite3.connect('../ETROC-Data/BaselineHistory.sqlite')\n",
    "df = pd.read_sql_query(\"SELECT * from baselines\", con)"
   ]
  },
  {
   "attachments": {},
   "cell_type": "markdown",
   "metadata": {},
   "source": [
    "## Print the board name"
   ]
  },
  {
   "cell_type": "code",
   "execution_count": null,
   "metadata": {},
   "outputs": [],
   "source": [
    "column_values = df['chip_name']\n",
    "\n",
    "# Print the unique elements in the column\n",
    "unique_elements = column_values.unique()\n",
    "for element in unique_elements:\n",
    "    print(element)"
   ]
  },
  {
   "attachments": {},
   "cell_type": "markdown",
   "metadata": {},
   "source": [
    "## Print the saved notes for dedicate board name"
   ]
  },
  {
   "cell_type": "code",
   "execution_count": null,
   "metadata": {},
   "outputs": [],
   "source": [
    "chip_name = 'ET2_W36_IP5-17'\n",
    "column_values = df[(df['chip_name'] == chip_name)]['note']\n",
    "\n",
    "# Print the unique elements in the column\n",
    "unique_elements = column_values.unique()\n",
    "for element in unique_elements:\n",
    "    print(element)"
   ]
  },
  {
   "attachments": {},
   "cell_type": "markdown",
   "metadata": {},
   "source": [
    "## Select the data based on the board name and note"
   ]
  },
  {
   "cell_type": "code",
   "execution_count": null,
   "metadata": {},
   "outputs": [],
   "source": [
    "base_df = df[(df['chip_name'] == chip_name) & (df['note'] == 'LowBiasCurrent HVoff CblOff ET2_W36_IP5-17')]\n",
    "base_df"
   ]
  },
  {
   "attachments": {},
   "cell_type": "markdown",
   "metadata": {},
   "source": [
    "## Convert data to 2D 16x16 numpy array"
   ]
  },
  {
   "cell_type": "code",
   "execution_count": null,
   "metadata": {},
   "outputs": [],
   "source": [
    "# Create a pivot table to reshape the DataFrame\n",
    "pivot_table = base_df.pivot(index='row', columns='col', values='baseline')\n",
    "baseline = pivot_table.values\n",
    "\n",
    "pivot_table = base_df.pivot(index='row', columns='col', values='noise_width')\n",
    "noisewidth = pivot_table.values"
   ]
  },
  {
   "attachments": {},
   "cell_type": "markdown",
   "metadata": {},
   "source": [
    "## Draw BL and NW"
   ]
  },
  {
   "cell_type": "code",
   "execution_count": null,
   "metadata": {},
   "outputs": [],
   "source": [
    "fig = plt.figure(dpi=200, figsize=(10,10))\n",
    "gs = fig.add_gridspec(1,2)\n",
    "\n",
    "ax0 = fig.add_subplot(gs[0,0])\n",
    "ax0.set_title(\"BL (DAC LSB)\", size=8)\n",
    "img0 = ax0.imshow(baseline, interpolation='none')\n",
    "ax0.set_aspect(\"equal\")\n",
    "ax0.invert_xaxis()\n",
    "ax0.invert_yaxis()\n",
    "plt.xticks(range(16), range(16), rotation=\"vertical\")\n",
    "plt.yticks(range(16), range(16))\n",
    "divider = make_axes_locatable(ax0)\n",
    "cax = divider.append_axes('right', size=\"5%\", pad=0.05)\n",
    "fig.colorbar(img0, cax=cax, orientation=\"vertical\")\n",
    "\n",
    "ax1 = fig.add_subplot(gs[0,1])\n",
    "ax1.set_title(\"NW (DAC LSB)\", size=8)\n",
    "img1 = ax1.imshow(noisewidth, interpolation='none')\n",
    "ax1.set_aspect(\"equal\")\n",
    "ax1.invert_xaxis()\n",
    "ax1.invert_yaxis()\n",
    "plt.xticks(range(16), range(16), rotation=\"vertical\")\n",
    "plt.yticks(range(16), range(16))\n",
    "divider = make_axes_locatable(ax1)\n",
    "cax = divider.append_axes('right', size=\"5%\", pad=0.05)\n",
    "fig.colorbar(img1, cax=cax, orientation=\"vertical\")\n",
    "\n",
    "for x in range(16):\n",
    "    for y in range(16):\n",
    "        ax0.text(x,y,f\"{baseline.T[x,y]:.0f}\", c=\"white\", size=5, rotation=45, fontweight=\"bold\", ha=\"center\", va=\"center\")\n",
    "        ax1.text(x,y,f\"{noisewidth.T[x,y]:.0f}\", c=\"white\", size=5, rotation=45, fontweight=\"bold\", ha=\"center\", va=\"center\")"
   ]
  }
 ],
 "metadata": {
  "kernelspec": {
   "display_name": "packages",
   "language": "python",
   "name": "python3"
  },
  "language_info": {
   "codemirror_mode": {
    "name": "ipython",
    "version": 3
   },
   "file_extension": ".py",
   "mimetype": "text/x-python",
   "name": "python",
   "nbconvert_exporter": "python",
   "pygments_lexer": "ipython3",
   "version": "3.10.6"
  },
  "orig_nbformat": 4
 },
 "nbformat": 4,
 "nbformat_minor": 2
}
