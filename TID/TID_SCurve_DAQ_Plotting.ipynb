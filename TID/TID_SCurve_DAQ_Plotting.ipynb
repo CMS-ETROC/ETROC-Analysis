{
 "cells": [
  {
   "cell_type": "code",
   "execution_count": null,
   "metadata": {},
   "outputs": [],
   "source": [
    "#############################################################################\n",
    "# zlib License\n",
    "#\n",
    "# (C) 2023 Cristóvão Beirão da Cruz e Silva <cbeiraod@cern.ch>\n",
    "#\n",
    "# This software is provided 'as-is', without any express or implied\n",
    "# warranty.  In no event will the authors be held liable for any damages\n",
    "# arising from the use of this software.\n",
    "#\n",
    "# Permission is granted to anyone to use this software for any purpose,\n",
    "# including commercial applications, and to alter it and redistribute it\n",
    "# freely, subject to the following restrictions:\n",
    "#\n",
    "# 1. The origin of this software must not be misrepresented; you must not\n",
    "#    claim that you wrote the original software. If you use this software\n",
    "#    in a product, an acknowledgment in the product documentation would be\n",
    "#    appreciated but is not required.\n",
    "# 2. Altered source versions must be plainly marked as such, and must not be\n",
    "#    misrepresented as being the original software.\n",
    "# 3. This notice may not be removed or altered from any source distribution.\n",
    "#############################################################################\n",
    "\n",
    "#############################################################################\n",
    "# Modified for ETROC2 TID Plotting, Zachary Flowers <zachary.flowers@cern.ch>\n",
    "#############################################################################"
   ]
  },
  {
   "attachments": {},
   "cell_type": "markdown",
   "metadata": {},
   "source": [
    "## Imports"
   ]
  },
  {
   "cell_type": "code",
   "execution_count": null,
   "metadata": {
    "metadata": {}
   },
   "outputs": [],
   "source": [
    "from glob import glob\n",
    "from natsort import natsorted\n",
    "import pandas as pd\n",
    "from tqdm import tqdm\n",
    "import matplotlib.pyplot as plt\n",
    "import mplhep as hep\n",
    "hep.style.use('CMS')\n",
    "from pathlib import Path\n",
    "%matplotlib inline\n",
    "import matplotlib.pyplot as plt\n",
    "import numpy as np\n",
    "from mpl_toolkits.axes_grid1 import make_axes_locatable\n",
    "import os, sys\n",
    "import datetime\n",
    "from fnmatch import fnmatch\n",
    "import scipy.stats as stats\n",
    "from math import ceil\n",
    "from numpy import savetxt\n",
    "import pickle\n",
    "from cycler import cycler"
   ]
  },
  {
   "cell_type": "markdown",
   "metadata": {},
   "source": [
    "### Line to copy data from EOS to local"
   ]
  },
  {
   "cell_type": "markdown",
   "metadata": {},
   "source": [
    "#### Note: need to 'kinit' first\n",
    "May not work from notebook\n",
    "Might be best to run from terminal"
   ]
  },
  {
   "cell_type": "code",
   "execution_count": null,
   "metadata": {
    "metadata": {}
   },
   "outputs": [],
   "source": [
    "os.system('mkdir -p /home/daq/ETROC2/ETROC-Data/cern_Jan2024/ && xrdcp -r root://cmseos.fnal.gov///store/group/lpcmtdstudies/cern_Jan2024/TID /home/daq/ETROC2/ETROC-Data/cern_Jan2024/')"
   ]
  },
  {
   "cell_type": "markdown",
   "metadata": {},
   "source": [
    "# Analysis"
   ]
  },
  {
   "cell_type": "code",
   "execution_count": null,
   "metadata": {
    "metadata": {}
   },
   "outputs": [],
   "source": [
    "def multiple_trigger_bit_noisescan_plot(root, file_pattern, chip_figtitle, chip_figname, scan_list, attempts=[], tags=[], colors = ['k'], slide_friendly=False):\n",
    "    scan_name = chip_figname+\"_VRef_SCurve_NoiseOnly\"\n",
    "    triggerbit_full_Scurve = {row:{col:{attempt:{} for attempt in attempts} for col in range(16)} for row in range(16)}\n",
    "\n",
    "    today = datetime.date.today().isoformat()\n",
    "\n",
    "    fig_outdir = Path('../../ETROC-figures')\n",
    "    fig_outdir = fig_outdir / (today + '_Array_Test_Results')\n",
    "    fig_outdir.mkdir(exist_ok=True)\n",
    "    fig_path = str(fig_outdir)\n",
    "\n",
    "    row_list, col_list = zip(*scan_list)\n",
    "    u_cl = np.sort(np.unique(col_list))\n",
    "    u_rl = np.sort(np.unique(row_list))\n",
    "    \n",
    "    for row,col in scan_list:\n",
    "        for attempt in attempts:\n",
    "            path_pattern = f\"*_Array_Test_Results*/{scan_name}_Pixel_C{col}_R{row}\"+attempt\n",
    "            file_list = []\n",
    "            for path, subdirs, files in os.walk(root):\n",
    "                if not fnmatch(path, path_pattern): continue\n",
    "                for name in files:\n",
    "                    pass\n",
    "                    if fnmatch(name, file_pattern):\n",
    "                        file_list.append(os.path.join(path, name))\n",
    "            # print(file_list)\n",
    "            for file_index, file_name in enumerate(file_list):\n",
    "                with open(file_name) as infile:\n",
    "                    for line in infile:\n",
    "                        text_list = line.split(',')\n",
    "                        FPGA_triggerbit = int(text_list[5])\n",
    "                        DAC = int(text_list[-1])\n",
    "                        if DAC == -1: continue\n",
    "                        triggerbit_full_Scurve[row][col][attempt][DAC] = FPGA_triggerbit\n",
    "\n",
    "    if slide_friendly:\n",
    "        fig = plt.figure(dpi=100, figsize=(len(np.unique(u_cl))*10,len(np.unique(u_rl))*9))\n",
    "        gs = fig.add_gridspec(len(np.unique(u_rl)),len(np.unique(u_cl)))\n",
    "    for ri,row in enumerate(u_rl):\n",
    "        for ci,col in enumerate(u_cl):\n",
    "            x_max = 0\n",
    "            x_min = 1000\n",
    "            if slide_friendly:\n",
    "                ax0 = fig.add_subplot(gs[len(u_rl)-ri-1,len(u_cl)-ci-1])\n",
    "            else:\n",
    "                fig, ax0 = plt.subplots(dpi=100, figsize=(10,9))\n",
    "            for attempt, tag, color in zip(attempts, tags, colors):\n",
    "                Y = np.array(list(triggerbit_full_Scurve[row][col][attempt].values()))\n",
    "                X = np.array(list(triggerbit_full_Scurve[row][col][attempt].keys()))\n",
    "                ax0.plot(X, Y, '.-', color=color,lw=1.0,label=tag)\n",
    "                ax0.set_xlabel(\"DAC Value [decimal]\")\n",
    "                ax0.set_ylabel(\"Trigger Bit Counts [decimal]\")\n",
    "                hep.cms.text(loc=0, ax=ax0, text=\"Phase-2 Preliminary\", fontsize=15)\n",
    "                min_x_point = X[np.argmin(Y)]\n",
    "                max_x_point = X[np.argmax(Y)]\n",
    "                if(max_x_point > x_max):\n",
    "                    x_max = max_x_point\n",
    "                if(min_x_point < x_min):\n",
    "                    x_min = min_x_point\n",
    "            ax0.set_xlim(left=x_min-x_min*0.02, right=x_max+x_max*0.02)\n",
    "            plt.yscale(\"log\")\n",
    "            plt.title(f\"{chip_figtitle}, Pixel ({row},{col}) \"+tag,size=15, loc=\"right\")\n",
    "            plt.tight_layout()\n",
    "            # plt.legend(loc=\"upper right\", fontsize=14)\n",
    "            plt.legend(loc='best')\n",
    "            if not slide_friendly:\n",
    "                plt.savefig(fig_path+\"/\"+chip_figname+\"_NoisePeak_Log\"+\"_Pixel_R\"+str(row)+\"_C\"+str(col)+attempt+\".png\")\n",
    "                plt.savefig(fig_path+\"/\"+chip_figname+\"_NoisePeak_Log\"+\"_Pixel_R\"+str(row)+\"_C\"+str(col)+attempt+\".pdf\")\n",
    "                plt.close()\n",
    "    if slide_friendly:\n",
    "        plt.savefig(fig_path+\"/\"+chip_figname+\"_NoisePeak_Log\"+attempts[0]+\"_multiple.png\")\n",
    "        plt.savefig(fig_path+\"/\"+chip_figname+\"_NoisePeak_Log\"+attempts[0]+\"_multiple.pdf\")\n",
    "        plt.close()\n",
    "\n",
    "    if slide_friendly:\n",
    "        fig = plt.figure(dpi=100, figsize=(len(np.unique(u_cl))*10,len(np.unique(u_rl))*9))\n",
    "        gs = fig.add_gridspec(len(np.unique(u_rl)),len(np.unique(u_cl)))\n",
    "    for ri,row in enumerate(u_rl):\n",
    "        for ci,col in enumerate(u_cl):\n",
    "            x_max = 0\n",
    "            x_min = 1000\n",
    "            if slide_friendly:\n",
    "                ax0 = fig.add_subplot(gs[len(u_rl)-ri-1,len(u_cl)-ci-1])\n",
    "            else:\n",
    "                fig, ax0 = plt.subplots(dpi=100, figsize=(10,9))\n",
    "            for attempt, tag, color in zip(attempts, tags, colors):\n",
    "                Y = np.array(list(triggerbit_full_Scurve[row][col][attempt].values()))\n",
    "                X = np.array(list(triggerbit_full_Scurve[row][col][attempt].keys()))\n",
    "                ax0.plot(X, Y, '.-', color=color,lw=1.0,label=tag)\n",
    "                ax0.set_xlabel(\"DAC Value [decimal]\")\n",
    "                ax0.set_ylabel(\"Trigger Bit Counts [decimal]\")\n",
    "                hep.cms.text(loc=0, ax=ax0, text=\"Phase-2 Preliminary\", fontsize=15)\n",
    "                min_x_point = X[np.argmin(Y)]\n",
    "                max_x_point = X[np.argmax(Y)]\n",
    "                if(max_x_point > x_max):\n",
    "                    x_max = max_x_point\n",
    "                if(min_x_point < x_min):\n",
    "                    x_min = min_x_point\n",
    "            ax0.set_xlim(left=x_min-x_min*0.02, right=x_max+x_max*0.02)\n",
    "            plt.yscale(\"linear\")\n",
    "            plt.ticklabel_format(useOffset=False,axis='both',style='plain')\n",
    "            plt.title(f\"{chip_figtitle}, Pixel ({row},{col}) \"+tag,size=15, loc=\"right\")\n",
    "            plt.tight_layout()\n",
    "            # plt.legend(loc=\"upper right\", fontsize=14)\n",
    "            plt.legend(loc='best')\n",
    "            if not slide_friendly:\n",
    "                plt.savefig(fig_path+\"/\"+chip_figname+\"_NoisePeak_Linear\"+\"_Pixel_R\"+str(row)+\"_C\"+str(col)+attempt+\".png\")\n",
    "                plt.savefig(fig_path+\"/\"+chip_figname+\"_NoisePeak_Linear\"+\"_Pixel_R\"+str(row)+\"_C\"+str(col)+attempt+\".pdf\")\n",
    "                plt.close()\n",
    "    if slide_friendly:\n",
    "        plt.savefig(fig_path+\"/\"+chip_figname+\"_NoisePeak_Linear\"+attempts[0]+\"_multiple.png\")\n",
    "        plt.savefig(fig_path+\"/\"+chip_figname+\"_NoisePeak_Linear\"+attempts[0]+\"_multiple.pdf\")\n",
    "        plt.close()\n",
    "    del triggerbit_full_Scurve"
   ]
  },
  {
   "cell_type": "code",
   "execution_count": null,
   "metadata": {
    "metadata": {}
   },
   "outputs": [],
   "source": [
    "root = '/home/daq/ETROC2/ETROC-Data/cern_Jan2024/TID/'\n",
    "file_pattern = \"*FPGA_Data.dat\"\n",
    "chip_figtitle = \"ET2.01 W36-6\"\n",
    "chip_figname = \"ET2p01_W36_6\"\n",
    "row_list = [0, 0, 3, 3, 12, 12]\n",
    "col_list = [14, 2, 14, 2, 14, 2]\n",
    "scan_list = list(zip(row_list, col_list))\n",
    "attempts = [\"_m25c_0MRad\",\"_m25c_200MRad\",\"_m25c_400MRad\"]\n",
    "tags = [\"12C, 0, MRad\",\"-25C, 200, MRad\",\"-25C, 400, MRad\"]\n",
    "colors = ['k','r','b']\n",
    "multiple_trigger_bit_noisescan_plot(root,file_pattern,chip_figtitle,chip_figname,scan_list,attempts,tags,colors,False)"
   ]
  },
  {
   "cell_type": "markdown",
   "metadata": {},
   "source": [
    "## QInj vs DAC"
   ]
  },
  {
   "cell_type": "code",
   "execution_count": null,
   "metadata": {
    "metadata": {}
   },
   "outputs": [],
   "source": [
    "def load_auto_cal_BL_map(chip_name, user_path=\"\", day=datetime.date.today().isoformat()):\n",
    "    indir = Path('/home/daq/ETROC2/ETROC-Data/cern_Jan2024/TID/'+(day+'_Array_Test_Results/')+user_path)\n",
    "    infile_BL_map = indir / (chip_name+\"_BL_map.pickle\")\n",
    "    with open(infile_BL_map, 'rb') as f:\n",
    "        return pickle.load(f)\n",
    "\n",
    "def load_auto_cal_NW_map(chip_name, user_path=\"\", day=datetime.date.today().isoformat()):\n",
    "    indir = Path('/home/daq/ETROC2/ETROC-Data/cern_Jan2024/TID/'+(day+'_Array_Test_Results/')+user_path)\n",
    "    infile_NW_map = indir / (chip_name+\"_NW_map.pickle\")\n",
    "    with open(infile_NW_map, 'rb') as f:\n",
    "        return pickle.load(f)"
   ]
  },
  {
   "cell_type": "code",
   "execution_count": null,
   "metadata": {
    "metadata": {}
   },
   "outputs": [],
   "source": [
    "def charge_peakDAC_plot(chip_name, chip_figtitle, chip_figname, scan_list, QInjEns, attempt='', tag='', day = '', pkl_day = '', plot_BL=False, do_Fit=True, rm_n_fit_points=0, slide_friendly=False):\n",
    "    scan_name = chip_figname+\"_VRef_SCurve_BinarySearch_TurnOff\"\n",
    "    if(plot_BL):\n",
    "        BL_map_THCal=load_auto_cal_BL_map(chip_name, \"\", pkl_day)\n",
    "        NW_map_THCal=load_auto_cal_NW_map(chip_name, \"\", pkl_day)\n",
    "    QInj_Peak_DAC_map = {row:{col:{q:0 for q in QInjEns} for col in range(16)} for row in range(16)}\n",
    "\n",
    "    today = datetime.date.today().isoformat()\n",
    "\n",
    "    fig_outdir = Path('../../ETROC-figures')\n",
    "    fig_outdir = fig_outdir / (today + '_Array_Test_Results')\n",
    "    fig_outdir.mkdir(exist_ok=True)\n",
    "    fig_path = str(fig_outdir)\n",
    "\n",
    "    for row,col in scan_list:\n",
    "        for QInj in QInjEns:\n",
    "            threshold_name = scan_name+f'_Pixel_C{col}_R{row}_QInj_{QInj}'\n",
    "            path_pattern = f\"*{day}_Array_Test_Results/{threshold_name}\"\n",
    "            file_list = []\n",
    "            for path, subdirs, files in os.walk(root):\n",
    "                if not fnmatch(path, path_pattern): continue\n",
    "                for name in files:\n",
    "                    pass\n",
    "                    if fnmatch(name, file_pattern):\n",
    "                        file_list.append(os.path.join(path, name))\n",
    "            for file_index, file_name in enumerate(file_list):\n",
    "                with open(file_name) as infile:\n",
    "                    last_line = infile.readlines()[-1]\n",
    "                    text_list = last_line.split(',')\n",
    "                    DAC = int(text_list[-1])\n",
    "                    QInj_Peak_DAC_map[row][col][QInj] = DAC\n",
    "\n",
    "    row_list, col_list = zip(*scan_list)\n",
    "    u_cl = np.sort(np.unique(col_list))\n",
    "    u_rl = np.sort(np.unique(row_list))\n",
    "    if slide_friendly:\n",
    "        fig = plt.figure(dpi=100, figsize=(len(np.unique(u_cl))*10,len(np.unique(u_rl))*9))\n",
    "        gs = fig.add_gridspec(len(np.unique(u_rl)),len(np.unique(u_cl)))\n",
    "    for ri,row in enumerate(u_rl):\n",
    "        for ci,col in enumerate(u_cl):\n",
    "            if(slide_friendly):\n",
    "                ax0 = fig.add_subplot(gs[len(u_rl)-ri-1,len(u_cl)-ci-1])\n",
    "            else:\n",
    "                fig, ax0 = plt.subplots(dpi=100, figsize=(10,9))\n",
    "            if(plot_BL):\n",
    "                BL = int(np.floor(BL_map_THCal[row][col]))\n",
    "                NW = abs(int(np.floor(NW_map_THCal[row][col])))\n",
    "                ax0.axhline(BL, color='k', lw=0.8, label=f\"BL = {BL} DAC LSB\")\n",
    "                ax0.axhline(BL+NW, color='k',ls=\"--\", lw=0.8, label=f\"NW = $\\pm${NW} DAC LSB\")\n",
    "                ax0.axhline(BL-NW, color='k',ls=\"--\", lw=0.8)\n",
    "            X = []\n",
    "            Y = []\n",
    "            for QInj in QInjEns:\n",
    "                ax0.plot(QInj, QInj_Peak_DAC_map[row][col][QInj], 'rx')\n",
    "                X.append(QInj)\n",
    "                Y.append(QInj_Peak_DAC_map[row][col][QInj])\n",
    "            X = np.array(X[rm_n_fit_points:])\n",
    "            Y = np.array(Y[rm_n_fit_points:])\n",
    "            if(do_Fit):\n",
    "                (m, b), cov = np.polyfit(X, Y, 1, cov = True)\n",
    "                n = Y.size\n",
    "                Yfit = np.polyval((m,b), X)\n",
    "                errorbars = np.sqrt(np.diag(cov))\n",
    "                x_range = np.linspace(0, 35, 100)\n",
    "                y_est = b + m*x_range\n",
    "                resid = Y - Yfit\n",
    "                s_err = np.sqrt(np.sum(resid**2)/(n - 2))\n",
    "                t = stats.t.ppf(0.95, n - 2)\n",
    "                ci2= t * s_err * np.sqrt(    1/n + (x_range - np.mean(X))**2/(np.sum((X)**2)-n*np.sum((np.mean(X))**2)))\n",
    "\n",
    "            if(do_Fit):\n",
    "                ax0.plot(x_range, y_est, 'b-', lw=-.8, label=f\"DAC_TH = ({m:.2f}$\\pm${errorbars[0]:.2f})$\\cdot$Q + ({b:.2f}$\\pm${errorbars[1]:.2f})\")\n",
    "                plt.fill_between(x_range, y_est+ci2, y_est-ci2, color='b',alpha=0.2, label=\"95% Confidence Interval on Linear Fit\")\n",
    "            ax0.set_xlabel(\"Charge Injected [fC]\")\n",
    "            ax0.set_ylabel(\"DAC Threshold [LSB]\")\n",
    "            hep.cms.text(loc=0, ax=ax0, text=\"Phase-2 Preliminary\", fontsize=15)\n",
    "            plt.title(f\"{chip_figtitle}, Pixel ({row},{col})\"+tag, size=15, loc='right')\n",
    "            if(do_Fit or plot_BL):\n",
    "                # plt.legend(loc=(0.04,0.65))\n",
    "                plt.legend(loc='best')\n",
    "            plt.tight_layout()\n",
    "            if not slide_friendly:\n",
    "                plt.savefig(fig_path+\"/\"+chip_figname+\"_QInj_Sensitivity\"+\"_Pixel_R\"+str(row)+\"_C\"+str(col)+attempt+\".png\")\n",
    "                plt.savefig(fig_path+\"/\"+chip_figname+\"_QInj_Sensitivity\"+\"_Pixel_R\"+str(row)+\"_C\"+str(col)+attempt+\".pdf\")\n",
    "                plt.close()\n",
    "    if slide_friendly:\n",
    "        plt.savefig(fig_path+\"/\"+chip_figname+\"_QInj_Sensitivity\"+attempt+\".png\")\n",
    "        plt.savefig(fig_path+\"/\"+chip_figname+\"_QInj_Sensitivity\"+attempt+\".pdf\")\n",
    "        plt.close()\n",
    "    del QInj_Peak_DAC_map"
   ]
  },
  {
   "cell_type": "code",
   "execution_count": null,
   "metadata": {
    "metadata": {}
   },
   "outputs": [],
   "source": [
    "charge_peakDAC_plot(chip_name=\"ET2p01_W36_6\", chip_figtitle=\"ET2.01 W36-6, 12\\N{DEGREE SIGN}C, 0 MRad\", chip_figname=\"ET2p01_W36_6\", scan_list=scan_list, QInjEns=[5, 6, 8, 15, 22, 27], attempt='_p12_0MRad', tag='', day = '2024-01-1*', pkl_day='2024-01-10', plot_BL=False, do_Fit=True, rm_n_fit_points=2, slide_friendly=False)\n",
    "charge_peakDAC_plot(chip_name=\"ET2p01_W36_6\", chip_figtitle=\"ET2.01 W36-6, 12\\N{DEGREE SIGN}C, 0 MRad\", chip_figname=\"ET2p01_W36_6\", scan_list=scan_list, QInjEns=[5, 6, 8, 15, 22, 27], attempt='_p12_0MRad', tag='', day = '2024-01-1*', pkl_day='2024-01-11', plot_BL=False, do_Fit=True, rm_n_fit_points=2, slide_friendly=False)\n",
    "charge_peakDAC_plot(chip_name=\"ET2p01_W36_6\", chip_figtitle=\"ET2.01 W36-6, -25\\N{DEGREE SIGN}C, 200 MRad\", chip_figname=\"ET2p01_W36_6\", scan_list=scan_list, QInjEns=[5, 6, 8, 15, 22, 27], attempt='_m25c_200MRad', tag='', day = '2024-01-1*', pkl_day='2024-01-15', plot_BL=False, do_Fit=True, rm_n_fit_points=2, slide_friendly=False)\n",
    "charge_peakDAC_plot(chip_name=\"ET2p01_W36_6\", chip_figtitle=\"ET2.01 W36-6, -25\\N{DEGREE SIGN}C, 400 MRad\", chip_figname=\"ET2p01_W36_6\", scan_list=scan_list, QInjEns=[5, 6, 8, 15, 22, 27], attempt='_m25c_400MRad', tag='', day = '2024-01-1*', pkl_day='2024-01-15', plot_BL=False, do_Fit=True, rm_n_fit_points=2, slide_friendly=False)"
   ]
  },
  {
   "cell_type": "markdown",
   "metadata": {},
   "source": [
    "# Money Plots"
   ]
  },
  {
   "cell_type": "markdown",
   "metadata": {},
   "source": [
    "## Feather making (already done for CERN Jan 2024)"
   ]
  },
  {
   "cell_type": "code",
   "execution_count": null,
   "metadata": {},
   "outputs": [],
   "source": [
    "def toSingleDataFramePerDirectory_newEventModel(\n",
    "        path_to_dir: str,\n",
    "        dir_name_pattern: str,\n",
    "        save_to_csv: bool = False,\n",
    "        debugging: bool = False,\n",
    "        output_dir: str = \"\",\n",
    "        extra_str: str = \"\",\n",
    "    ):\n",
    "\n",
    "    if output_dir != \"\":\n",
    "        os.system(f\"mkdir -p {output_dir}\")\n",
    "    name_pattern = \"*translated*.nem\"\n",
    "\n",
    "    dirs = glob(f\"{path_to_dir}/{dir_name_pattern}\")\n",
    "    dirs = natsorted(dirs)\n",
    "    print(dirs[:3])\n",
    "\n",
    "    if debugging:\n",
    "        dirs = dirs[:1]\n",
    "\n",
    "    d = {\n",
    "        # 'board': [],\n",
    "        'row': [],\n",
    "        'col': [],\n",
    "        'toa': [],\n",
    "        'tot': [],\n",
    "        'cal': [],\n",
    "    }\n",
    "\n",
    "    for dir in tqdm(dirs):\n",
    "        df = pd.DataFrame(d)\n",
    "        name = dir.split('/')[-1]\n",
    "        files = glob(f\"{dir}/{name_pattern}\")\n",
    "\n",
    "        for ifile in files:\n",
    "            file_d = copy.deepcopy(d)\n",
    "\n",
    "            if os.stat(ifile).st_size == 0:\n",
    "                continue\n",
    "\n",
    "            with open(ifile, 'r') as infile:\n",
    "                for line in infile:\n",
    "                    if line.split(' ')[0] == 'EH':\n",
    "                        pass\n",
    "                    elif line.split(' ')[0] == 'H':\n",
    "                        pass\n",
    "                        # bcid = int(line.split(' ')[-1])\n",
    "                    elif line.split(' ')[0] == 'D':\n",
    "                        # id  = int(line.split(' ')[1])\n",
    "                        col = int(line.split(' ')[-4])\n",
    "                        row = int(line.split(' ')[-5])\n",
    "                        toa = int(line.split(' ')[-3])\n",
    "                        tot = int(line.split(' ')[-2])\n",
    "                        cal = int(line.split(' ')[-1])\n",
    "                        # file_d['evt'].append(evt)\n",
    "                        # file_d['board'].append(id)\n",
    "                        file_d['row'].append(row)\n",
    "                        file_d['col'].append(col)\n",
    "                        file_d['toa'].append(toa)\n",
    "                        file_d['tot'].append(tot)\n",
    "                        file_d['cal'].append(cal)\n",
    "                    elif line.split(' ')[0] == 'T':\n",
    "                        pass\n",
    "                    elif line.split(' ')[0] == 'ET':\n",
    "                        pass\n",
    "            # if len(file_d['evt']) > 0:\n",
    "            file_df = pd.DataFrame(file_d)\n",
    "            df = pd.concat((df, file_df), ignore_index=True)\n",
    "            del file_df\n",
    "            del file_d\n",
    "\n",
    "        if not df.empty:\n",
    "            df = df.astype('int')\n",
    "            if save_to_csv:\n",
    "                df.to_csv(name+'.csv', index=False)\n",
    "            else:\n",
    "                df.to_feather(f\"{output_dir}/{name}{extra_str}.feather\")\n",
    "            del df"
   ]
  },
  {
   "cell_type": "code",
   "execution_count": null,
   "metadata": {},
   "outputs": [],
   "source": [
    "toSingleDataFramePerDirectory_newEventModel(\n",
    "    path_to_dir = '../../ETROC-Data/cern_Jan2024/TID/*PlateTemp12C_DryAir*/',\n",
    "    dir_name_pattern = 'ET2p01_W36_6_VRef_SCurve_TDC_*',\n",
    "    output_dir = '../../ETROC-Data/cern_Jan2024/TID/0MRad_Data/',\n",
    "    extra_str = '_p12c_0MRad',\n",
    "    # save_to_csv = True,\n",
    "    # debugging = True\n",
    ")"
   ]
  },
  {
   "cell_type": "code",
   "execution_count": null,
   "metadata": {},
   "outputs": [],
   "source": [
    "files = natsorted(glob('../../ETROC-Data/cern_Jan2024/TID/400MRad_Data/*'))\n",
    "files"
   ]
  },
  {
   "cell_type": "code",
   "execution_count": null,
   "metadata": {},
   "outputs": [],
   "source": [
    "data_dict = {\n",
    "    'row': [],\n",
    "    'col': [],\n",
    "    'charge': [],\n",
    "    'dac': [],\n",
    "    'temp': [],\n",
    "    'dose': [],\n",
    "    'toa_mean': [],\n",
    "    'toa_std': [],\n",
    "    'tot_mean': [],\n",
    "    'tot_std': [],\n",
    "    'cal_mean': [],\n",
    "    'cal_std': [],\n",
    "}\n",
    "\n",
    "for ifile in tqdm(files):\n",
    "    fname = ifile.split('/')[-1].split('.')[0]\n",
    "\n",
    "    # row = fname.split('_')[-5].split('R')[1]\n",
    "    # col = fname.split('_')[-6].split('C')[1]\n",
    "    # charge = fname.split('_')[-3]\n",
    "    # dac = fname.split('_')[-1]\n",
    "\n",
    "    row = fname.split('_')[-7].split('R')[1]\n",
    "    col = fname.split('_')[-8].split('C')[1]\n",
    "    charge = fname.split('_')[-5]\n",
    "    dac = fname.split('_')[-3]\n",
    "    temp = fname.split('_')[-2][1:-1]\n",
    "    if fname.split('_')[-2][0] == 'm':\n",
    "        temp = '-'+temp\n",
    "    dose = fname.split('_')[-1][0:-4]\n",
    "\n",
    "    # print(row, col, charge, dac)\n",
    "\n",
    "    df = pd.read_feather(ifile)\n",
    "    df = df.loc[(df['cal'] >= df['cal'].mode()[0]-2) & (df['cal'] <= df['cal'].mode()[0]+2)]\n",
    "\n",
    "    data_dict['row'].append(int(row))\n",
    "    data_dict['col'].append(int(col))\n",
    "    data_dict['charge'].append(int(charge))\n",
    "    data_dict['dac'].append(int(dac))\n",
    "    data_dict['temp'].append(int(temp))\n",
    "    data_dict['dose'].append(int(dose))\n",
    "\n",
    "    data_dict['toa_mean'].append(df['toa'].mean())\n",
    "    data_dict['toa_std'].append(df['toa'].std())\n",
    "    data_dict['tot_mean'].append(df['tot'].mean())\n",
    "    data_dict['tot_std'].append(df['tot'].std())\n",
    "    data_dict['cal_mean'].append(df['cal'].mean())\n",
    "    data_dict['cal_std'].append(df['cal'].std())"
   ]
  },
  {
   "cell_type": "code",
   "execution_count": null,
   "metadata": {},
   "outputs": [],
   "source": [
    "cut_df = pd.DataFrame(data=data_dict)"
   ]
  },
  {
   "cell_type": "code",
   "execution_count": null,
   "metadata": {},
   "outputs": [],
   "source": [
    "final_df = cut_df.loc[(cut_df['toa_std'] <= 4)]"
   ]
  },
  {
   "cell_type": "code",
   "execution_count": null,
   "metadata": {},
   "outputs": [],
   "source": [
    "final_df.to_feather('ET2p01_W36_6_TDC_summary_400MRad.feather')"
   ]
  },
  {
   "cell_type": "code",
   "execution_count": null,
   "metadata": {},
   "outputs": [],
   "source": []
  },
  {
   "cell_type": "markdown",
   "metadata": {},
   "source": [
    "## Analysis After Making Feather"
   ]
  },
  {
   "cell_type": "markdown",
   "metadata": {},
   "source": [
    "### Setup Analysis"
   ]
  },
  {
   "cell_type": "code",
   "execution_count": null,
   "metadata": {
    "metadata": {}
   },
   "outputs": [],
   "source": [
    "feather_path = '/home/daq/ETROC2/ETROC-Data/cern_Jan2024/TID/'\n",
    "final_df = pd.read_feather(feather_path+'ET2p01_W36_6_TDC_summary_allMRad.feather')\n",
    "final_df"
   ]
  },
  {
   "cell_type": "code",
   "execution_count": null,
   "metadata": {
    "metadata": {}
   },
   "outputs": [],
   "source": [
    "def round_down_to_nearest_hundred(number):\n",
    "    rounded_number = (number // 100) * 100\n",
    "    return rounded_number\n",
    "\n",
    "def round_down_to_nearest_ten(number):\n",
    "    rounded_number = (number // 10) * 10\n",
    "    return rounded_number"
   ]
  },
  {
   "cell_type": "code",
   "execution_count": null,
   "metadata": {
    "metadata": {}
   },
   "outputs": [],
   "source": [
    "def make_moneyplot(\n",
    "        input_df: pd.DataFrame,\n",
    "        pixel: list[set],\n",
    "        value_name: str,\n",
    "        board_name: str,\n",
    "        title_tag: str,\n",
    "        dose: int,\n",
    "        ylabel: str,\n",
    "    ):\n",
    "\n",
    "    sub_df = input_df.loc[(input_df['row'] == pixel[0]) & (input_df['col'] == pixel[1]) & (input_df['dose'] == dose)]\n",
    "\n",
    "    \n",
    "    custom_cycler = (cycler(color=['#1b9e77','#d95f02','#7570b3','#e7298a','#66a61e','#e6ab02'])\n",
    "                    + cycler(marker=['o', 'X', '^', 'D', 's', '*']))\n",
    "\n",
    "    fig, ax = plt.subplots(figsize=(10, 9))\n",
    "    hep.cms.text(loc=0, ax=ax, text=\"Phase-2 Preliminary\", fontsize=15)\n",
    "    ax.set_prop_cycle(custom_cycler)\n",
    "    ax.grid()\n",
    "\n",
    "    for icharge in input_df['charge'].unique():\n",
    "        tmp_df = sub_df.loc[sub_df['charge'] == icharge]\n",
    "        plt.plot(tmp_df['dac'], tmp_df[value_name], label=f\"{icharge} fC\")\n",
    "\n",
    "    ax.set_title(f\"{board_name} Pixel ({pixel[0]},{pixel[1]}) {title_tag}, {dose} MRad\", size=15, loc=\"right\")\n",
    "    ax.set_xlim(round_down_to_nearest_ten(tmp_df['dac'].min())-10, None)\n",
    "    # ax.tick_params(axis='x', which='major', pad=7)\n",
    "    # ax.tick_params(axis='y', which='major', pad=8)\n",
    "    # ax.set_ylim(-0.2, 8)\n",
    "    ax.legend(loc='best')\n",
    "    ax.set_xlabel('DAC value [LSB]')\n",
    "    ax.set_ylabel(ylabel)\n",
    "\n",
    "    timestamp = datetime.datetime.now().strftime(\"%Y-%m-%d_%H-%M\")\n",
    "    dir = \"../../ETROC-figures/\"+datetime.date.today().isoformat() + '_Array_Test_Results/Normal_Money/'\n",
    "    os.system(f'mkdir -p {dir}')\n",
    "    plt.savefig(dir+board_name+\"_R\"+str(pixel[0])+\"_C\"+str(pixel[1])+\"_TID_\"+str(dose)+\"_\"+value_name+\".png\")\n",
    "    plt.savefig(dir+board_name+\"_R\"+str(pixel[0])+\"_C\"+str(pixel[1])+\"_TID_\"+str(dose)+\"_\"+value_name+\".pdf\")\n",
    "    plt.close()"
   ]
  },
  {
   "cell_type": "code",
   "execution_count": null,
   "metadata": {
    "metadata": {}
   },
   "outputs": [],
   "source": [
    "def make_TID_moneyplot(\n",
    "        input_df: pd.DataFrame,\n",
    "        pixel: list[set],\n",
    "        value_name: str,\n",
    "        board_name: str,\n",
    "        title_tag: str,\n",
    "        QInj: int,\n",
    "        ylabel: str,\n",
    "    ):\n",
    "\n",
    "    sub_df = input_df.loc[(input_df['row'] == pixel[0]) & (input_df['col'] == pixel[1]) & (input_df['charge'] == QInj)]\n",
    "\n",
    "    \n",
    "    custom_cycler = (cycler(color=['#1b9e77','#d95f02','#7570b3','#e7298a','#66a61e','#e6ab02'])\n",
    "                    + cycler(marker=['o', 'X', '^', 'D', 's', '*']))\n",
    "\n",
    "    fig, ax = plt.subplots(figsize=(10, 9))\n",
    "    hep.cms.text(loc=0, ax=ax, text=\"Phase-2 Preliminary\", fontsize=15)\n",
    "    ax.set_prop_cycle(custom_cycler)\n",
    "    ax.grid()\n",
    "    x_min = 1000\n",
    "    for idose in input_df['dose'].unique():\n",
    "        tmp_df = sub_df.loc[sub_df['dose'] == idose]\n",
    "        temp = tmp_df['temp'].unique()[0]\n",
    "        current_x_min = round_down_to_nearest_ten(tmp_df['dac'].min())-10\n",
    "        if (current_x_min < x_min):\n",
    "            x_min = current_x_min\n",
    "        plt.plot(tmp_df['dac'], tmp_df[value_name], label=f\"{idose} MRad {temp}\\N{DEGREE SIGN}C\")\n",
    "\n",
    "    title = f\"{board_name} Pixel ({pixel[0]},{pixel[1]}) {title_tag}\"\n",
    "    ax.set_title(f\"{board_name} Pixel ({pixel[0]},{pixel[1]}) {title_tag}\", size=15, loc=\"right\")\n",
    "    ax.set_xlim(x_min, None)\n",
    "    # ax.tick_params(axis='x', which='major', pad=7)\n",
    "    # ax.tick_params(axis='y', which='major', pad=8)\n",
    "    # ax.set_ylim(-0.2, 8)\n",
    "    if 'mean' in value_name:\n",
    "        ax.legend(loc='best')\n",
    "    else:\n",
    "        ax.legend(loc='best')\n",
    "    ax.set_xlabel('DAC value [LSB]')\n",
    "    ax.set_ylabel(ylabel)\n",
    "\n",
    "    timestamp = datetime.datetime.now().strftime(\"%Y-%m-%d_%H-%M\")\n",
    "    dir = \"../../ETROC-figures/\"+datetime.date.today().isoformat() + '_Array_Test_Results/TID_Money/'\n",
    "    os.system(f'mkdir -p {dir}')\n",
    "    plt.savefig(dir+board_name+\"_R\"+str(pixel[0])+\"_C\"+str(pixel[1])+\"_QInj_\"+str(QInj)+\"_TID_\"+value_name+\".png\")\n",
    "    plt.savefig(dir+board_name+\"_R\"+str(pixel[0])+\"_C\"+str(pixel[1])+\"_QInj_\"+str(QInj)+\"_TID_\"+value_name+\".pdf\")\n",
    "    plt.close()"
   ]
  },
  {
   "cell_type": "code",
   "execution_count": null,
   "metadata": {
    "metadata": {}
   },
   "outputs": [],
   "source": [
    "pixels = [(0,2), (0,8), (0,14), (3,2), (3,8), (3,14), (12,2), (12,8), (12,14)]\n",
    "doses = [0,200,400]\n",
    "QInjEns = [5, 6, 8, 15, 22, 27]\n",
    "value_names = [\"toa_mean\",\"toa_std\",\"tot_mean\",\"tot_std\",\"cal_mean\",\"cal_std\"]\n",
    "ylabels = [\"TOA Mean\",\"TOA Std\",\"TOT Mean\",\"TOT Std\",\"CAL Mean\",\"CAL Std\"]\n",
    "vals = list(zip(value_names,ylabels))"
   ]
  },
  {
   "cell_type": "markdown",
   "metadata": {},
   "source": [
    "## Make ALL Money Plots"
   ]
  },
  {
   "cell_type": "code",
   "execution_count": null,
   "metadata": {
    "metadata": {}
   },
   "outputs": [],
   "source": [
    "for value_name, label in vals:\n",
    "    for ipix in pixels:\n",
    "        for dose in doses:\n",
    "            make_moneyplot(final_df, ipix, value_name=value_name, board_name='ET2 W36-6', title_tag='QInj', dose=dose, ylabel=label+' [LSB]')"
   ]
  },
  {
   "cell_type": "code",
   "execution_count": null,
   "metadata": {
    "metadata": {}
   },
   "outputs": [],
   "source": [
    "for value_name, label in vals:\n",
    "    for ipix in pixels:\n",
    "        for QInj in QInjEns:\n",
    "            make_TID_moneyplot(final_df, ipix, value_name=value_name, board_name='ET2 W36-6', title_tag='TID', QInj=QInj, ylabel=label+' [LSB]')"
   ]
  },
  {
   "cell_type": "code",
   "execution_count": null,
   "metadata": {},
   "outputs": [],
   "source": []
  },
  {
   "cell_type": "markdown",
   "metadata": {},
   "source": [
    "#### Only plot single dose if not desired to remake ALL plots"
   ]
  },
  {
   "cell_type": "code",
   "execution_count": null,
   "metadata": {},
   "outputs": [],
   "source": [
    "pixels = [(0,2), (0,8), (0,14), (1,2), (1,8), (1,14), (3,2), (3,8), (3,14), (12,2), (12,8), (12,14)]\n",
    "\n",
    "for ipix in pixels:\n",
    "    make_moneyplot(final_df, ipix, value_name='toa_mean', board_name='ET2.01 W36-6', title_tag='QInj Money plot 200MRad',temperature='-25C', ylabel='TOA Mean [LSB]')"
   ]
  },
  {
   "cell_type": "code",
   "execution_count": null,
   "metadata": {},
   "outputs": [],
   "source": []
  },
  {
   "cell_type": "code",
   "execution_count": null,
   "metadata": {},
   "outputs": [],
   "source": []
  }
 ],
 "metadata": {
  "kernelspec": {
   "display_name": "Python 3",
   "language": "python",
   "name": "python3"
  },
  "language_info": {
   "codemirror_mode": {
    "name": "ipython",
    "version": 3
   },
   "file_extension": ".py",
   "mimetype": "text/x-python",
   "name": "python",
   "nbconvert_exporter": "python",
   "pygments_lexer": "ipython3",
   "version": "3.10.12"
  },
  "orig_nbformat": 4
 },
 "nbformat": 4,
 "nbformat_minor": 2
}
