{
 "cells": [
  {
   "cell_type": "code",
   "execution_count": null,
   "metadata": {},
   "outputs": [],
   "source": [
    "import sqlite3\n",
    "import pandas as pd\n",
    "import matplotlib.pyplot as plt\n",
    "import matplotlib.dates as mdates\n",
    "import mplhep as hep\n",
    "import datetime\n",
    "hep.style.use('CMS')"
   ]
  },
  {
   "cell_type": "code",
   "execution_count": null,
   "metadata": {},
   "outputs": [],
   "source": [
    "con = sqlite3.connect('/home/daq/ETROC2/i2c_gui/scripts/ti1080_sensor_data.sqlite')\n",
    "ti_hdc1080_df = pd.read_sql_query(\"SELECT * from ti_hdc1080\", con)\n",
    "ti_hdc1080_df['timestamp'] = pd.to_datetime(ti_hdc1080_df['timestamp'])"
   ]
  },
  {
   "cell_type": "code",
   "execution_count": null,
   "metadata": {},
   "outputs": [],
   "source": [
    "fig, ax = plt.subplots(figsize=(20, 10))\n",
    "hep.cms.text(loc=0, ax=ax, text=\"ETL ETROC Test Beam\", fontsize=25)\n",
    "ax.plot(ti_hdc1080_df['timestamp'], ti_hdc1080_df['temperature'],\"o-\")\n",
    "date_form = mdates.DateFormatter(\"%m-%d\\n%H:%M\")\n",
    "ax.xaxis.set_major_formatter(date_form)\n",
    "ax.set_ylabel('Ambient Temperature inside Suitcase [C]', fontsize=25)\n",
    "ax.set_xlim(left=datetime.datetime(2024, 7, 29, 14, 0))\n",
    "\n",
    "# ax.set_ylim(24, 27)\n",
    "ax.grid(which=\"both\")\n",
    "# ax.set_xlim(left=datetime.datetime(2024, 6, 10, 23, 0))\n",
    "# ax.set_xlim(left=datetime.datetime(2024, 6, 20, 14, 0))"
   ]
  },
  {
   "cell_type": "code",
   "execution_count": null,
   "metadata": {},
   "outputs": [],
   "source": [
    "fig, ax = plt.subplots(figsize=(20, 10))\n",
    "hep.cms.text(loc=0, ax=ax, text=\"ETL ETROC Test Beam\", fontsize=25)\n",
    "ax.plot(ti_hdc1080_df['timestamp'], ti_hdc1080_df['humidity'], \"o-\")\n",
    "date_form = mdates.DateFormatter(\"%m-%d\\n%H:%M\")\n",
    "ax.xaxis.set_major_formatter(date_form)\n",
    "ax.set_ylabel('Humidity inside the Suitcase [%]')\n",
    "# ax.set_xlim(left=datetime.datetime(2024, 6, 10, 23, 0))\n",
    "# ax.set_xlim(left=datetime.datetime(2024, 6, 12, 9, 30))\n",
    "ax.set_xlim(left=datetime.datetime(2024, 7, 29, 14, 0))\n",
    "# ax.set_xlim(left=datetime.datetime(2024, 6, 20, 18, 0))#,right=datetime.datetime(2024, 6, 20, 20, 0))\n",
    "# ax.set_ylim(-2,15)\n",
    "ax.grid(which=\"both\")"
   ]
  },
  {
   "cell_type": "code",
   "execution_count": null,
   "metadata": {},
   "outputs": [],
   "source": []
  },
  {
   "cell_type": "code",
   "execution_count": null,
   "metadata": {},
   "outputs": [],
   "source": []
  },
  {
   "cell_type": "code",
   "execution_count": null,
   "metadata": {},
   "outputs": [],
   "source": []
  }
 ],
 "metadata": {
  "kernelspec": {
   "display_name": "Python 3",
   "language": "python",
   "name": "python3"
  },
  "language_info": {
   "codemirror_mode": {
    "name": "ipython",
    "version": 3
   },
   "file_extension": ".py",
   "mimetype": "text/x-python",
   "name": "python",
   "nbconvert_exporter": "python",
   "pygments_lexer": "ipython3",
   "version": "3.10.12"
  }
 },
 "nbformat": 4,
 "nbformat_minor": 2
}
