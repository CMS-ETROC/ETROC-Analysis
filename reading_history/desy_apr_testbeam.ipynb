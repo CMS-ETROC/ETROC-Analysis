{
 "cells": [
  {
   "cell_type": "code",
   "execution_count": null,
   "metadata": {},
   "outputs": [],
   "source": [
    "import pandas as pd\n",
    "import numpy as np\n",
    "import sqlite3\n",
    "import matplotlib.pyplot as plt\n",
    "import matplotlib.dates as mdates\n",
    "import datetime\n",
    "import hist\n",
    "import mplhep as hep\n",
    "hep.style.use('CMS')"
   ]
  },
  {
   "cell_type": "code",
   "execution_count": null,
   "metadata": {},
   "outputs": [],
   "source": [
    "con = sqlite3.connect('./desy_feb_2024/FullBaselineHistory.sqlite')\n",
    "df = pd.read_sql_query(\"SELECT * from baselines\", con)"
   ]
  },
  {
   "cell_type": "code",
   "execution_count": null,
   "metadata": {},
   "outputs": [],
   "source": [
    "interest_df = df.loc[(df['col']==11) & (df['row']==8)].reset_index(drop=True)\n",
    "interest_df"
   ]
  },
  {
   "cell_type": "markdown",
   "metadata": {},
   "source": [
    "### Run info"
   ]
  },
  {
   "cell_type": "code",
   "execution_count": null,
   "metadata": {},
   "outputs": [],
   "source": [
    "run_info = {\n",
    "    ### Offset 20\n",
    "    'Run32':{\n",
    "        'start': datetime.datetime(2024, 2, 28, 3, 2),\n",
    "        'duration': 5,\n",
    "    },\n",
    "    'Run33':{\n",
    "        'start': datetime.datetime(2024, 2, 28, 8, 28),\n",
    "        'duration': 5,\n",
    "    },\n",
    "    'Run34':{\n",
    "        'start': datetime.datetime(2024, 2, 28, 13, 55),\n",
    "        'duration': 4,\n",
    "    },\n",
    "    'Run35':{\n",
    "        'start': datetime.datetime(2024, 2, 28, 18, 40),\n",
    "        'duration': 4,\n",
    "    },\n",
    "    'Run36':{\n",
    "        'start': datetime.datetime(2024, 2, 28, 22, 57),\n",
    "        'duration': 5,\n",
    "    },\n",
    "    'Run37':{\n",
    "        'start': datetime.datetime(2024, 2, 29, 4, 18),\n",
    "        'duration': 5,\n",
    "    },\n",
    "    'Run38':{\n",
    "        'start': datetime.datetime(2024, 2, 29, 9, 42),\n",
    "        'duration': 5,\n",
    "    },\n",
    "    'Run39':{\n",
    "        'start': datetime.datetime(2024, 2, 29, 15, 35),\n",
    "        'duration': 2,\n",
    "    },\n",
    "    'Run40':{\n",
    "        'start': datetime.datetime(2024, 2, 29, 20, 46),\n",
    "        'duration': 5,\n",
    "    },\n",
    "    'Run41':{\n",
    "        'start': datetime.datetime(2024, 3, 1, 2, 4),\n",
    "        'duration': 5,\n",
    "    },\n",
    "    'Run42':{\n",
    "        'start': datetime.datetime(2024, 3, 1, 7, 27),\n",
    "        'duration': 5,\n",
    "    },\n",
    "    'Run43':{\n",
    "        'start': datetime.datetime(2024, 3, 1, 12, 10),\n",
    "        'duration': 5,\n",
    "    },\n",
    "    'Run44':{\n",
    "        'start': datetime.datetime(2024, 3, 1, 17, 30),\n",
    "        'duration': 5,\n",
    "    },\n",
    "    'Run45':{\n",
    "        'start': datetime.datetime(2024, 3, 1, 23, 7),\n",
    "        'duration': 5,\n",
    "    },\n",
    "    'Run46':{\n",
    "        'start': datetime.datetime(2024, 3, 2, 4, 26),\n",
    "        'duration': 5,\n",
    "    },\n",
    "    'Run47':{\n",
    "        'start': datetime.datetime(2024, 3, 2, 9, 46),\n",
    "        'duration': 5,\n",
    "    },\n",
    "    'Run48':{\n",
    "        'start': datetime.datetime(2024, 3, 2, 15, 56),\n",
    "        'duration': 4,\n",
    "    },\n",
    "}"
   ]
  },
  {
   "cell_type": "markdown",
   "metadata": {},
   "source": [
    "### Select data"
   ]
  },
  {
   "cell_type": "code",
   "execution_count": null,
   "metadata": {},
   "outputs": [],
   "source": [
    "interest_df['timestamp'] = pd.to_datetime(interest_df['timestamp'])\n",
    "\n",
    "selected_baselines = {}\n",
    "\n",
    "for key, val in run_info.items():\n",
    "    cut_start_time = val['start'] -  datetime.timedelta(hours=1)\n",
    "    cut_end_time = cut_start_time + datetime.timedelta(hours=val['duration'])\n",
    "    filtered_df = interest_df.loc[(interest_df['timestamp'] > cut_start_time) & (interest_df['timestamp'] < cut_end_time)]\n",
    "    selected_baselines[key] = filtered_df['baseline'].astype('int32').values\n",
    "\n",
    "# interest_df['timestamp'] = pd.to_datetime(interest_df['timestamp'])\n",
    "# interest_df = interest_df.loc[(interest_df['timestamp'] > run_info['Run32']['start'] -  datetime.timedelta(hours=1))]"
   ]
  },
  {
   "cell_type": "code",
   "execution_count": null,
   "metadata": {},
   "outputs": [],
   "source": [
    "selected_baselines"
   ]
  },
  {
   "cell_type": "code",
   "execution_count": null,
   "metadata": {},
   "outputs": [],
   "source": [
    "for k in range(4):\n",
    "    x_labels = list(selected_baselines.keys())\n",
    "    x_range = np.arange(0, len(x_labels))\n",
    "    y_vals = []\n",
    "    for key, val in selected_baselines.items():\n",
    "        y_vals.append(val[k])\n",
    "\n",
    "    fig, ax = plt.subplots(figsize=(11, 11))\n",
    "    ax.plot(x_range, y_vals, marker='o')\n",
    "    ax.set_title(df['chip_name'].unique()[k], loc='right', fontsize=18)\n",
    "    ax.set_xticks(x_range)\n",
    "    ax.set_xticklabels(x_labels, rotation=90)\n",
    "    ax.yaxis.set_major_locator(plt.MaxNLocator(integer=True)) # Setting y-ticks to display only integers\n",
    "    plt.minorticks_off()\n",
    "    ax.grid()\n",
    "    plt.tight_layout()"
   ]
  },
  {
   "cell_type": "markdown",
   "metadata": {},
   "source": [
    "### Baseline over time"
   ]
  },
  {
   "cell_type": "code",
   "execution_count": null,
   "metadata": {},
   "outputs": [],
   "source": [
    "draw_dates = True\n",
    "\n",
    "fig, ax = plt.subplots(figsize=(20, 10))\n",
    "hep.cms.text(loc=0, ax=ax, text=\"Phase-2 Preliminary\", fontsize=25)\n",
    "ax.set_title('Baseline of pixel (8, 11)', size=17, loc=\"right\")\n",
    "\n",
    "for idx, iboard in enumerate(interest_df['chip_name'].unique()):\n",
    "    if idx == 0: continue\n",
    "    tmp_df = interest_df.loc[interest_df['chip_name']==iboard]\n",
    "    tmp_df['timestamp'] = pd.to_datetime(tmp_df['timestamp'])\n",
    "    ax.plot(tmp_df['timestamp'], tmp_df['baseline'], label=f'{iboard}', marker='.')\n",
    "\n",
    "    if idx == 0:\n",
    "        date_form = mdates.DateFormatter(\"%m-%d\\n%H:%M\")\n",
    "        ax.xaxis.set_major_formatter(date_form)\n",
    "\n",
    "if draw_dates:\n",
    "    for irun, itime in run_info.items():\n",
    "        start_time = itime['start']\n",
    "        end_time = start_time + datetime.timedelta(hours=itime['duration'])\n",
    "        text_start_time = start_time - datetime.timedelta(hours=1)\n",
    "        text_end_time = end_time + datetime.timedelta(hours=1)\n",
    "        ax.vlines(x=pd.to_datetime(start_time), ymin=430, ymax=465, colors='magenta', linestyles='dashed')\n",
    "        # ax.text(x=pd.to_datetime(text_start_time), y=465, s=f'{irun} Start', rotation=90, va='center', fontsize=12, color='magenta')\n",
    "        ax.vlines(x=pd.to_datetime(end_time), ymin=430, ymax=465, colors='black', linestyles='dashdot')\n",
    "        # ax.text(x=pd.to_datetime(text_end_time), y=465, s=f'{irun} End', rotation=90, va='center', fontsize=12)\n",
    "\n",
    "ax.legend(loc='center left')"
   ]
  },
  {
   "cell_type": "markdown",
   "metadata": {},
   "source": [
    "### Baseline in 1D hist"
   ]
  },
  {
   "cell_type": "code",
   "execution_count": null,
   "metadata": {},
   "outputs": [],
   "source": [
    "for idx, iboard in enumerate(interest_df['chip_name'].unique()):\n",
    "    fig, ax = plt.subplots(figsize=(10, 10))\n",
    "    hep.cms.text(loc=0, ax=ax, text=\"Phase-2 Preliminary\", fontsize=25)\n",
    "    tmp_df = interest_df.loc[interest_df['chip_name']==iboard]\n",
    "    most_val = tmp_df['baseline'].mode()[0]\n",
    "    h = hist.Hist(hist.axis.Regular(20, most_val-10, most_val+10, name='test', label=f'{iboard}'))\n",
    "    h.fill(tmp_df['baseline'])\n",
    "    yerr_bool = np.array(h.values(), dtype=bool)\n",
    "    hep.histplot(h, ax=ax, yerr=yerr_bool)"
   ]
  },
  {
   "cell_type": "markdown",
   "metadata": {},
   "source": [
    "### Temperature"
   ]
  },
  {
   "cell_type": "code",
   "execution_count": null,
   "metadata": {},
   "outputs": [],
   "source": [
    "con = sqlite3.connect('./ADCHistory_start.sqlite')\n",
    "adc_df = pd.read_sql_query(\"SELECT * from adc\", con)"
   ]
  },
  {
   "cell_type": "code",
   "execution_count": null,
   "metadata": {},
   "outputs": [],
   "source": [
    "# names = ['ET2_EPIR_Pair1', 'ET2p01_BAR_4', 'ET2p01_BAR_5', 'ET2_EPIR_Pair4', 'Ambient Temp']\n",
    "\n",
    "fig, ax = plt.subplots(figsize=(20, 10))\n",
    "hep.cms.text(loc=0, ax=ax, text=\"Phase-2 Preliminary\", fontsize=25)\n",
    "ax.set_title('Temperature', size=17, loc=\"right\")\n",
    "\n",
    "for idx, iboard in enumerate(sorted(adc_df['channel'].unique())):\n",
    "    tmp_df = adc_df.loc[adc_df['channel']==iboard]\n",
    "    tmp_df['timestamp'] = pd.to_datetime(tmp_df['timestamp'])\n",
    "    ax.plot(tmp_df['timestamp'], tmp_df['voltage'])#, label=f'{names[idx]}')\n",
    "\n",
    "    if idx == 0:\n",
    "        date_form = mdates.DateFormatter(\"%m-%d\\n%H:%M\")\n",
    "        ax.xaxis.set_major_formatter(date_form)\n",
    "\n",
    "# for irun, itime in run_info.items():\n",
    "#     start_time = itime['start']\n",
    "#     end_time = start_time + datetime.timedelta(hours=itime['duration'])\n",
    "#     text_start_time = start_time - datetime.timedelta(hours=3)\n",
    "#     text_end_time = end_time + datetime.timedelta(hours=1)\n",
    "#     ax.vlines(x=pd.to_datetime(start_time), ymin=0, ymax=1.5, colors='magenta', linestyles='dashed')\n",
    "#     ax.text(x=pd.to_datetime(text_start_time), y=1.4, s=f'{irun} Start', rotation=90, va='center', fontsize=12, color='magenta')\n",
    "#     ax.vlines(x=pd.to_datetime(end_time), ymin=0, ymax=1.5, colors='black', linestyles='dashdot')\n",
    "#     ax.text(x=pd.to_datetime(text_end_time), y=1.4, s=f'{irun} End', rotation=90, va='center', fontsize=12)\n",
    "\n",
    "ax.set_ylabel('Voltage')\n",
    "ax.legend(loc='best')"
   ]
  },
  {
   "cell_type": "code",
   "execution_count": null,
   "metadata": {},
   "outputs": [],
   "source": []
  }
 ],
 "metadata": {
  "kernelspec": {
   "display_name": "packages",
   "language": "python",
   "name": "python3"
  },
  "language_info": {
   "codemirror_mode": {
    "name": "ipython",
    "version": 3
   },
   "file_extension": ".py",
   "mimetype": "text/x-python",
   "name": "python",
   "nbconvert_exporter": "python",
   "pygments_lexer": "ipython3",
   "version": "3.10.12"
  }
 },
 "nbformat": 4,
 "nbformat_minor": 2
}
