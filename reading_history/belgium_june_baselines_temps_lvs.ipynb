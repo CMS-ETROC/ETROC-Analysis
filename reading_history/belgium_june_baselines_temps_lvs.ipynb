{
 "cells": [
  {
   "cell_type": "code",
   "execution_count": null,
   "metadata": {},
   "outputs": [],
   "source": [
    "import pandas as pd\n",
    "from pprint import pprint\n",
    "from pathlib import Path\n",
    "import numpy as np\n",
    "import sqlite3\n",
    "import matplotlib.pyplot as plt\n",
    "import matplotlib.dates as mdates\n",
    "from collections import defaultdict\n",
    "import mplhep as hep\n",
    "import datetime\n",
    "hep.style.use('CMS')\n",
    "\n",
    "import warnings\n",
    "warnings.filterwarnings(\"ignore\")"
   ]
  },
  {
   "cell_type": "code",
   "execution_count": null,
   "metadata": {},
   "outputs": [],
   "source": [
    "import os, sys\n",
    "\n",
    "path2add = os.path.normpath(os.path.abspath(os.path.join(os.path.curdir, os.path.pardir, 'TestBeam')))\n",
    "print(path2add)\n",
    "\n",
    "if (not (path2add in sys.path)) :\n",
    "    sys.path.append(path2add)\n",
    "\n",
    "from beamtest_analysis_helper import plot_BL_and_NW\n",
    "\n",
    "path2add = os.path.normpath(os.path.abspath(os.path.join(os.path.curdir, os.path.pardir, 'SEU')))\n",
    "print(path2add)\n",
    "\n",
    "if (not (path2add in sys.path)) :\n",
    "    sys.path.append(path2add)\n",
    "\n",
    "from SEUhelper import plotVRefPower,plotBoardPower,plotWSPower"
   ]
  },
  {
   "cell_type": "markdown",
   "metadata": {},
   "source": [
    "## Load Run Info"
   ]
  },
  {
   "cell_type": "code",
   "execution_count": null,
   "metadata": {},
   "outputs": [],
   "source": [
    "base_directory = Path(\"/media/daq/X9/BelgiumJune2024\")\n",
    "output_dir = base_directory/\"AnalysisOutput\"\n",
    "output_dir.mkdir(exist_ok=True)\n",
    "# runs = [3,4,5,6,9,10,11,13]\n",
    "runs = [\"0010\",\"0011\",\"0012\",\"0013\",\"0014\",\"0015\",\"0016\",\"0017\",\"0018\",\"0019\",\"0020\"]\n",
    "config_compare_dir = output_dir/\"I2CConfiguration\"\n",
    "# config_compare_dir = output_dir/f\"I2CConfiguration_Run{runs[0]}\"\n",
    "config_compare_dir.mkdir(exist_ok=True)\n",
    "\n",
    "chip_names = [\n",
    "    \"ET2p01_Bare_7\", # Ch0\n",
    "]\n",
    "\n",
    "config_directory = Path(\"/media/daq/X9/BelgiumJune2024/ETROC-Data/BelgiumJune2024/ChipConfig\")\n",
    "list_of_all_files = [f for f in os.listdir(config_directory) if os.path.isfile(os.path.join(config_directory,f))]\n",
    "# pprint(lisat_of_all_files)\n",
    "run_info = []\n",
    "for run in runs:\n",
    "    start_times = []\n",
    "    stop_times  = []\n",
    "\n",
    "    for chip_name in chip_names:\n",
    "\n",
    "        for f in list_of_all_files: \n",
    "            \n",
    "            list_of_words = f.split('_')\n",
    "            if(list_of_words[-1].split(\".\")[0]!=run):continue\n",
    "            read_chip_name = \"_\".join(list_of_words[1:4])\n",
    "            if(read_chip_name!=chip_name): continue\n",
    "            time_string = list_of_words[0].split(\"T\")\n",
    "            config_time = datetime.datetime.fromisoformat(\"T\".join([time_string[0],time_string[1].replace(\"-\", \":\")]))\n",
    "            if(list_of_words[4]==\"PreRun\"):\n",
    "                start_times += [config_time]\n",
    "            elif(list_of_words[4]==\"PostRun\"):\n",
    "                stop_times+= [config_time]\n",
    "    run_info += [\n",
    "        {\n",
    "            \"name\": f\"Run_{run}\",\n",
    "            \"extra_begin\": start_times[-1],\n",
    "            \"start\": start_times[-1],\n",
    "            \"stop\": stop_times[0] - datetime.timedelta(minutes=1, seconds=40),\n",
    "            \"boards\": chip_names,\n",
    "            \"board_channels\": [0],\n",
    "            \"pre_config_times\": start_times,\n",
    "            \"post_config_times\": stop_times,\n",
    "            \"config_before\": True,\n",
    "            \"fluence\": 0.0,\n",
    "        }\n",
    "    \n",
    "    ]\n",
    "\n",
    "test_run_info =  run_info  \n",
    "start_time = datetime.datetime(2024, 5, 25, 9, 0, 0)\n",
    "end_time = datetime.datetime(2024, 5, 25, 23, 0, 0)     "
   ]
  },
  {
   "cell_type": "code",
   "execution_count": null,
   "metadata": {},
   "outputs": [],
   "source": [
    "# pprint(run_info)"
   ]
  },
  {
   "cell_type": "markdown",
   "metadata": {},
   "source": [
    "## Baseline plots"
   ]
  },
  {
   "cell_type": "code",
   "execution_count": null,
   "metadata": {},
   "outputs": [],
   "source": [
    "con = sqlite3.connect('/home/daq/ETROC2/ETROC-History/BelgiumJune2024/BaselineHistory.sqlite')\n",
    "\n",
    "baseline_df = pd.read_sql_query(\"SELECT * from baselines\", con)\n",
    "\n",
    "baseline_df['timestamp'] = pd.to_datetime(baseline_df['timestamp'], format='%Y-%m-%d %H:%M:%S.%f')\n",
    "baseline_df['timestamp'] = baseline_df['timestamp'].dt.strftime('%Y-%m-%d %H:%M:%S')\n",
    "baseline_df['timestamp'] = pd.to_datetime(baseline_df['timestamp'])"
   ]
  },
  {
   "cell_type": "code",
   "execution_count": null,
   "metadata": {},
   "outputs": [],
   "source": [
    "baseline_df.tail()"
   ]
  },
  {
   "cell_type": "code",
   "execution_count": null,
   "metadata": {},
   "outputs": [],
   "source": [
    "### Add board names in the dictionary\n",
    "\n",
    "config_dict = {\n",
    "    'ET2p01_Bare_7': {\n",
    "        'plot_title': 'ETROC 2.01 Bare Board 7',\n",
    "        'chip_type': 'T',\n",
    "        'channel': 0,\n",
    "    },\n",
    "}"
   ]
  },
  {
   "cell_type": "markdown",
   "metadata": {},
   "source": [
    "### Baseline over time"
   ]
  },
  {
   "cell_type": "code",
   "execution_count": null,
   "metadata": {},
   "outputs": [],
   "source": [
    "p_col=[8,8,2,2]\n",
    "p_row=[0,2,0,2]\n",
    "pixel_plot_list = list(zip(p_row,p_col))\n",
    "\n",
    "draw_dates = True\n",
    "cut_time = pd.to_datetime('2024-06-24 20:30:00')\n",
    "\n",
    "for iboard in baseline_df['chip_name'].unique():\n",
    "    fig, ax = plt.subplots(figsize=(20, 10))\n",
    "    hep.cms.text(loc=0, ax=ax, text=\"ETL ETROC SEU Testing\", fontsize=25)\n",
    "    ax.set_title(f'Baseline of {config_dict[iboard][\"plot_title\"]}', size=17, loc=\"right\", fontsize=25)\n",
    "    date_form = mdates.DateFormatter(\"%m-%d\\n%H:%M\")\n",
    "    ax.xaxis.set_major_formatter(date_form)\n",
    "    for row,col in pixel_plot_list:\n",
    "        interest_df = baseline_df.loc[baseline_df['chip_name']==iboard]\n",
    "        tmp_df = interest_df.loc[(interest_df['col']==col) & (interest_df['row']==row)].reset_index(drop=True)\n",
    "        tmp_df = tmp_df.loc[tmp_df['timestamp'] > cut_time]\n",
    "        ax.plot(tmp_df['timestamp'], tmp_df['baseline'], label=f'Pixel R{row} C{col}', marker='.')\n",
    "\n",
    "    if draw_dates:\n",
    "        for run_dict in run_info:\n",
    "            if(run_dict['start'] >= cut_time):\n",
    "                ax.axvline(x=run_dict['start'], color='magenta', linestyle='dashed')\n",
    "                ax.axvline(x=run_dict['stop'], color='black', linestyle='dashdot')\n",
    "    # ax.set_xlim(left=cut_time)\n",
    "    ax.legend()"
   ]
  },
  {
   "cell_type": "markdown",
   "metadata": {},
   "source": [
    "## Temperature"
   ]
  },
  {
   "cell_type": "code",
   "execution_count": null,
   "metadata": {},
   "outputs": [],
   "source": [
    "con = sqlite3.connect('/home/daq/ETROC2/ETROC-History/BelgiumJune2024/ADCHistory.sqlite')\n",
    "\n",
    "adc_df = pd.read_sql_query(\"SELECT * from adc\", con)"
   ]
  },
  {
   "cell_type": "code",
   "execution_count": null,
   "metadata": {},
   "outputs": [],
   "source": [
    "adc_df['timestamp'] = pd.to_datetime(adc_df['timestamp'], format='%Y-%m-%d %H:%M:%S.%f')\n",
    "adc_df['timestamp'] = adc_df['timestamp'].dt.strftime('%Y-%m-%d %H:%M:%S')\n",
    "adc_df['timestamp'] = pd.to_datetime(adc_df['timestamp'])"
   ]
  },
  {
   "cell_type": "code",
   "execution_count": null,
   "metadata": {},
   "outputs": [],
   "source": [
    "adc_df.tail()"
   ]
  },
  {
   "cell_type": "code",
   "execution_count": null,
   "metadata": {},
   "outputs": [],
   "source": [
    "names = ['BARE BOARD 7', 'Ambient Temp']\n",
    "cut_time = pd.to_datetime('2024-06-24 22:00:00')\n",
    "\n",
    "fig, ax = plt.subplots(figsize=(20, 10))\n",
    "hep.cms.text(loc=0, ax=ax, text=\"Phase-2 Preliminary\", fontsize=25)\n",
    "ax.set_title('Temperature', size=17, loc=\"right\")\n",
    "date_form = mdates.DateFormatter(\"%m-%d\\n%H:%M\")\n",
    "ax.xaxis.set_major_formatter(date_form)\n",
    "\n",
    "for idx, iboard in enumerate(sorted(adc_df['channel'].unique())):\n",
    "    tmp_df = adc_df.loc[adc_df['channel']==iboard]\n",
    "    ax.plot(tmp_df['timestamp'], tmp_df['voltage'], label=f'{names[idx]}', marker=\".\", ls=\"\")\n",
    "\n",
    "text_y = [0.51, 0.55]\n",
    "if draw_dates:\n",
    "        for index,run_dict in enumerate(run_info):\n",
    "            if index%2 == 0:\n",
    "                yval = text_y[0]\n",
    "            else:\n",
    "                yval = text_y[1]\n",
    "            if(run_dict['start'] >= cut_time):\n",
    "                ax.axvline(x=run_dict['start'], color='magenta', linestyle='dashed')\n",
    "                ax.text(x=(run_dict['start'] ), y=yval, s=f\"{run_dict['name']} Start\", rotation=90, va='center', fontsize=12, color='magenta')\n",
    "                ax.axvline(x=run_dict['stop'], color='black', linestyle='dashdot')\n",
    "                ax.text(x=(run_dict['stop'] ), y=yval, s=f\"{run_dict['name']} End\", rotation=90, va='center', fontsize=12)\n",
    "                \n",
    "ax.legend(loc='best')\n",
    "ax.set_ylabel('Voltage')\n",
    "plt.ylim(bottom=0.49, top=.56)\n",
    "plt.xlim(left=cut_time)"
   ]
  },
  {
   "cell_type": "markdown",
   "metadata": {},
   "source": [
    "# Power Monitoring"
   ]
  },
  {
   "cell_type": "code",
   "execution_count": null,
   "metadata": {},
   "outputs": [],
   "source": [
    "start_time = datetime.datetime(2024, 6, 25, 12, 30, 0)\n",
    "end_time = datetime.datetime(2024, 6, 25, 19, 0, 0)\n",
    "\n",
    "power_file = Path(\"/home/daq/ETROC2/ETROC-History/BelgiumJune2024/PowerHistory_v2.sqlite\")\n",
    "\n",
    "power_connections = {\n",
    "    \"ET2.01 Bare Board 7\": {\n",
    "        \"Analog\": \"Analog\",\n",
    "        \"Digital\": \"Digital\",\n",
    "    },\n",
    "}"
   ]
  },
  {
   "cell_type": "code",
   "execution_count": null,
   "metadata": {},
   "outputs": [],
   "source": [
    "power_directory = output_dir/\"PowerPlots\"\n",
    "power_directory.mkdir(exist_ok=True)\n",
    "\n",
    "with sqlite3.connect(power_file) as sqlite3_connection:\n",
    "    data_df = pd.read_sql('SELECT * FROM power_v2', sqlite3_connection, index_col=None)\n",
    "    data_df['Time'] = pd.to_datetime(data_df['timestamp'], format='mixed')\n",
    "\n",
    "    # Remove data that is outside the range of the campaign\n",
    "    data_df = data_df.loc[data_df['Time'] >= start_time]\n",
    "    data_df = data_df.loc[data_df['Time'] <= end_time].copy()\n",
    "\n",
    "    data_df['V'] = data_df['V'].astype(float)\n",
    "    data_df['I'] = data_df['I'].astype(float)\n",
    "\n",
    "    print(\"Timestamps in power database file cover range:\")\n",
    "    print(\"Min:\", data_df['Time'].min())\n",
    "    print(\"Max\", data_df['Time'].max())\n",
    "\n",
    "    #print(data_df)\n",
    "\n",
    "    vref_df = data_df.loc[data_df['Channel'] == 'VRef']\n",
    "    wsana_df = data_df.loc[data_df['Channel'] == 'WSAnalog']\n",
    "    wsdig_df = data_df.loc[data_df['Channel'] == 'WSDigital']"
   ]
  },
  {
   "cell_type": "code",
   "execution_count": null,
   "metadata": {},
   "outputs": [],
   "source": [
    "plotVRefPower(vref_df, 'SEU - VRef over Time', power_directory, True, run_info=run_info)"
   ]
  },
  {
   "cell_type": "code",
   "execution_count": null,
   "metadata": {},
   "outputs": [],
   "source": [
    "board = \"ET2.01 Bare Board 7\"\n",
    "plotBoardPower(board, power_connections[board], data_df, f'SEU - {board} Power over Time', power_directory, True, run_info=run_info)"
   ]
  },
  {
   "cell_type": "markdown",
   "metadata": {},
   "source": [
    "## Waveform Sampler"
   ]
  },
  {
   "cell_type": "code",
   "execution_count": null,
   "metadata": {},
   "outputs": [],
   "source": [
    "plotWSPower(wsana_df, 'SEU - Waveform Sampler Analog Power over Time', power_directory, True, run_info=run_info)"
   ]
  },
  {
   "cell_type": "code",
   "execution_count": null,
   "metadata": {},
   "outputs": [],
   "source": [
    "plotWSPower(wsdig_df, 'SEU - Waveform Sampler Digital Power over Time', power_directory, True, run_info=run_info)"
   ]
  },
  {
   "cell_type": "markdown",
   "metadata": {},
   "source": [
    "## Per Run Plotting"
   ]
  },
  {
   "cell_type": "code",
   "execution_count": null,
   "metadata": {},
   "outputs": [],
   "source": [
    "# run_power_dir = power_directory/\"PerRun\"\n",
    "# run_power_dir.mkdir(exist_ok=True)\n",
    "\n",
    "# for run_idx_to_plot in range(len(run_info)):\n",
    "#     if run_idx_to_plot == 0:\n",
    "#         makePerRunPlots(\n",
    "#             data_df,\n",
    "#             run_info[run_idx_to_plot],\n",
    "#             run_power_dir,\n",
    "#             power_connections,\n",
    "#             extra_run_info = None,\n",
    "#             test_run_info = test_run_info,\n",
    "#         )\n",
    "#     else:\n",
    "#         makePerRunPlots(\n",
    "#             data_df,\n",
    "#             run_info[run_idx_to_plot],\n",
    "#             run_power_dir,\n",
    "#             power_connections,\n",
    "#             previous_run_info = run_info[run_idx_to_plot - 1],\n",
    "#             extra_run_info = None,\n",
    "#             test_run_info = test_run_info,\n",
    "#         )\n",
    "\n",
    "# # for this_run_info in extra_run_info:\n",
    "# #     makePerRunPlots(\n",
    "# #         data_df,\n",
    "# #         this_run_info,\n",
    "# #         run_power_dir,\n",
    "# #         power_connections,\n",
    "# #         all_run_info = run_info,\n",
    "# #         extra_run_info = extra_run_info,\n",
    "# #         test_run_info = test_run_info,\n",
    "# #     )\n"
   ]
  }
 ],
 "metadata": {
  "kernelspec": {
   "display_name": "packages",
   "language": "python",
   "name": "python3"
  },
  "language_info": {
   "codemirror_mode": {
    "name": "ipython",
    "version": 3
   },
   "file_extension": ".py",
   "mimetype": "text/x-python",
   "name": "python",
   "nbconvert_exporter": "python",
   "pygments_lexer": "ipython3",
   "version": "3.10.12"
  }
 },
 "nbformat": 4,
 "nbformat_minor": 2
}
