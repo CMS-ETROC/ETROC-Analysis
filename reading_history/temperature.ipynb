{
 "cells": [
  {
   "cell_type": "code",
   "execution_count": null,
   "metadata": {},
   "outputs": [],
   "source": [
    "import pandas as pd\n",
    "import datetime\n",
    "import matplotlib.pyplot as plt\n",
    "import matplotlib.dates as mdates\n",
    "import mplhep as hep\n",
    "hep.style.use('CMS')"
   ]
  },
  {
   "cell_type": "code",
   "execution_count": null,
   "metadata": {},
   "outputs": [],
   "source": [
    "run_info = {\n",
    "    'on_os8':{\n",
    "        'start': datetime.datetime(2023, 12, 9, 23, 45),\n",
    "        'duration': 4,\n",
    "        'title': 'Cover on, offset 8',\n",
    "        'fname': 'temperature_cover_on_offset8',\n",
    "    },\n",
    "    'on_os6':{\n",
    "        'start': datetime.datetime(2023, 12, 10, 4, 2),\n",
    "        'duration': 4,\n",
    "        'title': 'Cover on, offset 6',\n",
    "        'fname': 'temperature_cover_on_offset6',\n",
    "    },\n",
    "    'on_os5':{\n",
    "        'start': datetime.datetime(2023, 12, 10, 8, 19),\n",
    "        'duration': 4,\n",
    "        'title': 'Cover on, offset 5',\n",
    "        'fname': 'temperature_cover_on_offset5',\n",
    "    },\n",
    "    'on_os15':{\n",
    "        'start': datetime.datetime(2023, 12, 14, 10, 2),\n",
    "        'duration': 6,\n",
    "        'title': 'Cover on, offset 15',\n",
    "        'fname': 'temperature_cover_on_offset15',\n",
    "    },\n",
    "    'on_os10':{\n",
    "        'start': datetime.datetime(2023, 12, 14, 16, 16),\n",
    "        'duration': 6,\n",
    "        'title': 'Cover on, offset 10',\n",
    "        'fname': 'temperature_cover_on_offset10',\n",
    "    },\n",
    "\n",
    "    'off_os8':{\n",
    "        'start': datetime.datetime(2023, 12, 17, 4, 41),\n",
    "        'duration': 4,\n",
    "        'title': 'Cover off, offset 8',\n",
    "        'fname': 'temperature_cover_off_offset8',\n",
    "    },\n",
    "    'off_os15':{\n",
    "        'start': datetime.datetime(2023, 12, 15, 22, 6),\n",
    "        'duration': 5,\n",
    "        'title': 'Cover off, offset 15',\n",
    "        'fname': 'temperature_cover_off_offset15',\n",
    "    },\n",
    "    'off_os10':{\n",
    "        'start': datetime.datetime(2023, 12, 16, 16, 26),\n",
    "        'duration': 6,\n",
    "        'title': 'Cover off, offset 10',\n",
    "        'fname': 'temperature_cover_off_offset10',\n",
    "    },\n",
    "    'off_os20':{\n",
    "        'start': datetime.datetime(2023, 12, 16, 23, 51),\n",
    "        'duration': 4,\n",
    "        'title': 'Cover off, offset 20',\n",
    "        'fname': 'temperature_cover_off_offset20',\n",
    "    },\n",
    "}"
   ]
  },
  {
   "cell_type": "code",
   "execution_count": null,
   "metadata": {},
   "outputs": [],
   "source": [
    "df = pd.read_csv('./DESY_TB21_Temperature_Dec_2023.csv', skiprows=1)\n",
    "df['pd_time'] = pd.to_datetime(df['Time'])\n",
    "df.drop(columns=['Time'], inplace=True)\n",
    "df"
   ]
  },
  {
   "cell_type": "code",
   "execution_count": null,
   "metadata": {},
   "outputs": [],
   "source": [
    "def make_plot(input_df: pd.DataFrame, title: str, fname: str, save: bool = False):\n",
    "\n",
    "    fig, ax = plt.subplots(figsize=(16, 9))\n",
    "    hep.cms.text(loc=0, ax=ax, text=\"Preliminary\", fontsize=25)\n",
    "    ax.set_title(f\"DESY TB 21, Run - {title}\", size=20, loc=\"right\")\n",
    "    ax.plot(input_df['pd_time'], input_df['TB 21 Temperature'])\n",
    "    ax.set_ylim(round(input_df['TB 21 Temperature'].mean())-1, round(input_df['TB 21 Temperature'].mean())+1)\n",
    "    ax.set_xlabel('Time', fontsize=20)\n",
    "    ax.set_ylabel('Temperature [C]', fontsize=20)\n",
    "    ax.xaxis.set_major_formatter(mdates.DateFormatter('%H:%M'))\n",
    "    ax.grid()\n",
    "\n",
    "    plt.tight_layout()\n",
    "\n",
    "    if (save):\n",
    "        fig.savefig(f'./{fname}.png')"
   ]
  },
  {
   "cell_type": "code",
   "execution_count": null,
   "metadata": {},
   "outputs": [],
   "source": [
    "for key in run_info.keys():\n",
    "    start_time = run_info[key]['start']\n",
    "    end_time = run_info[key]['start'] + datetime.timedelta(hours=run_info[key]['duration'])\n",
    "\n",
    "    tmp_df = df.loc[ (df['pd_time'] > start_time) & (df['pd_time'] < end_time) ]\n",
    "\n",
    "    make_plot(tmp_df, title=run_info[key]['title'], fname=run_info[key]['fname'], save=True)"
   ]
  },
  {
   "cell_type": "code",
   "execution_count": null,
   "metadata": {},
   "outputs": [],
   "source": []
  }
 ],
 "metadata": {
  "kernelspec": {
   "display_name": "packages",
   "language": "python",
   "name": "python3"
  },
  "language_info": {
   "codemirror_mode": {
    "name": "ipython",
    "version": 3
   },
   "file_extension": ".py",
   "mimetype": "text/x-python",
   "name": "python",
   "nbconvert_exporter": "python",
   "pygments_lexer": "ipython3",
   "version": "3.10.12"
  }
 },
 "nbformat": 4,
 "nbformat_minor": 2
}
