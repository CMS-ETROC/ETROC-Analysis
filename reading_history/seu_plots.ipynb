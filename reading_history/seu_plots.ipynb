{
 "cells": [
  {
   "cell_type": "code",
   "execution_count": null,
   "metadata": {},
   "outputs": [],
   "source": [
    "import pandas as pd\n",
    "import numpy as np\n",
    "import sqlite3\n",
    "import matplotlib.pyplot as plt\n",
    "import matplotlib.dates as mdates\n",
    "import datetime\n",
    "import hist\n",
    "import mplhep as hep\n",
    "hep.style.use('CMS')"
   ]
  },
  {
   "cell_type": "code",
   "execution_count": null,
   "metadata": {},
   "outputs": [],
   "source": [
    "con = sqlite3.connect('./belgium_seu_apr_2024/ADCHistory_FNAL.sqlite')\n",
    "df = pd.read_sql_query(\"SELECT * from adc\", con)"
   ]
  },
  {
   "cell_type": "code",
   "execution_count": null,
   "metadata": {},
   "outputs": [],
   "source": [
    "df.dropna(inplace=True)"
   ]
  },
  {
   "cell_type": "code",
   "execution_count": null,
   "metadata": {},
   "outputs": [],
   "source": [
    "fig, ax = plt.subplots(figsize=(20, 10))\n",
    "hep.cms.text(loc=0, ax=ax, text=\"Phase-2 Preliminary\", fontsize=25)\n",
    "ax.set_title('File: ADC_history_FNAL', size=17, loc=\"right\")\n",
    "\n",
    "for idx, iboard in enumerate(sorted(df['channel'].unique())):\n",
    "    tmp_df = df.loc[df['channel']==iboard]\n",
    "    tmp_df['timestamp'] = pd.to_datetime(tmp_df['timestamp'])\n",
    "    ax.plot(tmp_df['timestamp'], tmp_df['voltage'], label=f'channel{iboard}')\n",
    "\n",
    "    if idx == 0:\n",
    "        # date_form = mdates.DateFormatter(\"%m-%d\\n%H:%M\")\n",
    "        date_form = mdates.DateFormatter(\"%m-%d\")\n",
    "        ax.xaxis.set_major_formatter(date_form)\n",
    "\n",
    "ax.set_ylabel('Voltage')\n",
    "ax.legend(loc='best')"
   ]
  },
  {
   "cell_type": "code",
   "execution_count": null,
   "metadata": {},
   "outputs": [],
   "source": [
    "con = sqlite3.connect('./belgium_seu_apr_2024/ADCHistory_backup.sqlite')\n",
    "df = pd.read_sql_query(\"SELECT * from adc\", con)"
   ]
  },
  {
   "cell_type": "code",
   "execution_count": null,
   "metadata": {},
   "outputs": [],
   "source": [
    "df.dropna(inplace=True)"
   ]
  },
  {
   "cell_type": "code",
   "execution_count": null,
   "metadata": {},
   "outputs": [],
   "source": [
    "fig, ax = plt.subplots(figsize=(20, 10))\n",
    "hep.cms.text(loc=0, ax=ax, text=\"Phase-2 Preliminary\", fontsize=25)\n",
    "ax.set_title('File: ADC_history_backup', size=17, loc=\"right\")\n",
    "\n",
    "for idx, iboard in enumerate(sorted(df['channel'].unique())):\n",
    "    tmp_df = df.loc[df['channel']==iboard]\n",
    "    tmp_df['timestamp'] = pd.to_datetime(tmp_df['timestamp'])\n",
    "    ax.plot(tmp_df['timestamp'], tmp_df['voltage'], label=f'channel{iboard}')\n",
    "\n",
    "    if idx == 0:\n",
    "        # date_form = mdates.DateFormatter(\"%m-%d\\n%H:%M\")\n",
    "        date_form = mdates.DateFormatter(\"%m-%d\")\n",
    "        ax.xaxis.set_major_formatter(date_form)\n",
    "\n",
    "ax.set_ylabel('Voltage')\n",
    "ax.legend(loc='best')"
   ]
  },
  {
   "cell_type": "code",
   "execution_count": null,
   "metadata": {},
   "outputs": [],
   "source": []
  }
 ],
 "metadata": {
  "kernelspec": {
   "display_name": "packages",
   "language": "python",
   "name": "python3"
  },
  "language_info": {
   "codemirror_mode": {
    "name": "ipython",
    "version": 3
   },
   "file_extension": ".py",
   "mimetype": "text/x-python",
   "name": "python",
   "nbconvert_exporter": "python",
   "pygments_lexer": "ipython3",
   "version": "3.10.12"
  }
 },
 "nbformat": 4,
 "nbformat_minor": 2
}
