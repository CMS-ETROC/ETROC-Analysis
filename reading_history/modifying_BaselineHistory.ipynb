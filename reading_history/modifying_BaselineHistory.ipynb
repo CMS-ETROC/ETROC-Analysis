{
 "cells": [
  {
   "attachments": {},
   "cell_type": "markdown",
   "metadata": {},
   "source": [
    "## Import"
   ]
  },
  {
   "cell_type": "code",
   "execution_count": null,
   "metadata": {},
   "outputs": [],
   "source": [
    "import sqlite3\n",
    "import pandas as pd"
   ]
  },
  {
   "attachments": {},
   "cell_type": "markdown",
   "metadata": {},
   "source": [
    "## Load file"
   ]
  },
  {
   "cell_type": "code",
   "execution_count": null,
   "metadata": {},
   "outputs": [],
   "source": [
    "con = sqlite3.connect('../../ETROC-History/BaselineHistory.sqlite')\n",
    "df = pd.read_sql_query(\"SELECT * from baselines\", con)"
   ]
  },
  {
   "attachments": {},
   "cell_type": "markdown",
   "metadata": {},
   "source": [
    "## Print the board name"
   ]
  },
  {
   "cell_type": "code",
   "execution_count": null,
   "metadata": {},
   "outputs": [],
   "source": [
    "column_values = df['chip_name']\n",
    "\n",
    "# Print the unique elements in the column\n",
    "unique_elements = column_values.unique()\n",
    "for element in unique_elements:\n",
    "    print(element)"
   ]
  },
  {
   "cell_type": "code",
   "execution_count": null,
   "metadata": {},
   "outputs": [],
   "source": [
    "# Locate the row where the element is '02D5_#11' in the 'chip_name' column\n",
    "rows_to_update = df[df['chip_name'] == '02D5_#11'].index\n",
    "\n",
    "# Update the value in those rows\n",
    "df.loc[rows_to_update, 'chip_name'] = '01E2_#11'"
   ]
  },
  {
   "cell_type": "code",
   "execution_count": null,
   "metadata": {},
   "outputs": [],
   "source": [
    "column_values = df['chip_name']\n",
    "\n",
    "# Print the unique elements in the column\n",
    "unique_elements = column_values.unique()\n",
    "for element in unique_elements:\n",
    "    print(element)"
   ]
  },
  {
   "attachments": {},
   "cell_type": "markdown",
   "metadata": {},
   "source": [
    "## Print the saved notes for dedicate board name"
   ]
  },
  {
   "cell_type": "code",
   "execution_count": null,
   "metadata": {},
   "outputs": [],
   "source": [
    "chip_name = '01E2_#11'\n",
    "column_values = df[(df['chip_name'] == chip_name)]['note']\n",
    "\n",
    "# Print the unique elements in the column\n",
    "unique_elements = column_values.unique()\n",
    "for element in unique_elements:\n",
    "    print(element)"
   ]
  },
  {
   "cell_type": "code",
   "execution_count": null,
   "metadata": {},
   "outputs": [],
   "source": [
    "df.to_sql('baselines', con, if_exists='replace', index=False)"
   ]
  }
 ],
 "metadata": {
  "kernelspec": {
   "display_name": "packages",
   "language": "python",
   "name": "python3"
  },
  "language_info": {
   "codemirror_mode": {
    "name": "ipython",
    "version": 3
   },
   "file_extension": ".py",
   "mimetype": "text/x-python",
   "name": "python",
   "nbconvert_exporter": "python",
   "pygments_lexer": "ipython3",
   "version": "3.10.6"
  },
  "orig_nbformat": 4
 },
 "nbformat": 4,
 "nbformat_minor": 2
}
