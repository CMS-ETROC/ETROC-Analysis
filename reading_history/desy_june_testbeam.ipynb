{
 "cells": [
  {
   "cell_type": "code",
   "execution_count": null,
   "metadata": {},
   "outputs": [],
   "source": [
    "import pandas as pd\n",
    "import numpy as np\n",
    "import sqlite3\n",
    "import matplotlib.pyplot as plt\n",
    "import matplotlib.dates as mdates\n",
    "from collections import defaultdict\n",
    "import mplhep as hep\n",
    "hep.style.use('CMS')\n",
    "\n",
    "import warnings\n",
    "warnings.filterwarnings(\"ignore\")"
   ]
  },
  {
   "cell_type": "code",
   "execution_count": null,
   "metadata": {},
   "outputs": [],
   "source": [
    "import os, sys\n",
    "\n",
    "path2add = os.path.normpath(os.path.abspath(os.path.join(os.path.curdir, os.path.pardir, 'TestBeam')))\n",
    "print(path2add)\n",
    "\n",
    "if (not (path2add in sys.path)) :\n",
    "    sys.path.append(path2add)\n",
    "\n",
    "from beamtest_analysis_helper import plot_BL_and_NW"
   ]
  },
  {
   "cell_type": "markdown",
   "metadata": {},
   "source": [
    "## Load Run Info"
   ]
  },
  {
   "cell_type": "code",
   "execution_count": null,
   "metadata": {},
   "outputs": [],
   "source": [
    "run_time_df = pd.read_csv('./tb_run_info/DESY_Jun2024_TB_run_info.csv')\n",
    "run_time_df.dropna(inplace=True)\n",
    "\n",
    "run_time_df['Start_Time'] = run_time_df['Start_Time'] + \", 2024\"\n",
    "run_time_df['Start_Time'] = pd.to_datetime(run_time_df['Start_Time'])\n",
    "\n",
    "run_time_df['Run'] = run_time_df['Run'].astype('uint8')\n",
    "run_time_df = run_time_df.astype({col: 'uint16' for col in run_time_df.columns if col.startswith('HV')})\n",
    "run_time_df = run_time_df.astype({col: 'uint8' for col in run_time_df.columns if col.startswith('offset')})"
   ]
  },
  {
   "cell_type": "code",
   "execution_count": null,
   "metadata": {},
   "outputs": [],
   "source": [
    "# Remove \"hour\" from Duration column\n",
    "run_time_df['Duration'] = run_time_df['Duration'].str.replace('hour', '').str.strip()\n",
    "\n",
    "# Directly add the duration to the Start_Time\n",
    "run_time_df['Duration'] = run_time_df['Duration'].astype(float)\n",
    "run_time_df['End_Time'] = run_time_df['Start_Time'] + pd.to_timedelta(run_time_df['Duration'], unit='h')\n",
    "\n",
    "# Remove when Duration = 0\n",
    "run_time_df = run_time_df.loc[run_time_df['Duration'] != 0]"
   ]
  },
  {
   "cell_type": "code",
   "execution_count": null,
   "metadata": {},
   "outputs": [],
   "source": [
    "run_time_df"
   ]
  },
  {
   "cell_type": "markdown",
   "metadata": {},
   "source": [
    "## Baseline plots"
   ]
  },
  {
   "cell_type": "code",
   "execution_count": null,
   "metadata": {},
   "outputs": [],
   "source": [
    "con = sqlite3.connect('/media/daq/X9/DESYJune2024/ETROC-History/BaselineHistory.sqlite')\n",
    "\n",
    "baseline_df = pd.read_sql_query(\"SELECT * from baselines\", con)\n",
    "\n",
    "baseline_df['timestamp'] = pd.to_datetime(baseline_df['timestamp'], format='%Y-%m-%d %H:%M:%S.%f')\n",
    "baseline_df['timestamp'] = baseline_df['timestamp'].dt.strftime('%Y-%m-%d %H:%M:%S')\n",
    "baseline_df['timestamp'] = pd.to_datetime(baseline_df['timestamp'])"
   ]
  },
  {
   "cell_type": "code",
   "execution_count": null,
   "metadata": {},
   "outputs": [],
   "source": [
    "### Add board names in the dictionary\n",
    "\n",
    "config_dict = {\n",
    "    'ET2p01_Bar4': {\n",
    "        'plot_title': '(FBK UFSD4 W15) BAR_4',\n",
    "        'chip_type': 'T',\n",
    "        'channel': 0,\n",
    "    },\n",
    "    'ET2p01_Bar12': {\n",
    "        'plot_title': 'BAR_12',\n",
    "        'chip_type': 'T',\n",
    "        'channel': 1,\n",
    "    },\n",
    "    'ET2p01_Bar13': {\n",
    "        'plot_title': 'ET2p01_Bar13',\n",
    "        'chip_type': 'T',\n",
    "        'channel': 2,\n",
    "    },\n",
    "    'ET2p01_CNM13HPK': {\n",
    "        'plot_title': '(HPK Split-3 W16 P6) BB_1-3',\n",
    "        'chip_type': 'F',\n",
    "        'channel': 3,\n",
    "    },\n",
    "}"
   ]
  },
  {
   "cell_type": "markdown",
   "metadata": {},
   "source": [
    "### Make BL and NW map"
   ]
  },
  {
   "cell_type": "code",
   "execution_count": null,
   "metadata": {},
   "outputs": [],
   "source": [
    "plot_BL_and_NW(run_time_df=run_time_df, which_run=35, baseline_df=baseline_df, config_dict=config_dict, which_val='baseline')"
   ]
  },
  {
   "cell_type": "code",
   "execution_count": null,
   "metadata": {},
   "outputs": [],
   "source": [
    "plot_BL_and_NW(run_time_df=run_time_df, which_run=35, baseline_df=baseline_df, config_dict=config_dict, which_val='noise_width')"
   ]
  },
  {
   "cell_type": "markdown",
   "metadata": {},
   "source": [
    "### Select data"
   ]
  },
  {
   "cell_type": "code",
   "execution_count": null,
   "metadata": {},
   "outputs": [],
   "source": [
    "# selected_baselines = defaultdict(pd.DataFrame)\n",
    "\n",
    "# for index, row in run_time_df.iterrows():\n",
    "#     cut_start_time = row['Start_Time'] - pd.Timedelta(minutes=30)\n",
    "#     cut_end_time = row['End_Time'] + pd.Timedelta(minutes=10)\n",
    "\n",
    "#     filtered_df = interest_df.loc[(interest_df['timestamp'] > cut_start_time) & (interest_df['timestamp'] < cut_end_time)]\n",
    "#     selected_baselines[row['Run']] = filtered_df"
   ]
  },
  {
   "cell_type": "code",
   "execution_count": null,
   "metadata": {},
   "outputs": [],
   "source": [
    "# selected_baselines.keys()"
   ]
  },
  {
   "cell_type": "markdown",
   "metadata": {},
   "source": [
    "### Baseline over time"
   ]
  },
  {
   "cell_type": "code",
   "execution_count": null,
   "metadata": {},
   "outputs": [],
   "source": [
    "fig, ax = plt.subplots(figsize=(20, 10))\n",
    "hep.cms.text(loc=0, ax=ax, text=\"ETL ETROC Test Beam\", fontsize=18)\n",
    "# ax.set_title('Baseline of pixel (8, 11)', size=18, loc=\"right\")\n",
    "\n",
    "date_form = mdates.DateFormatter(\"%m-%d\\n%H:%M\")\n",
    "ax.xaxis.set_major_formatter(date_form)\n",
    "\n",
    "cut_time = pd.to_datetime('2024-05-01 22:00:00')\n",
    "\n",
    "interest_df = baseline_df.loc[(baseline_df['row'] == 8) & (baseline_df['col'] == 11)]\n",
    "\n",
    "for iboard in interest_df['chip_name'].unique():\n",
    "    tmp_df = interest_df.loc[interest_df['chip_name']==iboard]\n",
    "    tmp_df = tmp_df.loc[tmp_df['timestamp'] > cut_time]\n",
    "    ax.plot(tmp_df['timestamp'], tmp_df['baseline'], label=f'{iboard}', marker='.')\n",
    "\n",
    "text_y = [200, 370]\n",
    "draw_dates = True\n",
    "\n",
    "if draw_dates:\n",
    "    for index, row in run_time_df.iterrows():\n",
    "\n",
    "        if index%2 == 0:\n",
    "            yval = text_y[0]\n",
    "        else:\n",
    "            yval = text_y[1]\n",
    "\n",
    "        plt.axvline(x=row['Start_Time'], color='magenta', linestyle='dashed')\n",
    "        ax.text(x=(row['Start_Time'] - pd.Timedelta(hours=1.2)), y=yval, s=f\"Run {row['Run']} Start\", rotation=90, va='center', fontsize=12, color='magenta')\n",
    "        plt.axvline(x=row['End_Time'], color='black', linestyle='dashdot')\n",
    "        ax.text(x=(row['End_Time'] + pd.Timedelta(minutes=15)), y=yval, s=f\"Run {row['Run']} End\", rotation=90, va='center', fontsize=12)\n",
    "\n",
    "ax.legend(loc='center left', fontsize=16, title='Pixel (8, 11)', title_fontsize=18)"
   ]
  },
  {
   "cell_type": "code",
   "execution_count": null,
   "metadata": {},
   "outputs": [],
   "source": [
    "pixel_plot_list_row,pixel_plot_list_col = np.meshgrid([2, 5, 7, 8, 9, 13], [2, 5, 7, 8, 9, 13])\n",
    "pixel_plot_list = list(zip(pixel_plot_list_row.flatten(),pixel_plot_list_col.flatten()))\n",
    "\n",
    "draw_dates = True\n",
    "cut_time = pd.to_datetime('2024-05-01 22:00:00')\n",
    "\n",
    "for iboard in interest_df['chip_name'].unique():\n",
    "    fig, ax = plt.subplots(figsize=(20, 10))\n",
    "    hep.cms.text(loc=0, ax=ax, text=\"Phase-2 Preliminary\", fontsize=25)\n",
    "    ax.set_title(f'Baseline of board {iboard}', size=17, loc=\"right\")\n",
    "    date_form = mdates.DateFormatter(\"%m-%d\\n%H:%M\")\n",
    "    ax.xaxis.set_major_formatter(date_form)\n",
    "    for row,col in pixel_plot_list:\n",
    "        interest_df = df.loc[(df['col']==col) & (df['row']==row)].reset_index(drop=True)\n",
    "        tmp_df = interest_df.loc[interest_df['chip_name']==iboard]\n",
    "        tmp_df = tmp_df.loc[tmp_df['timestamp'] > cut_time]\n",
    "        ax.plot(tmp_df['timestamp'], tmp_df['baseline'], label=f'Pixel R{row} C{col}', marker='.', c='r' if col<8 else 'b')\n",
    "\n",
    "    if draw_dates:\n",
    "        for index, row in run_time_df.iterrows():\n",
    "            ax.axvline(x=row['Start_Time'], color='magenta', linestyle='dashed')\n",
    "            ax.axvline(x=row['End_Time'], color='black', linestyle='dashdot')"
   ]
  },
  {
   "cell_type": "markdown",
   "metadata": {},
   "source": [
    "## Temperature"
   ]
  },
  {
   "cell_type": "code",
   "execution_count": null,
   "metadata": {},
   "outputs": [],
   "source": [
    "con = sqlite3.connect('/media/daq/X9/DESYJune2024/ETROC-History/ADCHistory.sqlite')\n",
    "adc_df = pd.read_sql_query(\"SELECT * from adc\", con)"
   ]
  },
  {
   "cell_type": "code",
   "execution_count": null,
   "metadata": {},
   "outputs": [],
   "source": [
    "adc_df['timestamp'] = pd.to_datetime(adc_df['timestamp'], format='%Y-%m-%d %H:%M:%S.%f')\n",
    "adc_df['timestamp'] = adc_df['timestamp'].dt.strftime('%Y-%m-%d %H:%M:%S')\n",
    "adc_df['timestamp'] = pd.to_datetime(adc_df['timestamp'])"
   ]
  },
  {
   "cell_type": "code",
   "execution_count": null,
   "metadata": {},
   "outputs": [],
   "source": [
    "names = ['BAR 4', 'BAR 12', 'BAR 13', 'BB 1-3', 'Ambient Temp']\n",
    "\n",
    "fig, ax = plt.subplots(figsize=(20, 10))\n",
    "hep.cms.text(loc=0, ax=ax, text=\"Phase-2 Preliminary\", fontsize=25)\n",
    "ax.set_title('Temperature', size=17, loc=\"right\")\n",
    "date_form = mdates.DateFormatter(\"%m-%d\")\n",
    "ax.xaxis.set_major_formatter(date_form)\n",
    "\n",
    "for idx, iboard in enumerate(sorted(adc_df['channel'].unique())):\n",
    "    tmp_df = adc_df.loc[adc_df['channel']==iboard]\n",
    "    ax.plot(tmp_df['timestamp'], tmp_df['voltage'], label=f'{names[idx]}')\n",
    "\n",
    "text_y = [0.51, 0.55]\n",
    "for index, row in run_time_df.iterrows():\n",
    "\n",
    "    if index%2 == 0:\n",
    "        yval = text_y[0]\n",
    "    else:\n",
    "        yval = text_y[1]\n",
    "\n",
    "    plt.axvline(x=row['Start_Time'], color='magenta', linestyle='dashed')\n",
    "    ax.text(x=(row['Start_Time'] - pd.Timedelta(hours=1.2)), y=yval, s=f\"Run {row['Run']} Start\", rotation=90, va='center', fontsize=12, color='magenta')\n",
    "    plt.axvline(x=row['End_Time'], color='black', linestyle='dashdot')\n",
    "    ax.text(x=(row['End_Time'] + pd.Timedelta(minutes=15)), y=yval, s=f\"Run {row['Run']} End\", rotation=90, va='center', fontsize=12)\n",
    "\n",
    "ax.legend(loc='best')\n",
    "ax.set_ylabel('Voltage')\n",
    "plt.ylim(bottom=0.48, top=.6)"
   ]
  },
  {
   "cell_type": "markdown",
   "metadata": {},
   "source": [
    "### VTemp per board"
   ]
  },
  {
   "cell_type": "code",
   "execution_count": null,
   "metadata": {},
   "outputs": [],
   "source": [
    "names = ['BAR 4', 'BAR 12', 'BAR 13', 'BB 1-3', 'Ambient Temp']\n",
    "draw_text_loc = [0.57, 0.534, 0.5325, .45, .499]\n",
    "draw_dates = True\n",
    "voltage_cut = 0.3\n",
    "\n",
    "for idx, iboard in enumerate(sorted(adc_df['channel'].unique())):\n",
    "    fig, ax = plt.subplots(figsize=(20, 10))\n",
    "    hep.cms.text(loc=0, ax=ax, text=\"Phase-2 Preliminary\", fontsize=25)\n",
    "    ax.set_title(f'Board {names[idx]} Temperature', size=17, loc=\"right\")\n",
    "    tmp_df = adc_df.loc[adc_df['channel']==iboard]\n",
    "    tmp_df = tmp_df.loc[tmp_df['voltage'] > voltage_cut]\n",
    "    ax.plot(tmp_df['timestamp'], tmp_df['voltage'], label=f'{names[idx]}')\n",
    "\n",
    "    date_form = mdates.DateFormatter(\"%m-%d\\n%H:%M\")\n",
    "    ax.xaxis.set_major_formatter(date_form)\n",
    "\n",
    "    if(draw_dates):\n",
    "        for index, row in run_time_df.iterrows():\n",
    "\n",
    "            plt.axvline(x=row['Start_Time'], color='magenta', linestyle='dashed')\n",
    "            ax.text(x=(row['Start_Time'] - pd.Timedelta(hours=1.2)), y=draw_text_loc[idx], s=f\"Run {row['Run']} Start\", rotation=90, va='center', fontsize=12, color='magenta')\n",
    "            plt.axvline(x=row['End_Time'], color='black', linestyle='dashdot')\n",
    "            ax.text(x=(row['End_Time'] + pd.Timedelta(minutes=15)), y=draw_text_loc[idx], s=f\"Run {row['Run']} End\", rotation=90, va='center', fontsize=12)\n",
    "\n",
    "    ax.legend(loc='best')\n",
    "    ax.set_ylabel('Voltage')\n",
    "    # ax.set_ylim(bottom=0.48, top=.6)"
   ]
  },
  {
   "cell_type": "code",
   "execution_count": null,
   "metadata": {},
   "outputs": [],
   "source": [
    "names = ['BAR 4', 'BAR 12', 'BAR 13', 'BB 1-3', 'Ambient Temp']\n",
    "draw_text_loc = [20, 0.534, 0.5325, .45, .499]\n",
    "draw_dates = True\n",
    "\n",
    "cut_time = pd.to_datetime('2024-06-04 12:30:00')\n",
    "\n",
    "for idx, iboard in enumerate(sorted(adc_df['channel'].unique())):\n",
    "    if(idx!=0): continue\n",
    "    fig, ax = plt.subplots(figsize=(20, 10))\n",
    "    hep.cms.text(loc=0, ax=ax, text=\"Phase-2 Preliminary\", fontsize=25)\n",
    "    ax.set_title(f'Board {names[idx]} Temperature', size=17, loc=\"right\")\n",
    "    tmp_df = adc_df.loc[adc_df['channel']==iboard]\n",
    "    tmp_df = tmp_df.loc[tmp_df['timestamp'] > cut_time]\n",
    "    ax.plot(tmp_df['timestamp'], (402.19*tmp_df['voltage']) - 207.81, label=f'{names[idx]}')\n",
    "\n",
    "    date_form = mdates.DateFormatter(\"%m-%d\\n%H:%M\")\n",
    "    ax.xaxis.set_major_formatter(date_form)\n",
    "\n",
    "    if(draw_dates):\n",
    "        for index, row in run_time_df.iterrows():\n",
    "\n",
    "            plt.axvline(x=row['Start_Time'], color='magenta', linestyle='dashed')\n",
    "            ax.text(x=(row['Start_Time'] - pd.Timedelta(hours=1.2)), y=draw_text_loc[idx], s=f\"Run {row['Run']} Start\", rotation=90, va='center', fontsize=12, color='magenta')\n",
    "            plt.axvline(x=row['End_Time'], color='black', linestyle='dashdot')\n",
    "            ax.text(x=(row['End_Time'] + pd.Timedelta(minutes=15)), y=draw_text_loc[idx], s=f\"Run {row['Run']} End\", rotation=90, va='center', fontsize=12)\n",
    "\n",
    "    ax.legend(loc='best')\n",
    "    ax.set_ylabel('Temperature [C]')\n",
    "    # ax.set_ylim(bottom=0.48, top=.6)"
   ]
  },
  {
   "cell_type": "markdown",
   "metadata": {},
   "source": [
    "## HV currents"
   ]
  },
  {
   "cell_type": "code",
   "execution_count": null,
   "metadata": {},
   "outputs": [],
   "source": [
    "# watch python3 scripts/logNICrate.py -o May6 -d /media/daq/X9/DESYJune2024/ETROC-History/HV_logging -t 3"
   ]
  },
  {
   "cell_type": "code",
   "execution_count": null,
   "metadata": {},
   "outputs": [],
   "source": [
    "HV_json = '/media/daq/X9/DESYJune2024/ETROC-History/HV_logging/JunTB.json'"
   ]
  },
  {
   "cell_type": "code",
   "execution_count": null,
   "metadata": {},
   "outputs": [],
   "source": [
    "df = pd.read_json(HV_json, lines=True)"
   ]
  },
  {
   "cell_type": "code",
   "execution_count": null,
   "metadata": {},
   "outputs": [],
   "source": [
    "def convert_voltage(series):\n",
    "    multipliers = series.str.extract(r'(\\d*\\.\\d+|\\d+)( uV| mV| V)?', expand=True)\n",
    "    multipliers[1] = multipliers[1].fillna('')\n",
    "    multipliers[1] = multipliers[1].map({' uV': 1e-6, ' mV': 1e-3, ' V': 1, '': 1})\n",
    "    return multipliers[0].astype('float32') * multipliers[1].astype('float32')"
   ]
  },
  {
   "cell_type": "code",
   "execution_count": null,
   "metadata": {},
   "outputs": [],
   "source": [
    "hv_info = defaultdict(pd.DataFrame)\n",
    "\n",
    "# Extract columns for processing\n",
    "channels = df['Channel'].apply(pd.Series)\n",
    "sense_voltages = df['Measured Sense Voltage'].apply(pd.Series)\n",
    "terminal_voltages = df['Measured Terminal Voltage'].apply(pd.Series)\n",
    "currents = df['Measured Current'].apply(pd.Series).replace(' uA', '', regex=True).astype('float32')\n",
    "\n",
    "for inum in channels.columns:\n",
    "    senseV = convert_voltage(sense_voltages[inum])\n",
    "    terminalV = convert_voltage(terminal_voltages[inum])\n",
    "\n",
    "    new_df = pd.DataFrame({\n",
    "        'timestamp': pd.to_datetime(df['timestamp']),\n",
    "        'senseV': -1*senseV,\n",
    "        'terminalV': -1*terminalV,\n",
    "        'currents': currents[inum]\n",
    "    })\n",
    "\n",
    "    hv_info[inum] = new_df\n",
    "\n",
    "    del new_df"
   ]
  },
  {
   "cell_type": "code",
   "execution_count": null,
   "metadata": {},
   "outputs": [],
   "source": [
    "hv_info[0]"
   ]
  },
  {
   "cell_type": "code",
   "execution_count": null,
   "metadata": {},
   "outputs": [],
   "source": [
    "names = ['BAR 4', 'BAR 12', 'BAR 13', 'BB 1-3']\n",
    "\n",
    "fig, ax = plt.subplots(figsize=(30, 14))\n",
    "hep.cms.text(loc=0, ax=ax, text=\"Phase-2 Preliminary\", fontsize=25)\n",
    "\n",
    "date_form = mdates.DateFormatter(\"%m-%d\")\n",
    "ax.xaxis.set_major_formatter(date_form)\n",
    "\n",
    "for idx, iname in enumerate(names):\n",
    "    ax.plot(hv_info[idx]['timestamp'], hv_info[idx]['currents'], label=iname)\n",
    "\n",
    "ax.legend(loc='best')\n",
    "ax.set_ylabel('HV Currents [uA]')"
   ]
  },
  {
   "cell_type": "code",
   "execution_count": null,
   "metadata": {},
   "outputs": [],
   "source": [
    "names = ['BAR 4', 'BAR 12', 'BAR 13', 'BB 1-3']\n",
    "\n",
    "fig, ax = plt.subplots(figsize=(30, 14))\n",
    "hep.cms.text(loc=0, ax=ax, text=\"Phase-2 Preliminary\", fontsize=25)\n",
    "\n",
    "for idx, iname in enumerate(names):\n",
    "    ax.plot(hv_info[idx]['terminalV'], hv_info[idx]['currents'], label=iname)\n",
    "\n",
    "ax.legend(loc='best')\n",
    "ax.set_ylabel('HV Currents [uA]')\n",
    "ax.set_xlabel('HV Setting [V]')\n",
    "ax.invert_xaxis()\n",
    "ax.invert_yaxis()"
   ]
  },
  {
   "cell_type": "code",
   "execution_count": null,
   "metadata": {},
   "outputs": [],
   "source": [
    "con = sqlite3.connect('/media/daq/X9/DESYJune2024/ETROC-History/ti1080_sensor_data.sqlite')\n",
    "\n",
    "ti_hdc1080_df = pd.read_sql_query(\"SELECT * from ti_hdc1080\", con)\n",
    "ti_hdc1080_df['timestamp'] = pd.to_datetime(ti_hdc1080_df['timestamp'], format='%Y-%m-%d %H:%M:%S.%f')\n",
    "ti_hdc1080_df['timestamp'] = ti_hdc1080_df['timestamp'].dt.strftime('%Y-%m-%d %H:%M:%S')\n",
    "ti_hdc1080_df['timestamp'] = pd.to_datetime(ti_hdc1080_df['timestamp'])"
   ]
  },
  {
   "cell_type": "code",
   "execution_count": null,
   "metadata": {},
   "outputs": [],
   "source": [
    "names = ['FBK Sensor, ET2.01 (BAR 4)','HPK Sensor, ET2.01 (BAR 12)','HPK Sensor, ET2.01 (BAR 13)','HPK Split 3 Sensor, ET2.0 (BB 1-3)']\n",
    "lims  = [(11.75,9.75,11.5),(.3,.1,.175),(.3,.1,.175),(.6,.1,.2)]\n",
    "idxs  = [0,1,2,3]\n",
    "draw_dates = False\n",
    "\n",
    "for idx, name, lim in zip(idxs, names, lims):\n",
    "\n",
    "    fig, ax = plt.subplots(figsize=(20, 10))\n",
    "    hep.cms.text(loc=0, ax=ax, text=\"ETL ETROC Test Beam\", fontsize=25)\n",
    "\n",
    "    date_form = mdates.DateFormatter(\"%m-%d\\n%H:%M\")\n",
    "    ax.xaxis.set_major_formatter(date_form)\n",
    "\n",
    "    ax.plot(hv_info[idx]['timestamp'], -1*hv_info[idx]['currents'], label=iname, color='k')\n",
    "\n",
    "    # ax.legend(loc='best')\n",
    "    ax.set_ylabel('HV Currents [uA]', fontsize=25)\n",
    "    ax.set_ylim(top=lim[0], bottom=lim[1])\n",
    "    ax.set_xlim(left=datetime.datetime(2024, 6, 4, 19, 00), right=datetime.datetime(2024, 6, 6, 12, 0))\n",
    "    ax.set_title(name, loc=\"right\")\n",
    "    if(draw_dates):\n",
    "        for index, row in run_time_df.iterrows():\n",
    "            if row['Start_Time'] > pd.to_datetime('2024-06-06 13:00:00'):\n",
    "                continue\n",
    "            plt.axvline(x=row['Start_Time'], color='magenta', linestyle='dashed')\n",
    "            ax.text(x=(row['Start_Time'] - pd.Timedelta(hours=1.2)), y=lim[2], s=f\"Run {row['Run']} Start\", rotation=90, va='center', fontsize=12, color='magenta')\n",
    "            plt.axvline(x=row['End_Time'], color='black', linestyle='dashdot')\n",
    "            ax.text(x=(row['End_Time'] + pd.Timedelta(minutes=15)), y=lim[2], s=f\"Run {row['Run']} End\", rotation=90, va='center', fontsize=12)\n",
    "\n",
    "    ax2 = ax.twinx()  # instantiate a second axes that shares the same x-axis\n",
    "    color = 'tab:blue'\n",
    "    ax2.set_ylabel('Onboard Temperature from VTemp [C]', color=color, fontsize=25)\n",
    "    tmp_df = adc_df.loc[adc_df['channel']==sorted(adc_df['channel'].unique())[idx]]\n",
    "    tmp_df['timestamp'] = pd.to_datetime(tmp_df['timestamp'])\n",
    "    tmp_df = tmp_df.loc[tmp_df['timestamp']>pd.to_datetime('2024-06-04 17:00:00')]\n",
    "    ax2.plot(tmp_df['timestamp'], (402.19*tmp_df['voltage']) - 207.81, label=f'{names[idx]}', color=color)\n",
    "    ax2.tick_params(axis='y', labelcolor=color)\n",
    "    ax2.spines[\"right\"].set_color(color)\n",
    "    ax2.set_ylim(20, 30)\n",
    "\n",
    "    ax3 = ax.twinx()  # instantiate a third axes that shares the same x-axis\n",
    "    ax3.spines.right.set_position((\"axes\", 1.07))\n",
    "    color = 'tab:orange'\n",
    "    ax3.set_ylabel('Ambient Temperature in Suitcase [C]', color=color, fontsize=25)\n",
    "    ax3.plot(ti_hdc1080_df['timestamp'], ti_hdc1080_df['temperature'], label=f'{names[idx]}', color=color, lw=3)\n",
    "    ax3.tick_params(axis='y', labelcolor=color)\n",
    "    ax3.spines[\"right\"].set_color(color)\n",
    "    ax3.set_ylim(20, 30)\n",
    "\n",
    "    ax.grid()\n",
    "    plt.tight_layout()\n",
    "    plt.show()"
   ]
  },
  {
   "cell_type": "code",
   "execution_count": null,
   "metadata": {},
   "outputs": [],
   "source": [
    "names = ['BAR 4']\n",
    "\n",
    "fig, ax = plt.subplots(figsize=(30, 14))\n",
    "hep.cms.text(loc=0, ax=ax, text=\"Phase-2 Preliminary\", fontsize=25)\n",
    "\n",
    "date_form = mdates.DateFormatter(\"%m-%d\\n%H:%M\")\n",
    "ax.xaxis.set_major_formatter(date_form)\n",
    "\n",
    "ax.plot(hv_info[0]['timestamp'], -1*hv_info[0]['currents'], label=names[0], color='k')\n",
    "\n",
    "ax.legend(loc='best')\n",
    "ax.set_ylabel('HV Currents [uA]')\n",
    "ax.set_ylim(top=12, bottom=6)\n",
    "ax.set_title(name, loc=\"right\")\n",
    "\n",
    "if(draw_dates):\n",
    "    for index, row in run_time_df.iterrows():\n",
    "        plt.axvline(x=row['Start_Time'], color='magenta', linestyle='dashed')\n",
    "        ax.text(x=(row['Start_Time'] - pd.Timedelta(hours=1.2)), y=9.4, s=f\"Run {row['Run']} Start\", rotation=90, va='center', fontsize=12, color='magenta')\n",
    "        plt.axvline(x=row['End_Time'], color='black', linestyle='dashdot')\n",
    "        ax.text(x=(row['End_Time'] + pd.Timedelta(minutes=15)), y=9.4, s=f\"Run {row['Run']} End\", rotation=90, va='center', fontsize=12)"
   ]
  },
  {
   "cell_type": "code",
   "execution_count": null,
   "metadata": {},
   "outputs": [],
   "source": [
    "names = ['BAR 4', 'BAR 12', 'BAR 13', 'BB 1-3']\n",
    "\n",
    "fig, ax = plt.subplots(figsize=(30, 14))\n",
    "hep.cms.text(loc=0, ax=ax, text=\"Phase-2 Preliminary\", fontsize=25)\n",
    "\n",
    "date_form = mdates.DateFormatter(\"%m-%d\")\n",
    "ax.xaxis.set_major_formatter(date_form)\n",
    "\n",
    "for idx, iname in enumerate(names):\n",
    "    if(idx==0): continue\n",
    "    ax.plot(hv_info[idx]['timestamp'], -1*hv_info[idx]['currents'], label=iname)\n",
    "\n",
    "ax.legend(loc='best')\n",
    "ax.set_ylabel('HV Currents [uA]')\n",
    "\n",
    "if(draw_dates):\n",
    "    for index, row in run_time_df.iterrows():\n",
    "        plt.axvline(x=row['Start_Time'], color='magenta', linestyle='dashed')\n",
    "        ax.text(x=(row['Start_Time'] - pd.Timedelta(hours=1.2)), y=lim[2], s=f\"Run {row['Run']} Start\", rotation=90, va='center', fontsize=12, color='magenta')\n",
    "        plt.axvline(x=row['End_Time'], color='black', linestyle='dashdot')\n",
    "        ax.text(x=(row['End_Time'] + pd.Timedelta(minutes=15)), y=lim[2], s=f\"Run {row['Run']} End\", rotation=90, va='center', fontsize=12)"
   ]
  },
  {
   "cell_type": "code",
   "execution_count": null,
   "metadata": {},
   "outputs": [],
   "source": [
    "names = ['BAR 4', 'BAR 12', 'BAR 13', 'BB 1-3']\n",
    "\n",
    "fig, ax = plt.subplots(figsize=(30, 14))\n",
    "hep.cms.text(loc=0, ax=ax, text=\"Phase-2 Preliminary\", fontsize=25)\n",
    "\n",
    "for idx, iname in enumerate(names):\n",
    "    if(idx==0):continue\n",
    "    ax.plot(-1*hv_info[idx]['terminalV'], -1*hv_info[idx]['currents'],\"--o\", label=iname)\n",
    "\n",
    "ax.legend(loc='best')\n",
    "ax.set_ylabel('HV Currents [uA]')\n",
    "ax.set_xlabel('HV Setting [V]')"
   ]
  },
  {
   "cell_type": "code",
   "execution_count": null,
   "metadata": {},
   "outputs": [],
   "source": [
    "name = 'FBK UFSD4 W15 2-3 with ETROC2.01 Chip (BAR 4)'\n",
    "\n",
    "cut_time = pd.to_datetime('2024-06-05 00:20:00')\n",
    "\n",
    "bar_4_df = hv_info[0]\n",
    "bar_4_df = bar_4_df.loc[bar_4_df['timestamp'] < cut_time]\n",
    "\n",
    "fig, ax = plt.subplots(figsize=(30, 14))\n",
    "hep.cms.text(loc=0, ax=ax, text=\"Phase-2 Preliminary\", fontsize=25)\n",
    "\n",
    "ax.plot(-1*bar_4_df['terminalV'], -1*bar_4_df['currents'], \"--o\", label=name)\n",
    "\n",
    "ax.legend(loc='best')\n",
    "ax.set_ylabel('HV Currents [uA]')\n",
    "ax.set_xlabel('HV Setting [V]')"
   ]
  },
  {
   "cell_type": "code",
   "execution_count": null,
   "metadata": {},
   "outputs": [],
   "source": [
    "names = ['BAR 4', 'BAR 12', 'BAR 13', 'BB 1-3']\n",
    "\n",
    "fig, ax = plt.subplots(figsize=(30, 14))\n",
    "hep.cms.text(loc=0, ax=ax, text=\"Phase-2 Preliminary\", fontsize=25)\n",
    "\n",
    "for idx, iname in enumerate(names):\n",
    "    if(idx!=0):continue\n",
    "    ax.plot(-1*hv_info[idx]['terminalV'], -1*hv_info[idx]['currents'], \"--o\", label=iname)\n",
    "\n",
    "ax.legend(loc='best')\n",
    "ax.set_ylabel('HV Currents [uA]')\n",
    "ax.set_xlabel('HV Setting [V]')"
   ]
  },
  {
   "cell_type": "code",
   "execution_count": null,
   "metadata": {},
   "outputs": [],
   "source": [
    "names = ['FBK Sensor, ET2.01 (BAR 4)','HPK Sensor, ET2.01 (BAR 12)','HPK Sensor, ET2.01 (BAR 13)','HPK Split 3 Sensor, ET2.0 (BB 1-3)']\n",
    "lims  = [(40,0,11.5),(.3,.1,.175),(.3,.1,.175),(.6,.1,.2)]\n",
    "idxs  = [0,1,2,3]\n",
    "\n",
    "for idx, name, lim in zip(idxs, names, lims):\n",
    "\n",
    "    fig, ax = plt.subplots(figsize=(30, 14))\n",
    "    hep.cms.text(loc=0, ax=ax, text=\"Phase-2 Preliminary\", fontsize=25)\n",
    "\n",
    "    date_form = mdates.DateFormatter(\"%m-%d\\n%H:%M\")\n",
    "    ax.xaxis.set_major_formatter(date_form)\n",
    "\n",
    "    ax.plot(hv_info[idx]['timestamp'], -1*hv_info[idx]['currents'], label=iname, color='k', lw=2)\n",
    "\n",
    "    # ax.legend(loc='best')\n",
    "    ax.set_ylabel('HV Currents [uA]', fontsize=25)\n",
    "    ax.set_ylim(top=lim[0], bottom=lim[1])\n",
    "    ax.set_title(name, loc=\"right\")\n",
    "\n",
    "    if(draw_dates):\n",
    "        for index, row in run_time_df.iterrows():\n",
    "            plt.axvline(x=row['Start_Time'], color='magenta', linestyle='dashed')\n",
    "            ax.text(x=(row['Start_Time'] - pd.Timedelta(hours=1.2)), y=lim[2], s=f\"Run {row['Run']} Start\", rotation=90, va='center', fontsize=12, color='magenta')\n",
    "            plt.axvline(x=row['End_Time'], color='black', linestyle='dashdot')\n",
    "            ax.text(x=(row['End_Time'] + pd.Timedelta(minutes=15)), y=lim[2], s=f\"Run {row['Run']} End\", rotation=90, va='center', fontsize=12)\n",
    "\n",
    "    ax2 = ax.twinx()  # instantiate a third axes that shares the same x-axis\n",
    "    color = 'tab:blue'\n",
    "    ax2.set_ylabel('HV Setting [V]', color=color, fontsize=25)\n",
    "    ax2.plot(hv_info[idx]['timestamp'], -1*hv_info[idx]['terminalV'], color=color, lw=3)\n",
    "    ax2.tick_params(axis='y', labelcolor=color)\n",
    "    ax2.spines[\"right\"].set_color(color)\n",
    "    ax2.set_ylim(100, 300)\n",
    "\n",
    "    ax3 = ax.twinx()  # instantiate a third axes that shares the same x-axis\n",
    "    ax3.spines.right.set_position((\"axes\", 1.05))\n",
    "    color = 'tab:orange'\n",
    "    ax3.set_ylabel('Ambient Temperature in Suitcase [C]', color=color, fontsize=25)\n",
    "    ax3.plot(ti_hdc1080_df['timestamp'], ti_hdc1080_df['temperature'], label=f'{names[idx]}', color=color, lw=3)\n",
    "    ax3.tick_params(axis='y', labelcolor=color)\n",
    "    ax3.spines[\"right\"].set_color(color)\n",
    "    ax3.set_ylim(17, 31)\n",
    "\n",
    "    ax.grid(which=\"both\")\n",
    "    plt.tight_layout()\n",
    "    plt.show()"
   ]
  }
 ],
 "metadata": {
  "kernelspec": {
   "display_name": "packages",
   "language": "python",
   "name": "python3"
  },
  "language_info": {
   "codemirror_mode": {
    "name": "ipython",
    "version": 3
   },
   "file_extension": ".py",
   "mimetype": "text/x-python",
   "name": "python",
   "nbconvert_exporter": "python",
   "pygments_lexer": "ipython3",
   "version": "3.10.12"
  }
 },
 "nbformat": 4,
 "nbformat_minor": 2
}
