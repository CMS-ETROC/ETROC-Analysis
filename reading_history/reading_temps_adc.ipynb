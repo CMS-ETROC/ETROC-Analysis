{
 "cells": [
  {
   "cell_type": "code",
   "execution_count": null,
   "metadata": {},
   "outputs": [],
   "source": [
    "import pandas as pd\n",
    "from pprint import pprint\n",
    "from pathlib import Path\n",
    "import numpy as np\n",
    "import sqlite3\n",
    "import matplotlib.pyplot as plt\n",
    "import matplotlib.dates as mdates\n",
    "from collections import defaultdict\n",
    "import mplhep as hep\n",
    "import datetime\n",
    "hep.style.use('CMS')\n",
    "\n",
    "import warnings\n",
    "warnings.filterwarnings(\"ignore\")"
   ]
  },
  {
   "cell_type": "code",
   "execution_count": null,
   "metadata": {},
   "outputs": [],
   "source": [
    "import os, sys\n",
    "\n",
    "path2add = os.path.normpath(os.path.abspath(os.path.join(os.path.curdir, os.path.pardir, 'TestBeam')))\n",
    "print(path2add)\n",
    "\n",
    "if (not (path2add in sys.path)) :\n",
    "    sys.path.append(path2add)\n",
    "\n",
    "from beamtest_analysis_helper import plot_BL_and_NW\n",
    "\n",
    "path2add = os.path.normpath(os.path.abspath(os.path.join(os.path.curdir, os.path.pardir, 'SEU')))\n",
    "print(path2add)\n",
    "\n",
    "if (not (path2add in sys.path)) :\n",
    "    sys.path.append(path2add)\n",
    "\n",
    "from SEUhelper import plotVRefPower,plotBoardPower,plotWSPower"
   ]
  },
  {
   "cell_type": "code",
   "execution_count": null,
   "metadata": {},
   "outputs": [],
   "source": [
    "con = sqlite3.connect('../../i2c_gui/ADCHistory_testboard.sqlite')\n",
    "adc_df = pd.read_sql_query(\"SELECT * from adc\", con)\n",
    "adc_df['timestamp'] = pd.to_datetime(adc_df['timestamp'], format='%Y-%m-%d %H:%M:%S.%f')\n",
    "adc_df['timestamp'] = adc_df['timestamp'].dt.strftime('%Y-%m-%d %H:%M:%S')\n",
    "adc_df['timestamp'] = pd.to_datetime(adc_df['timestamp'])\n",
    "adc_df.tail()"
   ]
  },
  {
   "cell_type": "code",
   "execution_count": null,
   "metadata": {},
   "outputs": [],
   "source": [
    "names = ['BARE BOARD 7', \"Pulse\",  'Ambient Temp']\n",
    "cut_time = pd.to_datetime('2024-07-31 14:58:00')\n",
    "\n",
    "fig, ax = plt.subplots(figsize=(20, 10))\n",
    "hep.cms.text(loc=0, ax=ax, text=\"Phase-2 Preliminary\", fontsize=25)\n",
    "ax.set_title('Temperature', size=17, loc=\"right\")\n",
    "date_form = mdates.DateFormatter(\"%m-%d\\n%H:%M\")\n",
    "ax.xaxis.set_major_formatter(date_form)\n",
    "\n",
    "for idx, iboard in enumerate(sorted(adc_df['channel'].unique())):\n",
    "    tmp_df = adc_df.loc[adc_df['channel']==iboard]\n",
    "    ax.plot(tmp_df['timestamp'], tmp_df['voltage'], label=f'{names[idx]}', marker=\".\", ls=\"\")\n",
    "\n",
    "text_y = [0.51, 0.55]\n",
    "                \n",
    "ax.legend(loc='best')\n",
    "ax.set_ylabel('Voltage')\n",
    "# plt.ylim(bottom=0.49, top=.56)\n",
    "# plt.xlim(left=cut_time, right=pd.to_datetime('2024-07-31 15:02:00'))\n",
    "plt.xlim(left=cut_time)"
   ]
  },
  {
   "cell_type": "code",
   "execution_count": null,
   "metadata": {},
   "outputs": [],
   "source": []
  }
 ],
 "metadata": {
  "kernelspec": {
   "display_name": "packages",
   "language": "python",
   "name": "python3"
  },
  "language_info": {
   "codemirror_mode": {
    "name": "ipython",
    "version": 3
   },
   "file_extension": ".py",
   "mimetype": "text/x-python",
   "name": "python",
   "nbconvert_exporter": "python",
   "pygments_lexer": "ipython3",
   "version": "3.10.12"
  }
 },
 "nbformat": 4,
 "nbformat_minor": 2
}
