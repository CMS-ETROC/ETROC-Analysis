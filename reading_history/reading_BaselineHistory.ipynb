{
 "cells": [
  {
   "attachments": {},
   "cell_type": "markdown",
   "metadata": {},
   "source": [
    "## Import"
   ]
  },
  {
   "cell_type": "code",
   "execution_count": null,
   "metadata": {},
   "outputs": [],
   "source": [
    "import sqlite3\n",
    "import pandas as pd\n",
    "import matplotlib.pyplot as plt\n",
    "from matplotlib.dates import DateFormatter\n",
    "from mpl_toolkits.axes_grid1 import make_axes_locatable\n",
    "import mplhep as hep\n",
    "hep.style.use(\"CMS\")"
   ]
  },
  {
   "attachments": {},
   "cell_type": "markdown",
   "metadata": {},
   "source": [
    "## Load file and specify the board name"
   ]
  },
  {
   "cell_type": "code",
   "execution_count": null,
   "metadata": {},
   "outputs": [],
   "source": [
    "sql_file = '/media/daq/T7/ETROC-History-DESY/BaselineHistory.sqlite'\n",
    "con = sqlite3.connect(sql_file)\n",
    "df = pd.read_sql_query(\"SELECT * from baselines\", con)"
   ]
  },
  {
   "attachments": {},
   "cell_type": "markdown",
   "metadata": {},
   "source": [
    "## Print the board name"
   ]
  },
  {
   "cell_type": "code",
   "execution_count": null,
   "metadata": {},
   "outputs": [],
   "source": [
    "column_values = df['chip_name']\n",
    "\n",
    "# Print the unique elements in the column\n",
    "unique_elements = column_values.unique()\n",
    "for element in unique_elements:\n",
    "    print(element)"
   ]
  },
  {
   "attachments": {},
   "cell_type": "markdown",
   "metadata": {},
   "source": [
    "## Print the saved notes for dedicate board name"
   ]
  },
  {
   "cell_type": "code",
   "execution_count": null,
   "metadata": {},
   "outputs": [],
   "source": [
    "chip_name = 'ET2p01_Bar4'\n",
    "column_values = df[(df['chip_name'] == chip_name)]['note']\n",
    "\n",
    "# Print the unique elements in the column\n",
    "unique_elements = column_values.unique()\n",
    "for element in unique_elements:\n",
    "    if('22C' in element):\n",
    "        print(element)"
   ]
  },
  {
   "attachments": {},
   "cell_type": "markdown",
   "metadata": {},
   "source": [
    "## Select the data based on the board name and note"
   ]
  },
  {
   "cell_type": "code",
   "execution_count": null,
   "metadata": {},
   "outputs": [],
   "source": [
    "col = 8\n",
    "row = 8"
   ]
  },
  {
   "cell_type": "code",
   "execution_count": null,
   "metadata": {},
   "outputs": [],
   "source": [
    "base_df = df[(df['chip_name'] == chip_name) & (df['col'] == col) & (df['row'] == row)]\n",
    "base_df"
   ]
  },
  {
   "cell_type": "code",
   "execution_count": null,
   "metadata": {},
   "outputs": [],
   "source": [
    "def makePlot(var, inputname, scan_pixels, timestamp_cut=None, note_cut=None, label=None):\n",
    "    # Create a figure and axis\n",
    "    fig, ax = plt.subplots(figsize=(24,9))\n",
    "    ax.set_prop_cycle(color=['#e41a1c','#fdbf6f','#d95f02', '#377eb8','#4daf4a','#b2df8a',])\n",
    "\n",
    "    i = 0\n",
    "\n",
    "    threshold_timestamp = pd.Timestamp(timestamp_cut)\n",
    "    for row, col in scan_pixels:\n",
    "        filtered_df = df[(df['chip_name'] == inputname) & (df['row'] == row) & (df['col'] == col)  & (df['baseline'] != 0)]\n",
    "        # filtered_df = df[(df['chip_name'] == inputname) & df.loc[row_indexer,col_indexer]  & (df['baseline'] != 0)]\n",
    "        filtered_df['timestamp'] = pd.to_datetime(filtered_df['timestamp'])\n",
    "\n",
    "        if note_cut is not None:\n",
    "            filtered_df = filtered_df[filtered_df['note'].str.contains(note_cut)]\n",
    "        if timestamp_cut is not None:\n",
    "            filtered_df = filtered_df.loc[filtered_df['timestamp'] > threshold_timestamp]\n",
    "\n",
    "        hep.cms.text(loc=0, ax=ax, text=\"Preliminary\", fontsize=25)\n",
    "        if label is not None:\n",
    "            ax.set_title(label, size=17, loc=\"right\")\n",
    "        ax.plot(filtered_df['timestamp'], filtered_df[var], '.-', label=f'Row-Col = ({row}-{col})')\n",
    "\n",
    "        # Set x-axis labels with line breaks using LaTeX notation\n",
    "        if i == 0:\n",
    "            date_form = DateFormatter(\"%Y-%m-%d %H:%M\")\n",
    "            ax.xaxis.set_major_formatter(date_form)\n",
    "            plt.xticks(rotation=60)\n",
    "            # x_labels = [f'{row[\"note\"].replace(f\"_{chip_name}\",\"\")}\\n{row[\"timestamp\"].strftime(\"%Y-%m-%d %H:%M\")}' for index, row in filtered_df.iterrows()]\n",
    "            # ax.set_xticks(filtered_df['timestamp'])\n",
    "            # ax.set_xticklabels(x_labels, rotation=90, fontsize=9)\n",
    "\n",
    "        i += 1\n",
    "\n",
    "    ax.grid(which='both', axis='y')\n",
    "    ax.xaxis.set_minor_locator(plt.NullLocator())\n",
    "    ax.legend(ncols=2, fontsize=14)\n",
    "\n",
    "    var_label = str(var).replace('_', ' ')\n",
    "\n",
    "    # Set labels for other axes as needed\n",
    "    ax.set_ylabel(f'{inputname} {var_label}')"
   ]
  },
  {
   "cell_type": "code",
   "execution_count": null,
   "metadata": {},
   "outputs": [],
   "source": [
    "scan_list = [(row,col)] # (row, col)\n",
    "\n",
    "time_cut = None # '2024-01-17 11:57:00'\n",
    "note_cut = 'Overnight22C_Jan_18_2024_time_3s' # 'OvernightWarmup_Jan_18_2024_time_3s'\n",
    "label = 'Overnight warmup from 0 to 22 C'\n",
    "\n",
    "makePlot('baseline', chip_name, scan_list, time_cut, note_cut, label)\n",
    "makePlot('noise_width', chip_name, scan_list, time_cut, note_cut, label)"
   ]
  }
 ],
 "metadata": {
  "kernelspec": {
   "display_name": "packages",
   "language": "python",
   "name": "python3"
  },
  "language_info": {
   "codemirror_mode": {
    "name": "ipython",
    "version": 3
   },
   "file_extension": ".py",
   "mimetype": "text/x-python",
   "name": "python",
   "nbconvert_exporter": "python",
   "pygments_lexer": "ipython3",
   "version": "3.9.18"
  },
  "orig_nbformat": 4
 },
 "nbformat": 4,
 "nbformat_minor": 2
}
