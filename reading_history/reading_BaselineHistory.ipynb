{
 "cells": [
  {
   "attachments": {},
   "cell_type": "markdown",
   "metadata": {},
   "source": [
    "## Import"
   ]
  },
  {
   "cell_type": "code",
   "execution_count": null,
   "metadata": {},
   "outputs": [],
   "source": [
    "import sqlite3\n",
    "import pandas as pd\n",
    "import matplotlib.pyplot as plt\n",
    "from matplotlib.dates import DateFormatter\n",
    "from mpl_toolkits.axes_grid1 import make_axes_locatable\n",
    "import mplhep as hep\n",
    "hep.style.use(\"CMS\")"
   ]
  },
  {
   "attachments": {},
   "cell_type": "markdown",
   "metadata": {},
   "source": [
    "## Load file and specify the board name"
   ]
  },
  {
   "cell_type": "code",
   "execution_count": null,
   "metadata": {},
   "outputs": [],
   "source": [
    "sql_file = '/media/daq/T7/ETROC-History-DESY/BaselineHistory.sqlite'\n",
    "con = sqlite3.connect(sql_file)\n",
    "df = pd.read_sql_query(\"SELECT * from baselines\", con)"
   ]
  },
  {
   "attachments": {},
   "cell_type": "markdown",
   "metadata": {},
   "source": [
    "## Print the board name"
   ]
  },
  {
   "cell_type": "code",
   "execution_count": null,
   "metadata": {},
   "outputs": [],
   "source": [
    "column_values = df['chip_name']\n",
    "\n",
    "# Print the unique elements in the column\n",
    "unique_elements = column_values.unique()\n",
    "for element in unique_elements:\n",
    "    print(element)"
   ]
  },
  {
   "attachments": {},
   "cell_type": "markdown",
   "metadata": {},
   "source": [
    "## Print the saved notes for dedicate board name"
   ]
  },
  {
   "cell_type": "code",
   "execution_count": null,
   "metadata": {},
   "outputs": [],
   "source": [
    "chip_name = 'ET2p01_Bar4'\n",
    "column_values = df[(df['chip_name'] == chip_name)]['note']\n",
    "\n",
    "# Print the unique elements in the column\n",
    "unique_elements = column_values.unique()\n",
    "for element in unique_elements:\n",
    "    if('22C' in element):\n",
    "        print(element)"
   ]
  },
  {
   "attachments": {},
   "cell_type": "markdown",
   "metadata": {},
   "source": [
    "## Select the data based on the board name and note"
   ]
  },
  {
   "cell_type": "code",
   "execution_count": null,
   "metadata": {},
   "outputs": [],
   "source": [
    "col = 8\n",
    "row = 8"
   ]
  },
  {
   "cell_type": "code",
   "execution_count": null,
   "metadata": {},
   "outputs": [],
   "source": [
    "base_df = df[(df['chip_name'] == chip_name) & (df['col'] == col) & (df['row'] == row)]\n",
    "base_df"
   ]
  },
  {
   "cell_type": "code",
   "execution_count": null,
   "metadata": {},
   "outputs": [],
   "source": [
    "def makePlot(var, inputname, scan_pixels, timestamp_cut=None, note_cut=None, label=None):\n",
    "    # Create a figure and axis\n",
    "    fig, ax = plt.subplots(figsize=(24,9))\n",
    "    ax.set_prop_cycle(color=['#e41a1c','#fdbf6f','#d95f02', '#377eb8','#4daf4a','#b2df8a',])\n",
    "\n",
    "    i = 0\n",
    "\n",
    "    threshold_timestamp = pd.Timestamp(timestamp_cut)\n",
    "    for row, col in scan_pixels:\n",
    "        filtered_df = df[(df['chip_name'] == inputname) & (df['row'] == row) & (df['col'] == col)  & (df['baseline'] != 0)]\n",
    "        # filtered_df = df[(df['chip_name'] == inputname) & df.loc[row_indexer,col_indexer]  & (df['baseline'] != 0)]\n",
    "        filtered_df['timestamp'] = pd.to_datetime(filtered_df['timestamp'])\n",
    "\n",
    "        if note_cut is not None:\n",
    "            filtered_df = filtered_df[filtered_df['note'].str.contains(note_cut)]\n",
    "        if timestamp_cut is not None:\n",
    "            filtered_df = filtered_df.loc[filtered_df['timestamp'] > threshold_timestamp]\n",
    "\n",
    "        hep.cms.text(loc=0, ax=ax, text=\"Preliminary\", fontsize=25)\n",
    "        if label is not None:\n",
    "            ax.set_title(label, size=17, loc=\"right\")\n",
    "        ax.plot(filtered_df['timestamp'], filtered_df[var], '.-', label=f'Row-Col = ({row}-{col})')\n",
    "\n",
    "        # Set x-axis labels with line breaks using LaTeX notation\n",
    "        if i == 0:\n",
    "            date_form = DateFormatter(\"%Y-%m-%d %H:%M\")\n",
    "            ax.xaxis.set_major_formatter(date_form)\n",
    "            plt.xticks(rotation=60)\n",
    "            # x_labels = [f'{row[\"note\"].replace(f\"_{chip_name}\",\"\")}\\n{row[\"timestamp\"].strftime(\"%Y-%m-%d %H:%M\")}' for index, row in filtered_df.iterrows()]\n",
    "            # ax.set_xticks(filtered_df['timestamp'])\n",
    "            # ax.set_xticklabels(x_labels, rotation=90, fontsize=9)\n",
    "\n",
    "        i += 1\n",
    "\n",
    "    ax.grid(which='both', axis='y')\n",
    "    ax.xaxis.set_minor_locator(plt.NullLocator())\n",
    "    ax.legend(ncols=2, fontsize=14)\n",
    "\n",
    "    var_label = str(var).replace('_', ' ')\n",
    "\n",
    "    # Set labels for other axes as needed\n",
    "    ax.set_ylabel(f'{inputname} {var_label}')"
   ]
  },
  {
   "cell_type": "code",
   "execution_count": null,
   "metadata": {},
   "outputs": [],
   "source": [
    "scan_list = [(row,col)] # (row, col)\n",
    "\n",
    "time_cut = None # '2024-01-17 11:57:00'\n",
    "note_cut = 'Overnight22C_Jan_18_2024_time_3s' # 'OvernightWarmup_Jan_18_2024_time_3s'\n",
    "label = 'Overnight warmup from 0 to 22 C'\n",
    "\n",
    "makePlot('baseline', chip_name, scan_list, time_cut, note_cut, label)\n",
    "makePlot('noise_width', chip_name, scan_list, time_cut, note_cut, label)"
   ]
  },
  {
   "cell_type": "markdown",
   "metadata": {},
   "source": [
    "## Deprecated"
   ]
  },
  {
   "cell_type": "code",
   "execution_count": null,
   "metadata": {},
   "outputs": [],
   "source": [
    "# def mapDrawing(input_df, figname):\n",
    "#     # Create a pivot table to reshape the DataFrame\n",
    "#     pivot_table = input_df.pivot(index='row', columns='col', values='baseline')\n",
    "#     baseline = pivot_table.values\n",
    "\n",
    "#     pivot_table = input_df.pivot(index='row', columns='col', values='noise_width')\n",
    "#     noisewidth = pivot_table.values\n",
    "\n",
    "#     fig = plt.figure(dpi=200, figsize=(10,10))\n",
    "#     gs = fig.add_gridspec(1,2)\n",
    "\n",
    "#     ax0 = fig.add_subplot(gs[0,0])\n",
    "#     ax0.set_title(\"BL (DAC LSB)\", size=8)\n",
    "#     img0 = ax0.imshow(baseline, interpolation='none')\n",
    "#     ax0.set_aspect(\"equal\")\n",
    "#     ax0.invert_xaxis()\n",
    "#     ax0.invert_yaxis()\n",
    "#     plt.xticks(range(16), range(16), rotation=\"vertical\")\n",
    "#     plt.yticks(range(16), range(16))\n",
    "#     divider = make_axes_locatable(ax0)\n",
    "#     cax = divider.append_axes('right', size=\"5%\", pad=0.05)\n",
    "#     fig.colorbar(img0, cax=cax, orientation=\"vertical\")\n",
    "\n",
    "#     ax1 = fig.add_subplot(gs[0,1])\n",
    "#     ax1.set_title(\"NW (DAC LSB)\", size=8)\n",
    "#     img1 = ax1.imshow(noisewidth, interpolation='none')\n",
    "#     ax1.set_aspect(\"equal\")\n",
    "#     ax1.invert_xaxis()\n",
    "#     ax1.invert_yaxis()\n",
    "#     plt.xticks(range(16), range(16), rotation=\"vertical\")\n",
    "#     plt.yticks(range(16), range(16))\n",
    "#     divider = make_axes_locatable(ax1)\n",
    "#     cax = divider.append_axes('right', size=\"5%\", pad=0.05)\n",
    "#     fig.colorbar(img1, cax=cax, orientation=\"vertical\")\n",
    "\n",
    "#     for x in range(16):\n",
    "#         for y in range(16):\n",
    "#             ax0.text(x,y,f\"{baseline.T[x,y]:.0f}\", c=\"white\", size=5, rotation=45, fontweight=\"bold\", ha=\"center\", va=\"center\")\n",
    "#             ax1.text(x,y,f\"{noisewidth.T[x,y]:.0f}\", c=\"white\", size=5, rotation=45, fontweight=\"bold\", ha=\"center\", va=\"center\")\n",
    "\n",
    "#     fig.savefig(f'{figname}.png')\n",
    "\n",
    "# def baselineAmongTime(chip_name, figname, scan_list):\n",
    "\n",
    "#     if len(scan_list) > 6:\n",
    "#         ValueError(\"This function design to take maximum 6 pixels. First 3 pixels for irradiated and the rest 3 pixels for non-irradiated.\")\n",
    "\n",
    "#     # Create a figure and axis\n",
    "#     fig, ax = plt.subplots(figsize=(24,9))\n",
    "#     ax.set_prop_cycle(color=['#e41a1c','#ff7f00','#377eb8','#4daf4a','#984ea3','#ffff33']) # Red, Orange, Blue, Green, Purple, Yellow\n",
    "\n",
    "#     scan_list = [(0, 0), (0, 1), (7, 7), (7, 6)] # (row, col)\n",
    "#     i = 0\n",
    "#     for row, col in scan_list:\n",
    "#         tmp_cal = df[(df['chip_name'] == chip_name) & (df['row'] == row) & (df['col'] == col)  & (df['baseline'] != 0)]\n",
    "#         tmp_cal['timestamp'] = pd.to_datetime(tmp_cal['timestamp'])\n",
    "\n",
    "#         ax.plot(tmp_cal['timestamp'], tmp_cal['baseline'], '.-', label=f'Row-Col = ({row}-{col})')\n",
    "\n",
    "#         # Set x-axis labels with line breaks using LaTeX notation\n",
    "#         if i == 0:\n",
    "#             x_labels = [f'{row[\"note\"].replace(f\"_{chip_name}\",\"\")}\\n{row[\"timestamp\"].strftime(\"%Y-%m-%d %H:%M\")}' for index, row in tmp_cal.iterrows()]\n",
    "#             ax.set_xticks(tmp_cal['timestamp'])\n",
    "#             ax.set_xticklabels(x_labels, rotation=90, fontsize=9)\n",
    "\n",
    "#         i += 1\n",
    "\n",
    "#     ax.grid(which='both', axis='y')\n",
    "#     ax.xaxis.set_minor_locator(plt.NullLocator())\n",
    "#     ax.legend()\n",
    "\n",
    "#     # Set labels for other axes as needed\n",
    "#     ax.set_ylabel(f'{chip_name} Baseline')\n",
    "#     fig.savefig(f'{figname}.png')"
   ]
  }
 ],
 "metadata": {
  "kernelspec": {
   "display_name": "packages",
   "language": "python",
   "name": "python3"
  },
  "language_info": {
   "codemirror_mode": {
    "name": "ipython",
    "version": 3
   },
   "file_extension": ".py",
   "mimetype": "text/x-python",
   "name": "python",
   "nbconvert_exporter": "python",
   "pygments_lexer": "ipython3",
   "version": "3.9.18"
  },
  "orig_nbformat": 4
 },
 "nbformat": 4,
 "nbformat_minor": 2
}
