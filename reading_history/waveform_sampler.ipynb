{
 "cells": [
  {
   "cell_type": "code",
   "execution_count": null,
   "id": "a356f233-5071-4d7e-8617-5ed0edbc9ac8",
   "metadata": {},
   "outputs": [],
   "source": [
    "import numpy as np\n",
    "import matplotlib.pyplot as plt\n",
    "import pandas as pd\n",
    "import mplhep as hep\n",
    "from glob import glob\n",
    "hep.style.use(\"CMS\")"
   ]
  },
  {
   "cell_type": "code",
   "execution_count": null,
   "id": "fb400c3f-78e9-4487-8a1b-341dfaa6da33",
   "metadata": {},
   "outputs": [],
   "source": [
    "# folder_path = \"/Users/murtazas-local/Downloads/ws_testing_ 2/ws_testing_4/\"\n",
    "# sample_names = [\"rawdataWS_chipname_NA_2024-05-05_00-44_4.csv\"]\n",
    "folder_path = \"/home/daq/ETROC2/ETROC-Data/2024-07-15_Array_Test_Results/ws_testing_qinj_BARE1_0e_8\"\n",
    "sample_names = glob(folder_path + \"/*csv*\")"
   ]
  },
  {
   "cell_type": "code",
   "execution_count": null,
   "id": "393abe29",
   "metadata": {},
   "outputs": [],
   "source": [
    "sample_names"
   ]
  },
  {
   "cell_type": "code",
   "execution_count": null,
   "id": "cbb64d69-ec21-4ecd-9c72-9a1c7bb3f9ae",
   "metadata": {},
   "outputs": [],
   "source": [
    "for sample_name in sample_names:\n",
    "\n",
    "    df = pd.read_csv(sample_name)\n",
    "\n",
    "    # plot_title = r'4 GeV $e^{-}$ at DESY TB | Waveform Sampler on Pixel (0,14)'\n",
    "    plot_title = r'30 fC Injected Charge, Disc offset 20 | Waveform Sampler on Pixel (0,14)'\n",
    "    fig, ax = plt.subplots(figsize=(16, 7))\n",
    "    ax.set_title(plot_title, loc=\"right\", size=16)\n",
    "    hep.cms.text(loc=0, ax=ax, text=\"ETL ETROC Test Beam\", fontsize=18)\n",
    "    ax.plot(df[\"Time [ns]\"], df[\"Dout\"],\".-\", color=\"#e7298a\")\n",
    "    ax.xaxis.label.set_fontsize(25)\n",
    "    ax.yaxis.label.set_fontsize(25)\n",
    "    ax.set_ylabel(\"Sampled Waveform [mV]\")\n",
    "    ax.set_xlabel(\"Sample Time [ns]\")\n",
    "    plt.tight_layout()"
   ]
  },
  {
   "cell_type": "code",
   "execution_count": null,
   "id": "afc48cd2-6347-4e5b-ae3e-5370dd45e75d",
   "metadata": {},
   "outputs": [],
   "source": []
  }
 ],
 "metadata": {
  "kernelspec": {
   "display_name": "Python 3 (ipykernel)",
   "language": "python",
   "name": "python3"
  },
  "language_info": {
   "codemirror_mode": {
    "name": "ipython",
    "version": 3
   },
   "file_extension": ".py",
   "mimetype": "text/x-python",
   "name": "python",
   "nbconvert_exporter": "python",
   "pygments_lexer": "ipython3",
   "version": "3.10.12"
  }
 },
 "nbformat": 4,
 "nbformat_minor": 5
}
