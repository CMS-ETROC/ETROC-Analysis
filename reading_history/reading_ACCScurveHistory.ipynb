{
 "cells": [
  {
   "attachments": {},
   "cell_type": "markdown",
   "metadata": {},
   "source": [
    "## Import"
   ]
  },
  {
   "cell_type": "code",
   "execution_count": null,
   "metadata": {},
   "outputs": [],
   "source": [
    "import sqlite3\n",
    "import pandas as pd\n",
    "import numpy as np\n",
    "import matplotlib.pyplot as plt\n",
    "from mpl_toolkits.axes_grid1 import make_axes_locatable\n",
    "from scipy.optimize import curve_fit\n",
    "from scipy.stats import crystalball"
   ]
  },
  {
   "attachments": {},
   "cell_type": "markdown",
   "metadata": {},
   "source": [
    "## Define Useful functions"
   ]
  },
  {
   "cell_type": "code",
   "execution_count": null,
   "metadata": {},
   "outputs": [],
   "source": [
    "def composite_gaussian(x, a1, mean1, sigma1, a2, mean2, sigma2):\n",
    "    gauss1 = a1 * np.exp(-(x - mean1) ** 2 / (2 * sigma1 ** 2))\n",
    "    gauss2 = a2 * np.exp(-(x - mean2) ** 2 / (2 * sigma2 ** 2))\n",
    "    return gauss1 + gauss2\n",
    "\n",
    "def gaussian_func(x, a, mu, sigma):\n",
    "    return a * np.exp(-(x - mu)**2 / (2 * sigma**2))\n",
    "\n",
    "def cball_func(x, a, mu, sigma, alpha, n):\n",
    "    return a * crystalball.pdf(x, n, alpha, mu, sigma)\n",
    "\n",
    "def return_closest_xvalue(x, value):\n",
    "    return np.argmin(np.abs(x - value))\n",
    "\n",
    "def single_gaussian_fit(x, y, fit_width):\n",
    "    dy_dx = -1*np.gradient(y, x)\n",
    "    max_index = np.argmax(dy_dx)\n",
    "    selection = (dy_dx>0) & (x>=x[max_index]-fit_width) & (x<=x[max_index]+fit_width)\n",
    "\n",
    "    initial_guess = [1.0, x[max_index], 1.0]\n",
    "    popt, _ = curve_fit(gaussian_func, x[selection], dy_dx[selection], p0=initial_guess)\n",
    "\n",
    "    return popt"
   ]
  },
  {
   "attachments": {},
   "cell_type": "markdown",
   "metadata": {},
   "source": [
    "## Load history"
   ]
  },
  {
   "cell_type": "code",
   "execution_count": null,
   "metadata": {},
   "outputs": [],
   "source": [
    "con = sqlite3.connect('../ETROC-Data/ACCScurveHistory.sqlite')\n",
    "df = pd.read_sql_query(\"SELECT * from acc_scurve\", con)"
   ]
  },
  {
   "attachments": {},
   "cell_type": "markdown",
   "metadata": {},
   "source": [
    "## Select the board and print relevant notes"
   ]
  },
  {
   "cell_type": "code",
   "execution_count": null,
   "metadata": {},
   "outputs": [],
   "source": [
    "chip_name = 'ET2_W36_IP5-17'\n",
    "column_values = df[(df['chip_name'] == chip_name)]['note']\n",
    "\n",
    "# Print the unique elements in the column\n",
    "unique_elements = column_values.unique()\n",
    "for element in unique_elements:\n",
    "    print(element)"
   ]
  },
  {
   "attachments": {},
   "cell_type": "markdown",
   "metadata": {},
   "source": [
    "## Make plots and draw vertical lines from gaussian fit"
   ]
  },
  {
   "cell_type": "code",
   "execution_count": null,
   "metadata": {},
   "outputs": [],
   "source": [
    "fit_width = 15\n",
    "\n",
    "for element in unique_elements:\n",
    "    selected_df = df[(df['chip_name'] == chip_name) & (df['note'] == element)]\n",
    "    coupled_array = [(c, r) for c, r in zip(selected_df['col'], selected_df['row'])]\n",
    "    \n",
    "    fig = plt.figure(dpi=200, figsize=(20,10))\n",
    "    u_cl = np.sort(np.unique(selected_df['col']))\n",
    "    u_rl = np.sort(np.unique(selected_df['row']))\n",
    "    gs = fig.add_gridspec(len(u_rl),len(u_cl))\n",
    "\n",
    "    for ri, row_index in enumerate(u_rl):\n",
    "        for ci, col_index in enumerate(u_cl):\n",
    "            selected_row = selected_df[selected_df['row'] == row_index]\n",
    "            selected_data = selected_row[selected_row['col'] == col_index]\n",
    "\n",
    "            accvals = np.fromstring(selected_data['accscurve'].iloc[0], sep=',')\n",
    "            dac_range = np.arange(selected_data['xmin'].iloc[0], selected_data['xmax'].iloc[0], selected_data['xstep'].iloc[0])\n",
    "            time = pd.to_datetime(selected_data['timestamp'].iloc[0])\n",
    "            time = time.strftime('%Y-%m-%d %H:%M:%S')\n",
    "\n",
    "            popt = single_gaussian_fit(dac_range, accvals, fit_width)\n",
    "            sigma = abs(popt[2])\n",
    "\n",
    "            onesigmacdf = accvals[return_closest_xvalue(dac_range, np.ceil(popt[1] - sigma))] - accvals[return_closest_xvalue(dac_range, np.ceil(popt[1] + sigma))]\n",
    "            twosigmacdf = accvals[return_closest_xvalue(dac_range, np.ceil(popt[1] - 2*sigma))] - accvals[return_closest_xvalue(dac_range, np.ceil(popt[1] + 2*sigma))]\n",
    "\n",
    "            ax0 = fig.add_subplot(gs[len(u_rl)-ri-1, len(u_cl)-ci-1])\n",
    "            ax0.plot(dac_range, accvals, 'b.-', label=\"S-curve\")\n",
    "            ax0.axvline(popt[1], color='r', label=f\"G. Peak Mean = {popt[1]:.1f}\")\n",
    "            ax0.axvline(popt[1]+sigma, color='k', label=fr\"1$\\sigma$ FW = {2*sigma:.1f}, {100*onesigmacdf/np.amax(accvals):.1f}%\")\n",
    "            ax0.axvline(popt[1]-sigma, color='k')\n",
    "            ax0.axvline(popt[1]+2*sigma, color='k', ls=\"--\", label=fr\"2$\\sigma$ FW = {4*sigma:.1f}, {100*twosigmacdf/np.amax(accvals):.1f}%\")\n",
    "            ax0.axvline(popt[1]-2*sigma, color='k', ls=\"--\")\n",
    "            ax0.legend()\n",
    "\n",
    "            ax0.text(0.9, 0.5, time, transform=ax0.transAxes, ha='right', va='center', fontsize=8)\n",
    "            ax0.text(0.9, 0.465, f'Row:{row_index}, Col:{col_index}', transform=ax0.transAxes, ha='right', va='center', fontsize=8)\n",
    "\n",
    "    fig.text(0.5, 0.001, \"DAC Value [LSB]\", ha='center', va='center', fontsize=12)\n",
    "    fig.text(0.001, 0.5, \"ACC Value [decimal]\", ha='center', va='center', rotation='vertical', fontsize=12)\n",
    "\n",
    "    plt.suptitle(element, fontsize=12)\n",
    "    plt.tight_layout()\n",
    "\n",
    "plt.show()"
   ]
  },
  {
   "cell_type": "code",
   "execution_count": null,
   "metadata": {},
   "outputs": [],
   "source": []
  }
 ],
 "metadata": {
  "kernelspec": {
   "display_name": "packages",
   "language": "python",
   "name": "python3"
  },
  "language_info": {
   "codemirror_mode": {
    "name": "ipython",
    "version": 3
   },
   "file_extension": ".py",
   "mimetype": "text/x-python",
   "name": "python",
   "nbconvert_exporter": "python",
   "pygments_lexer": "ipython3",
   "version": "3.10.6"
  },
  "orig_nbformat": 4
 },
 "nbformat": 4,
 "nbformat_minor": 2
}
