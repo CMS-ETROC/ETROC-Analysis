{
 "cells": [
  {
   "cell_type": "code",
   "execution_count": null,
   "metadata": {},
   "outputs": [],
   "source": [
    "import pandas as pd\n",
    "from pprint import pprint\n",
    "from pathlib import Path\n",
    "import numpy as np\n",
    "import sqlite3\n",
    "import matplotlib.pyplot as plt\n",
    "import matplotlib.dates as mdates\n",
    "from collections import defaultdict\n",
    "import mplhep as hep\n",
    "import datetime\n",
    "hep.style.use('CMS')\n",
    "\n",
    "import warnings\n",
    "warnings.filterwarnings(\"ignore\")"
   ]
  },
  {
   "cell_type": "code",
   "execution_count": null,
   "metadata": {},
   "outputs": [],
   "source": [
    "import os, sys\n",
    "\n",
    "# path2add = os.path.normpath(os.path.abspath(os.path.join(os.path.curdir, os.path.pardir, 'TestBeam')))\n",
    "# print(path2add)\n",
    "\n",
    "# if (not (path2add in sys.path)) :\n",
    "#     sys.path.append(path2add)\n",
    "\n",
    "# from beamtest_analysis_helper import plot_BL_and_NW\n",
    "\n",
    "path2add = os.path.normpath(os.path.abspath(os.path.join(os.path.curdir, os.path.pardir, 'SEU')))\n",
    "print(path2add)\n",
    "\n",
    "if (not (path2add in sys.path)) :\n",
    "    sys.path.append(path2add)\n",
    "\n",
    "from SEUhelper import plotVRefPower,plotBoardPower,plotWSPower"
   ]
  },
  {
   "cell_type": "markdown",
   "metadata": {},
   "source": [
    "## Baseline plots"
   ]
  },
  {
   "cell_type": "code",
   "execution_count": null,
   "metadata": {},
   "outputs": [],
   "source": [
    "# con = sqlite3.connect('/home//daq/ETROC2/ETROC-History/BelgiumJune2024/BaselineHistory.sqlite')\n",
    "con = sqlite3.connect('/home/daq/ETROC2/ETROC-Data/TID_Powerhistory/BaselineHistory.sqlite')\n",
    "\n",
    "\n",
    "baseline_df = pd.read_sql_query(\"SELECT * from baselines\", con)\n",
    "\n",
    "baseline_df['timestamp'] = pd.to_datetime(baseline_df['timestamp'], format='%Y-%m-%d %H:%M:%S')\n",
    "baseline_df['timestamp'] = baseline_df['timestamp'].dt.strftime('%Y-%m-%d %H:%M:%S')\n",
    "baseline_df['timestamp'] = pd.to_datetime(baseline_df['timestamp'])"
   ]
  },
  {
   "cell_type": "code",
   "execution_count": null,
   "metadata": {},
   "outputs": [],
   "source": [
    "baseline_df.drop(columns=['note'], inplace=True)"
   ]
  },
  {
   "cell_type": "code",
   "execution_count": null,
   "metadata": {},
   "outputs": [],
   "source": [
    "baseline_df.loc[:, 'save_notes'] = \"\""
   ]
  },
  {
   "cell_type": "code",
   "execution_count": null,
   "metadata": {},
   "outputs": [],
   "source": [
    "baseline_df"
   ]
  },
  {
   "cell_type": "code",
   "execution_count": null,
   "metadata": {},
   "outputs": [],
   "source": [
    "with sqlite3.connect('/home/daq/ETROC2/ETROC-Data/TID_Powerhistory/BaselineHistory_v2.sqlite') as sqlconn:\n",
    "    baseline_df.to_sql('baselines', sqlconn, if_exists='append', index=False)"
   ]
  },
  {
   "cell_type": "code",
   "execution_count": null,
   "metadata": {},
   "outputs": [],
   "source": [
    "baseline_df.tail()"
   ]
  },
  {
   "cell_type": "code",
   "execution_count": null,
   "metadata": {},
   "outputs": [],
   "source": []
  },
  {
   "cell_type": "code",
   "execution_count": null,
   "metadata": {},
   "outputs": [],
   "source": [
    "### Add board names in the dictionary\n",
    "\n",
    "config_dict = {\n",
    "    'ET2p01_Bare_7': {\n",
    "        'plot_title': 'ETROC 2.01 Bare Board 7',\n",
    "        'chip_type': 'T',\n",
    "        'channel': 0,\n",
    "    },\n",
    "}"
   ]
  },
  {
   "cell_type": "markdown",
   "metadata": {},
   "source": [
    "### Baseline over time"
   ]
  },
  {
   "cell_type": "code",
   "execution_count": null,
   "metadata": {},
   "outputs": [],
   "source": [
    "p_col=[8,8,2,2]\n",
    "p_row=[0,2,0,2]\n",
    "pixel_plot_list = list(zip(p_row,p_col))\n",
    "\n",
    "draw_dates = True\n",
    "cut_time = pd.to_datetime('2024-06-24 20:30:00')\n",
    "\n",
    "for iboard in baseline_df['chip_name'].unique():\n",
    "    fig, ax = plt.subplots(figsize=(20, 10))\n",
    "    hep.cms.text(loc=0, ax=ax, text=\"ETL ETROC SEU Testing\", fontsize=25)\n",
    "    ax.set_title(f'Baseline of {config_dict[iboard][\"plot_title\"]}', size=17, loc=\"right\", fontsize=25)\n",
    "    date_form = mdates.DateFormatter(\"%m-%d\\n%H:%M\")\n",
    "    ax.xaxis.set_major_formatter(date_form)\n",
    "    for row,col in pixel_plot_list:\n",
    "        interest_df = baseline_df.loc[baseline_df['chip_name']==iboard]\n",
    "        tmp_df = interest_df.loc[(interest_df['col']==col) & (interest_df['row']==row)].reset_index(drop=True)\n",
    "        tmp_df = tmp_df.loc[tmp_df['timestamp'] > cut_time]\n",
    "        ax.plot(tmp_df['timestamp'], tmp_df['baseline'], label=f'Pixel R{row} C{col}', marker='.')\n",
    "\n",
    "    if draw_dates:\n",
    "        for run_dict in run_info:\n",
    "            if(run_dict['start'] >= cut_time):\n",
    "                ax.axvline(x=run_dict['start'], color='magenta', linestyle='dashed')\n",
    "                ax.axvline(x=run_dict['stop'], color='black', linestyle='dashdot')\n",
    "    # ax.set_xlim(left=cut_time)\n",
    "    ax.legend()"
   ]
  },
  {
   "cell_type": "markdown",
   "metadata": {},
   "source": [
    "## Temperature"
   ]
  },
  {
   "cell_type": "code",
   "execution_count": null,
   "metadata": {},
   "outputs": [],
   "source": [
    "con = sqlite3.connect('/home/daq/ETROC2/i2c_gui/ADCHistory.sqlite')\n",
    "\n",
    "adc_df = pd.read_sql_query(\"SELECT * from adc\", con)"
   ]
  },
  {
   "cell_type": "code",
   "execution_count": null,
   "metadata": {},
   "outputs": [],
   "source": [
    "adc_df['timestamp'] = pd.to_datetime(adc_df['timestamp'], format='%Y-%m-%d %H:%M:%S.%f')\n",
    "adc_df['timestamp'] = adc_df['timestamp'].dt.strftime('%Y-%m-%d %H:%M:%S')\n",
    "adc_df['timestamp'] = pd.to_datetime(adc_df['timestamp'])"
   ]
  },
  {
   "cell_type": "code",
   "execution_count": null,
   "metadata": {},
   "outputs": [],
   "source": [
    "adc_df.tail()"
   ]
  },
  {
   "cell_type": "code",
   "execution_count": null,
   "metadata": {},
   "outputs": [],
   "source": [
    "cut_time = pd.to_datetime('2024-08-03 12:20:00')\n",
    "\n",
    "fig, ax = plt.subplots(figsize=(20, 10))\n",
    "date_form = mdates.DateFormatter(\"%m-%d\\n%H:%M\")\n",
    "ax.xaxis.set_major_formatter(date_form)\n",
    "\n",
    "tmp_df = adc_df.loc[adc_df['channel']==0]\n",
    "ax.plot(tmp_df['timestamp'], tmp_df['voltage'], label=f'channel: 0')\n",
    "\n",
    "ax.legend(loc='best')\n",
    "ax.set_ylabel('Voltage')\n",
    "ax.set_ylim(0.8, None)\n",
    "ax.set_xlim(left=cut_time)"
   ]
  },
  {
   "cell_type": "code",
   "execution_count": null,
   "metadata": {},
   "outputs": [],
   "source": [
    "fig, ax = plt.subplots(figsize=(20, 10))\n",
    "date_form = mdates.DateFormatter(\"%m-%d\\n%H:%M\")\n",
    "ax.xaxis.set_major_formatter(date_form)\n",
    "\n",
    "tmp_df = adc_df.loc[adc_df['channel']==7]\n",
    "ax.plot(tmp_df['timestamp'], tmp_df['voltage'], label=f'channel: 7')\n",
    "\n",
    "ax.legend(loc='best')\n",
    "ax.set_ylabel('Voltage')\n",
    "# ax.set_ylim(0.88, 0.9)\n",
    "ax.set_xlim(left=cut_time)"
   ]
  },
  {
   "cell_type": "code",
   "execution_count": null,
   "metadata": {},
   "outputs": [],
   "source": [
    "# names = ['BARE BOARD 7', 'Ambient Temp']\n",
    "# cut_time = pd.to_datetime('2024-06-24 22:00:00')\n",
    "\n",
    "# fig, ax = plt.subplots(figsize=(20, 10))\n",
    "# hep.cms.text(loc=0, ax=ax, text=\"Phase-2 Preliminary\", fontsize=25)\n",
    "# ax.set_title('Temperature', size=17, loc=\"right\")\n",
    "# date_form = mdates.DateFormatter(\"%m-%d\\n%H:%M\")\n",
    "# ax.xaxis.set_major_formatter(date_form)\n",
    "\n",
    "# for idx, iboard in enumerate(sorted(adc_df['channel'].unique())):\n",
    "#     tmp_df = adc_df.loc[adc_df['channel']==iboard]\n",
    "#     ax.plot(tmp_df['timestamp'], tmp_df['voltage'], label=f'{names[idx]}', marker=\".\", ls=\"\")\n",
    "\n",
    "# text_y = [0.51, 0.55]\n",
    "# if draw_dates:\n",
    "#         for index,run_dict in enumerate(run_info):\n",
    "#             if index%2 == 0:\n",
    "#                 yval = text_y[0]\n",
    "#             else:\n",
    "#                 yval = text_y[1]\n",
    "#             if(run_dict['start'] >= cut_time):\n",
    "#                 ax.axvline(x=run_dict['start'], color='magenta', linestyle='dashed')\n",
    "#                 ax.text(x=(run_dict['start'] ), y=yval, s=f\"{run_dict['name']} Start\", rotation=90, va='center', fontsize=12, color='magenta')\n",
    "#                 ax.axvline(x=run_dict['stop'], color='black', linestyle='dashdot')\n",
    "#                 ax.text(x=(run_dict['stop'] ), y=yval, s=f\"{run_dict['name']} End\", rotation=90, va='center', fontsize=12)\n",
    "                \n",
    "# ax.legend(loc='best')\n",
    "# ax.set_ylabel('Voltage')\n",
    "# plt.ylim(bottom=0.49, top=.56)\n",
    "# plt.xlim(left=cut_time)"
   ]
  },
  {
   "cell_type": "markdown",
   "metadata": {},
   "source": [
    "# Power Monitoring"
   ]
  },
  {
   "cell_type": "code",
   "execution_count": null,
   "metadata": {},
   "outputs": [],
   "source": [
    "start_time = datetime.datetime(2024, 6, 25, 12, 30, 0)\n",
    "end_time = datetime.datetime(2024, 6, 25, 19, 0, 0)\n",
    "\n",
    "power_file = Path(\"/home/daq/ETROC2/ETROC-Data/TID_Powerhistory/PowerHistory_v2.sqlite\")\n",
    "\n",
    "power_connections = {\n",
    "    \"ET2.03 Bare Board 9\": {\n",
    "        \"Analog\": \"Analog\",\n",
    "        \"Digital\": \"Digital\",\n",
    "    },\n",
    "}"
   ]
  },
  {
   "cell_type": "code",
   "execution_count": null,
   "metadata": {},
   "outputs": [],
   "source": [
    "# power_directory = output_dir/\"PowerPlots\"\n",
    "# power_directory.mkdir(exist_ok=True)\n",
    "\n",
    "with sqlite3.connect(power_file) as sqlite3_connection:\n",
    "    data_df = pd.read_sql('SELECT * FROM power_v2', sqlite3_connection, index_col=None)\n",
    "    data_df['Time'] = pd.to_datetime(data_df['timestamp'], format='mixed')\n",
    "\n",
    "    # Remove data that is outside the range of the campaign\n",
    "    # data_df = data_df.loc[data_df['Time'] >= start_time]\n",
    "    # data_df = data_df.loc[data_df['Time'] <= end_time].copy()\n",
    "\n",
    "    data_df['V'] = (data_df['V'].str.replace('V','')).astype(float)\n",
    "    data_df['I'] = (data_df['I'].str.replace('A','')).astype(float)\n",
    "\n",
    "    print(\"Timestamps in power database file cover range:\")\n",
    "    print(\"Min:\", data_df['Time'].min())\n",
    "    print(\"Max\", data_df['Time'].max())\n",
    "\n",
    "    tmp_df = data_df.loc[data_df['Channel'] == 'Digital']\n",
    "    \n",
    "    fig, axes = plt.subplots(2, 1, figsize=(20, 12))\n",
    "    date_form = mdates.DateFormatter(\"%m-%d\\n%H:%M\")\n",
    "    axes[0].xaxis.set_major_formatter(date_form)\n",
    "    axes[0].plot(tmp_df['Time'], tmp_df['V'])\n",
    "    axes[0].set_ylim(0.9, 1.5)\n",
    "    axes[1].xaxis.set_major_formatter(date_form)\n",
    "    axes[1].plot(tmp_df['Time'], tmp_df['I'])\n",
    "\n",
    "\n",
    "    #print(data_df)\n",
    "\n",
    "    # vref_df = data_df.loc[data_df['Channel'] == 'VRef']\n",
    "    # wsana_df = data_df.loc[data_df['Channel'] == 'WSAnalog']\n",
    "    # wsdig_df = data_df.loc[data_df['Channel'] == 'WSDigital']"
   ]
  },
  {
   "cell_type": "code",
   "execution_count": null,
   "metadata": {},
   "outputs": [],
   "source": [
    "# power_directory = output_dir/\"PowerPlots\"\n",
    "# power_directory.mkdir(exist_ok=True)\n",
    "\n",
    "with sqlite3.connect(power_file) as sqlite3_connection:\n",
    "    data_df = pd.read_sql('SELECT * FROM power_v2', sqlite3_connection, index_col=None)\n",
    "    data_df['Time'] = pd.to_datetime(data_df['timestamp'], format='mixed')\n",
    "\n",
    "    # Remove data that is outside the range of the campaign\n",
    "    # data_df = data_df.loc[data_df['Time'] >= start_time]\n",
    "    # data_df = data_df.loc[data_df['Time'] <= end_time].copy()\n",
    "\n",
    "    data_df['V'] = (data_df['V'].str.replace('V','')).astype(float)\n",
    "    data_df['I'] = (data_df['I'].str.replace('A','')).astype(float)\n",
    "\n",
    "    print(\"Timestamps in power database file cover range:\")\n",
    "    print(\"Min:\", data_df['Time'].min())\n",
    "    print(\"Max\", data_df['Time'].max())\n",
    "\n",
    "    tmp_df = data_df.loc[data_df['Channel'] == 'Analog']\n",
    "    \n",
    "    fig, axes = plt.subplots(2, 1, figsize=(20, 12))\n",
    "    date_form = mdates.DateFormatter(\"%m-%d\\n%H:%M\")\n",
    "    axes[0].xaxis.set_major_formatter(date_form)\n",
    "    axes[0].plot(tmp_df['Time'], tmp_df['V'])\n",
    "    axes[0].set_ylim(0.9, 1.5)\n",
    "    axes[1].xaxis.set_major_formatter(date_form)\n",
    "    axes[1].plot(tmp_df['Time'], tmp_df['I'])\n",
    "\n",
    "\n",
    "    #print(data_df)\n",
    "\n",
    "    # vref_df = data_df.loc[data_df['Channel'] == 'VRef']\n",
    "    # wsana_df = data_df.loc[data_df['Channel'] == 'WSAnalog']\n",
    "    # wsdig_df = data_df.loc[data_df['Channel'] == 'WSDigital']"
   ]
  },
  {
   "cell_type": "code",
   "execution_count": null,
   "metadata": {},
   "outputs": [],
   "source": [
    "data_df"
   ]
  },
  {
   "cell_type": "code",
   "execution_count": null,
   "metadata": {},
   "outputs": [],
   "source": [
    "plotVRefPower(vref_df, 'SEU - VRef over Time', power_directory, True, run_info=run_info)"
   ]
  },
  {
   "cell_type": "code",
   "execution_count": null,
   "metadata": {},
   "outputs": [],
   "source": [
    "board = \"ET2.01 Bare Board 7\"\n",
    "plotBoardPower(board, power_connections[board], data_df, f'SEU - {board} Power over Time', power_directory, True, run_info=run_info)"
   ]
  },
  {
   "cell_type": "markdown",
   "metadata": {},
   "source": [
    "## Waveform Sampler"
   ]
  },
  {
   "cell_type": "code",
   "execution_count": null,
   "metadata": {},
   "outputs": [],
   "source": [
    "plotWSPower(wsana_df, 'SEU - Waveform Sampler Analog Power over Time', power_directory, True, run_info=run_info)"
   ]
  },
  {
   "cell_type": "code",
   "execution_count": null,
   "metadata": {},
   "outputs": [],
   "source": [
    "plotWSPower(wsdig_df, 'SEU - Waveform Sampler Digital Power over Time', power_directory, True, run_info=run_info)"
   ]
  },
  {
   "cell_type": "markdown",
   "metadata": {},
   "source": [
    "## Per Run Plotting"
   ]
  },
  {
   "cell_type": "code",
   "execution_count": null,
   "metadata": {},
   "outputs": [],
   "source": [
    "# run_power_dir = power_directory/\"PerRun\"\n",
    "# run_power_dir.mkdir(exist_ok=True)\n",
    "\n",
    "# for run_idx_to_plot in range(len(run_info)):\n",
    "#     if run_idx_to_plot == 0:\n",
    "#         makePerRunPlots(\n",
    "#             data_df,\n",
    "#             run_info[run_idx_to_plot],\n",
    "#             run_power_dir,\n",
    "#             power_connections,\n",
    "#             extra_run_info = None,\n",
    "#             test_run_info = test_run_info,\n",
    "#         )\n",
    "#     else:\n",
    "#         makePerRunPlots(\n",
    "#             data_df,\n",
    "#             run_info[run_idx_to_plot],\n",
    "#             run_power_dir,\n",
    "#             power_connections,\n",
    "#             previous_run_info = run_info[run_idx_to_plot - 1],\n",
    "#             extra_run_info = None,\n",
    "#             test_run_info = test_run_info,\n",
    "#         )\n",
    "\n",
    "# # for this_run_info in extra_run_info:\n",
    "# #     makePerRunPlots(\n",
    "# #         data_df,\n",
    "# #         this_run_info,\n",
    "# #         run_power_dir,\n",
    "# #         power_connections,\n",
    "# #         all_run_info = run_info,\n",
    "# #         extra_run_info = extra_run_info,\n",
    "# #         test_run_info = test_run_info,\n",
    "# #     )\n"
   ]
  }
 ],
 "metadata": {
  "kernelspec": {
   "display_name": "packages",
   "language": "python",
   "name": "python3"
  },
  "language_info": {
   "codemirror_mode": {
    "name": "ipython",
    "version": 3
   },
   "file_extension": ".py",
   "mimetype": "text/x-python",
   "name": "python",
   "nbconvert_exporter": "python",
   "pygments_lexer": "ipython3",
   "version": "3.10.12"
  }
 },
 "nbformat": 4,
 "nbformat_minor": 2
}
